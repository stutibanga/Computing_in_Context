{
 "cells": [
  {
   "cell_type": "markdown",
   "metadata": {},
   "source": [
    "# Project 3"
   ]
  },
  {
   "cell_type": "code",
   "execution_count": 45,
   "metadata": {},
   "outputs": [],
   "source": [
    "import plotly.io as pio\n",
    "\n",
    "pio.renderers.default = \"vscode+jupyterlab+notebook_connected\""
   ]
  },
  {
   "cell_type": "code",
   "execution_count": 46,
   "metadata": {},
   "outputs": [],
   "source": [
    "import pandas as pd\n",
    "\n",
    "import plotly.express as px\n"
   ]
  },
  {
   "cell_type": "markdown",
   "metadata": {},
   "source": [
    "- **Dataset(s) to be used:** [https://www.fao.org/faostat/en/#data/EA]\n",
    "- **Analysis question:** [Exploring whether the disbursements and committments made as development flows to agriculture align over a 10 year period]\n",
    "- **Columns that will (likely) be used:**\n",
    "  - [Item]\n",
    "  - [Value]\n",
    "  - [YearCode]\n",
    "- **Hypothesis**: [The disbursments in 2022 would be greater than or equal to the committments made in 2022, relative to 2012, that is, the number of countries receiving more or equal disbursements in 2022 would be MORE than the countries receiving disbursements in 2012]\n",
    "- **Site URL:** [the `*.readthedocs.io` URL of your live site, from the Publish section]"
   ]
  },
  {
   "cell_type": "code",
   "execution_count": 47,
   "metadata": {},
   "outputs": [
    {
     "data": {
      "text/html": [
       "<div>\n",
       "<style scoped>\n",
       "    .dataframe tbody tr th:only-of-type {\n",
       "        vertical-align: middle;\n",
       "    }\n",
       "\n",
       "    .dataframe tbody tr th {\n",
       "        vertical-align: top;\n",
       "    }\n",
       "\n",
       "    .dataframe thead th {\n",
       "        text-align: right;\n",
       "    }\n",
       "</style>\n",
       "<table border=\"1\" class=\"dataframe\">\n",
       "  <thead>\n",
       "    <tr style=\"text-align: right;\">\n",
       "      <th></th>\n",
       "      <th>Domain Code</th>\n",
       "      <th>Domain</th>\n",
       "      <th>Recipient Country Code (M49)</th>\n",
       "      <th>Recipient Country</th>\n",
       "      <th>Donor Code (M49)</th>\n",
       "      <th>Donor</th>\n",
       "      <th>Element Code</th>\n",
       "      <th>Element</th>\n",
       "      <th>Item Code</th>\n",
       "      <th>Item</th>\n",
       "      <th>Purpose Code</th>\n",
       "      <th>Purpose</th>\n",
       "      <th>Year Code</th>\n",
       "      <th>Year</th>\n",
       "      <th>Unit</th>\n",
       "      <th>Value</th>\n",
       "      <th>Flag</th>\n",
       "      <th>Flag Description</th>\n",
       "      <th>Note</th>\n",
       "    </tr>\n",
       "  </thead>\n",
       "  <tbody>\n",
       "    <tr>\n",
       "      <th>0</th>\n",
       "      <td>EA</td>\n",
       "      <td>Development Flows to Agriculture</td>\n",
       "      <td>4</td>\n",
       "      <td>Afghanistan</td>\n",
       "      <td>F702</td>\n",
       "      <td>All Donors</td>\n",
       "      <td>6110</td>\n",
       "      <td>Value US$</td>\n",
       "      <td>22040</td>\n",
       "      <td>Commitment</td>\n",
       "      <td>10000</td>\n",
       "      <td>All CRS purposes</td>\n",
       "      <td>2012</td>\n",
       "      <td>2012</td>\n",
       "      <td>million USD</td>\n",
       "      <td>5681.719588</td>\n",
       "      <td>X</td>\n",
       "      <td>Figure from international organizations</td>\n",
       "      <td>NaN</td>\n",
       "    </tr>\n",
       "    <tr>\n",
       "      <th>1</th>\n",
       "      <td>EA</td>\n",
       "      <td>Development Flows to Agriculture</td>\n",
       "      <td>4</td>\n",
       "      <td>Afghanistan</td>\n",
       "      <td>F702</td>\n",
       "      <td>All Donors</td>\n",
       "      <td>6110</td>\n",
       "      <td>Value US$</td>\n",
       "      <td>22040</td>\n",
       "      <td>Commitment</td>\n",
       "      <td>10000</td>\n",
       "      <td>All CRS purposes</td>\n",
       "      <td>2022</td>\n",
       "      <td>2022</td>\n",
       "      <td>million USD</td>\n",
       "      <td>3717.146664</td>\n",
       "      <td>X</td>\n",
       "      <td>Figure from international organizations</td>\n",
       "      <td>NaN</td>\n",
       "    </tr>\n",
       "    <tr>\n",
       "      <th>2</th>\n",
       "      <td>EA</td>\n",
       "      <td>Development Flows to Agriculture</td>\n",
       "      <td>4</td>\n",
       "      <td>Afghanistan</td>\n",
       "      <td>F702</td>\n",
       "      <td>All Donors</td>\n",
       "      <td>6110</td>\n",
       "      <td>Value US$</td>\n",
       "      <td>22050</td>\n",
       "      <td>Disbursement</td>\n",
       "      <td>10000</td>\n",
       "      <td>All CRS purposes</td>\n",
       "      <td>2012</td>\n",
       "      <td>2012</td>\n",
       "      <td>million USD</td>\n",
       "      <td>6569.616907</td>\n",
       "      <td>X</td>\n",
       "      <td>Figure from international organizations</td>\n",
       "      <td>NaN</td>\n",
       "    </tr>\n",
       "    <tr>\n",
       "      <th>3</th>\n",
       "      <td>EA</td>\n",
       "      <td>Development Flows to Agriculture</td>\n",
       "      <td>4</td>\n",
       "      <td>Afghanistan</td>\n",
       "      <td>F702</td>\n",
       "      <td>All Donors</td>\n",
       "      <td>6110</td>\n",
       "      <td>Value US$</td>\n",
       "      <td>22050</td>\n",
       "      <td>Disbursement</td>\n",
       "      <td>10000</td>\n",
       "      <td>All CRS purposes</td>\n",
       "      <td>2022</td>\n",
       "      <td>2022</td>\n",
       "      <td>million USD</td>\n",
       "      <td>4025.129731</td>\n",
       "      <td>X</td>\n",
       "      <td>Figure from international organizations</td>\n",
       "      <td>NaN</td>\n",
       "    </tr>\n",
       "    <tr>\n",
       "      <th>4</th>\n",
       "      <td>EA</td>\n",
       "      <td>Development Flows to Agriculture</td>\n",
       "      <td>8</td>\n",
       "      <td>Albania</td>\n",
       "      <td>F702</td>\n",
       "      <td>All Donors</td>\n",
       "      <td>6110</td>\n",
       "      <td>Value US$</td>\n",
       "      <td>22040</td>\n",
       "      <td>Commitment</td>\n",
       "      <td>10000</td>\n",
       "      <td>All CRS purposes</td>\n",
       "      <td>2012</td>\n",
       "      <td>2012</td>\n",
       "      <td>million USD</td>\n",
       "      <td>487.824488</td>\n",
       "      <td>X</td>\n",
       "      <td>Figure from international organizations</td>\n",
       "      <td>NaN</td>\n",
       "    </tr>\n",
       "    <tr>\n",
       "      <th>...</th>\n",
       "      <td>...</td>\n",
       "      <td>...</td>\n",
       "      <td>...</td>\n",
       "      <td>...</td>\n",
       "      <td>...</td>\n",
       "      <td>...</td>\n",
       "      <td>...</td>\n",
       "      <td>...</td>\n",
       "      <td>...</td>\n",
       "      <td>...</td>\n",
       "      <td>...</td>\n",
       "      <td>...</td>\n",
       "      <td>...</td>\n",
       "      <td>...</td>\n",
       "      <td>...</td>\n",
       "      <td>...</td>\n",
       "      <td>...</td>\n",
       "      <td>...</td>\n",
       "      <td>...</td>\n",
       "    </tr>\n",
       "    <tr>\n",
       "      <th>569</th>\n",
       "      <td>EA</td>\n",
       "      <td>Development Flows to Agriculture</td>\n",
       "      <td>894</td>\n",
       "      <td>Zambia</td>\n",
       "      <td>F702</td>\n",
       "      <td>All Donors</td>\n",
       "      <td>6110</td>\n",
       "      <td>Value US$</td>\n",
       "      <td>22050</td>\n",
       "      <td>Disbursement</td>\n",
       "      <td>10000</td>\n",
       "      <td>All CRS purposes</td>\n",
       "      <td>2022</td>\n",
       "      <td>2022</td>\n",
       "      <td>million USD</td>\n",
       "      <td>2037.636640</td>\n",
       "      <td>X</td>\n",
       "      <td>Figure from international organizations</td>\n",
       "      <td>NaN</td>\n",
       "    </tr>\n",
       "    <tr>\n",
       "      <th>570</th>\n",
       "      <td>EA</td>\n",
       "      <td>Development Flows to Agriculture</td>\n",
       "      <td>716</td>\n",
       "      <td>Zimbabwe</td>\n",
       "      <td>F702</td>\n",
       "      <td>All Donors</td>\n",
       "      <td>6110</td>\n",
       "      <td>Value US$</td>\n",
       "      <td>22040</td>\n",
       "      <td>Commitment</td>\n",
       "      <td>10000</td>\n",
       "      <td>All CRS purposes</td>\n",
       "      <td>2012</td>\n",
       "      <td>2012</td>\n",
       "      <td>million USD</td>\n",
       "      <td>983.992142</td>\n",
       "      <td>X</td>\n",
       "      <td>Figure from international organizations</td>\n",
       "      <td>NaN</td>\n",
       "    </tr>\n",
       "    <tr>\n",
       "      <th>571</th>\n",
       "      <td>EA</td>\n",
       "      <td>Development Flows to Agriculture</td>\n",
       "      <td>716</td>\n",
       "      <td>Zimbabwe</td>\n",
       "      <td>F702</td>\n",
       "      <td>All Donors</td>\n",
       "      <td>6110</td>\n",
       "      <td>Value US$</td>\n",
       "      <td>22040</td>\n",
       "      <td>Commitment</td>\n",
       "      <td>10000</td>\n",
       "      <td>All CRS purposes</td>\n",
       "      <td>2022</td>\n",
       "      <td>2022</td>\n",
       "      <td>million USD</td>\n",
       "      <td>967.564374</td>\n",
       "      <td>X</td>\n",
       "      <td>Figure from international organizations</td>\n",
       "      <td>NaN</td>\n",
       "    </tr>\n",
       "    <tr>\n",
       "      <th>572</th>\n",
       "      <td>EA</td>\n",
       "      <td>Development Flows to Agriculture</td>\n",
       "      <td>716</td>\n",
       "      <td>Zimbabwe</td>\n",
       "      <td>F702</td>\n",
       "      <td>All Donors</td>\n",
       "      <td>6110</td>\n",
       "      <td>Value US$</td>\n",
       "      <td>22050</td>\n",
       "      <td>Disbursement</td>\n",
       "      <td>10000</td>\n",
       "      <td>All CRS purposes</td>\n",
       "      <td>2012</td>\n",
       "      <td>2012</td>\n",
       "      <td>million USD</td>\n",
       "      <td>1016.900772</td>\n",
       "      <td>X</td>\n",
       "      <td>Figure from international organizations</td>\n",
       "      <td>NaN</td>\n",
       "    </tr>\n",
       "    <tr>\n",
       "      <th>573</th>\n",
       "      <td>EA</td>\n",
       "      <td>Development Flows to Agriculture</td>\n",
       "      <td>716</td>\n",
       "      <td>Zimbabwe</td>\n",
       "      <td>F702</td>\n",
       "      <td>All Donors</td>\n",
       "      <td>6110</td>\n",
       "      <td>Value US$</td>\n",
       "      <td>22050</td>\n",
       "      <td>Disbursement</td>\n",
       "      <td>10000</td>\n",
       "      <td>All CRS purposes</td>\n",
       "      <td>2022</td>\n",
       "      <td>2022</td>\n",
       "      <td>million USD</td>\n",
       "      <td>850.081499</td>\n",
       "      <td>X</td>\n",
       "      <td>Figure from international organizations</td>\n",
       "      <td>NaN</td>\n",
       "    </tr>\n",
       "  </tbody>\n",
       "</table>\n",
       "<p>574 rows × 19 columns</p>\n",
       "</div>"
      ],
      "text/plain": [
       "    Domain Code                            Domain  \\\n",
       "0            EA  Development Flows to Agriculture   \n",
       "1            EA  Development Flows to Agriculture   \n",
       "2            EA  Development Flows to Agriculture   \n",
       "3            EA  Development Flows to Agriculture   \n",
       "4            EA  Development Flows to Agriculture   \n",
       "..          ...                               ...   \n",
       "569          EA  Development Flows to Agriculture   \n",
       "570          EA  Development Flows to Agriculture   \n",
       "571          EA  Development Flows to Agriculture   \n",
       "572          EA  Development Flows to Agriculture   \n",
       "573          EA  Development Flows to Agriculture   \n",
       "\n",
       "     Recipient Country Code (M49) Recipient Country Donor Code (M49)  \\\n",
       "0                               4       Afghanistan             F702   \n",
       "1                               4       Afghanistan             F702   \n",
       "2                               4       Afghanistan             F702   \n",
       "3                               4       Afghanistan             F702   \n",
       "4                               8           Albania             F702   \n",
       "..                            ...               ...              ...   \n",
       "569                           894            Zambia             F702   \n",
       "570                           716          Zimbabwe             F702   \n",
       "571                           716          Zimbabwe             F702   \n",
       "572                           716          Zimbabwe             F702   \n",
       "573                           716          Zimbabwe             F702   \n",
       "\n",
       "          Donor  Element Code    Element  Item Code          Item  \\\n",
       "0    All Donors          6110  Value US$      22040    Commitment   \n",
       "1    All Donors          6110  Value US$      22040    Commitment   \n",
       "2    All Donors          6110  Value US$      22050  Disbursement   \n",
       "3    All Donors          6110  Value US$      22050  Disbursement   \n",
       "4    All Donors          6110  Value US$      22040    Commitment   \n",
       "..          ...           ...        ...        ...           ...   \n",
       "569  All Donors          6110  Value US$      22050  Disbursement   \n",
       "570  All Donors          6110  Value US$      22040    Commitment   \n",
       "571  All Donors          6110  Value US$      22040    Commitment   \n",
       "572  All Donors          6110  Value US$      22050  Disbursement   \n",
       "573  All Donors          6110  Value US$      22050  Disbursement   \n",
       "\n",
       "     Purpose Code           Purpose  Year Code  Year         Unit  \\\n",
       "0           10000  All CRS purposes       2012  2012  million USD   \n",
       "1           10000  All CRS purposes       2022  2022  million USD   \n",
       "2           10000  All CRS purposes       2012  2012  million USD   \n",
       "3           10000  All CRS purposes       2022  2022  million USD   \n",
       "4           10000  All CRS purposes       2012  2012  million USD   \n",
       "..            ...               ...        ...   ...          ...   \n",
       "569         10000  All CRS purposes       2022  2022  million USD   \n",
       "570         10000  All CRS purposes       2012  2012  million USD   \n",
       "571         10000  All CRS purposes       2022  2022  million USD   \n",
       "572         10000  All CRS purposes       2012  2012  million USD   \n",
       "573         10000  All CRS purposes       2022  2022  million USD   \n",
       "\n",
       "           Value Flag                         Flag Description  Note  \n",
       "0    5681.719588    X  Figure from international organizations   NaN  \n",
       "1    3717.146664    X  Figure from international organizations   NaN  \n",
       "2    6569.616907    X  Figure from international organizations   NaN  \n",
       "3    4025.129731    X  Figure from international organizations   NaN  \n",
       "4     487.824488    X  Figure from international organizations   NaN  \n",
       "..           ...  ...                                      ...   ...  \n",
       "569  2037.636640    X  Figure from international organizations   NaN  \n",
       "570   983.992142    X  Figure from international organizations   NaN  \n",
       "571   967.564374    X  Figure from international organizations   NaN  \n",
       "572  1016.900772    X  Figure from international organizations   NaN  \n",
       "573   850.081499    X  Figure from international organizations   NaN  \n",
       "\n",
       "[574 rows x 19 columns]"
      ]
     },
     "execution_count": 47,
     "metadata": {},
     "output_type": "execute_result"
    }
   ],
   "source": [
    "agridf = pd.read_csv(\"agriflows.csv\")\n",
    "agridf"
   ]
  },
  {
   "cell_type": "code",
   "execution_count": 48,
   "metadata": {},
   "outputs": [
    {
     "data": {
      "text/plain": [
       "(574, 19)"
      ]
     },
     "execution_count": 48,
     "metadata": {},
     "output_type": "execute_result"
    }
   ],
   "source": [
    "agridf.shape"
   ]
  },
  {
   "cell_type": "code",
   "execution_count": 49,
   "metadata": {},
   "outputs": [
    {
     "data": {
      "text/html": [
       "<div>\n",
       "<style scoped>\n",
       "    .dataframe tbody tr th:only-of-type {\n",
       "        vertical-align: middle;\n",
       "    }\n",
       "\n",
       "    .dataframe tbody tr th {\n",
       "        vertical-align: top;\n",
       "    }\n",
       "\n",
       "    .dataframe thead th {\n",
       "        text-align: right;\n",
       "    }\n",
       "</style>\n",
       "<table border=\"1\" class=\"dataframe\">\n",
       "  <thead>\n",
       "    <tr style=\"text-align: right;\">\n",
       "      <th></th>\n",
       "      <th>Domain Code</th>\n",
       "      <th>Domain</th>\n",
       "      <th>Recipient Country Code (M49)</th>\n",
       "      <th>Recipient Country</th>\n",
       "      <th>Donor Code (M49)</th>\n",
       "      <th>Donor</th>\n",
       "      <th>Element Code</th>\n",
       "      <th>Element</th>\n",
       "      <th>Item Code</th>\n",
       "      <th>Item</th>\n",
       "      <th>Purpose Code</th>\n",
       "      <th>Purpose</th>\n",
       "      <th>Year Code</th>\n",
       "      <th>Year</th>\n",
       "      <th>Unit</th>\n",
       "      <th>Value</th>\n",
       "      <th>Flag</th>\n",
       "      <th>Flag Description</th>\n",
       "      <th>Note</th>\n",
       "    </tr>\n",
       "  </thead>\n",
       "  <tbody>\n",
       "    <tr>\n",
       "      <th>0</th>\n",
       "      <td>EA</td>\n",
       "      <td>Development Flows to Agriculture</td>\n",
       "      <td>4</td>\n",
       "      <td>Afghanistan</td>\n",
       "      <td>F702</td>\n",
       "      <td>All Donors</td>\n",
       "      <td>6110</td>\n",
       "      <td>Value US$</td>\n",
       "      <td>22040</td>\n",
       "      <td>Commitment</td>\n",
       "      <td>10000</td>\n",
       "      <td>All CRS purposes</td>\n",
       "      <td>2012</td>\n",
       "      <td>2012</td>\n",
       "      <td>million USD</td>\n",
       "      <td>5681.719588</td>\n",
       "      <td>X</td>\n",
       "      <td>Figure from international organizations</td>\n",
       "      <td>NaN</td>\n",
       "    </tr>\n",
       "    <tr>\n",
       "      <th>2</th>\n",
       "      <td>EA</td>\n",
       "      <td>Development Flows to Agriculture</td>\n",
       "      <td>4</td>\n",
       "      <td>Afghanistan</td>\n",
       "      <td>F702</td>\n",
       "      <td>All Donors</td>\n",
       "      <td>6110</td>\n",
       "      <td>Value US$</td>\n",
       "      <td>22050</td>\n",
       "      <td>Disbursement</td>\n",
       "      <td>10000</td>\n",
       "      <td>All CRS purposes</td>\n",
       "      <td>2012</td>\n",
       "      <td>2012</td>\n",
       "      <td>million USD</td>\n",
       "      <td>6569.616907</td>\n",
       "      <td>X</td>\n",
       "      <td>Figure from international organizations</td>\n",
       "      <td>NaN</td>\n",
       "    </tr>\n",
       "    <tr>\n",
       "      <th>4</th>\n",
       "      <td>EA</td>\n",
       "      <td>Development Flows to Agriculture</td>\n",
       "      <td>8</td>\n",
       "      <td>Albania</td>\n",
       "      <td>F702</td>\n",
       "      <td>All Donors</td>\n",
       "      <td>6110</td>\n",
       "      <td>Value US$</td>\n",
       "      <td>22040</td>\n",
       "      <td>Commitment</td>\n",
       "      <td>10000</td>\n",
       "      <td>All CRS purposes</td>\n",
       "      <td>2012</td>\n",
       "      <td>2012</td>\n",
       "      <td>million USD</td>\n",
       "      <td>487.824488</td>\n",
       "      <td>X</td>\n",
       "      <td>Figure from international organizations</td>\n",
       "      <td>NaN</td>\n",
       "    </tr>\n",
       "    <tr>\n",
       "      <th>6</th>\n",
       "      <td>EA</td>\n",
       "      <td>Development Flows to Agriculture</td>\n",
       "      <td>8</td>\n",
       "      <td>Albania</td>\n",
       "      <td>F702</td>\n",
       "      <td>All Donors</td>\n",
       "      <td>6110</td>\n",
       "      <td>Value US$</td>\n",
       "      <td>22050</td>\n",
       "      <td>Disbursement</td>\n",
       "      <td>10000</td>\n",
       "      <td>All CRS purposes</td>\n",
       "      <td>2012</td>\n",
       "      <td>2012</td>\n",
       "      <td>million USD</td>\n",
       "      <td>591.469527</td>\n",
       "      <td>X</td>\n",
       "      <td>Figure from international organizations</td>\n",
       "      <td>NaN</td>\n",
       "    </tr>\n",
       "    <tr>\n",
       "      <th>8</th>\n",
       "      <td>EA</td>\n",
       "      <td>Development Flows to Agriculture</td>\n",
       "      <td>12</td>\n",
       "      <td>Algeria</td>\n",
       "      <td>F702</td>\n",
       "      <td>All Donors</td>\n",
       "      <td>6110</td>\n",
       "      <td>Value US$</td>\n",
       "      <td>22040</td>\n",
       "      <td>Commitment</td>\n",
       "      <td>10000</td>\n",
       "      <td>All CRS purposes</td>\n",
       "      <td>2012</td>\n",
       "      <td>2012</td>\n",
       "      <td>million USD</td>\n",
       "      <td>297.038708</td>\n",
       "      <td>X</td>\n",
       "      <td>Figure from international organizations</td>\n",
       "      <td>NaN</td>\n",
       "    </tr>\n",
       "    <tr>\n",
       "      <th>...</th>\n",
       "      <td>...</td>\n",
       "      <td>...</td>\n",
       "      <td>...</td>\n",
       "      <td>...</td>\n",
       "      <td>...</td>\n",
       "      <td>...</td>\n",
       "      <td>...</td>\n",
       "      <td>...</td>\n",
       "      <td>...</td>\n",
       "      <td>...</td>\n",
       "      <td>...</td>\n",
       "      <td>...</td>\n",
       "      <td>...</td>\n",
       "      <td>...</td>\n",
       "      <td>...</td>\n",
       "      <td>...</td>\n",
       "      <td>...</td>\n",
       "      <td>...</td>\n",
       "      <td>...</td>\n",
       "    </tr>\n",
       "    <tr>\n",
       "      <th>564</th>\n",
       "      <td>EA</td>\n",
       "      <td>Development Flows to Agriculture</td>\n",
       "      <td>887</td>\n",
       "      <td>Yemen</td>\n",
       "      <td>F702</td>\n",
       "      <td>All Donors</td>\n",
       "      <td>6110</td>\n",
       "      <td>Value US$</td>\n",
       "      <td>22050</td>\n",
       "      <td>Disbursement</td>\n",
       "      <td>10000</td>\n",
       "      <td>All CRS purposes</td>\n",
       "      <td>2012</td>\n",
       "      <td>2012</td>\n",
       "      <td>million USD</td>\n",
       "      <td>823.007436</td>\n",
       "      <td>X</td>\n",
       "      <td>Figure from international organizations</td>\n",
       "      <td>NaN</td>\n",
       "    </tr>\n",
       "    <tr>\n",
       "      <th>566</th>\n",
       "      <td>EA</td>\n",
       "      <td>Development Flows to Agriculture</td>\n",
       "      <td>894</td>\n",
       "      <td>Zambia</td>\n",
       "      <td>F702</td>\n",
       "      <td>All Donors</td>\n",
       "      <td>6110</td>\n",
       "      <td>Value US$</td>\n",
       "      <td>22040</td>\n",
       "      <td>Commitment</td>\n",
       "      <td>10000</td>\n",
       "      <td>All CRS purposes</td>\n",
       "      <td>2012</td>\n",
       "      <td>2012</td>\n",
       "      <td>million USD</td>\n",
       "      <td>1262.443168</td>\n",
       "      <td>X</td>\n",
       "      <td>Figure from international organizations</td>\n",
       "      <td>NaN</td>\n",
       "    </tr>\n",
       "    <tr>\n",
       "      <th>568</th>\n",
       "      <td>EA</td>\n",
       "      <td>Development Flows to Agriculture</td>\n",
       "      <td>894</td>\n",
       "      <td>Zambia</td>\n",
       "      <td>F702</td>\n",
       "      <td>All Donors</td>\n",
       "      <td>6110</td>\n",
       "      <td>Value US$</td>\n",
       "      <td>22050</td>\n",
       "      <td>Disbursement</td>\n",
       "      <td>10000</td>\n",
       "      <td>All CRS purposes</td>\n",
       "      <td>2012</td>\n",
       "      <td>2012</td>\n",
       "      <td>million USD</td>\n",
       "      <td>1031.993530</td>\n",
       "      <td>X</td>\n",
       "      <td>Figure from international organizations</td>\n",
       "      <td>NaN</td>\n",
       "    </tr>\n",
       "    <tr>\n",
       "      <th>570</th>\n",
       "      <td>EA</td>\n",
       "      <td>Development Flows to Agriculture</td>\n",
       "      <td>716</td>\n",
       "      <td>Zimbabwe</td>\n",
       "      <td>F702</td>\n",
       "      <td>All Donors</td>\n",
       "      <td>6110</td>\n",
       "      <td>Value US$</td>\n",
       "      <td>22040</td>\n",
       "      <td>Commitment</td>\n",
       "      <td>10000</td>\n",
       "      <td>All CRS purposes</td>\n",
       "      <td>2012</td>\n",
       "      <td>2012</td>\n",
       "      <td>million USD</td>\n",
       "      <td>983.992142</td>\n",
       "      <td>X</td>\n",
       "      <td>Figure from international organizations</td>\n",
       "      <td>NaN</td>\n",
       "    </tr>\n",
       "    <tr>\n",
       "      <th>572</th>\n",
       "      <td>EA</td>\n",
       "      <td>Development Flows to Agriculture</td>\n",
       "      <td>716</td>\n",
       "      <td>Zimbabwe</td>\n",
       "      <td>F702</td>\n",
       "      <td>All Donors</td>\n",
       "      <td>6110</td>\n",
       "      <td>Value US$</td>\n",
       "      <td>22050</td>\n",
       "      <td>Disbursement</td>\n",
       "      <td>10000</td>\n",
       "      <td>All CRS purposes</td>\n",
       "      <td>2012</td>\n",
       "      <td>2012</td>\n",
       "      <td>million USD</td>\n",
       "      <td>1016.900772</td>\n",
       "      <td>X</td>\n",
       "      <td>Figure from international organizations</td>\n",
       "      <td>NaN</td>\n",
       "    </tr>\n",
       "  </tbody>\n",
       "</table>\n",
       "<p>294 rows × 19 columns</p>\n",
       "</div>"
      ],
      "text/plain": [
       "    Domain Code                            Domain  \\\n",
       "0            EA  Development Flows to Agriculture   \n",
       "2            EA  Development Flows to Agriculture   \n",
       "4            EA  Development Flows to Agriculture   \n",
       "6            EA  Development Flows to Agriculture   \n",
       "8            EA  Development Flows to Agriculture   \n",
       "..          ...                               ...   \n",
       "564          EA  Development Flows to Agriculture   \n",
       "566          EA  Development Flows to Agriculture   \n",
       "568          EA  Development Flows to Agriculture   \n",
       "570          EA  Development Flows to Agriculture   \n",
       "572          EA  Development Flows to Agriculture   \n",
       "\n",
       "     Recipient Country Code (M49) Recipient Country Donor Code (M49)  \\\n",
       "0                               4       Afghanistan             F702   \n",
       "2                               4       Afghanistan             F702   \n",
       "4                               8           Albania             F702   \n",
       "6                               8           Albania             F702   \n",
       "8                              12           Algeria             F702   \n",
       "..                            ...               ...              ...   \n",
       "564                           887             Yemen             F702   \n",
       "566                           894            Zambia             F702   \n",
       "568                           894            Zambia             F702   \n",
       "570                           716          Zimbabwe             F702   \n",
       "572                           716          Zimbabwe             F702   \n",
       "\n",
       "          Donor  Element Code    Element  Item Code          Item  \\\n",
       "0    All Donors          6110  Value US$      22040    Commitment   \n",
       "2    All Donors          6110  Value US$      22050  Disbursement   \n",
       "4    All Donors          6110  Value US$      22040    Commitment   \n",
       "6    All Donors          6110  Value US$      22050  Disbursement   \n",
       "8    All Donors          6110  Value US$      22040    Commitment   \n",
       "..          ...           ...        ...        ...           ...   \n",
       "564  All Donors          6110  Value US$      22050  Disbursement   \n",
       "566  All Donors          6110  Value US$      22040    Commitment   \n",
       "568  All Donors          6110  Value US$      22050  Disbursement   \n",
       "570  All Donors          6110  Value US$      22040    Commitment   \n",
       "572  All Donors          6110  Value US$      22050  Disbursement   \n",
       "\n",
       "     Purpose Code           Purpose  Year Code  Year         Unit  \\\n",
       "0           10000  All CRS purposes       2012  2012  million USD   \n",
       "2           10000  All CRS purposes       2012  2012  million USD   \n",
       "4           10000  All CRS purposes       2012  2012  million USD   \n",
       "6           10000  All CRS purposes       2012  2012  million USD   \n",
       "8           10000  All CRS purposes       2012  2012  million USD   \n",
       "..            ...               ...        ...   ...          ...   \n",
       "564         10000  All CRS purposes       2012  2012  million USD   \n",
       "566         10000  All CRS purposes       2012  2012  million USD   \n",
       "568         10000  All CRS purposes       2012  2012  million USD   \n",
       "570         10000  All CRS purposes       2012  2012  million USD   \n",
       "572         10000  All CRS purposes       2012  2012  million USD   \n",
       "\n",
       "           Value Flag                         Flag Description  Note  \n",
       "0    5681.719588    X  Figure from international organizations   NaN  \n",
       "2    6569.616907    X  Figure from international organizations   NaN  \n",
       "4     487.824488    X  Figure from international organizations   NaN  \n",
       "6     591.469527    X  Figure from international organizations   NaN  \n",
       "8     297.038708    X  Figure from international organizations   NaN  \n",
       "..           ...  ...                                      ...   ...  \n",
       "564   823.007436    X  Figure from international organizations   NaN  \n",
       "566  1262.443168    X  Figure from international organizations   NaN  \n",
       "568  1031.993530    X  Figure from international organizations   NaN  \n",
       "570   983.992142    X  Figure from international organizations   NaN  \n",
       "572  1016.900772    X  Figure from international organizations   NaN  \n",
       "\n",
       "[294 rows x 19 columns]"
      ]
     },
     "execution_count": 49,
     "metadata": {},
     "output_type": "execute_result"
    }
   ],
   "source": [
    "df_2012 = agridf[agridf['Year'] == 2012]\n",
    "df_2012"
   ]
  },
  {
   "cell_type": "code",
   "execution_count": 50,
   "metadata": {},
   "outputs": [
    {
     "data": {
      "text/plain": [
       "294"
      ]
     },
     "execution_count": 50,
     "metadata": {},
     "output_type": "execute_result"
    }
   ],
   "source": [
    "rows_2012 = df_2012.shape[0]\n",
    "rows_2012"
   ]
  },
  {
   "cell_type": "code",
   "execution_count": 51,
   "metadata": {},
   "outputs": [
    {
     "data": {
      "text/html": [
       "<div>\n",
       "<style scoped>\n",
       "    .dataframe tbody tr th:only-of-type {\n",
       "        vertical-align: middle;\n",
       "    }\n",
       "\n",
       "    .dataframe tbody tr th {\n",
       "        vertical-align: top;\n",
       "    }\n",
       "\n",
       "    .dataframe thead th {\n",
       "        text-align: right;\n",
       "    }\n",
       "</style>\n",
       "<table border=\"1\" class=\"dataframe\">\n",
       "  <thead>\n",
       "    <tr style=\"text-align: right;\">\n",
       "      <th></th>\n",
       "      <th>Domain Code</th>\n",
       "      <th>Domain</th>\n",
       "      <th>Recipient Country Code (M49)</th>\n",
       "      <th>Recipient Country</th>\n",
       "      <th>Donor Code (M49)</th>\n",
       "      <th>Donor</th>\n",
       "      <th>Element Code</th>\n",
       "      <th>Element</th>\n",
       "      <th>Item Code</th>\n",
       "      <th>Item</th>\n",
       "      <th>Purpose Code</th>\n",
       "      <th>Purpose</th>\n",
       "      <th>Year Code</th>\n",
       "      <th>Year</th>\n",
       "      <th>Unit</th>\n",
       "      <th>Value</th>\n",
       "      <th>Flag</th>\n",
       "      <th>Flag Description</th>\n",
       "      <th>Note</th>\n",
       "    </tr>\n",
       "  </thead>\n",
       "  <tbody>\n",
       "    <tr>\n",
       "      <th>1</th>\n",
       "      <td>EA</td>\n",
       "      <td>Development Flows to Agriculture</td>\n",
       "      <td>4</td>\n",
       "      <td>Afghanistan</td>\n",
       "      <td>F702</td>\n",
       "      <td>All Donors</td>\n",
       "      <td>6110</td>\n",
       "      <td>Value US$</td>\n",
       "      <td>22040</td>\n",
       "      <td>Commitment</td>\n",
       "      <td>10000</td>\n",
       "      <td>All CRS purposes</td>\n",
       "      <td>2022</td>\n",
       "      <td>2022</td>\n",
       "      <td>million USD</td>\n",
       "      <td>3717.146664</td>\n",
       "      <td>X</td>\n",
       "      <td>Figure from international organizations</td>\n",
       "      <td>NaN</td>\n",
       "    </tr>\n",
       "    <tr>\n",
       "      <th>3</th>\n",
       "      <td>EA</td>\n",
       "      <td>Development Flows to Agriculture</td>\n",
       "      <td>4</td>\n",
       "      <td>Afghanistan</td>\n",
       "      <td>F702</td>\n",
       "      <td>All Donors</td>\n",
       "      <td>6110</td>\n",
       "      <td>Value US$</td>\n",
       "      <td>22050</td>\n",
       "      <td>Disbursement</td>\n",
       "      <td>10000</td>\n",
       "      <td>All CRS purposes</td>\n",
       "      <td>2022</td>\n",
       "      <td>2022</td>\n",
       "      <td>million USD</td>\n",
       "      <td>4025.129731</td>\n",
       "      <td>X</td>\n",
       "      <td>Figure from international organizations</td>\n",
       "      <td>NaN</td>\n",
       "    </tr>\n",
       "    <tr>\n",
       "      <th>5</th>\n",
       "      <td>EA</td>\n",
       "      <td>Development Flows to Agriculture</td>\n",
       "      <td>8</td>\n",
       "      <td>Albania</td>\n",
       "      <td>F702</td>\n",
       "      <td>All Donors</td>\n",
       "      <td>6110</td>\n",
       "      <td>Value US$</td>\n",
       "      <td>22040</td>\n",
       "      <td>Commitment</td>\n",
       "      <td>10000</td>\n",
       "      <td>All CRS purposes</td>\n",
       "      <td>2022</td>\n",
       "      <td>2022</td>\n",
       "      <td>million USD</td>\n",
       "      <td>781.978768</td>\n",
       "      <td>X</td>\n",
       "      <td>Figure from international organizations</td>\n",
       "      <td>NaN</td>\n",
       "    </tr>\n",
       "    <tr>\n",
       "      <th>7</th>\n",
       "      <td>EA</td>\n",
       "      <td>Development Flows to Agriculture</td>\n",
       "      <td>8</td>\n",
       "      <td>Albania</td>\n",
       "      <td>F702</td>\n",
       "      <td>All Donors</td>\n",
       "      <td>6110</td>\n",
       "      <td>Value US$</td>\n",
       "      <td>22050</td>\n",
       "      <td>Disbursement</td>\n",
       "      <td>10000</td>\n",
       "      <td>All CRS purposes</td>\n",
       "      <td>2022</td>\n",
       "      <td>2022</td>\n",
       "      <td>million USD</td>\n",
       "      <td>707.125273</td>\n",
       "      <td>X</td>\n",
       "      <td>Figure from international organizations</td>\n",
       "      <td>NaN</td>\n",
       "    </tr>\n",
       "    <tr>\n",
       "      <th>9</th>\n",
       "      <td>EA</td>\n",
       "      <td>Development Flows to Agriculture</td>\n",
       "      <td>12</td>\n",
       "      <td>Algeria</td>\n",
       "      <td>F702</td>\n",
       "      <td>All Donors</td>\n",
       "      <td>6110</td>\n",
       "      <td>Value US$</td>\n",
       "      <td>22040</td>\n",
       "      <td>Commitment</td>\n",
       "      <td>10000</td>\n",
       "      <td>All CRS purposes</td>\n",
       "      <td>2022</td>\n",
       "      <td>2022</td>\n",
       "      <td>million USD</td>\n",
       "      <td>275.202417</td>\n",
       "      <td>X</td>\n",
       "      <td>Figure from international organizations</td>\n",
       "      <td>NaN</td>\n",
       "    </tr>\n",
       "    <tr>\n",
       "      <th>...</th>\n",
       "      <td>...</td>\n",
       "      <td>...</td>\n",
       "      <td>...</td>\n",
       "      <td>...</td>\n",
       "      <td>...</td>\n",
       "      <td>...</td>\n",
       "      <td>...</td>\n",
       "      <td>...</td>\n",
       "      <td>...</td>\n",
       "      <td>...</td>\n",
       "      <td>...</td>\n",
       "      <td>...</td>\n",
       "      <td>...</td>\n",
       "      <td>...</td>\n",
       "      <td>...</td>\n",
       "      <td>...</td>\n",
       "      <td>...</td>\n",
       "      <td>...</td>\n",
       "      <td>...</td>\n",
       "    </tr>\n",
       "    <tr>\n",
       "      <th>565</th>\n",
       "      <td>EA</td>\n",
       "      <td>Development Flows to Agriculture</td>\n",
       "      <td>887</td>\n",
       "      <td>Yemen</td>\n",
       "      <td>F702</td>\n",
       "      <td>All Donors</td>\n",
       "      <td>6110</td>\n",
       "      <td>Value US$</td>\n",
       "      <td>22050</td>\n",
       "      <td>Disbursement</td>\n",
       "      <td>10000</td>\n",
       "      <td>All CRS purposes</td>\n",
       "      <td>2022</td>\n",
       "      <td>2022</td>\n",
       "      <td>million USD</td>\n",
       "      <td>3751.594270</td>\n",
       "      <td>X</td>\n",
       "      <td>Figure from international organizations</td>\n",
       "      <td>NaN</td>\n",
       "    </tr>\n",
       "    <tr>\n",
       "      <th>567</th>\n",
       "      <td>EA</td>\n",
       "      <td>Development Flows to Agriculture</td>\n",
       "      <td>894</td>\n",
       "      <td>Zambia</td>\n",
       "      <td>F702</td>\n",
       "      <td>All Donors</td>\n",
       "      <td>6110</td>\n",
       "      <td>Value US$</td>\n",
       "      <td>22040</td>\n",
       "      <td>Commitment</td>\n",
       "      <td>10000</td>\n",
       "      <td>All CRS purposes</td>\n",
       "      <td>2022</td>\n",
       "      <td>2022</td>\n",
       "      <td>million USD</td>\n",
       "      <td>2167.128280</td>\n",
       "      <td>X</td>\n",
       "      <td>Figure from international organizations</td>\n",
       "      <td>NaN</td>\n",
       "    </tr>\n",
       "    <tr>\n",
       "      <th>569</th>\n",
       "      <td>EA</td>\n",
       "      <td>Development Flows to Agriculture</td>\n",
       "      <td>894</td>\n",
       "      <td>Zambia</td>\n",
       "      <td>F702</td>\n",
       "      <td>All Donors</td>\n",
       "      <td>6110</td>\n",
       "      <td>Value US$</td>\n",
       "      <td>22050</td>\n",
       "      <td>Disbursement</td>\n",
       "      <td>10000</td>\n",
       "      <td>All CRS purposes</td>\n",
       "      <td>2022</td>\n",
       "      <td>2022</td>\n",
       "      <td>million USD</td>\n",
       "      <td>2037.636640</td>\n",
       "      <td>X</td>\n",
       "      <td>Figure from international organizations</td>\n",
       "      <td>NaN</td>\n",
       "    </tr>\n",
       "    <tr>\n",
       "      <th>571</th>\n",
       "      <td>EA</td>\n",
       "      <td>Development Flows to Agriculture</td>\n",
       "      <td>716</td>\n",
       "      <td>Zimbabwe</td>\n",
       "      <td>F702</td>\n",
       "      <td>All Donors</td>\n",
       "      <td>6110</td>\n",
       "      <td>Value US$</td>\n",
       "      <td>22040</td>\n",
       "      <td>Commitment</td>\n",
       "      <td>10000</td>\n",
       "      <td>All CRS purposes</td>\n",
       "      <td>2022</td>\n",
       "      <td>2022</td>\n",
       "      <td>million USD</td>\n",
       "      <td>967.564374</td>\n",
       "      <td>X</td>\n",
       "      <td>Figure from international organizations</td>\n",
       "      <td>NaN</td>\n",
       "    </tr>\n",
       "    <tr>\n",
       "      <th>573</th>\n",
       "      <td>EA</td>\n",
       "      <td>Development Flows to Agriculture</td>\n",
       "      <td>716</td>\n",
       "      <td>Zimbabwe</td>\n",
       "      <td>F702</td>\n",
       "      <td>All Donors</td>\n",
       "      <td>6110</td>\n",
       "      <td>Value US$</td>\n",
       "      <td>22050</td>\n",
       "      <td>Disbursement</td>\n",
       "      <td>10000</td>\n",
       "      <td>All CRS purposes</td>\n",
       "      <td>2022</td>\n",
       "      <td>2022</td>\n",
       "      <td>million USD</td>\n",
       "      <td>850.081499</td>\n",
       "      <td>X</td>\n",
       "      <td>Figure from international organizations</td>\n",
       "      <td>NaN</td>\n",
       "    </tr>\n",
       "  </tbody>\n",
       "</table>\n",
       "<p>280 rows × 19 columns</p>\n",
       "</div>"
      ],
      "text/plain": [
       "    Domain Code                            Domain  \\\n",
       "1            EA  Development Flows to Agriculture   \n",
       "3            EA  Development Flows to Agriculture   \n",
       "5            EA  Development Flows to Agriculture   \n",
       "7            EA  Development Flows to Agriculture   \n",
       "9            EA  Development Flows to Agriculture   \n",
       "..          ...                               ...   \n",
       "565          EA  Development Flows to Agriculture   \n",
       "567          EA  Development Flows to Agriculture   \n",
       "569          EA  Development Flows to Agriculture   \n",
       "571          EA  Development Flows to Agriculture   \n",
       "573          EA  Development Flows to Agriculture   \n",
       "\n",
       "     Recipient Country Code (M49) Recipient Country Donor Code (M49)  \\\n",
       "1                               4       Afghanistan             F702   \n",
       "3                               4       Afghanistan             F702   \n",
       "5                               8           Albania             F702   \n",
       "7                               8           Albania             F702   \n",
       "9                              12           Algeria             F702   \n",
       "..                            ...               ...              ...   \n",
       "565                           887             Yemen             F702   \n",
       "567                           894            Zambia             F702   \n",
       "569                           894            Zambia             F702   \n",
       "571                           716          Zimbabwe             F702   \n",
       "573                           716          Zimbabwe             F702   \n",
       "\n",
       "          Donor  Element Code    Element  Item Code          Item  \\\n",
       "1    All Donors          6110  Value US$      22040    Commitment   \n",
       "3    All Donors          6110  Value US$      22050  Disbursement   \n",
       "5    All Donors          6110  Value US$      22040    Commitment   \n",
       "7    All Donors          6110  Value US$      22050  Disbursement   \n",
       "9    All Donors          6110  Value US$      22040    Commitment   \n",
       "..          ...           ...        ...        ...           ...   \n",
       "565  All Donors          6110  Value US$      22050  Disbursement   \n",
       "567  All Donors          6110  Value US$      22040    Commitment   \n",
       "569  All Donors          6110  Value US$      22050  Disbursement   \n",
       "571  All Donors          6110  Value US$      22040    Commitment   \n",
       "573  All Donors          6110  Value US$      22050  Disbursement   \n",
       "\n",
       "     Purpose Code           Purpose  Year Code  Year         Unit  \\\n",
       "1           10000  All CRS purposes       2022  2022  million USD   \n",
       "3           10000  All CRS purposes       2022  2022  million USD   \n",
       "5           10000  All CRS purposes       2022  2022  million USD   \n",
       "7           10000  All CRS purposes       2022  2022  million USD   \n",
       "9           10000  All CRS purposes       2022  2022  million USD   \n",
       "..            ...               ...        ...   ...          ...   \n",
       "565         10000  All CRS purposes       2022  2022  million USD   \n",
       "567         10000  All CRS purposes       2022  2022  million USD   \n",
       "569         10000  All CRS purposes       2022  2022  million USD   \n",
       "571         10000  All CRS purposes       2022  2022  million USD   \n",
       "573         10000  All CRS purposes       2022  2022  million USD   \n",
       "\n",
       "           Value Flag                         Flag Description  Note  \n",
       "1    3717.146664    X  Figure from international organizations   NaN  \n",
       "3    4025.129731    X  Figure from international organizations   NaN  \n",
       "5     781.978768    X  Figure from international organizations   NaN  \n",
       "7     707.125273    X  Figure from international organizations   NaN  \n",
       "9     275.202417    X  Figure from international organizations   NaN  \n",
       "..           ...  ...                                      ...   ...  \n",
       "565  3751.594270    X  Figure from international organizations   NaN  \n",
       "567  2167.128280    X  Figure from international organizations   NaN  \n",
       "569  2037.636640    X  Figure from international organizations   NaN  \n",
       "571   967.564374    X  Figure from international organizations   NaN  \n",
       "573   850.081499    X  Figure from international organizations   NaN  \n",
       "\n",
       "[280 rows x 19 columns]"
      ]
     },
     "execution_count": 51,
     "metadata": {},
     "output_type": "execute_result"
    }
   ],
   "source": [
    "df_2022 = agridf[agridf['Year'] == 2022]\n",
    "df_2022"
   ]
  },
  {
   "cell_type": "code",
   "execution_count": 52,
   "metadata": {},
   "outputs": [
    {
     "data": {
      "text/plain": [
       "280"
      ]
     },
     "execution_count": 52,
     "metadata": {},
     "output_type": "execute_result"
    }
   ],
   "source": [
    "rows_2022 = df_2022.shape[0]\n",
    "rows_2022"
   ]
  },
  {
   "cell_type": "code",
   "execution_count": 53,
   "metadata": {},
   "outputs": [
    {
     "data": {
      "text/plain": [
       "{'Afghanistan',\n",
       " 'Albania',\n",
       " 'Algeria',\n",
       " 'Angola',\n",
       " 'Anguilla',\n",
       " 'Antigua and Barbuda',\n",
       " 'Argentina',\n",
       " 'Armenia',\n",
       " 'Azerbaijan',\n",
       " 'Bangladesh',\n",
       " 'Belarus',\n",
       " 'Belize',\n",
       " 'Benin',\n",
       " 'Bhutan',\n",
       " 'Bolivia (Plurinational State of)',\n",
       " 'Bosnia and Herzegovina',\n",
       " 'Botswana',\n",
       " 'Brazil',\n",
       " 'Burkina Faso',\n",
       " 'Burundi',\n",
       " 'Cabo Verde',\n",
       " 'Cambodia',\n",
       " 'Cameroon',\n",
       " 'Central African Republic',\n",
       " 'Chad',\n",
       " 'Chile',\n",
       " 'China, mainland',\n",
       " 'Colombia',\n",
       " 'Comoros',\n",
       " 'Congo',\n",
       " 'Cook Islands',\n",
       " 'Costa Rica',\n",
       " 'Cuba',\n",
       " \"Côte d'Ivoire\",\n",
       " \"Democratic People's Republic of Korea\",\n",
       " 'Democratic Republic of the Congo',\n",
       " 'Djibouti',\n",
       " 'Dominica',\n",
       " 'Dominican Republic',\n",
       " 'Ecuador',\n",
       " 'Egypt',\n",
       " 'El Salvador',\n",
       " 'Equatorial Guinea',\n",
       " 'Eritrea',\n",
       " 'Eswatini',\n",
       " 'Ethiopia',\n",
       " 'Fiji',\n",
       " 'Gabon',\n",
       " 'Gambia',\n",
       " 'Georgia',\n",
       " 'Ghana',\n",
       " 'Grenada',\n",
       " 'Guatemala',\n",
       " 'Guinea',\n",
       " 'Guinea-Bissau',\n",
       " 'Guyana',\n",
       " 'Haiti',\n",
       " 'Honduras',\n",
       " 'India',\n",
       " 'Indonesia',\n",
       " 'Iran (Islamic Republic of)',\n",
       " 'Iraq',\n",
       " 'Jamaica',\n",
       " 'Jordan',\n",
       " 'Kazakhstan',\n",
       " 'Kenya',\n",
       " 'Kiribati',\n",
       " 'Kyrgyzstan',\n",
       " \"Lao People's Democratic Republic\",\n",
       " 'Lebanon',\n",
       " 'Lesotho',\n",
       " 'Liberia',\n",
       " 'Libya',\n",
       " 'Madagascar',\n",
       " 'Malawi',\n",
       " 'Malaysia',\n",
       " 'Maldives',\n",
       " 'Mali',\n",
       " 'Marshall Islands',\n",
       " 'Mauritania',\n",
       " 'Mauritius',\n",
       " 'Mexico',\n",
       " 'Micronesia (Federated States of)',\n",
       " 'Mongolia',\n",
       " 'Montenegro',\n",
       " 'Montserrat',\n",
       " 'Morocco',\n",
       " 'Mozambique',\n",
       " 'Myanmar',\n",
       " 'Namibia',\n",
       " 'Nauru',\n",
       " 'Nepal',\n",
       " 'Nicaragua',\n",
       " 'Niger',\n",
       " 'Nigeria',\n",
       " 'Niue',\n",
       " 'North Macedonia',\n",
       " 'Pakistan',\n",
       " 'Palau',\n",
       " 'Palestine',\n",
       " 'Panama',\n",
       " 'Papua New Guinea',\n",
       " 'Paraguay',\n",
       " 'Peru',\n",
       " 'Philippines',\n",
       " 'Republic of Moldova',\n",
       " 'Rwanda',\n",
       " 'Saint Helena, Ascension and Tristan da Cunha',\n",
       " 'Saint Kitts and Nevis',\n",
       " 'Saint Lucia',\n",
       " 'Saint Vincent and the Grenadines',\n",
       " 'Samoa',\n",
       " 'Sao Tome and Principe',\n",
       " 'Senegal',\n",
       " 'Serbia',\n",
       " 'Seychelles',\n",
       " 'Sierra Leone',\n",
       " 'Solomon Islands',\n",
       " 'Somalia',\n",
       " 'South Africa',\n",
       " 'South Sudan',\n",
       " 'Sri Lanka',\n",
       " 'Sudan',\n",
       " 'Suriname',\n",
       " 'Syrian Arab Republic',\n",
       " 'Tajikistan',\n",
       " 'Thailand',\n",
       " 'Timor-Leste',\n",
       " 'Togo',\n",
       " 'Tokelau',\n",
       " 'Tonga',\n",
       " 'Tunisia',\n",
       " 'Turkmenistan',\n",
       " 'Tuvalu',\n",
       " 'Türkiye',\n",
       " 'Uganda',\n",
       " 'Ukraine',\n",
       " 'United Republic of Tanzania',\n",
       " 'Uruguay',\n",
       " 'Uzbekistan',\n",
       " 'Vanuatu',\n",
       " 'Venezuela (Bolivarian Republic of)',\n",
       " 'Viet Nam',\n",
       " 'Wallis and Futuna Islands',\n",
       " 'Yemen',\n",
       " 'Zambia',\n",
       " 'Zimbabwe'}"
      ]
     },
     "execution_count": 53,
     "metadata": {},
     "output_type": "execute_result"
    }
   ],
   "source": [
    "countries_2012 = set(df_2012['Recipient Country'].unique())\n",
    "countries_2012"
   ]
  },
  {
   "cell_type": "code",
   "execution_count": 54,
   "metadata": {},
   "outputs": [
    {
     "data": {
      "text/plain": [
       "{'Afghanistan',\n",
       " 'Albania',\n",
       " 'Algeria',\n",
       " 'Angola',\n",
       " 'Argentina',\n",
       " 'Armenia',\n",
       " 'Azerbaijan',\n",
       " 'Bangladesh',\n",
       " 'Belarus',\n",
       " 'Belize',\n",
       " 'Benin',\n",
       " 'Bhutan',\n",
       " 'Bolivia (Plurinational State of)',\n",
       " 'Bosnia and Herzegovina',\n",
       " 'Botswana',\n",
       " 'Brazil',\n",
       " 'Burkina Faso',\n",
       " 'Burundi',\n",
       " 'Cabo Verde',\n",
       " 'Cambodia',\n",
       " 'Cameroon',\n",
       " 'Central African Republic',\n",
       " 'Chad',\n",
       " 'China, mainland',\n",
       " 'Colombia',\n",
       " 'Comoros',\n",
       " 'Congo',\n",
       " 'Costa Rica',\n",
       " 'Cuba',\n",
       " \"Côte d'Ivoire\",\n",
       " \"Democratic People's Republic of Korea\",\n",
       " 'Democratic Republic of the Congo',\n",
       " 'Djibouti',\n",
       " 'Dominica',\n",
       " 'Dominican Republic',\n",
       " 'Ecuador',\n",
       " 'Egypt',\n",
       " 'El Salvador',\n",
       " 'Equatorial Guinea',\n",
       " 'Eritrea',\n",
       " 'Eswatini',\n",
       " 'Ethiopia',\n",
       " 'Fiji',\n",
       " 'Gabon',\n",
       " 'Gambia',\n",
       " 'Georgia',\n",
       " 'Ghana',\n",
       " 'Grenada',\n",
       " 'Guatemala',\n",
       " 'Guinea',\n",
       " 'Guinea-Bissau',\n",
       " 'Guyana',\n",
       " 'Haiti',\n",
       " 'Honduras',\n",
       " 'India',\n",
       " 'Indonesia',\n",
       " 'Iran (Islamic Republic of)',\n",
       " 'Iraq',\n",
       " 'Jamaica',\n",
       " 'Jordan',\n",
       " 'Kazakhstan',\n",
       " 'Kenya',\n",
       " 'Kiribati',\n",
       " 'Kyrgyzstan',\n",
       " \"Lao People's Democratic Republic\",\n",
       " 'Lebanon',\n",
       " 'Lesotho',\n",
       " 'Liberia',\n",
       " 'Libya',\n",
       " 'Madagascar',\n",
       " 'Malawi',\n",
       " 'Malaysia',\n",
       " 'Maldives',\n",
       " 'Mali',\n",
       " 'Marshall Islands',\n",
       " 'Mauritania',\n",
       " 'Mauritius',\n",
       " 'Mexico',\n",
       " 'Micronesia (Federated States of)',\n",
       " 'Mongolia',\n",
       " 'Montenegro',\n",
       " 'Montserrat',\n",
       " 'Morocco',\n",
       " 'Mozambique',\n",
       " 'Myanmar',\n",
       " 'Namibia',\n",
       " 'Nauru',\n",
       " 'Nepal',\n",
       " 'Nicaragua',\n",
       " 'Niger',\n",
       " 'Nigeria',\n",
       " 'Niue',\n",
       " 'North Macedonia',\n",
       " 'Pakistan',\n",
       " 'Palau',\n",
       " 'Palestine',\n",
       " 'Panama',\n",
       " 'Papua New Guinea',\n",
       " 'Paraguay',\n",
       " 'Peru',\n",
       " 'Philippines',\n",
       " 'Republic of Moldova',\n",
       " 'Rwanda',\n",
       " 'Saint Helena, Ascension and Tristan da Cunha',\n",
       " 'Saint Lucia',\n",
       " 'Saint Vincent and the Grenadines',\n",
       " 'Samoa',\n",
       " 'Sao Tome and Principe',\n",
       " 'Senegal',\n",
       " 'Serbia',\n",
       " 'Sierra Leone',\n",
       " 'Solomon Islands',\n",
       " 'Somalia',\n",
       " 'South Africa',\n",
       " 'South Sudan',\n",
       " 'Sri Lanka',\n",
       " 'Sudan',\n",
       " 'Suriname',\n",
       " 'Syrian Arab Republic',\n",
       " 'Tajikistan',\n",
       " 'Thailand',\n",
       " 'Timor-Leste',\n",
       " 'Togo',\n",
       " 'Tokelau',\n",
       " 'Tonga',\n",
       " 'Tunisia',\n",
       " 'Turkmenistan',\n",
       " 'Tuvalu',\n",
       " 'Türkiye',\n",
       " 'Uganda',\n",
       " 'Ukraine',\n",
       " 'United Republic of Tanzania',\n",
       " 'Uzbekistan',\n",
       " 'Vanuatu',\n",
       " 'Venezuela (Bolivarian Republic of)',\n",
       " 'Viet Nam',\n",
       " 'Wallis and Futuna Islands',\n",
       " 'Yemen',\n",
       " 'Zambia',\n",
       " 'Zimbabwe'}"
      ]
     },
     "execution_count": 54,
     "metadata": {},
     "output_type": "execute_result"
    }
   ],
   "source": [
    "countries_2022 = set(df_2022['Recipient Country'].unique())\n",
    "countries_2022"
   ]
  },
  {
   "cell_type": "code",
   "execution_count": 55,
   "metadata": {},
   "outputs": [],
   "source": [
    "missing_in_2012 = countries_2022 - countries_2012\n",
    "missing_in_2022 = countries_2012 - countries_2022"
   ]
  },
  {
   "cell_type": "code",
   "execution_count": 56,
   "metadata": {},
   "outputs": [
    {
     "name": "stdout",
     "output_type": "stream",
     "text": [
      "Countries in 2022 but not in 2012: set()\n",
      "Countries in 2012 but not in 2022: {'Anguilla', 'Antigua and Barbuda', 'Seychelles', 'Cook Islands', 'Saint Kitts and Nevis', 'Uruguay', 'Chile'}\n"
     ]
    }
   ],
   "source": [
    "print(\"Countries in 2022 but not in 2012:\", missing_in_2012)\n",
    "print(\"Countries in 2012 but not in 2022:\", missing_in_2022)"
   ]
  },
  {
   "cell_type": "code",
   "execution_count": 57,
   "metadata": {},
   "outputs": [
    {
     "data": {
      "text/plain": [
       "{'Afghanistan',\n",
       " 'Albania',\n",
       " 'Algeria',\n",
       " 'Angola',\n",
       " 'Argentina',\n",
       " 'Armenia',\n",
       " 'Azerbaijan',\n",
       " 'Bangladesh',\n",
       " 'Belarus',\n",
       " 'Belize',\n",
       " 'Benin',\n",
       " 'Bhutan',\n",
       " 'Bolivia (Plurinational State of)',\n",
       " 'Bosnia and Herzegovina',\n",
       " 'Botswana',\n",
       " 'Brazil',\n",
       " 'Burkina Faso',\n",
       " 'Burundi',\n",
       " 'Cabo Verde',\n",
       " 'Cambodia',\n",
       " 'Cameroon',\n",
       " 'Central African Republic',\n",
       " 'Chad',\n",
       " 'China, mainland',\n",
       " 'Colombia',\n",
       " 'Comoros',\n",
       " 'Congo',\n",
       " 'Costa Rica',\n",
       " 'Cuba',\n",
       " \"Côte d'Ivoire\",\n",
       " \"Democratic People's Republic of Korea\",\n",
       " 'Democratic Republic of the Congo',\n",
       " 'Djibouti',\n",
       " 'Dominica',\n",
       " 'Dominican Republic',\n",
       " 'Ecuador',\n",
       " 'Egypt',\n",
       " 'El Salvador',\n",
       " 'Equatorial Guinea',\n",
       " 'Eritrea',\n",
       " 'Eswatini',\n",
       " 'Ethiopia',\n",
       " 'Fiji',\n",
       " 'Gabon',\n",
       " 'Gambia',\n",
       " 'Georgia',\n",
       " 'Ghana',\n",
       " 'Grenada',\n",
       " 'Guatemala',\n",
       " 'Guinea',\n",
       " 'Guinea-Bissau',\n",
       " 'Guyana',\n",
       " 'Haiti',\n",
       " 'Honduras',\n",
       " 'India',\n",
       " 'Indonesia',\n",
       " 'Iran (Islamic Republic of)',\n",
       " 'Iraq',\n",
       " 'Jamaica',\n",
       " 'Jordan',\n",
       " 'Kazakhstan',\n",
       " 'Kenya',\n",
       " 'Kiribati',\n",
       " 'Kyrgyzstan',\n",
       " \"Lao People's Democratic Republic\",\n",
       " 'Lebanon',\n",
       " 'Lesotho',\n",
       " 'Liberia',\n",
       " 'Libya',\n",
       " 'Madagascar',\n",
       " 'Malawi',\n",
       " 'Malaysia',\n",
       " 'Maldives',\n",
       " 'Mali',\n",
       " 'Marshall Islands',\n",
       " 'Mauritania',\n",
       " 'Mauritius',\n",
       " 'Mexico',\n",
       " 'Micronesia (Federated States of)',\n",
       " 'Mongolia',\n",
       " 'Montenegro',\n",
       " 'Montserrat',\n",
       " 'Morocco',\n",
       " 'Mozambique',\n",
       " 'Myanmar',\n",
       " 'Namibia',\n",
       " 'Nauru',\n",
       " 'Nepal',\n",
       " 'Nicaragua',\n",
       " 'Niger',\n",
       " 'Nigeria',\n",
       " 'Niue',\n",
       " 'North Macedonia',\n",
       " 'Pakistan',\n",
       " 'Palau',\n",
       " 'Palestine',\n",
       " 'Panama',\n",
       " 'Papua New Guinea',\n",
       " 'Paraguay',\n",
       " 'Peru',\n",
       " 'Philippines',\n",
       " 'Republic of Moldova',\n",
       " 'Rwanda',\n",
       " 'Saint Helena, Ascension and Tristan da Cunha',\n",
       " 'Saint Lucia',\n",
       " 'Saint Vincent and the Grenadines',\n",
       " 'Samoa',\n",
       " 'Sao Tome and Principe',\n",
       " 'Senegal',\n",
       " 'Serbia',\n",
       " 'Sierra Leone',\n",
       " 'Solomon Islands',\n",
       " 'Somalia',\n",
       " 'South Africa',\n",
       " 'South Sudan',\n",
       " 'Sri Lanka',\n",
       " 'Sudan',\n",
       " 'Suriname',\n",
       " 'Syrian Arab Republic',\n",
       " 'Tajikistan',\n",
       " 'Thailand',\n",
       " 'Timor-Leste',\n",
       " 'Togo',\n",
       " 'Tokelau',\n",
       " 'Tonga',\n",
       " 'Tunisia',\n",
       " 'Turkmenistan',\n",
       " 'Tuvalu',\n",
       " 'Türkiye',\n",
       " 'Uganda',\n",
       " 'Ukraine',\n",
       " 'United Republic of Tanzania',\n",
       " 'Uzbekistan',\n",
       " 'Vanuatu',\n",
       " 'Venezuela (Bolivarian Republic of)',\n",
       " 'Viet Nam',\n",
       " 'Wallis and Futuna Islands',\n",
       " 'Yemen',\n",
       " 'Zambia',\n",
       " 'Zimbabwe'}"
      ]
     },
     "execution_count": 57,
     "metadata": {},
     "output_type": "execute_result"
    }
   ],
   "source": [
    "common_countries = countries_2012 & countries_2022\n",
    "common_countries"
   ]
  },
  {
   "cell_type": "code",
   "execution_count": 58,
   "metadata": {},
   "outputs": [],
   "source": [
    "df_2012_aligned = df_2012[df_2012['Recipient Country'].isin(common_countries)]\n",
    "df_2022_aligned = df_2022[df_2022['Recipient Country'].isin(common_countries)]"
   ]
  },
  {
   "cell_type": "code",
   "execution_count": 59,
   "metadata": {},
   "outputs": [
    {
     "data": {
      "text/html": [
       "<div>\n",
       "<style scoped>\n",
       "    .dataframe tbody tr th:only-of-type {\n",
       "        vertical-align: middle;\n",
       "    }\n",
       "\n",
       "    .dataframe tbody tr th {\n",
       "        vertical-align: top;\n",
       "    }\n",
       "\n",
       "    .dataframe thead th {\n",
       "        text-align: right;\n",
       "    }\n",
       "</style>\n",
       "<table border=\"1\" class=\"dataframe\">\n",
       "  <thead>\n",
       "    <tr style=\"text-align: right;\">\n",
       "      <th></th>\n",
       "      <th>Domain Code</th>\n",
       "      <th>Domain</th>\n",
       "      <th>Recipient Country Code (M49)</th>\n",
       "      <th>Recipient Country</th>\n",
       "      <th>Donor Code (M49)</th>\n",
       "      <th>Donor</th>\n",
       "      <th>Element Code</th>\n",
       "      <th>Element</th>\n",
       "      <th>Item Code</th>\n",
       "      <th>Item</th>\n",
       "      <th>Purpose Code</th>\n",
       "      <th>Purpose</th>\n",
       "      <th>Year Code</th>\n",
       "      <th>Year</th>\n",
       "      <th>Unit</th>\n",
       "      <th>Value</th>\n",
       "      <th>Flag</th>\n",
       "      <th>Flag Description</th>\n",
       "      <th>Note</th>\n",
       "    </tr>\n",
       "  </thead>\n",
       "  <tbody>\n",
       "    <tr>\n",
       "      <th>0</th>\n",
       "      <td>EA</td>\n",
       "      <td>Development Flows to Agriculture</td>\n",
       "      <td>4</td>\n",
       "      <td>Afghanistan</td>\n",
       "      <td>F702</td>\n",
       "      <td>All Donors</td>\n",
       "      <td>6110</td>\n",
       "      <td>Value US$</td>\n",
       "      <td>22040</td>\n",
       "      <td>Commitment</td>\n",
       "      <td>10000</td>\n",
       "      <td>All CRS purposes</td>\n",
       "      <td>2012</td>\n",
       "      <td>2012</td>\n",
       "      <td>million USD</td>\n",
       "      <td>5681.719588</td>\n",
       "      <td>X</td>\n",
       "      <td>Figure from international organizations</td>\n",
       "      <td>NaN</td>\n",
       "    </tr>\n",
       "    <tr>\n",
       "      <th>2</th>\n",
       "      <td>EA</td>\n",
       "      <td>Development Flows to Agriculture</td>\n",
       "      <td>4</td>\n",
       "      <td>Afghanistan</td>\n",
       "      <td>F702</td>\n",
       "      <td>All Donors</td>\n",
       "      <td>6110</td>\n",
       "      <td>Value US$</td>\n",
       "      <td>22050</td>\n",
       "      <td>Disbursement</td>\n",
       "      <td>10000</td>\n",
       "      <td>All CRS purposes</td>\n",
       "      <td>2012</td>\n",
       "      <td>2012</td>\n",
       "      <td>million USD</td>\n",
       "      <td>6569.616907</td>\n",
       "      <td>X</td>\n",
       "      <td>Figure from international organizations</td>\n",
       "      <td>NaN</td>\n",
       "    </tr>\n",
       "    <tr>\n",
       "      <th>4</th>\n",
       "      <td>EA</td>\n",
       "      <td>Development Flows to Agriculture</td>\n",
       "      <td>8</td>\n",
       "      <td>Albania</td>\n",
       "      <td>F702</td>\n",
       "      <td>All Donors</td>\n",
       "      <td>6110</td>\n",
       "      <td>Value US$</td>\n",
       "      <td>22040</td>\n",
       "      <td>Commitment</td>\n",
       "      <td>10000</td>\n",
       "      <td>All CRS purposes</td>\n",
       "      <td>2012</td>\n",
       "      <td>2012</td>\n",
       "      <td>million USD</td>\n",
       "      <td>487.824488</td>\n",
       "      <td>X</td>\n",
       "      <td>Figure from international organizations</td>\n",
       "      <td>NaN</td>\n",
       "    </tr>\n",
       "    <tr>\n",
       "      <th>6</th>\n",
       "      <td>EA</td>\n",
       "      <td>Development Flows to Agriculture</td>\n",
       "      <td>8</td>\n",
       "      <td>Albania</td>\n",
       "      <td>F702</td>\n",
       "      <td>All Donors</td>\n",
       "      <td>6110</td>\n",
       "      <td>Value US$</td>\n",
       "      <td>22050</td>\n",
       "      <td>Disbursement</td>\n",
       "      <td>10000</td>\n",
       "      <td>All CRS purposes</td>\n",
       "      <td>2012</td>\n",
       "      <td>2012</td>\n",
       "      <td>million USD</td>\n",
       "      <td>591.469527</td>\n",
       "      <td>X</td>\n",
       "      <td>Figure from international organizations</td>\n",
       "      <td>NaN</td>\n",
       "    </tr>\n",
       "    <tr>\n",
       "      <th>8</th>\n",
       "      <td>EA</td>\n",
       "      <td>Development Flows to Agriculture</td>\n",
       "      <td>12</td>\n",
       "      <td>Algeria</td>\n",
       "      <td>F702</td>\n",
       "      <td>All Donors</td>\n",
       "      <td>6110</td>\n",
       "      <td>Value US$</td>\n",
       "      <td>22040</td>\n",
       "      <td>Commitment</td>\n",
       "      <td>10000</td>\n",
       "      <td>All CRS purposes</td>\n",
       "      <td>2012</td>\n",
       "      <td>2012</td>\n",
       "      <td>million USD</td>\n",
       "      <td>297.038708</td>\n",
       "      <td>X</td>\n",
       "      <td>Figure from international organizations</td>\n",
       "      <td>NaN</td>\n",
       "    </tr>\n",
       "    <tr>\n",
       "      <th>...</th>\n",
       "      <td>...</td>\n",
       "      <td>...</td>\n",
       "      <td>...</td>\n",
       "      <td>...</td>\n",
       "      <td>...</td>\n",
       "      <td>...</td>\n",
       "      <td>...</td>\n",
       "      <td>...</td>\n",
       "      <td>...</td>\n",
       "      <td>...</td>\n",
       "      <td>...</td>\n",
       "      <td>...</td>\n",
       "      <td>...</td>\n",
       "      <td>...</td>\n",
       "      <td>...</td>\n",
       "      <td>...</td>\n",
       "      <td>...</td>\n",
       "      <td>...</td>\n",
       "      <td>...</td>\n",
       "    </tr>\n",
       "    <tr>\n",
       "      <th>564</th>\n",
       "      <td>EA</td>\n",
       "      <td>Development Flows to Agriculture</td>\n",
       "      <td>887</td>\n",
       "      <td>Yemen</td>\n",
       "      <td>F702</td>\n",
       "      <td>All Donors</td>\n",
       "      <td>6110</td>\n",
       "      <td>Value US$</td>\n",
       "      <td>22050</td>\n",
       "      <td>Disbursement</td>\n",
       "      <td>10000</td>\n",
       "      <td>All CRS purposes</td>\n",
       "      <td>2012</td>\n",
       "      <td>2012</td>\n",
       "      <td>million USD</td>\n",
       "      <td>823.007436</td>\n",
       "      <td>X</td>\n",
       "      <td>Figure from international organizations</td>\n",
       "      <td>NaN</td>\n",
       "    </tr>\n",
       "    <tr>\n",
       "      <th>566</th>\n",
       "      <td>EA</td>\n",
       "      <td>Development Flows to Agriculture</td>\n",
       "      <td>894</td>\n",
       "      <td>Zambia</td>\n",
       "      <td>F702</td>\n",
       "      <td>All Donors</td>\n",
       "      <td>6110</td>\n",
       "      <td>Value US$</td>\n",
       "      <td>22040</td>\n",
       "      <td>Commitment</td>\n",
       "      <td>10000</td>\n",
       "      <td>All CRS purposes</td>\n",
       "      <td>2012</td>\n",
       "      <td>2012</td>\n",
       "      <td>million USD</td>\n",
       "      <td>1262.443168</td>\n",
       "      <td>X</td>\n",
       "      <td>Figure from international organizations</td>\n",
       "      <td>NaN</td>\n",
       "    </tr>\n",
       "    <tr>\n",
       "      <th>568</th>\n",
       "      <td>EA</td>\n",
       "      <td>Development Flows to Agriculture</td>\n",
       "      <td>894</td>\n",
       "      <td>Zambia</td>\n",
       "      <td>F702</td>\n",
       "      <td>All Donors</td>\n",
       "      <td>6110</td>\n",
       "      <td>Value US$</td>\n",
       "      <td>22050</td>\n",
       "      <td>Disbursement</td>\n",
       "      <td>10000</td>\n",
       "      <td>All CRS purposes</td>\n",
       "      <td>2012</td>\n",
       "      <td>2012</td>\n",
       "      <td>million USD</td>\n",
       "      <td>1031.993530</td>\n",
       "      <td>X</td>\n",
       "      <td>Figure from international organizations</td>\n",
       "      <td>NaN</td>\n",
       "    </tr>\n",
       "    <tr>\n",
       "      <th>570</th>\n",
       "      <td>EA</td>\n",
       "      <td>Development Flows to Agriculture</td>\n",
       "      <td>716</td>\n",
       "      <td>Zimbabwe</td>\n",
       "      <td>F702</td>\n",
       "      <td>All Donors</td>\n",
       "      <td>6110</td>\n",
       "      <td>Value US$</td>\n",
       "      <td>22040</td>\n",
       "      <td>Commitment</td>\n",
       "      <td>10000</td>\n",
       "      <td>All CRS purposes</td>\n",
       "      <td>2012</td>\n",
       "      <td>2012</td>\n",
       "      <td>million USD</td>\n",
       "      <td>983.992142</td>\n",
       "      <td>X</td>\n",
       "      <td>Figure from international organizations</td>\n",
       "      <td>NaN</td>\n",
       "    </tr>\n",
       "    <tr>\n",
       "      <th>572</th>\n",
       "      <td>EA</td>\n",
       "      <td>Development Flows to Agriculture</td>\n",
       "      <td>716</td>\n",
       "      <td>Zimbabwe</td>\n",
       "      <td>F702</td>\n",
       "      <td>All Donors</td>\n",
       "      <td>6110</td>\n",
       "      <td>Value US$</td>\n",
       "      <td>22050</td>\n",
       "      <td>Disbursement</td>\n",
       "      <td>10000</td>\n",
       "      <td>All CRS purposes</td>\n",
       "      <td>2012</td>\n",
       "      <td>2012</td>\n",
       "      <td>million USD</td>\n",
       "      <td>1016.900772</td>\n",
       "      <td>X</td>\n",
       "      <td>Figure from international organizations</td>\n",
       "      <td>NaN</td>\n",
       "    </tr>\n",
       "  </tbody>\n",
       "</table>\n",
       "<p>280 rows × 19 columns</p>\n",
       "</div>"
      ],
      "text/plain": [
       "    Domain Code                            Domain  \\\n",
       "0            EA  Development Flows to Agriculture   \n",
       "2            EA  Development Flows to Agriculture   \n",
       "4            EA  Development Flows to Agriculture   \n",
       "6            EA  Development Flows to Agriculture   \n",
       "8            EA  Development Flows to Agriculture   \n",
       "..          ...                               ...   \n",
       "564          EA  Development Flows to Agriculture   \n",
       "566          EA  Development Flows to Agriculture   \n",
       "568          EA  Development Flows to Agriculture   \n",
       "570          EA  Development Flows to Agriculture   \n",
       "572          EA  Development Flows to Agriculture   \n",
       "\n",
       "     Recipient Country Code (M49) Recipient Country Donor Code (M49)  \\\n",
       "0                               4       Afghanistan             F702   \n",
       "2                               4       Afghanistan             F702   \n",
       "4                               8           Albania             F702   \n",
       "6                               8           Albania             F702   \n",
       "8                              12           Algeria             F702   \n",
       "..                            ...               ...              ...   \n",
       "564                           887             Yemen             F702   \n",
       "566                           894            Zambia             F702   \n",
       "568                           894            Zambia             F702   \n",
       "570                           716          Zimbabwe             F702   \n",
       "572                           716          Zimbabwe             F702   \n",
       "\n",
       "          Donor  Element Code    Element  Item Code          Item  \\\n",
       "0    All Donors          6110  Value US$      22040    Commitment   \n",
       "2    All Donors          6110  Value US$      22050  Disbursement   \n",
       "4    All Donors          6110  Value US$      22040    Commitment   \n",
       "6    All Donors          6110  Value US$      22050  Disbursement   \n",
       "8    All Donors          6110  Value US$      22040    Commitment   \n",
       "..          ...           ...        ...        ...           ...   \n",
       "564  All Donors          6110  Value US$      22050  Disbursement   \n",
       "566  All Donors          6110  Value US$      22040    Commitment   \n",
       "568  All Donors          6110  Value US$      22050  Disbursement   \n",
       "570  All Donors          6110  Value US$      22040    Commitment   \n",
       "572  All Donors          6110  Value US$      22050  Disbursement   \n",
       "\n",
       "     Purpose Code           Purpose  Year Code  Year         Unit  \\\n",
       "0           10000  All CRS purposes       2012  2012  million USD   \n",
       "2           10000  All CRS purposes       2012  2012  million USD   \n",
       "4           10000  All CRS purposes       2012  2012  million USD   \n",
       "6           10000  All CRS purposes       2012  2012  million USD   \n",
       "8           10000  All CRS purposes       2012  2012  million USD   \n",
       "..            ...               ...        ...   ...          ...   \n",
       "564         10000  All CRS purposes       2012  2012  million USD   \n",
       "566         10000  All CRS purposes       2012  2012  million USD   \n",
       "568         10000  All CRS purposes       2012  2012  million USD   \n",
       "570         10000  All CRS purposes       2012  2012  million USD   \n",
       "572         10000  All CRS purposes       2012  2012  million USD   \n",
       "\n",
       "           Value Flag                         Flag Description  Note  \n",
       "0    5681.719588    X  Figure from international organizations   NaN  \n",
       "2    6569.616907    X  Figure from international organizations   NaN  \n",
       "4     487.824488    X  Figure from international organizations   NaN  \n",
       "6     591.469527    X  Figure from international organizations   NaN  \n",
       "8     297.038708    X  Figure from international organizations   NaN  \n",
       "..           ...  ...                                      ...   ...  \n",
       "564   823.007436    X  Figure from international organizations   NaN  \n",
       "566  1262.443168    X  Figure from international organizations   NaN  \n",
       "568  1031.993530    X  Figure from international organizations   NaN  \n",
       "570   983.992142    X  Figure from international organizations   NaN  \n",
       "572  1016.900772    X  Figure from international organizations   NaN  \n",
       "\n",
       "[280 rows x 19 columns]"
      ]
     },
     "execution_count": 59,
     "metadata": {},
     "output_type": "execute_result"
    }
   ],
   "source": [
    "df_2012_aligned"
   ]
  },
  {
   "cell_type": "code",
   "execution_count": 60,
   "metadata": {},
   "outputs": [
    {
     "data": {
      "text/html": [
       "<div>\n",
       "<style scoped>\n",
       "    .dataframe tbody tr th:only-of-type {\n",
       "        vertical-align: middle;\n",
       "    }\n",
       "\n",
       "    .dataframe tbody tr th {\n",
       "        vertical-align: top;\n",
       "    }\n",
       "\n",
       "    .dataframe thead th {\n",
       "        text-align: right;\n",
       "    }\n",
       "</style>\n",
       "<table border=\"1\" class=\"dataframe\">\n",
       "  <thead>\n",
       "    <tr style=\"text-align: right;\">\n",
       "      <th></th>\n",
       "      <th>Domain Code</th>\n",
       "      <th>Domain</th>\n",
       "      <th>Recipient Country Code (M49)</th>\n",
       "      <th>Recipient Country</th>\n",
       "      <th>Donor Code (M49)</th>\n",
       "      <th>Donor</th>\n",
       "      <th>Element Code</th>\n",
       "      <th>Element</th>\n",
       "      <th>Item Code</th>\n",
       "      <th>Item</th>\n",
       "      <th>Purpose Code</th>\n",
       "      <th>Purpose</th>\n",
       "      <th>Year Code</th>\n",
       "      <th>Year</th>\n",
       "      <th>Unit</th>\n",
       "      <th>Value</th>\n",
       "      <th>Flag</th>\n",
       "      <th>Flag Description</th>\n",
       "      <th>Note</th>\n",
       "    </tr>\n",
       "  </thead>\n",
       "  <tbody>\n",
       "    <tr>\n",
       "      <th>1</th>\n",
       "      <td>EA</td>\n",
       "      <td>Development Flows to Agriculture</td>\n",
       "      <td>4</td>\n",
       "      <td>Afghanistan</td>\n",
       "      <td>F702</td>\n",
       "      <td>All Donors</td>\n",
       "      <td>6110</td>\n",
       "      <td>Value US$</td>\n",
       "      <td>22040</td>\n",
       "      <td>Commitment</td>\n",
       "      <td>10000</td>\n",
       "      <td>All CRS purposes</td>\n",
       "      <td>2022</td>\n",
       "      <td>2022</td>\n",
       "      <td>million USD</td>\n",
       "      <td>3717.146664</td>\n",
       "      <td>X</td>\n",
       "      <td>Figure from international organizations</td>\n",
       "      <td>NaN</td>\n",
       "    </tr>\n",
       "    <tr>\n",
       "      <th>3</th>\n",
       "      <td>EA</td>\n",
       "      <td>Development Flows to Agriculture</td>\n",
       "      <td>4</td>\n",
       "      <td>Afghanistan</td>\n",
       "      <td>F702</td>\n",
       "      <td>All Donors</td>\n",
       "      <td>6110</td>\n",
       "      <td>Value US$</td>\n",
       "      <td>22050</td>\n",
       "      <td>Disbursement</td>\n",
       "      <td>10000</td>\n",
       "      <td>All CRS purposes</td>\n",
       "      <td>2022</td>\n",
       "      <td>2022</td>\n",
       "      <td>million USD</td>\n",
       "      <td>4025.129731</td>\n",
       "      <td>X</td>\n",
       "      <td>Figure from international organizations</td>\n",
       "      <td>NaN</td>\n",
       "    </tr>\n",
       "    <tr>\n",
       "      <th>5</th>\n",
       "      <td>EA</td>\n",
       "      <td>Development Flows to Agriculture</td>\n",
       "      <td>8</td>\n",
       "      <td>Albania</td>\n",
       "      <td>F702</td>\n",
       "      <td>All Donors</td>\n",
       "      <td>6110</td>\n",
       "      <td>Value US$</td>\n",
       "      <td>22040</td>\n",
       "      <td>Commitment</td>\n",
       "      <td>10000</td>\n",
       "      <td>All CRS purposes</td>\n",
       "      <td>2022</td>\n",
       "      <td>2022</td>\n",
       "      <td>million USD</td>\n",
       "      <td>781.978768</td>\n",
       "      <td>X</td>\n",
       "      <td>Figure from international organizations</td>\n",
       "      <td>NaN</td>\n",
       "    </tr>\n",
       "    <tr>\n",
       "      <th>7</th>\n",
       "      <td>EA</td>\n",
       "      <td>Development Flows to Agriculture</td>\n",
       "      <td>8</td>\n",
       "      <td>Albania</td>\n",
       "      <td>F702</td>\n",
       "      <td>All Donors</td>\n",
       "      <td>6110</td>\n",
       "      <td>Value US$</td>\n",
       "      <td>22050</td>\n",
       "      <td>Disbursement</td>\n",
       "      <td>10000</td>\n",
       "      <td>All CRS purposes</td>\n",
       "      <td>2022</td>\n",
       "      <td>2022</td>\n",
       "      <td>million USD</td>\n",
       "      <td>707.125273</td>\n",
       "      <td>X</td>\n",
       "      <td>Figure from international organizations</td>\n",
       "      <td>NaN</td>\n",
       "    </tr>\n",
       "    <tr>\n",
       "      <th>9</th>\n",
       "      <td>EA</td>\n",
       "      <td>Development Flows to Agriculture</td>\n",
       "      <td>12</td>\n",
       "      <td>Algeria</td>\n",
       "      <td>F702</td>\n",
       "      <td>All Donors</td>\n",
       "      <td>6110</td>\n",
       "      <td>Value US$</td>\n",
       "      <td>22040</td>\n",
       "      <td>Commitment</td>\n",
       "      <td>10000</td>\n",
       "      <td>All CRS purposes</td>\n",
       "      <td>2022</td>\n",
       "      <td>2022</td>\n",
       "      <td>million USD</td>\n",
       "      <td>275.202417</td>\n",
       "      <td>X</td>\n",
       "      <td>Figure from international organizations</td>\n",
       "      <td>NaN</td>\n",
       "    </tr>\n",
       "    <tr>\n",
       "      <th>...</th>\n",
       "      <td>...</td>\n",
       "      <td>...</td>\n",
       "      <td>...</td>\n",
       "      <td>...</td>\n",
       "      <td>...</td>\n",
       "      <td>...</td>\n",
       "      <td>...</td>\n",
       "      <td>...</td>\n",
       "      <td>...</td>\n",
       "      <td>...</td>\n",
       "      <td>...</td>\n",
       "      <td>...</td>\n",
       "      <td>...</td>\n",
       "      <td>...</td>\n",
       "      <td>...</td>\n",
       "      <td>...</td>\n",
       "      <td>...</td>\n",
       "      <td>...</td>\n",
       "      <td>...</td>\n",
       "    </tr>\n",
       "    <tr>\n",
       "      <th>565</th>\n",
       "      <td>EA</td>\n",
       "      <td>Development Flows to Agriculture</td>\n",
       "      <td>887</td>\n",
       "      <td>Yemen</td>\n",
       "      <td>F702</td>\n",
       "      <td>All Donors</td>\n",
       "      <td>6110</td>\n",
       "      <td>Value US$</td>\n",
       "      <td>22050</td>\n",
       "      <td>Disbursement</td>\n",
       "      <td>10000</td>\n",
       "      <td>All CRS purposes</td>\n",
       "      <td>2022</td>\n",
       "      <td>2022</td>\n",
       "      <td>million USD</td>\n",
       "      <td>3751.594270</td>\n",
       "      <td>X</td>\n",
       "      <td>Figure from international organizations</td>\n",
       "      <td>NaN</td>\n",
       "    </tr>\n",
       "    <tr>\n",
       "      <th>567</th>\n",
       "      <td>EA</td>\n",
       "      <td>Development Flows to Agriculture</td>\n",
       "      <td>894</td>\n",
       "      <td>Zambia</td>\n",
       "      <td>F702</td>\n",
       "      <td>All Donors</td>\n",
       "      <td>6110</td>\n",
       "      <td>Value US$</td>\n",
       "      <td>22040</td>\n",
       "      <td>Commitment</td>\n",
       "      <td>10000</td>\n",
       "      <td>All CRS purposes</td>\n",
       "      <td>2022</td>\n",
       "      <td>2022</td>\n",
       "      <td>million USD</td>\n",
       "      <td>2167.128280</td>\n",
       "      <td>X</td>\n",
       "      <td>Figure from international organizations</td>\n",
       "      <td>NaN</td>\n",
       "    </tr>\n",
       "    <tr>\n",
       "      <th>569</th>\n",
       "      <td>EA</td>\n",
       "      <td>Development Flows to Agriculture</td>\n",
       "      <td>894</td>\n",
       "      <td>Zambia</td>\n",
       "      <td>F702</td>\n",
       "      <td>All Donors</td>\n",
       "      <td>6110</td>\n",
       "      <td>Value US$</td>\n",
       "      <td>22050</td>\n",
       "      <td>Disbursement</td>\n",
       "      <td>10000</td>\n",
       "      <td>All CRS purposes</td>\n",
       "      <td>2022</td>\n",
       "      <td>2022</td>\n",
       "      <td>million USD</td>\n",
       "      <td>2037.636640</td>\n",
       "      <td>X</td>\n",
       "      <td>Figure from international organizations</td>\n",
       "      <td>NaN</td>\n",
       "    </tr>\n",
       "    <tr>\n",
       "      <th>571</th>\n",
       "      <td>EA</td>\n",
       "      <td>Development Flows to Agriculture</td>\n",
       "      <td>716</td>\n",
       "      <td>Zimbabwe</td>\n",
       "      <td>F702</td>\n",
       "      <td>All Donors</td>\n",
       "      <td>6110</td>\n",
       "      <td>Value US$</td>\n",
       "      <td>22040</td>\n",
       "      <td>Commitment</td>\n",
       "      <td>10000</td>\n",
       "      <td>All CRS purposes</td>\n",
       "      <td>2022</td>\n",
       "      <td>2022</td>\n",
       "      <td>million USD</td>\n",
       "      <td>967.564374</td>\n",
       "      <td>X</td>\n",
       "      <td>Figure from international organizations</td>\n",
       "      <td>NaN</td>\n",
       "    </tr>\n",
       "    <tr>\n",
       "      <th>573</th>\n",
       "      <td>EA</td>\n",
       "      <td>Development Flows to Agriculture</td>\n",
       "      <td>716</td>\n",
       "      <td>Zimbabwe</td>\n",
       "      <td>F702</td>\n",
       "      <td>All Donors</td>\n",
       "      <td>6110</td>\n",
       "      <td>Value US$</td>\n",
       "      <td>22050</td>\n",
       "      <td>Disbursement</td>\n",
       "      <td>10000</td>\n",
       "      <td>All CRS purposes</td>\n",
       "      <td>2022</td>\n",
       "      <td>2022</td>\n",
       "      <td>million USD</td>\n",
       "      <td>850.081499</td>\n",
       "      <td>X</td>\n",
       "      <td>Figure from international organizations</td>\n",
       "      <td>NaN</td>\n",
       "    </tr>\n",
       "  </tbody>\n",
       "</table>\n",
       "<p>280 rows × 19 columns</p>\n",
       "</div>"
      ],
      "text/plain": [
       "    Domain Code                            Domain  \\\n",
       "1            EA  Development Flows to Agriculture   \n",
       "3            EA  Development Flows to Agriculture   \n",
       "5            EA  Development Flows to Agriculture   \n",
       "7            EA  Development Flows to Agriculture   \n",
       "9            EA  Development Flows to Agriculture   \n",
       "..          ...                               ...   \n",
       "565          EA  Development Flows to Agriculture   \n",
       "567          EA  Development Flows to Agriculture   \n",
       "569          EA  Development Flows to Agriculture   \n",
       "571          EA  Development Flows to Agriculture   \n",
       "573          EA  Development Flows to Agriculture   \n",
       "\n",
       "     Recipient Country Code (M49) Recipient Country Donor Code (M49)  \\\n",
       "1                               4       Afghanistan             F702   \n",
       "3                               4       Afghanistan             F702   \n",
       "5                               8           Albania             F702   \n",
       "7                               8           Albania             F702   \n",
       "9                              12           Algeria             F702   \n",
       "..                            ...               ...              ...   \n",
       "565                           887             Yemen             F702   \n",
       "567                           894            Zambia             F702   \n",
       "569                           894            Zambia             F702   \n",
       "571                           716          Zimbabwe             F702   \n",
       "573                           716          Zimbabwe             F702   \n",
       "\n",
       "          Donor  Element Code    Element  Item Code          Item  \\\n",
       "1    All Donors          6110  Value US$      22040    Commitment   \n",
       "3    All Donors          6110  Value US$      22050  Disbursement   \n",
       "5    All Donors          6110  Value US$      22040    Commitment   \n",
       "7    All Donors          6110  Value US$      22050  Disbursement   \n",
       "9    All Donors          6110  Value US$      22040    Commitment   \n",
       "..          ...           ...        ...        ...           ...   \n",
       "565  All Donors          6110  Value US$      22050  Disbursement   \n",
       "567  All Donors          6110  Value US$      22040    Commitment   \n",
       "569  All Donors          6110  Value US$      22050  Disbursement   \n",
       "571  All Donors          6110  Value US$      22040    Commitment   \n",
       "573  All Donors          6110  Value US$      22050  Disbursement   \n",
       "\n",
       "     Purpose Code           Purpose  Year Code  Year         Unit  \\\n",
       "1           10000  All CRS purposes       2022  2022  million USD   \n",
       "3           10000  All CRS purposes       2022  2022  million USD   \n",
       "5           10000  All CRS purposes       2022  2022  million USD   \n",
       "7           10000  All CRS purposes       2022  2022  million USD   \n",
       "9           10000  All CRS purposes       2022  2022  million USD   \n",
       "..            ...               ...        ...   ...          ...   \n",
       "565         10000  All CRS purposes       2022  2022  million USD   \n",
       "567         10000  All CRS purposes       2022  2022  million USD   \n",
       "569         10000  All CRS purposes       2022  2022  million USD   \n",
       "571         10000  All CRS purposes       2022  2022  million USD   \n",
       "573         10000  All CRS purposes       2022  2022  million USD   \n",
       "\n",
       "           Value Flag                         Flag Description  Note  \n",
       "1    3717.146664    X  Figure from international organizations   NaN  \n",
       "3    4025.129731    X  Figure from international organizations   NaN  \n",
       "5     781.978768    X  Figure from international organizations   NaN  \n",
       "7     707.125273    X  Figure from international organizations   NaN  \n",
       "9     275.202417    X  Figure from international organizations   NaN  \n",
       "..           ...  ...                                      ...   ...  \n",
       "565  3751.594270    X  Figure from international organizations   NaN  \n",
       "567  2167.128280    X  Figure from international organizations   NaN  \n",
       "569  2037.636640    X  Figure from international organizations   NaN  \n",
       "571   967.564374    X  Figure from international organizations   NaN  \n",
       "573   850.081499    X  Figure from international organizations   NaN  \n",
       "\n",
       "[280 rows x 19 columns]"
      ]
     },
     "execution_count": 60,
     "metadata": {},
     "output_type": "execute_result"
    }
   ],
   "source": [
    "df_2022_aligned"
   ]
  },
  {
   "cell_type": "code",
   "execution_count": 61,
   "metadata": {},
   "outputs": [
    {
     "name": "stdout",
     "output_type": "stream",
     "text": [
      "Aligned 2012 dataset rows: 280\n",
      "Aligned 2022 dataset rows: 280\n"
     ]
    }
   ],
   "source": [
    "print(\"Aligned 2012 dataset rows:\", len(df_2012_aligned))\n",
    "print(\"Aligned 2022 dataset rows:\", len(df_2022_aligned))"
   ]
  },
  {
   "cell_type": "code",
   "execution_count": 62,
   "metadata": {},
   "outputs": [
    {
     "data": {
      "text/html": [
       "<div>\n",
       "<style scoped>\n",
       "    .dataframe tbody tr th:only-of-type {\n",
       "        vertical-align: middle;\n",
       "    }\n",
       "\n",
       "    .dataframe tbody tr th {\n",
       "        vertical-align: top;\n",
       "    }\n",
       "\n",
       "    .dataframe thead th {\n",
       "        text-align: right;\n",
       "    }\n",
       "</style>\n",
       "<table border=\"1\" class=\"dataframe\">\n",
       "  <thead>\n",
       "    <tr style=\"text-align: right;\">\n",
       "      <th></th>\n",
       "      <th>Recipient Country</th>\n",
       "      <th>Item_2012</th>\n",
       "      <th>Value_2012</th>\n",
       "      <th>Item_2022</th>\n",
       "      <th>Value_2022</th>\n",
       "    </tr>\n",
       "  </thead>\n",
       "  <tbody>\n",
       "    <tr>\n",
       "      <th>0</th>\n",
       "      <td>Afghanistan</td>\n",
       "      <td>Commitment</td>\n",
       "      <td>5681.719588</td>\n",
       "      <td>Commitment</td>\n",
       "      <td>3717.146664</td>\n",
       "    </tr>\n",
       "    <tr>\n",
       "      <th>1</th>\n",
       "      <td>Afghanistan</td>\n",
       "      <td>Commitment</td>\n",
       "      <td>5681.719588</td>\n",
       "      <td>Disbursement</td>\n",
       "      <td>4025.129731</td>\n",
       "    </tr>\n",
       "    <tr>\n",
       "      <th>2</th>\n",
       "      <td>Afghanistan</td>\n",
       "      <td>Disbursement</td>\n",
       "      <td>6569.616907</td>\n",
       "      <td>Commitment</td>\n",
       "      <td>3717.146664</td>\n",
       "    </tr>\n",
       "    <tr>\n",
       "      <th>3</th>\n",
       "      <td>Afghanistan</td>\n",
       "      <td>Disbursement</td>\n",
       "      <td>6569.616907</td>\n",
       "      <td>Disbursement</td>\n",
       "      <td>4025.129731</td>\n",
       "    </tr>\n",
       "    <tr>\n",
       "      <th>4</th>\n",
       "      <td>Albania</td>\n",
       "      <td>Commitment</td>\n",
       "      <td>487.824488</td>\n",
       "      <td>Commitment</td>\n",
       "      <td>781.978768</td>\n",
       "    </tr>\n",
       "    <tr>\n",
       "      <th>...</th>\n",
       "      <td>...</td>\n",
       "      <td>...</td>\n",
       "      <td>...</td>\n",
       "      <td>...</td>\n",
       "      <td>...</td>\n",
       "    </tr>\n",
       "    <tr>\n",
       "      <th>555</th>\n",
       "      <td>Zambia</td>\n",
       "      <td>Disbursement</td>\n",
       "      <td>1031.993530</td>\n",
       "      <td>Disbursement</td>\n",
       "      <td>2037.636640</td>\n",
       "    </tr>\n",
       "    <tr>\n",
       "      <th>556</th>\n",
       "      <td>Zimbabwe</td>\n",
       "      <td>Commitment</td>\n",
       "      <td>983.992142</td>\n",
       "      <td>Commitment</td>\n",
       "      <td>967.564374</td>\n",
       "    </tr>\n",
       "    <tr>\n",
       "      <th>557</th>\n",
       "      <td>Zimbabwe</td>\n",
       "      <td>Commitment</td>\n",
       "      <td>983.992142</td>\n",
       "      <td>Disbursement</td>\n",
       "      <td>850.081499</td>\n",
       "    </tr>\n",
       "    <tr>\n",
       "      <th>558</th>\n",
       "      <td>Zimbabwe</td>\n",
       "      <td>Disbursement</td>\n",
       "      <td>1016.900772</td>\n",
       "      <td>Commitment</td>\n",
       "      <td>967.564374</td>\n",
       "    </tr>\n",
       "    <tr>\n",
       "      <th>559</th>\n",
       "      <td>Zimbabwe</td>\n",
       "      <td>Disbursement</td>\n",
       "      <td>1016.900772</td>\n",
       "      <td>Disbursement</td>\n",
       "      <td>850.081499</td>\n",
       "    </tr>\n",
       "  </tbody>\n",
       "</table>\n",
       "<p>560 rows × 5 columns</p>\n",
       "</div>"
      ],
      "text/plain": [
       "    Recipient Country     Item_2012   Value_2012     Item_2022   Value_2022\n",
       "0         Afghanistan    Commitment  5681.719588    Commitment  3717.146664\n",
       "1         Afghanistan    Commitment  5681.719588  Disbursement  4025.129731\n",
       "2         Afghanistan  Disbursement  6569.616907    Commitment  3717.146664\n",
       "3         Afghanistan  Disbursement  6569.616907  Disbursement  4025.129731\n",
       "4             Albania    Commitment   487.824488    Commitment   781.978768\n",
       "..                ...           ...          ...           ...          ...\n",
       "555            Zambia  Disbursement  1031.993530  Disbursement  2037.636640\n",
       "556          Zimbabwe    Commitment   983.992142    Commitment   967.564374\n",
       "557          Zimbabwe    Commitment   983.992142  Disbursement   850.081499\n",
       "558          Zimbabwe  Disbursement  1016.900772    Commitment   967.564374\n",
       "559          Zimbabwe  Disbursement  1016.900772  Disbursement   850.081499\n",
       "\n",
       "[560 rows x 5 columns]"
      ]
     },
     "execution_count": 62,
     "metadata": {},
     "output_type": "execute_result"
    }
   ],
   "source": [
    "df_merged = pd.merge(df_2012_aligned[['Recipient Country', 'Item', 'Value']], \n",
    "                     df_2022_aligned[['Recipient Country', 'Item', 'Value']], \n",
    "                     on='Recipient Country', \n",
    "                     suffixes=('_2012', '_2022'))\n",
    "df_merged"
   ]
  },
  {
   "cell_type": "code",
   "execution_count": 63,
   "metadata": {},
   "outputs": [],
   "source": [
    "commitments_2012 = df_2012_aligned[df_2012_aligned['Item'] == 'Commitment']\n",
    "disbursements_2012 = df_2012_aligned[df_2012_aligned['Item'] == 'Disbursement']"
   ]
  },
  {
   "cell_type": "code",
   "execution_count": 64,
   "metadata": {},
   "outputs": [],
   "source": [
    "commitments_2022 = df_2022_aligned[df_2022_aligned['Item'] == 'Commitment']\n",
    "disbursements_2022 = df_2022_aligned[df_2022_aligned['Item'] == 'Disbursement']"
   ]
  },
  {
   "cell_type": "code",
   "execution_count": 65,
   "metadata": {},
   "outputs": [
    {
     "data": {
      "text/html": [
       "<div>\n",
       "<style scoped>\n",
       "    .dataframe tbody tr th:only-of-type {\n",
       "        vertical-align: middle;\n",
       "    }\n",
       "\n",
       "    .dataframe tbody tr th {\n",
       "        vertical-align: top;\n",
       "    }\n",
       "\n",
       "    .dataframe thead th {\n",
       "        text-align: right;\n",
       "    }\n",
       "</style>\n",
       "<table border=\"1\" class=\"dataframe\">\n",
       "  <thead>\n",
       "    <tr style=\"text-align: right;\">\n",
       "      <th></th>\n",
       "      <th>Recipient Country</th>\n",
       "      <th>Value_Commitment_2012</th>\n",
       "      <th>Value_Disbursement_2012</th>\n",
       "    </tr>\n",
       "  </thead>\n",
       "  <tbody>\n",
       "    <tr>\n",
       "      <th>0</th>\n",
       "      <td>Afghanistan</td>\n",
       "      <td>5681.719588</td>\n",
       "      <td>6569.616907</td>\n",
       "    </tr>\n",
       "    <tr>\n",
       "      <th>1</th>\n",
       "      <td>Albania</td>\n",
       "      <td>487.824488</td>\n",
       "      <td>591.469527</td>\n",
       "    </tr>\n",
       "    <tr>\n",
       "      <th>2</th>\n",
       "      <td>Algeria</td>\n",
       "      <td>297.038708</td>\n",
       "      <td>254.629139</td>\n",
       "    </tr>\n",
       "    <tr>\n",
       "      <th>3</th>\n",
       "      <td>Angola</td>\n",
       "      <td>262.325060</td>\n",
       "      <td>297.225798</td>\n",
       "    </tr>\n",
       "    <tr>\n",
       "      <th>4</th>\n",
       "      <td>Argentina</td>\n",
       "      <td>1581.664267</td>\n",
       "      <td>1985.819421</td>\n",
       "    </tr>\n",
       "    <tr>\n",
       "      <th>...</th>\n",
       "      <td>...</td>\n",
       "      <td>...</td>\n",
       "      <td>...</td>\n",
       "    </tr>\n",
       "    <tr>\n",
       "      <th>135</th>\n",
       "      <td>Viet Nam</td>\n",
       "      <td>6708.903931</td>\n",
       "      <td>5753.023436</td>\n",
       "    </tr>\n",
       "    <tr>\n",
       "      <th>136</th>\n",
       "      <td>Wallis and Futuna Islands</td>\n",
       "      <td>114.218039</td>\n",
       "      <td>120.620584</td>\n",
       "    </tr>\n",
       "    <tr>\n",
       "      <th>137</th>\n",
       "      <td>Yemen</td>\n",
       "      <td>949.310140</td>\n",
       "      <td>823.007436</td>\n",
       "    </tr>\n",
       "    <tr>\n",
       "      <th>138</th>\n",
       "      <td>Zambia</td>\n",
       "      <td>1262.443168</td>\n",
       "      <td>1031.993530</td>\n",
       "    </tr>\n",
       "    <tr>\n",
       "      <th>139</th>\n",
       "      <td>Zimbabwe</td>\n",
       "      <td>983.992142</td>\n",
       "      <td>1016.900772</td>\n",
       "    </tr>\n",
       "  </tbody>\n",
       "</table>\n",
       "<p>140 rows × 3 columns</p>\n",
       "</div>"
      ],
      "text/plain": [
       "             Recipient Country  Value_Commitment_2012  Value_Disbursement_2012\n",
       "0                  Afghanistan            5681.719588              6569.616907\n",
       "1                      Albania             487.824488               591.469527\n",
       "2                      Algeria             297.038708               254.629139\n",
       "3                       Angola             262.325060               297.225798\n",
       "4                    Argentina            1581.664267              1985.819421\n",
       "..                         ...                    ...                      ...\n",
       "135                   Viet Nam            6708.903931              5753.023436\n",
       "136  Wallis and Futuna Islands             114.218039               120.620584\n",
       "137                      Yemen             949.310140               823.007436\n",
       "138                     Zambia            1262.443168              1031.993530\n",
       "139                   Zimbabwe             983.992142              1016.900772\n",
       "\n",
       "[140 rows x 3 columns]"
      ]
     },
     "execution_count": 65,
     "metadata": {},
     "output_type": "execute_result"
    }
   ],
   "source": [
    "df_merged_2012 = pd.merge(commitments_2012[['Recipient Country', 'Value']],\n",
    "                           disbursements_2012[['Recipient Country', 'Value']],\n",
    "                           on='Recipient Country', \n",
    "                           suffixes=('_Commitment_2012', '_Disbursement_2012'))\n",
    "df_merged_2012"
   ]
  },
  {
   "cell_type": "code",
   "execution_count": 66,
   "metadata": {},
   "outputs": [
    {
     "data": {
      "text/html": [
       "<div>\n",
       "<style scoped>\n",
       "    .dataframe tbody tr th:only-of-type {\n",
       "        vertical-align: middle;\n",
       "    }\n",
       "\n",
       "    .dataframe tbody tr th {\n",
       "        vertical-align: top;\n",
       "    }\n",
       "\n",
       "    .dataframe thead th {\n",
       "        text-align: right;\n",
       "    }\n",
       "</style>\n",
       "<table border=\"1\" class=\"dataframe\">\n",
       "  <thead>\n",
       "    <tr style=\"text-align: right;\">\n",
       "      <th></th>\n",
       "      <th>Recipient Country</th>\n",
       "      <th>Value_Commitment_2022</th>\n",
       "      <th>Value_Disbursement_2022</th>\n",
       "    </tr>\n",
       "  </thead>\n",
       "  <tbody>\n",
       "    <tr>\n",
       "      <th>0</th>\n",
       "      <td>Afghanistan</td>\n",
       "      <td>3717.146664</td>\n",
       "      <td>4025.129731</td>\n",
       "    </tr>\n",
       "    <tr>\n",
       "      <th>1</th>\n",
       "      <td>Albania</td>\n",
       "      <td>781.978768</td>\n",
       "      <td>707.125273</td>\n",
       "    </tr>\n",
       "    <tr>\n",
       "      <th>2</th>\n",
       "      <td>Algeria</td>\n",
       "      <td>275.202417</td>\n",
       "      <td>239.395334</td>\n",
       "    </tr>\n",
       "    <tr>\n",
       "      <th>3</th>\n",
       "      <td>Angola</td>\n",
       "      <td>1663.075858</td>\n",
       "      <td>1134.106177</td>\n",
       "    </tr>\n",
       "    <tr>\n",
       "      <th>4</th>\n",
       "      <td>Argentina</td>\n",
       "      <td>5198.639755</td>\n",
       "      <td>4683.235502</td>\n",
       "    </tr>\n",
       "    <tr>\n",
       "      <th>...</th>\n",
       "      <td>...</td>\n",
       "      <td>...</td>\n",
       "      <td>...</td>\n",
       "    </tr>\n",
       "    <tr>\n",
       "      <th>135</th>\n",
       "      <td>Viet Nam</td>\n",
       "      <td>2280.045893</td>\n",
       "      <td>3010.744508</td>\n",
       "    </tr>\n",
       "    <tr>\n",
       "      <th>136</th>\n",
       "      <td>Wallis and Futuna Islands</td>\n",
       "      <td>104.978043</td>\n",
       "      <td>107.339740</td>\n",
       "    </tr>\n",
       "    <tr>\n",
       "      <th>137</th>\n",
       "      <td>Yemen</td>\n",
       "      <td>3771.669757</td>\n",
       "      <td>3751.594270</td>\n",
       "    </tr>\n",
       "    <tr>\n",
       "      <th>138</th>\n",
       "      <td>Zambia</td>\n",
       "      <td>2167.128280</td>\n",
       "      <td>2037.636640</td>\n",
       "    </tr>\n",
       "    <tr>\n",
       "      <th>139</th>\n",
       "      <td>Zimbabwe</td>\n",
       "      <td>967.564374</td>\n",
       "      <td>850.081499</td>\n",
       "    </tr>\n",
       "  </tbody>\n",
       "</table>\n",
       "<p>140 rows × 3 columns</p>\n",
       "</div>"
      ],
      "text/plain": [
       "             Recipient Country  Value_Commitment_2022  Value_Disbursement_2022\n",
       "0                  Afghanistan            3717.146664              4025.129731\n",
       "1                      Albania             781.978768               707.125273\n",
       "2                      Algeria             275.202417               239.395334\n",
       "3                       Angola            1663.075858              1134.106177\n",
       "4                    Argentina            5198.639755              4683.235502\n",
       "..                         ...                    ...                      ...\n",
       "135                   Viet Nam            2280.045893              3010.744508\n",
       "136  Wallis and Futuna Islands             104.978043               107.339740\n",
       "137                      Yemen            3771.669757              3751.594270\n",
       "138                     Zambia            2167.128280              2037.636640\n",
       "139                   Zimbabwe             967.564374               850.081499\n",
       "\n",
       "[140 rows x 3 columns]"
      ]
     },
     "execution_count": 66,
     "metadata": {},
     "output_type": "execute_result"
    }
   ],
   "source": [
    "df_merged_2022 = pd.merge(commitments_2022[['Recipient Country', 'Value']],\n",
    "                           disbursements_2022[['Recipient Country', 'Value']],\n",
    "                           on='Recipient Country', \n",
    "                           suffixes=('_Commitment_2022', '_Disbursement_2022'))\n",
    "df_merged_2022"
   ]
  },
  {
   "cell_type": "code",
   "execution_count": 67,
   "metadata": {},
   "outputs": [
    {
     "data": {
      "text/html": [
       "<div>\n",
       "<style scoped>\n",
       "    .dataframe tbody tr th:only-of-type {\n",
       "        vertical-align: middle;\n",
       "    }\n",
       "\n",
       "    .dataframe tbody tr th {\n",
       "        vertical-align: top;\n",
       "    }\n",
       "\n",
       "    .dataframe thead th {\n",
       "        text-align: right;\n",
       "    }\n",
       "</style>\n",
       "<table border=\"1\" class=\"dataframe\">\n",
       "  <thead>\n",
       "    <tr style=\"text-align: right;\">\n",
       "      <th></th>\n",
       "      <th>Recipient Country</th>\n",
       "      <th>Value_Commitment_2012</th>\n",
       "      <th>Value_Disbursement_2012</th>\n",
       "      <th>Disbursement_vs_Commitment_2012</th>\n",
       "    </tr>\n",
       "  </thead>\n",
       "  <tbody>\n",
       "    <tr>\n",
       "      <th>0</th>\n",
       "      <td>Afghanistan</td>\n",
       "      <td>5681.719588</td>\n",
       "      <td>6569.616907</td>\n",
       "      <td>True</td>\n",
       "    </tr>\n",
       "    <tr>\n",
       "      <th>1</th>\n",
       "      <td>Albania</td>\n",
       "      <td>487.824488</td>\n",
       "      <td>591.469527</td>\n",
       "      <td>True</td>\n",
       "    </tr>\n",
       "    <tr>\n",
       "      <th>2</th>\n",
       "      <td>Algeria</td>\n",
       "      <td>297.038708</td>\n",
       "      <td>254.629139</td>\n",
       "      <td>False</td>\n",
       "    </tr>\n",
       "    <tr>\n",
       "      <th>3</th>\n",
       "      <td>Angola</td>\n",
       "      <td>262.325060</td>\n",
       "      <td>297.225798</td>\n",
       "      <td>True</td>\n",
       "    </tr>\n",
       "    <tr>\n",
       "      <th>4</th>\n",
       "      <td>Argentina</td>\n",
       "      <td>1581.664267</td>\n",
       "      <td>1985.819421</td>\n",
       "      <td>True</td>\n",
       "    </tr>\n",
       "    <tr>\n",
       "      <th>...</th>\n",
       "      <td>...</td>\n",
       "      <td>...</td>\n",
       "      <td>...</td>\n",
       "      <td>...</td>\n",
       "    </tr>\n",
       "    <tr>\n",
       "      <th>135</th>\n",
       "      <td>Viet Nam</td>\n",
       "      <td>6708.903931</td>\n",
       "      <td>5753.023436</td>\n",
       "      <td>False</td>\n",
       "    </tr>\n",
       "    <tr>\n",
       "      <th>136</th>\n",
       "      <td>Wallis and Futuna Islands</td>\n",
       "      <td>114.218039</td>\n",
       "      <td>120.620584</td>\n",
       "      <td>True</td>\n",
       "    </tr>\n",
       "    <tr>\n",
       "      <th>137</th>\n",
       "      <td>Yemen</td>\n",
       "      <td>949.310140</td>\n",
       "      <td>823.007436</td>\n",
       "      <td>False</td>\n",
       "    </tr>\n",
       "    <tr>\n",
       "      <th>138</th>\n",
       "      <td>Zambia</td>\n",
       "      <td>1262.443168</td>\n",
       "      <td>1031.993530</td>\n",
       "      <td>False</td>\n",
       "    </tr>\n",
       "    <tr>\n",
       "      <th>139</th>\n",
       "      <td>Zimbabwe</td>\n",
       "      <td>983.992142</td>\n",
       "      <td>1016.900772</td>\n",
       "      <td>True</td>\n",
       "    </tr>\n",
       "  </tbody>\n",
       "</table>\n",
       "<p>140 rows × 4 columns</p>\n",
       "</div>"
      ],
      "text/plain": [
       "             Recipient Country  Value_Commitment_2012  \\\n",
       "0                  Afghanistan            5681.719588   \n",
       "1                      Albania             487.824488   \n",
       "2                      Algeria             297.038708   \n",
       "3                       Angola             262.325060   \n",
       "4                    Argentina            1581.664267   \n",
       "..                         ...                    ...   \n",
       "135                   Viet Nam            6708.903931   \n",
       "136  Wallis and Futuna Islands             114.218039   \n",
       "137                      Yemen             949.310140   \n",
       "138                     Zambia            1262.443168   \n",
       "139                   Zimbabwe             983.992142   \n",
       "\n",
       "     Value_Disbursement_2012  Disbursement_vs_Commitment_2012  \n",
       "0                6569.616907                             True  \n",
       "1                 591.469527                             True  \n",
       "2                 254.629139                            False  \n",
       "3                 297.225798                             True  \n",
       "4                1985.819421                             True  \n",
       "..                       ...                              ...  \n",
       "135              5753.023436                            False  \n",
       "136               120.620584                             True  \n",
       "137               823.007436                            False  \n",
       "138              1031.993530                            False  \n",
       "139              1016.900772                             True  \n",
       "\n",
       "[140 rows x 4 columns]"
      ]
     },
     "execution_count": 67,
     "metadata": {},
     "output_type": "execute_result"
    }
   ],
   "source": [
    "df_merged_2012['Disbursement_vs_Commitment_2012'] = df_merged_2012['Value_Disbursement_2012'] >= df_merged_2012['Value_Commitment_2012']\n",
    "df_merged_2012"
   ]
  },
  {
   "cell_type": "code",
   "execution_count": 68,
   "metadata": {},
   "outputs": [
    {
     "data": {
      "text/html": [
       "<div>\n",
       "<style scoped>\n",
       "    .dataframe tbody tr th:only-of-type {\n",
       "        vertical-align: middle;\n",
       "    }\n",
       "\n",
       "    .dataframe tbody tr th {\n",
       "        vertical-align: top;\n",
       "    }\n",
       "\n",
       "    .dataframe thead th {\n",
       "        text-align: right;\n",
       "    }\n",
       "</style>\n",
       "<table border=\"1\" class=\"dataframe\">\n",
       "  <thead>\n",
       "    <tr style=\"text-align: right;\">\n",
       "      <th></th>\n",
       "      <th>Recipient Country</th>\n",
       "      <th>Value_Commitment_2022</th>\n",
       "      <th>Value_Disbursement_2022</th>\n",
       "      <th>Disbursement_vs_Commitment_2022</th>\n",
       "    </tr>\n",
       "  </thead>\n",
       "  <tbody>\n",
       "    <tr>\n",
       "      <th>0</th>\n",
       "      <td>Afghanistan</td>\n",
       "      <td>3717.146664</td>\n",
       "      <td>4025.129731</td>\n",
       "      <td>True</td>\n",
       "    </tr>\n",
       "    <tr>\n",
       "      <th>1</th>\n",
       "      <td>Albania</td>\n",
       "      <td>781.978768</td>\n",
       "      <td>707.125273</td>\n",
       "      <td>False</td>\n",
       "    </tr>\n",
       "    <tr>\n",
       "      <th>2</th>\n",
       "      <td>Algeria</td>\n",
       "      <td>275.202417</td>\n",
       "      <td>239.395334</td>\n",
       "      <td>False</td>\n",
       "    </tr>\n",
       "    <tr>\n",
       "      <th>3</th>\n",
       "      <td>Angola</td>\n",
       "      <td>1663.075858</td>\n",
       "      <td>1134.106177</td>\n",
       "      <td>False</td>\n",
       "    </tr>\n",
       "    <tr>\n",
       "      <th>4</th>\n",
       "      <td>Argentina</td>\n",
       "      <td>5198.639755</td>\n",
       "      <td>4683.235502</td>\n",
       "      <td>False</td>\n",
       "    </tr>\n",
       "    <tr>\n",
       "      <th>...</th>\n",
       "      <td>...</td>\n",
       "      <td>...</td>\n",
       "      <td>...</td>\n",
       "      <td>...</td>\n",
       "    </tr>\n",
       "    <tr>\n",
       "      <th>135</th>\n",
       "      <td>Viet Nam</td>\n",
       "      <td>2280.045893</td>\n",
       "      <td>3010.744508</td>\n",
       "      <td>True</td>\n",
       "    </tr>\n",
       "    <tr>\n",
       "      <th>136</th>\n",
       "      <td>Wallis and Futuna Islands</td>\n",
       "      <td>104.978043</td>\n",
       "      <td>107.339740</td>\n",
       "      <td>True</td>\n",
       "    </tr>\n",
       "    <tr>\n",
       "      <th>137</th>\n",
       "      <td>Yemen</td>\n",
       "      <td>3771.669757</td>\n",
       "      <td>3751.594270</td>\n",
       "      <td>False</td>\n",
       "    </tr>\n",
       "    <tr>\n",
       "      <th>138</th>\n",
       "      <td>Zambia</td>\n",
       "      <td>2167.128280</td>\n",
       "      <td>2037.636640</td>\n",
       "      <td>False</td>\n",
       "    </tr>\n",
       "    <tr>\n",
       "      <th>139</th>\n",
       "      <td>Zimbabwe</td>\n",
       "      <td>967.564374</td>\n",
       "      <td>850.081499</td>\n",
       "      <td>False</td>\n",
       "    </tr>\n",
       "  </tbody>\n",
       "</table>\n",
       "<p>140 rows × 4 columns</p>\n",
       "</div>"
      ],
      "text/plain": [
       "             Recipient Country  Value_Commitment_2022  \\\n",
       "0                  Afghanistan            3717.146664   \n",
       "1                      Albania             781.978768   \n",
       "2                      Algeria             275.202417   \n",
       "3                       Angola            1663.075858   \n",
       "4                    Argentina            5198.639755   \n",
       "..                         ...                    ...   \n",
       "135                   Viet Nam            2280.045893   \n",
       "136  Wallis and Futuna Islands             104.978043   \n",
       "137                      Yemen            3771.669757   \n",
       "138                     Zambia            2167.128280   \n",
       "139                   Zimbabwe             967.564374   \n",
       "\n",
       "     Value_Disbursement_2022  Disbursement_vs_Commitment_2022  \n",
       "0                4025.129731                             True  \n",
       "1                 707.125273                            False  \n",
       "2                 239.395334                            False  \n",
       "3                1134.106177                            False  \n",
       "4                4683.235502                            False  \n",
       "..                       ...                              ...  \n",
       "135              3010.744508                             True  \n",
       "136               107.339740                             True  \n",
       "137              3751.594270                            False  \n",
       "138              2037.636640                            False  \n",
       "139               850.081499                            False  \n",
       "\n",
       "[140 rows x 4 columns]"
      ]
     },
     "execution_count": 68,
     "metadata": {},
     "output_type": "execute_result"
    }
   ],
   "source": [
    "df_merged_2022['Disbursement_vs_Commitment_2022'] = df_merged_2022['Value_Disbursement_2022'] >= df_merged_2022['Value_Commitment_2022']\n",
    "df_merged_2022"
   ]
  },
  {
   "cell_type": "code",
   "execution_count": 69,
   "metadata": {},
   "outputs": [],
   "source": [
    "total_countries_2012 = len(df_merged_2012)\n",
    "total_countries_2022 = len(df_merged_2022)"
   ]
  },
  {
   "cell_type": "code",
   "execution_count": 70,
   "metadata": {},
   "outputs": [],
   "source": [
    "count_2012 = df_merged_2012['Disbursement_vs_Commitment_2012'].sum()\n",
    "count_2022 = df_merged_2022['Disbursement_vs_Commitment_2022'].sum()"
   ]
  },
  {
   "cell_type": "code",
   "execution_count": 71,
   "metadata": {},
   "outputs": [],
   "source": [
    "less_committment_2012 = df_merged_2012['Disbursement_vs_Commitment_2012'].sum()\n",
    "more_committment_2012 = total_countries_2012 - less_committment_2012"
   ]
  },
  {
   "cell_type": "code",
   "execution_count": 72,
   "metadata": {},
   "outputs": [],
   "source": [
    "less_committment_2022 = df_merged_2022['Disbursement_vs_Commitment_2022'].sum()\n",
    "more_committment_2022 = total_countries_2022 - less_committment_2022"
   ]
  },
  {
   "cell_type": "code",
   "execution_count": 73,
   "metadata": {},
   "outputs": [],
   "source": [
    "data = {\n",
    "    \"Year\": [\"2012\", \"2012\", \"2022\", \"2022\"],\n",
    "    \"Category\": [\"More Commitments\", \"More or equal Disbursements\", \"More Commitments\", \"More or equal Disbursements\"],\n",
    "    \"Number of Countries\": [more_committment_2012, less_committment_2012, more_committment_2022, less_committment_2022]\n",
    "}\n",
    "\n",
    "stacked_data = pd.DataFrame(data)"
   ]
  },
  {
   "cell_type": "code",
   "execution_count": 74,
   "metadata": {},
   "outputs": [
    {
     "data": {
      "text/html": [
       "        <script type=\"text/javascript\">\n",
       "        window.PlotlyConfig = {MathJaxConfig: 'local'};\n",
       "        if (window.MathJax && window.MathJax.Hub && window.MathJax.Hub.Config) {window.MathJax.Hub.Config({SVG: {font: \"STIX-Web\"}});}\n",
       "        if (typeof require !== 'undefined') {\n",
       "        require.undef(\"plotly\");\n",
       "        requirejs.config({\n",
       "            paths: {\n",
       "                'plotly': ['https://cdn.plot.ly/plotly-2.32.0.min']\n",
       "            }\n",
       "        });\n",
       "        require(['plotly'], function(Plotly) {\n",
       "            window._Plotly = Plotly;\n",
       "        });\n",
       "        }\n",
       "        </script>\n",
       "        "
      ]
     },
     "metadata": {},
     "output_type": "display_data"
    },
    {
     "data": {
      "application/vnd.plotly.v1+json": {
       "config": {
        "plotlyServerURL": "https://plot.ly"
       },
       "data": [
        {
         "alignmentgroup": "True",
         "hovertemplate": "Category=More Commitments<br>Year=%{x}<br>Number of Countries=%{y}<extra></extra>",
         "legendgroup": "More Commitments",
         "marker": {
          "color": "blue",
          "pattern": {
           "shape": ""
          }
         },
         "name": "More Commitments",
         "offsetgroup": "More Commitments",
         "orientation": "v",
         "showlegend": true,
         "textposition": "auto",
         "type": "bar",
         "x": [
          "2012",
          "2022"
         ],
         "xaxis": "x",
         "y": [
          89,
          106
         ],
         "yaxis": "y"
        },
        {
         "alignmentgroup": "True",
         "hovertemplate": "Category=More or equal Disbursements<br>Year=%{x}<br>Number of Countries=%{y}<extra></extra>",
         "legendgroup": "More or equal Disbursements",
         "marker": {
          "color": "green",
          "pattern": {
           "shape": ""
          }
         },
         "name": "More or equal Disbursements",
         "offsetgroup": "More or equal Disbursements",
         "orientation": "v",
         "showlegend": true,
         "textposition": "auto",
         "type": "bar",
         "x": [
          "2012",
          "2022"
         ],
         "xaxis": "x",
         "y": [
          51,
          34
         ],
         "yaxis": "y"
        }
       ],
       "layout": {
        "bargap": 0.6,
        "barmode": "relative",
        "height": 700,
        "legend": {
         "title": {
          "text": "Category"
         },
         "tracegroupgap": 0
        },
        "template": {
         "data": {
          "bar": [
           {
            "error_x": {
             "color": "#2a3f5f"
            },
            "error_y": {
             "color": "#2a3f5f"
            },
            "marker": {
             "line": {
              "color": "#E5ECF6",
              "width": 0.5
             },
             "pattern": {
              "fillmode": "overlay",
              "size": 10,
              "solidity": 0.2
             }
            },
            "type": "bar"
           }
          ],
          "barpolar": [
           {
            "marker": {
             "line": {
              "color": "#E5ECF6",
              "width": 0.5
             },
             "pattern": {
              "fillmode": "overlay",
              "size": 10,
              "solidity": 0.2
             }
            },
            "type": "barpolar"
           }
          ],
          "carpet": [
           {
            "aaxis": {
             "endlinecolor": "#2a3f5f",
             "gridcolor": "white",
             "linecolor": "white",
             "minorgridcolor": "white",
             "startlinecolor": "#2a3f5f"
            },
            "baxis": {
             "endlinecolor": "#2a3f5f",
             "gridcolor": "white",
             "linecolor": "white",
             "minorgridcolor": "white",
             "startlinecolor": "#2a3f5f"
            },
            "type": "carpet"
           }
          ],
          "choropleth": [
           {
            "colorbar": {
             "outlinewidth": 0,
             "ticks": ""
            },
            "type": "choropleth"
           }
          ],
          "contour": [
           {
            "colorbar": {
             "outlinewidth": 0,
             "ticks": ""
            },
            "colorscale": [
             [
              0,
              "#0d0887"
             ],
             [
              0.1111111111111111,
              "#46039f"
             ],
             [
              0.2222222222222222,
              "#7201a8"
             ],
             [
              0.3333333333333333,
              "#9c179e"
             ],
             [
              0.4444444444444444,
              "#bd3786"
             ],
             [
              0.5555555555555556,
              "#d8576b"
             ],
             [
              0.6666666666666666,
              "#ed7953"
             ],
             [
              0.7777777777777778,
              "#fb9f3a"
             ],
             [
              0.8888888888888888,
              "#fdca26"
             ],
             [
              1,
              "#f0f921"
             ]
            ],
            "type": "contour"
           }
          ],
          "contourcarpet": [
           {
            "colorbar": {
             "outlinewidth": 0,
             "ticks": ""
            },
            "type": "contourcarpet"
           }
          ],
          "heatmap": [
           {
            "colorbar": {
             "outlinewidth": 0,
             "ticks": ""
            },
            "colorscale": [
             [
              0,
              "#0d0887"
             ],
             [
              0.1111111111111111,
              "#46039f"
             ],
             [
              0.2222222222222222,
              "#7201a8"
             ],
             [
              0.3333333333333333,
              "#9c179e"
             ],
             [
              0.4444444444444444,
              "#bd3786"
             ],
             [
              0.5555555555555556,
              "#d8576b"
             ],
             [
              0.6666666666666666,
              "#ed7953"
             ],
             [
              0.7777777777777778,
              "#fb9f3a"
             ],
             [
              0.8888888888888888,
              "#fdca26"
             ],
             [
              1,
              "#f0f921"
             ]
            ],
            "type": "heatmap"
           }
          ],
          "heatmapgl": [
           {
            "colorbar": {
             "outlinewidth": 0,
             "ticks": ""
            },
            "colorscale": [
             [
              0,
              "#0d0887"
             ],
             [
              0.1111111111111111,
              "#46039f"
             ],
             [
              0.2222222222222222,
              "#7201a8"
             ],
             [
              0.3333333333333333,
              "#9c179e"
             ],
             [
              0.4444444444444444,
              "#bd3786"
             ],
             [
              0.5555555555555556,
              "#d8576b"
             ],
             [
              0.6666666666666666,
              "#ed7953"
             ],
             [
              0.7777777777777778,
              "#fb9f3a"
             ],
             [
              0.8888888888888888,
              "#fdca26"
             ],
             [
              1,
              "#f0f921"
             ]
            ],
            "type": "heatmapgl"
           }
          ],
          "histogram": [
           {
            "marker": {
             "pattern": {
              "fillmode": "overlay",
              "size": 10,
              "solidity": 0.2
             }
            },
            "type": "histogram"
           }
          ],
          "histogram2d": [
           {
            "colorbar": {
             "outlinewidth": 0,
             "ticks": ""
            },
            "colorscale": [
             [
              0,
              "#0d0887"
             ],
             [
              0.1111111111111111,
              "#46039f"
             ],
             [
              0.2222222222222222,
              "#7201a8"
             ],
             [
              0.3333333333333333,
              "#9c179e"
             ],
             [
              0.4444444444444444,
              "#bd3786"
             ],
             [
              0.5555555555555556,
              "#d8576b"
             ],
             [
              0.6666666666666666,
              "#ed7953"
             ],
             [
              0.7777777777777778,
              "#fb9f3a"
             ],
             [
              0.8888888888888888,
              "#fdca26"
             ],
             [
              1,
              "#f0f921"
             ]
            ],
            "type": "histogram2d"
           }
          ],
          "histogram2dcontour": [
           {
            "colorbar": {
             "outlinewidth": 0,
             "ticks": ""
            },
            "colorscale": [
             [
              0,
              "#0d0887"
             ],
             [
              0.1111111111111111,
              "#46039f"
             ],
             [
              0.2222222222222222,
              "#7201a8"
             ],
             [
              0.3333333333333333,
              "#9c179e"
             ],
             [
              0.4444444444444444,
              "#bd3786"
             ],
             [
              0.5555555555555556,
              "#d8576b"
             ],
             [
              0.6666666666666666,
              "#ed7953"
             ],
             [
              0.7777777777777778,
              "#fb9f3a"
             ],
             [
              0.8888888888888888,
              "#fdca26"
             ],
             [
              1,
              "#f0f921"
             ]
            ],
            "type": "histogram2dcontour"
           }
          ],
          "mesh3d": [
           {
            "colorbar": {
             "outlinewidth": 0,
             "ticks": ""
            },
            "type": "mesh3d"
           }
          ],
          "parcoords": [
           {
            "line": {
             "colorbar": {
              "outlinewidth": 0,
              "ticks": ""
             }
            },
            "type": "parcoords"
           }
          ],
          "pie": [
           {
            "automargin": true,
            "type": "pie"
           }
          ],
          "scatter": [
           {
            "fillpattern": {
             "fillmode": "overlay",
             "size": 10,
             "solidity": 0.2
            },
            "type": "scatter"
           }
          ],
          "scatter3d": [
           {
            "line": {
             "colorbar": {
              "outlinewidth": 0,
              "ticks": ""
             }
            },
            "marker": {
             "colorbar": {
              "outlinewidth": 0,
              "ticks": ""
             }
            },
            "type": "scatter3d"
           }
          ],
          "scattercarpet": [
           {
            "marker": {
             "colorbar": {
              "outlinewidth": 0,
              "ticks": ""
             }
            },
            "type": "scattercarpet"
           }
          ],
          "scattergeo": [
           {
            "marker": {
             "colorbar": {
              "outlinewidth": 0,
              "ticks": ""
             }
            },
            "type": "scattergeo"
           }
          ],
          "scattergl": [
           {
            "marker": {
             "colorbar": {
              "outlinewidth": 0,
              "ticks": ""
             }
            },
            "type": "scattergl"
           }
          ],
          "scattermapbox": [
           {
            "marker": {
             "colorbar": {
              "outlinewidth": 0,
              "ticks": ""
             }
            },
            "type": "scattermapbox"
           }
          ],
          "scatterpolar": [
           {
            "marker": {
             "colorbar": {
              "outlinewidth": 0,
              "ticks": ""
             }
            },
            "type": "scatterpolar"
           }
          ],
          "scatterpolargl": [
           {
            "marker": {
             "colorbar": {
              "outlinewidth": 0,
              "ticks": ""
             }
            },
            "type": "scatterpolargl"
           }
          ],
          "scatterternary": [
           {
            "marker": {
             "colorbar": {
              "outlinewidth": 0,
              "ticks": ""
             }
            },
            "type": "scatterternary"
           }
          ],
          "surface": [
           {
            "colorbar": {
             "outlinewidth": 0,
             "ticks": ""
            },
            "colorscale": [
             [
              0,
              "#0d0887"
             ],
             [
              0.1111111111111111,
              "#46039f"
             ],
             [
              0.2222222222222222,
              "#7201a8"
             ],
             [
              0.3333333333333333,
              "#9c179e"
             ],
             [
              0.4444444444444444,
              "#bd3786"
             ],
             [
              0.5555555555555556,
              "#d8576b"
             ],
             [
              0.6666666666666666,
              "#ed7953"
             ],
             [
              0.7777777777777778,
              "#fb9f3a"
             ],
             [
              0.8888888888888888,
              "#fdca26"
             ],
             [
              1,
              "#f0f921"
             ]
            ],
            "type": "surface"
           }
          ],
          "table": [
           {
            "cells": {
             "fill": {
              "color": "#EBF0F8"
             },
             "line": {
              "color": "white"
             }
            },
            "header": {
             "fill": {
              "color": "#C8D4E3"
             },
             "line": {
              "color": "white"
             }
            },
            "type": "table"
           }
          ]
         },
         "layout": {
          "annotationdefaults": {
           "arrowcolor": "#2a3f5f",
           "arrowhead": 0,
           "arrowwidth": 1
          },
          "autotypenumbers": "strict",
          "coloraxis": {
           "colorbar": {
            "outlinewidth": 0,
            "ticks": ""
           }
          },
          "colorscale": {
           "diverging": [
            [
             0,
             "#8e0152"
            ],
            [
             0.1,
             "#c51b7d"
            ],
            [
             0.2,
             "#de77ae"
            ],
            [
             0.3,
             "#f1b6da"
            ],
            [
             0.4,
             "#fde0ef"
            ],
            [
             0.5,
             "#f7f7f7"
            ],
            [
             0.6,
             "#e6f5d0"
            ],
            [
             0.7,
             "#b8e186"
            ],
            [
             0.8,
             "#7fbc41"
            ],
            [
             0.9,
             "#4d9221"
            ],
            [
             1,
             "#276419"
            ]
           ],
           "sequential": [
            [
             0,
             "#0d0887"
            ],
            [
             0.1111111111111111,
             "#46039f"
            ],
            [
             0.2222222222222222,
             "#7201a8"
            ],
            [
             0.3333333333333333,
             "#9c179e"
            ],
            [
             0.4444444444444444,
             "#bd3786"
            ],
            [
             0.5555555555555556,
             "#d8576b"
            ],
            [
             0.6666666666666666,
             "#ed7953"
            ],
            [
             0.7777777777777778,
             "#fb9f3a"
            ],
            [
             0.8888888888888888,
             "#fdca26"
            ],
            [
             1,
             "#f0f921"
            ]
           ],
           "sequentialminus": [
            [
             0,
             "#0d0887"
            ],
            [
             0.1111111111111111,
             "#46039f"
            ],
            [
             0.2222222222222222,
             "#7201a8"
            ],
            [
             0.3333333333333333,
             "#9c179e"
            ],
            [
             0.4444444444444444,
             "#bd3786"
            ],
            [
             0.5555555555555556,
             "#d8576b"
            ],
            [
             0.6666666666666666,
             "#ed7953"
            ],
            [
             0.7777777777777778,
             "#fb9f3a"
            ],
            [
             0.8888888888888888,
             "#fdca26"
            ],
            [
             1,
             "#f0f921"
            ]
           ]
          },
          "colorway": [
           "#636efa",
           "#EF553B",
           "#00cc96",
           "#ab63fa",
           "#FFA15A",
           "#19d3f3",
           "#FF6692",
           "#B6E880",
           "#FF97FF",
           "#FECB52"
          ],
          "font": {
           "color": "#2a3f5f"
          },
          "geo": {
           "bgcolor": "white",
           "lakecolor": "white",
           "landcolor": "#E5ECF6",
           "showlakes": true,
           "showland": true,
           "subunitcolor": "white"
          },
          "hoverlabel": {
           "align": "left"
          },
          "hovermode": "closest",
          "mapbox": {
           "style": "light"
          },
          "paper_bgcolor": "white",
          "plot_bgcolor": "#E5ECF6",
          "polar": {
           "angularaxis": {
            "gridcolor": "white",
            "linecolor": "white",
            "ticks": ""
           },
           "bgcolor": "#E5ECF6",
           "radialaxis": {
            "gridcolor": "white",
            "linecolor": "white",
            "ticks": ""
           }
          },
          "scene": {
           "xaxis": {
            "backgroundcolor": "#E5ECF6",
            "gridcolor": "white",
            "gridwidth": 2,
            "linecolor": "white",
            "showbackground": true,
            "ticks": "",
            "zerolinecolor": "white"
           },
           "yaxis": {
            "backgroundcolor": "#E5ECF6",
            "gridcolor": "white",
            "gridwidth": 2,
            "linecolor": "white",
            "showbackground": true,
            "ticks": "",
            "zerolinecolor": "white"
           },
           "zaxis": {
            "backgroundcolor": "#E5ECF6",
            "gridcolor": "white",
            "gridwidth": 2,
            "linecolor": "white",
            "showbackground": true,
            "ticks": "",
            "zerolinecolor": "white"
           }
          },
          "shapedefaults": {
           "line": {
            "color": "#2a3f5f"
           }
          },
          "ternary": {
           "aaxis": {
            "gridcolor": "white",
            "linecolor": "white",
            "ticks": ""
           },
           "baxis": {
            "gridcolor": "white",
            "linecolor": "white",
            "ticks": ""
           },
           "bgcolor": "#E5ECF6",
           "caxis": {
            "gridcolor": "white",
            "linecolor": "white",
            "ticks": ""
           }
          },
          "title": {
           "x": 0.05
          },
          "xaxis": {
           "automargin": true,
           "gridcolor": "white",
           "linecolor": "white",
           "ticks": "",
           "title": {
            "standoff": 15
           },
           "zerolinecolor": "white",
           "zerolinewidth": 2
          },
          "yaxis": {
           "automargin": true,
           "gridcolor": "white",
           "linecolor": "white",
           "ticks": "",
           "title": {
            "standoff": 15
           },
           "zerolinecolor": "white",
           "zerolinewidth": 2
          }
         }
        },
        "title": {
         "text": "Disbursements and Commitments Comparison (2012 vs 2022)"
        },
        "width": 600,
        "xaxis": {
         "anchor": "y",
         "domain": [
          0,
          1
         ],
         "title": {
          "text": "Year"
         }
        },
        "yaxis": {
         "anchor": "x",
         "domain": [
          0,
          1
         ],
         "title": {
          "text": "Number of Countries"
         }
        }
       }
      },
      "text/html": [
       "<div>                            <div id=\"0698fe16-c998-4284-8d5f-43411bf4d4b5\" class=\"plotly-graph-div\" style=\"height:700px; width:600px;\"></div>            <script type=\"text/javascript\">                require([\"plotly\"], function(Plotly) {                    window.PLOTLYENV=window.PLOTLYENV || {};                                    if (document.getElementById(\"0698fe16-c998-4284-8d5f-43411bf4d4b5\")) {                    Plotly.newPlot(                        \"0698fe16-c998-4284-8d5f-43411bf4d4b5\",                        [{\"alignmentgroup\":\"True\",\"hovertemplate\":\"Category=More Commitments\\u003cbr\\u003eYear=%{x}\\u003cbr\\u003eNumber of Countries=%{y}\\u003cextra\\u003e\\u003c\\u002fextra\\u003e\",\"legendgroup\":\"More Commitments\",\"marker\":{\"color\":\"blue\",\"pattern\":{\"shape\":\"\"}},\"name\":\"More Commitments\",\"offsetgroup\":\"More Commitments\",\"orientation\":\"v\",\"showlegend\":true,\"textposition\":\"auto\",\"x\":[\"2012\",\"2022\"],\"xaxis\":\"x\",\"y\":[89,106],\"yaxis\":\"y\",\"type\":\"bar\"},{\"alignmentgroup\":\"True\",\"hovertemplate\":\"Category=More or equal Disbursements\\u003cbr\\u003eYear=%{x}\\u003cbr\\u003eNumber of Countries=%{y}\\u003cextra\\u003e\\u003c\\u002fextra\\u003e\",\"legendgroup\":\"More or equal Disbursements\",\"marker\":{\"color\":\"green\",\"pattern\":{\"shape\":\"\"}},\"name\":\"More or equal Disbursements\",\"offsetgroup\":\"More or equal Disbursements\",\"orientation\":\"v\",\"showlegend\":true,\"textposition\":\"auto\",\"x\":[\"2012\",\"2022\"],\"xaxis\":\"x\",\"y\":[51,34],\"yaxis\":\"y\",\"type\":\"bar\"}],                        {\"template\":{\"data\":{\"histogram2dcontour\":[{\"type\":\"histogram2dcontour\",\"colorbar\":{\"outlinewidth\":0,\"ticks\":\"\"},\"colorscale\":[[0.0,\"#0d0887\"],[0.1111111111111111,\"#46039f\"],[0.2222222222222222,\"#7201a8\"],[0.3333333333333333,\"#9c179e\"],[0.4444444444444444,\"#bd3786\"],[0.5555555555555556,\"#d8576b\"],[0.6666666666666666,\"#ed7953\"],[0.7777777777777778,\"#fb9f3a\"],[0.8888888888888888,\"#fdca26\"],[1.0,\"#f0f921\"]]}],\"choropleth\":[{\"type\":\"choropleth\",\"colorbar\":{\"outlinewidth\":0,\"ticks\":\"\"}}],\"histogram2d\":[{\"type\":\"histogram2d\",\"colorbar\":{\"outlinewidth\":0,\"ticks\":\"\"},\"colorscale\":[[0.0,\"#0d0887\"],[0.1111111111111111,\"#46039f\"],[0.2222222222222222,\"#7201a8\"],[0.3333333333333333,\"#9c179e\"],[0.4444444444444444,\"#bd3786\"],[0.5555555555555556,\"#d8576b\"],[0.6666666666666666,\"#ed7953\"],[0.7777777777777778,\"#fb9f3a\"],[0.8888888888888888,\"#fdca26\"],[1.0,\"#f0f921\"]]}],\"heatmap\":[{\"type\":\"heatmap\",\"colorbar\":{\"outlinewidth\":0,\"ticks\":\"\"},\"colorscale\":[[0.0,\"#0d0887\"],[0.1111111111111111,\"#46039f\"],[0.2222222222222222,\"#7201a8\"],[0.3333333333333333,\"#9c179e\"],[0.4444444444444444,\"#bd3786\"],[0.5555555555555556,\"#d8576b\"],[0.6666666666666666,\"#ed7953\"],[0.7777777777777778,\"#fb9f3a\"],[0.8888888888888888,\"#fdca26\"],[1.0,\"#f0f921\"]]}],\"heatmapgl\":[{\"type\":\"heatmapgl\",\"colorbar\":{\"outlinewidth\":0,\"ticks\":\"\"},\"colorscale\":[[0.0,\"#0d0887\"],[0.1111111111111111,\"#46039f\"],[0.2222222222222222,\"#7201a8\"],[0.3333333333333333,\"#9c179e\"],[0.4444444444444444,\"#bd3786\"],[0.5555555555555556,\"#d8576b\"],[0.6666666666666666,\"#ed7953\"],[0.7777777777777778,\"#fb9f3a\"],[0.8888888888888888,\"#fdca26\"],[1.0,\"#f0f921\"]]}],\"contourcarpet\":[{\"type\":\"contourcarpet\",\"colorbar\":{\"outlinewidth\":0,\"ticks\":\"\"}}],\"contour\":[{\"type\":\"contour\",\"colorbar\":{\"outlinewidth\":0,\"ticks\":\"\"},\"colorscale\":[[0.0,\"#0d0887\"],[0.1111111111111111,\"#46039f\"],[0.2222222222222222,\"#7201a8\"],[0.3333333333333333,\"#9c179e\"],[0.4444444444444444,\"#bd3786\"],[0.5555555555555556,\"#d8576b\"],[0.6666666666666666,\"#ed7953\"],[0.7777777777777778,\"#fb9f3a\"],[0.8888888888888888,\"#fdca26\"],[1.0,\"#f0f921\"]]}],\"surface\":[{\"type\":\"surface\",\"colorbar\":{\"outlinewidth\":0,\"ticks\":\"\"},\"colorscale\":[[0.0,\"#0d0887\"],[0.1111111111111111,\"#46039f\"],[0.2222222222222222,\"#7201a8\"],[0.3333333333333333,\"#9c179e\"],[0.4444444444444444,\"#bd3786\"],[0.5555555555555556,\"#d8576b\"],[0.6666666666666666,\"#ed7953\"],[0.7777777777777778,\"#fb9f3a\"],[0.8888888888888888,\"#fdca26\"],[1.0,\"#f0f921\"]]}],\"mesh3d\":[{\"type\":\"mesh3d\",\"colorbar\":{\"outlinewidth\":0,\"ticks\":\"\"}}],\"scatter\":[{\"fillpattern\":{\"fillmode\":\"overlay\",\"size\":10,\"solidity\":0.2},\"type\":\"scatter\"}],\"parcoords\":[{\"type\":\"parcoords\",\"line\":{\"colorbar\":{\"outlinewidth\":0,\"ticks\":\"\"}}}],\"scatterpolargl\":[{\"type\":\"scatterpolargl\",\"marker\":{\"colorbar\":{\"outlinewidth\":0,\"ticks\":\"\"}}}],\"bar\":[{\"error_x\":{\"color\":\"#2a3f5f\"},\"error_y\":{\"color\":\"#2a3f5f\"},\"marker\":{\"line\":{\"color\":\"#E5ECF6\",\"width\":0.5},\"pattern\":{\"fillmode\":\"overlay\",\"size\":10,\"solidity\":0.2}},\"type\":\"bar\"}],\"scattergeo\":[{\"type\":\"scattergeo\",\"marker\":{\"colorbar\":{\"outlinewidth\":0,\"ticks\":\"\"}}}],\"scatterpolar\":[{\"type\":\"scatterpolar\",\"marker\":{\"colorbar\":{\"outlinewidth\":0,\"ticks\":\"\"}}}],\"histogram\":[{\"marker\":{\"pattern\":{\"fillmode\":\"overlay\",\"size\":10,\"solidity\":0.2}},\"type\":\"histogram\"}],\"scattergl\":[{\"type\":\"scattergl\",\"marker\":{\"colorbar\":{\"outlinewidth\":0,\"ticks\":\"\"}}}],\"scatter3d\":[{\"type\":\"scatter3d\",\"line\":{\"colorbar\":{\"outlinewidth\":0,\"ticks\":\"\"}},\"marker\":{\"colorbar\":{\"outlinewidth\":0,\"ticks\":\"\"}}}],\"scattermapbox\":[{\"type\":\"scattermapbox\",\"marker\":{\"colorbar\":{\"outlinewidth\":0,\"ticks\":\"\"}}}],\"scatterternary\":[{\"type\":\"scatterternary\",\"marker\":{\"colorbar\":{\"outlinewidth\":0,\"ticks\":\"\"}}}],\"scattercarpet\":[{\"type\":\"scattercarpet\",\"marker\":{\"colorbar\":{\"outlinewidth\":0,\"ticks\":\"\"}}}],\"carpet\":[{\"aaxis\":{\"endlinecolor\":\"#2a3f5f\",\"gridcolor\":\"white\",\"linecolor\":\"white\",\"minorgridcolor\":\"white\",\"startlinecolor\":\"#2a3f5f\"},\"baxis\":{\"endlinecolor\":\"#2a3f5f\",\"gridcolor\":\"white\",\"linecolor\":\"white\",\"minorgridcolor\":\"white\",\"startlinecolor\":\"#2a3f5f\"},\"type\":\"carpet\"}],\"table\":[{\"cells\":{\"fill\":{\"color\":\"#EBF0F8\"},\"line\":{\"color\":\"white\"}},\"header\":{\"fill\":{\"color\":\"#C8D4E3\"},\"line\":{\"color\":\"white\"}},\"type\":\"table\"}],\"barpolar\":[{\"marker\":{\"line\":{\"color\":\"#E5ECF6\",\"width\":0.5},\"pattern\":{\"fillmode\":\"overlay\",\"size\":10,\"solidity\":0.2}},\"type\":\"barpolar\"}],\"pie\":[{\"automargin\":true,\"type\":\"pie\"}]},\"layout\":{\"autotypenumbers\":\"strict\",\"colorway\":[\"#636efa\",\"#EF553B\",\"#00cc96\",\"#ab63fa\",\"#FFA15A\",\"#19d3f3\",\"#FF6692\",\"#B6E880\",\"#FF97FF\",\"#FECB52\"],\"font\":{\"color\":\"#2a3f5f\"},\"hovermode\":\"closest\",\"hoverlabel\":{\"align\":\"left\"},\"paper_bgcolor\":\"white\",\"plot_bgcolor\":\"#E5ECF6\",\"polar\":{\"bgcolor\":\"#E5ECF6\",\"angularaxis\":{\"gridcolor\":\"white\",\"linecolor\":\"white\",\"ticks\":\"\"},\"radialaxis\":{\"gridcolor\":\"white\",\"linecolor\":\"white\",\"ticks\":\"\"}},\"ternary\":{\"bgcolor\":\"#E5ECF6\",\"aaxis\":{\"gridcolor\":\"white\",\"linecolor\":\"white\",\"ticks\":\"\"},\"baxis\":{\"gridcolor\":\"white\",\"linecolor\":\"white\",\"ticks\":\"\"},\"caxis\":{\"gridcolor\":\"white\",\"linecolor\":\"white\",\"ticks\":\"\"}},\"coloraxis\":{\"colorbar\":{\"outlinewidth\":0,\"ticks\":\"\"}},\"colorscale\":{\"sequential\":[[0.0,\"#0d0887\"],[0.1111111111111111,\"#46039f\"],[0.2222222222222222,\"#7201a8\"],[0.3333333333333333,\"#9c179e\"],[0.4444444444444444,\"#bd3786\"],[0.5555555555555556,\"#d8576b\"],[0.6666666666666666,\"#ed7953\"],[0.7777777777777778,\"#fb9f3a\"],[0.8888888888888888,\"#fdca26\"],[1.0,\"#f0f921\"]],\"sequentialminus\":[[0.0,\"#0d0887\"],[0.1111111111111111,\"#46039f\"],[0.2222222222222222,\"#7201a8\"],[0.3333333333333333,\"#9c179e\"],[0.4444444444444444,\"#bd3786\"],[0.5555555555555556,\"#d8576b\"],[0.6666666666666666,\"#ed7953\"],[0.7777777777777778,\"#fb9f3a\"],[0.8888888888888888,\"#fdca26\"],[1.0,\"#f0f921\"]],\"diverging\":[[0,\"#8e0152\"],[0.1,\"#c51b7d\"],[0.2,\"#de77ae\"],[0.3,\"#f1b6da\"],[0.4,\"#fde0ef\"],[0.5,\"#f7f7f7\"],[0.6,\"#e6f5d0\"],[0.7,\"#b8e186\"],[0.8,\"#7fbc41\"],[0.9,\"#4d9221\"],[1,\"#276419\"]]},\"xaxis\":{\"gridcolor\":\"white\",\"linecolor\":\"white\",\"ticks\":\"\",\"title\":{\"standoff\":15},\"zerolinecolor\":\"white\",\"automargin\":true,\"zerolinewidth\":2},\"yaxis\":{\"gridcolor\":\"white\",\"linecolor\":\"white\",\"ticks\":\"\",\"title\":{\"standoff\":15},\"zerolinecolor\":\"white\",\"automargin\":true,\"zerolinewidth\":2},\"scene\":{\"xaxis\":{\"backgroundcolor\":\"#E5ECF6\",\"gridcolor\":\"white\",\"linecolor\":\"white\",\"showbackground\":true,\"ticks\":\"\",\"zerolinecolor\":\"white\",\"gridwidth\":2},\"yaxis\":{\"backgroundcolor\":\"#E5ECF6\",\"gridcolor\":\"white\",\"linecolor\":\"white\",\"showbackground\":true,\"ticks\":\"\",\"zerolinecolor\":\"white\",\"gridwidth\":2},\"zaxis\":{\"backgroundcolor\":\"#E5ECF6\",\"gridcolor\":\"white\",\"linecolor\":\"white\",\"showbackground\":true,\"ticks\":\"\",\"zerolinecolor\":\"white\",\"gridwidth\":2}},\"shapedefaults\":{\"line\":{\"color\":\"#2a3f5f\"}},\"annotationdefaults\":{\"arrowcolor\":\"#2a3f5f\",\"arrowhead\":0,\"arrowwidth\":1},\"geo\":{\"bgcolor\":\"white\",\"landcolor\":\"#E5ECF6\",\"subunitcolor\":\"white\",\"showland\":true,\"showlakes\":true,\"lakecolor\":\"white\"},\"title\":{\"x\":0.05},\"mapbox\":{\"style\":\"light\"}}},\"xaxis\":{\"anchor\":\"y\",\"domain\":[0.0,1.0],\"title\":{\"text\":\"Year\"}},\"yaxis\":{\"anchor\":\"x\",\"domain\":[0.0,1.0],\"title\":{\"text\":\"Number of Countries\"}},\"legend\":{\"title\":{\"text\":\"Category\"},\"tracegroupgap\":0},\"title\":{\"text\":\"Disbursements and Commitments Comparison (2012 vs 2022)\"},\"barmode\":\"relative\",\"bargap\":0.6,\"width\":600,\"height\":700},                        {\"responsive\": true}                    ).then(function(){\n",
       "                            \n",
       "var gd = document.getElementById('0698fe16-c998-4284-8d5f-43411bf4d4b5');\n",
       "var x = new MutationObserver(function (mutations, observer) {{\n",
       "        var display = window.getComputedStyle(gd).display;\n",
       "        if (!display || display === 'none') {{\n",
       "            console.log([gd, 'removed!']);\n",
       "            Plotly.purge(gd);\n",
       "            observer.disconnect();\n",
       "        }}\n",
       "}});\n",
       "\n",
       "// Listen for the removal of the full notebook cells\n",
       "var notebookContainer = gd.closest('#notebook-container');\n",
       "if (notebookContainer) {{\n",
       "    x.observe(notebookContainer, {childList: true});\n",
       "}}\n",
       "\n",
       "// Listen for the clearing of the current output cell\n",
       "var outputEl = gd.closest('.output');\n",
       "if (outputEl) {{\n",
       "    x.observe(outputEl, {childList: true});\n",
       "}}\n",
       "\n",
       "                        })                };                });            </script>        </div>"
      ]
     },
     "metadata": {},
     "output_type": "display_data"
    }
   ],
   "source": [
    "fig = px.bar(\n",
    "    stacked_data,\n",
    "    x=\"Year\",\n",
    "    y=\"Number of Countries\",\n",
    "    color=\"Category\",\n",
    "    title=\"Disbursements and Commitments Comparison (2012 vs 2022)\",\n",
    "    labels={\"Number of Countries\": \"Number of Countries\", \"Year\": \"Year\"},\n",
    "    color_discrete_map={\"More Commitments\": \"blue\", \"More or equal Disbursements\": \"green\"}  \n",
    ")\n",
    "\n",
    "fig.update_layout(\n",
    "    bargap=0.6,  \n",
    "    width=600,   \n",
    "    height=700 \n",
    ")\n",
    "fig.show()"
   ]
  },
  {
   "cell_type": "code",
   "execution_count": 75,
   "metadata": {},
   "outputs": [
    {
     "name": "stdout",
     "output_type": "stream",
     "text": [
      "Number of countries where disbursements >= commitments in 2012: 51 out of 140\n",
      "Number of countries where disbursements >= commitments in 2022: 34 out of 140\n"
     ]
    }
   ],
   "source": [
    "print(f\"Number of countries where disbursements >= commitments in 2012: {less_committment_2012} out of {total_countries_2012}\")\n",
    "print(f\"Number of countries where disbursements >= commitments in 2022: {less_committment_2022} out of {total_countries_2022}\") "
   ]
  },
  {
   "cell_type": "code",
   "execution_count": 76,
   "metadata": {},
   "outputs": [],
   "source": [
    "plot_data = pd.DataFrame({\n",
    "    'Year': ['2012', '2022'],\n",
    "    'Countries Meeting Criteria': [less_committment_2012, less_committment_2022],\n",
    "    'Total Countries': [total_countries_2012, total_countries_2022]\n",
    "})"
   ]
  },
  {
   "cell_type": "code",
   "execution_count": 77,
   "metadata": {},
   "outputs": [
    {
     "data": {
      "application/vnd.plotly.v1+json": {
       "config": {
        "plotlyServerURL": "https://plot.ly"
       },
       "data": [
        {
         "alignmentgroup": "True",
         "customdata": [
          [
           140
          ],
          [
           140
          ]
         ],
         "hovertemplate": "Year=%{x}<br>Number of Countries=%{text}<br>Total Countries=%{customdata[0]}<extra></extra>",
         "legendgroup": "",
         "marker": {
          "color": [
           "purple",
           "pink"
          ],
          "pattern": {
           "shape": ""
          }
         },
         "name": "",
         "offsetgroup": "",
         "orientation": "v",
         "showlegend": false,
         "text": [
          51,
          34
         ],
         "textposition": "outside",
         "type": "bar",
         "x": [
          "2012",
          "2022"
         ],
         "xaxis": "x",
         "y": [
          51,
          34
         ],
         "yaxis": "y"
        }
       ],
       "layout": {
        "bargap": 0.6,
        "barmode": "relative",
        "height": 700,
        "legend": {
         "tracegroupgap": 0
        },
        "template": {
         "data": {
          "bar": [
           {
            "error_x": {
             "color": "#2a3f5f"
            },
            "error_y": {
             "color": "#2a3f5f"
            },
            "marker": {
             "line": {
              "color": "white",
              "width": 0.5
             },
             "pattern": {
              "fillmode": "overlay",
              "size": 10,
              "solidity": 0.2
             }
            },
            "type": "bar"
           }
          ],
          "barpolar": [
           {
            "marker": {
             "line": {
              "color": "white",
              "width": 0.5
             },
             "pattern": {
              "fillmode": "overlay",
              "size": 10,
              "solidity": 0.2
             }
            },
            "type": "barpolar"
           }
          ],
          "carpet": [
           {
            "aaxis": {
             "endlinecolor": "#2a3f5f",
             "gridcolor": "#C8D4E3",
             "linecolor": "#C8D4E3",
             "minorgridcolor": "#C8D4E3",
             "startlinecolor": "#2a3f5f"
            },
            "baxis": {
             "endlinecolor": "#2a3f5f",
             "gridcolor": "#C8D4E3",
             "linecolor": "#C8D4E3",
             "minorgridcolor": "#C8D4E3",
             "startlinecolor": "#2a3f5f"
            },
            "type": "carpet"
           }
          ],
          "choropleth": [
           {
            "colorbar": {
             "outlinewidth": 0,
             "ticks": ""
            },
            "type": "choropleth"
           }
          ],
          "contour": [
           {
            "colorbar": {
             "outlinewidth": 0,
             "ticks": ""
            },
            "colorscale": [
             [
              0,
              "#0d0887"
             ],
             [
              0.1111111111111111,
              "#46039f"
             ],
             [
              0.2222222222222222,
              "#7201a8"
             ],
             [
              0.3333333333333333,
              "#9c179e"
             ],
             [
              0.4444444444444444,
              "#bd3786"
             ],
             [
              0.5555555555555556,
              "#d8576b"
             ],
             [
              0.6666666666666666,
              "#ed7953"
             ],
             [
              0.7777777777777778,
              "#fb9f3a"
             ],
             [
              0.8888888888888888,
              "#fdca26"
             ],
             [
              1,
              "#f0f921"
             ]
            ],
            "type": "contour"
           }
          ],
          "contourcarpet": [
           {
            "colorbar": {
             "outlinewidth": 0,
             "ticks": ""
            },
            "type": "contourcarpet"
           }
          ],
          "heatmap": [
           {
            "colorbar": {
             "outlinewidth": 0,
             "ticks": ""
            },
            "colorscale": [
             [
              0,
              "#0d0887"
             ],
             [
              0.1111111111111111,
              "#46039f"
             ],
             [
              0.2222222222222222,
              "#7201a8"
             ],
             [
              0.3333333333333333,
              "#9c179e"
             ],
             [
              0.4444444444444444,
              "#bd3786"
             ],
             [
              0.5555555555555556,
              "#d8576b"
             ],
             [
              0.6666666666666666,
              "#ed7953"
             ],
             [
              0.7777777777777778,
              "#fb9f3a"
             ],
             [
              0.8888888888888888,
              "#fdca26"
             ],
             [
              1,
              "#f0f921"
             ]
            ],
            "type": "heatmap"
           }
          ],
          "heatmapgl": [
           {
            "colorbar": {
             "outlinewidth": 0,
             "ticks": ""
            },
            "colorscale": [
             [
              0,
              "#0d0887"
             ],
             [
              0.1111111111111111,
              "#46039f"
             ],
             [
              0.2222222222222222,
              "#7201a8"
             ],
             [
              0.3333333333333333,
              "#9c179e"
             ],
             [
              0.4444444444444444,
              "#bd3786"
             ],
             [
              0.5555555555555556,
              "#d8576b"
             ],
             [
              0.6666666666666666,
              "#ed7953"
             ],
             [
              0.7777777777777778,
              "#fb9f3a"
             ],
             [
              0.8888888888888888,
              "#fdca26"
             ],
             [
              1,
              "#f0f921"
             ]
            ],
            "type": "heatmapgl"
           }
          ],
          "histogram": [
           {
            "marker": {
             "pattern": {
              "fillmode": "overlay",
              "size": 10,
              "solidity": 0.2
             }
            },
            "type": "histogram"
           }
          ],
          "histogram2d": [
           {
            "colorbar": {
             "outlinewidth": 0,
             "ticks": ""
            },
            "colorscale": [
             [
              0,
              "#0d0887"
             ],
             [
              0.1111111111111111,
              "#46039f"
             ],
             [
              0.2222222222222222,
              "#7201a8"
             ],
             [
              0.3333333333333333,
              "#9c179e"
             ],
             [
              0.4444444444444444,
              "#bd3786"
             ],
             [
              0.5555555555555556,
              "#d8576b"
             ],
             [
              0.6666666666666666,
              "#ed7953"
             ],
             [
              0.7777777777777778,
              "#fb9f3a"
             ],
             [
              0.8888888888888888,
              "#fdca26"
             ],
             [
              1,
              "#f0f921"
             ]
            ],
            "type": "histogram2d"
           }
          ],
          "histogram2dcontour": [
           {
            "colorbar": {
             "outlinewidth": 0,
             "ticks": ""
            },
            "colorscale": [
             [
              0,
              "#0d0887"
             ],
             [
              0.1111111111111111,
              "#46039f"
             ],
             [
              0.2222222222222222,
              "#7201a8"
             ],
             [
              0.3333333333333333,
              "#9c179e"
             ],
             [
              0.4444444444444444,
              "#bd3786"
             ],
             [
              0.5555555555555556,
              "#d8576b"
             ],
             [
              0.6666666666666666,
              "#ed7953"
             ],
             [
              0.7777777777777778,
              "#fb9f3a"
             ],
             [
              0.8888888888888888,
              "#fdca26"
             ],
             [
              1,
              "#f0f921"
             ]
            ],
            "type": "histogram2dcontour"
           }
          ],
          "mesh3d": [
           {
            "colorbar": {
             "outlinewidth": 0,
             "ticks": ""
            },
            "type": "mesh3d"
           }
          ],
          "parcoords": [
           {
            "line": {
             "colorbar": {
              "outlinewidth": 0,
              "ticks": ""
             }
            },
            "type": "parcoords"
           }
          ],
          "pie": [
           {
            "automargin": true,
            "type": "pie"
           }
          ],
          "scatter": [
           {
            "fillpattern": {
             "fillmode": "overlay",
             "size": 10,
             "solidity": 0.2
            },
            "type": "scatter"
           }
          ],
          "scatter3d": [
           {
            "line": {
             "colorbar": {
              "outlinewidth": 0,
              "ticks": ""
             }
            },
            "marker": {
             "colorbar": {
              "outlinewidth": 0,
              "ticks": ""
             }
            },
            "type": "scatter3d"
           }
          ],
          "scattercarpet": [
           {
            "marker": {
             "colorbar": {
              "outlinewidth": 0,
              "ticks": ""
             }
            },
            "type": "scattercarpet"
           }
          ],
          "scattergeo": [
           {
            "marker": {
             "colorbar": {
              "outlinewidth": 0,
              "ticks": ""
             }
            },
            "type": "scattergeo"
           }
          ],
          "scattergl": [
           {
            "marker": {
             "colorbar": {
              "outlinewidth": 0,
              "ticks": ""
             }
            },
            "type": "scattergl"
           }
          ],
          "scattermapbox": [
           {
            "marker": {
             "colorbar": {
              "outlinewidth": 0,
              "ticks": ""
             }
            },
            "type": "scattermapbox"
           }
          ],
          "scatterpolar": [
           {
            "marker": {
             "colorbar": {
              "outlinewidth": 0,
              "ticks": ""
             }
            },
            "type": "scatterpolar"
           }
          ],
          "scatterpolargl": [
           {
            "marker": {
             "colorbar": {
              "outlinewidth": 0,
              "ticks": ""
             }
            },
            "type": "scatterpolargl"
           }
          ],
          "scatterternary": [
           {
            "marker": {
             "colorbar": {
              "outlinewidth": 0,
              "ticks": ""
             }
            },
            "type": "scatterternary"
           }
          ],
          "surface": [
           {
            "colorbar": {
             "outlinewidth": 0,
             "ticks": ""
            },
            "colorscale": [
             [
              0,
              "#0d0887"
             ],
             [
              0.1111111111111111,
              "#46039f"
             ],
             [
              0.2222222222222222,
              "#7201a8"
             ],
             [
              0.3333333333333333,
              "#9c179e"
             ],
             [
              0.4444444444444444,
              "#bd3786"
             ],
             [
              0.5555555555555556,
              "#d8576b"
             ],
             [
              0.6666666666666666,
              "#ed7953"
             ],
             [
              0.7777777777777778,
              "#fb9f3a"
             ],
             [
              0.8888888888888888,
              "#fdca26"
             ],
             [
              1,
              "#f0f921"
             ]
            ],
            "type": "surface"
           }
          ],
          "table": [
           {
            "cells": {
             "fill": {
              "color": "#EBF0F8"
             },
             "line": {
              "color": "white"
             }
            },
            "header": {
             "fill": {
              "color": "#C8D4E3"
             },
             "line": {
              "color": "white"
             }
            },
            "type": "table"
           }
          ]
         },
         "layout": {
          "annotationdefaults": {
           "arrowcolor": "#2a3f5f",
           "arrowhead": 0,
           "arrowwidth": 1
          },
          "autotypenumbers": "strict",
          "coloraxis": {
           "colorbar": {
            "outlinewidth": 0,
            "ticks": ""
           }
          },
          "colorscale": {
           "diverging": [
            [
             0,
             "#8e0152"
            ],
            [
             0.1,
             "#c51b7d"
            ],
            [
             0.2,
             "#de77ae"
            ],
            [
             0.3,
             "#f1b6da"
            ],
            [
             0.4,
             "#fde0ef"
            ],
            [
             0.5,
             "#f7f7f7"
            ],
            [
             0.6,
             "#e6f5d0"
            ],
            [
             0.7,
             "#b8e186"
            ],
            [
             0.8,
             "#7fbc41"
            ],
            [
             0.9,
             "#4d9221"
            ],
            [
             1,
             "#276419"
            ]
           ],
           "sequential": [
            [
             0,
             "#0d0887"
            ],
            [
             0.1111111111111111,
             "#46039f"
            ],
            [
             0.2222222222222222,
             "#7201a8"
            ],
            [
             0.3333333333333333,
             "#9c179e"
            ],
            [
             0.4444444444444444,
             "#bd3786"
            ],
            [
             0.5555555555555556,
             "#d8576b"
            ],
            [
             0.6666666666666666,
             "#ed7953"
            ],
            [
             0.7777777777777778,
             "#fb9f3a"
            ],
            [
             0.8888888888888888,
             "#fdca26"
            ],
            [
             1,
             "#f0f921"
            ]
           ],
           "sequentialminus": [
            [
             0,
             "#0d0887"
            ],
            [
             0.1111111111111111,
             "#46039f"
            ],
            [
             0.2222222222222222,
             "#7201a8"
            ],
            [
             0.3333333333333333,
             "#9c179e"
            ],
            [
             0.4444444444444444,
             "#bd3786"
            ],
            [
             0.5555555555555556,
             "#d8576b"
            ],
            [
             0.6666666666666666,
             "#ed7953"
            ],
            [
             0.7777777777777778,
             "#fb9f3a"
            ],
            [
             0.8888888888888888,
             "#fdca26"
            ],
            [
             1,
             "#f0f921"
            ]
           ]
          },
          "colorway": [
           "#636efa",
           "#EF553B",
           "#00cc96",
           "#ab63fa",
           "#FFA15A",
           "#19d3f3",
           "#FF6692",
           "#B6E880",
           "#FF97FF",
           "#FECB52"
          ],
          "font": {
           "color": "#2a3f5f"
          },
          "geo": {
           "bgcolor": "white",
           "lakecolor": "white",
           "landcolor": "white",
           "showlakes": true,
           "showland": true,
           "subunitcolor": "#C8D4E3"
          },
          "hoverlabel": {
           "align": "left"
          },
          "hovermode": "closest",
          "mapbox": {
           "style": "light"
          },
          "paper_bgcolor": "white",
          "plot_bgcolor": "white",
          "polar": {
           "angularaxis": {
            "gridcolor": "#EBF0F8",
            "linecolor": "#EBF0F8",
            "ticks": ""
           },
           "bgcolor": "white",
           "radialaxis": {
            "gridcolor": "#EBF0F8",
            "linecolor": "#EBF0F8",
            "ticks": ""
           }
          },
          "scene": {
           "xaxis": {
            "backgroundcolor": "white",
            "gridcolor": "#DFE8F3",
            "gridwidth": 2,
            "linecolor": "#EBF0F8",
            "showbackground": true,
            "ticks": "",
            "zerolinecolor": "#EBF0F8"
           },
           "yaxis": {
            "backgroundcolor": "white",
            "gridcolor": "#DFE8F3",
            "gridwidth": 2,
            "linecolor": "#EBF0F8",
            "showbackground": true,
            "ticks": "",
            "zerolinecolor": "#EBF0F8"
           },
           "zaxis": {
            "backgroundcolor": "white",
            "gridcolor": "#DFE8F3",
            "gridwidth": 2,
            "linecolor": "#EBF0F8",
            "showbackground": true,
            "ticks": "",
            "zerolinecolor": "#EBF0F8"
           }
          },
          "shapedefaults": {
           "line": {
            "color": "#2a3f5f"
           }
          },
          "ternary": {
           "aaxis": {
            "gridcolor": "#DFE8F3",
            "linecolor": "#A2B1C6",
            "ticks": ""
           },
           "baxis": {
            "gridcolor": "#DFE8F3",
            "linecolor": "#A2B1C6",
            "ticks": ""
           },
           "bgcolor": "white",
           "caxis": {
            "gridcolor": "#DFE8F3",
            "linecolor": "#A2B1C6",
            "ticks": ""
           }
          },
          "title": {
           "x": 0.05
          },
          "xaxis": {
           "automargin": true,
           "gridcolor": "#EBF0F8",
           "linecolor": "#EBF0F8",
           "ticks": "",
           "title": {
            "standoff": 15
           },
           "zerolinecolor": "#EBF0F8",
           "zerolinewidth": 2
          },
          "yaxis": {
           "automargin": true,
           "gridcolor": "#EBF0F8",
           "linecolor": "#EBF0F8",
           "ticks": "",
           "title": {
            "standoff": 15
           },
           "zerolinecolor": "#EBF0F8",
           "zerolinewidth": 2
          }
         }
        },
        "title": {
         "text": "Countries with Disbursements >= Commitments (2012 vs 2022)"
        },
        "width": 600,
        "xaxis": {
         "anchor": "y",
         "domain": [
          0,
          1
         ],
         "title": {
          "text": "Year"
         }
        },
        "yaxis": {
         "anchor": "x",
         "domain": [
          0,
          1
         ],
         "title": {
          "text": "Number of Countries"
         }
        }
       }
      },
      "text/html": [
       "<div>                            <div id=\"5729839e-843e-4f68-966d-f14ea94a9bd5\" class=\"plotly-graph-div\" style=\"height:700px; width:600px;\"></div>            <script type=\"text/javascript\">                require([\"plotly\"], function(Plotly) {                    window.PLOTLYENV=window.PLOTLYENV || {};                                    if (document.getElementById(\"5729839e-843e-4f68-966d-f14ea94a9bd5\")) {                    Plotly.newPlot(                        \"5729839e-843e-4f68-966d-f14ea94a9bd5\",                        [{\"alignmentgroup\":\"True\",\"customdata\":[[140],[140]],\"hovertemplate\":\"Year=%{x}\\u003cbr\\u003eNumber of Countries=%{text}\\u003cbr\\u003eTotal Countries=%{customdata[0]}\\u003cextra\\u003e\\u003c\\u002fextra\\u003e\",\"legendgroup\":\"\",\"marker\":{\"color\":[\"purple\",\"pink\"],\"pattern\":{\"shape\":\"\"}},\"name\":\"\",\"offsetgroup\":\"\",\"orientation\":\"v\",\"showlegend\":false,\"text\":[51.0,34.0],\"textposition\":\"outside\",\"x\":[\"2012\",\"2022\"],\"xaxis\":\"x\",\"y\":[51,34],\"yaxis\":\"y\",\"type\":\"bar\"}],                        {\"template\":{\"data\":{\"barpolar\":[{\"marker\":{\"line\":{\"color\":\"white\",\"width\":0.5},\"pattern\":{\"fillmode\":\"overlay\",\"size\":10,\"solidity\":0.2}},\"type\":\"barpolar\"}],\"bar\":[{\"error_x\":{\"color\":\"#2a3f5f\"},\"error_y\":{\"color\":\"#2a3f5f\"},\"marker\":{\"line\":{\"color\":\"white\",\"width\":0.5},\"pattern\":{\"fillmode\":\"overlay\",\"size\":10,\"solidity\":0.2}},\"type\":\"bar\"}],\"carpet\":[{\"aaxis\":{\"endlinecolor\":\"#2a3f5f\",\"gridcolor\":\"#C8D4E3\",\"linecolor\":\"#C8D4E3\",\"minorgridcolor\":\"#C8D4E3\",\"startlinecolor\":\"#2a3f5f\"},\"baxis\":{\"endlinecolor\":\"#2a3f5f\",\"gridcolor\":\"#C8D4E3\",\"linecolor\":\"#C8D4E3\",\"minorgridcolor\":\"#C8D4E3\",\"startlinecolor\":\"#2a3f5f\"},\"type\":\"carpet\"}],\"choropleth\":[{\"colorbar\":{\"outlinewidth\":0,\"ticks\":\"\"},\"type\":\"choropleth\"}],\"contourcarpet\":[{\"colorbar\":{\"outlinewidth\":0,\"ticks\":\"\"},\"type\":\"contourcarpet\"}],\"contour\":[{\"colorbar\":{\"outlinewidth\":0,\"ticks\":\"\"},\"colorscale\":[[0.0,\"#0d0887\"],[0.1111111111111111,\"#46039f\"],[0.2222222222222222,\"#7201a8\"],[0.3333333333333333,\"#9c179e\"],[0.4444444444444444,\"#bd3786\"],[0.5555555555555556,\"#d8576b\"],[0.6666666666666666,\"#ed7953\"],[0.7777777777777778,\"#fb9f3a\"],[0.8888888888888888,\"#fdca26\"],[1.0,\"#f0f921\"]],\"type\":\"contour\"}],\"heatmapgl\":[{\"colorbar\":{\"outlinewidth\":0,\"ticks\":\"\"},\"colorscale\":[[0.0,\"#0d0887\"],[0.1111111111111111,\"#46039f\"],[0.2222222222222222,\"#7201a8\"],[0.3333333333333333,\"#9c179e\"],[0.4444444444444444,\"#bd3786\"],[0.5555555555555556,\"#d8576b\"],[0.6666666666666666,\"#ed7953\"],[0.7777777777777778,\"#fb9f3a\"],[0.8888888888888888,\"#fdca26\"],[1.0,\"#f0f921\"]],\"type\":\"heatmapgl\"}],\"heatmap\":[{\"colorbar\":{\"outlinewidth\":0,\"ticks\":\"\"},\"colorscale\":[[0.0,\"#0d0887\"],[0.1111111111111111,\"#46039f\"],[0.2222222222222222,\"#7201a8\"],[0.3333333333333333,\"#9c179e\"],[0.4444444444444444,\"#bd3786\"],[0.5555555555555556,\"#d8576b\"],[0.6666666666666666,\"#ed7953\"],[0.7777777777777778,\"#fb9f3a\"],[0.8888888888888888,\"#fdca26\"],[1.0,\"#f0f921\"]],\"type\":\"heatmap\"}],\"histogram2dcontour\":[{\"colorbar\":{\"outlinewidth\":0,\"ticks\":\"\"},\"colorscale\":[[0.0,\"#0d0887\"],[0.1111111111111111,\"#46039f\"],[0.2222222222222222,\"#7201a8\"],[0.3333333333333333,\"#9c179e\"],[0.4444444444444444,\"#bd3786\"],[0.5555555555555556,\"#d8576b\"],[0.6666666666666666,\"#ed7953\"],[0.7777777777777778,\"#fb9f3a\"],[0.8888888888888888,\"#fdca26\"],[1.0,\"#f0f921\"]],\"type\":\"histogram2dcontour\"}],\"histogram2d\":[{\"colorbar\":{\"outlinewidth\":0,\"ticks\":\"\"},\"colorscale\":[[0.0,\"#0d0887\"],[0.1111111111111111,\"#46039f\"],[0.2222222222222222,\"#7201a8\"],[0.3333333333333333,\"#9c179e\"],[0.4444444444444444,\"#bd3786\"],[0.5555555555555556,\"#d8576b\"],[0.6666666666666666,\"#ed7953\"],[0.7777777777777778,\"#fb9f3a\"],[0.8888888888888888,\"#fdca26\"],[1.0,\"#f0f921\"]],\"type\":\"histogram2d\"}],\"histogram\":[{\"marker\":{\"pattern\":{\"fillmode\":\"overlay\",\"size\":10,\"solidity\":0.2}},\"type\":\"histogram\"}],\"mesh3d\":[{\"colorbar\":{\"outlinewidth\":0,\"ticks\":\"\"},\"type\":\"mesh3d\"}],\"parcoords\":[{\"line\":{\"colorbar\":{\"outlinewidth\":0,\"ticks\":\"\"}},\"type\":\"parcoords\"}],\"pie\":[{\"automargin\":true,\"type\":\"pie\"}],\"scatter3d\":[{\"line\":{\"colorbar\":{\"outlinewidth\":0,\"ticks\":\"\"}},\"marker\":{\"colorbar\":{\"outlinewidth\":0,\"ticks\":\"\"}},\"type\":\"scatter3d\"}],\"scattercarpet\":[{\"marker\":{\"colorbar\":{\"outlinewidth\":0,\"ticks\":\"\"}},\"type\":\"scattercarpet\"}],\"scattergeo\":[{\"marker\":{\"colorbar\":{\"outlinewidth\":0,\"ticks\":\"\"}},\"type\":\"scattergeo\"}],\"scattergl\":[{\"marker\":{\"colorbar\":{\"outlinewidth\":0,\"ticks\":\"\"}},\"type\":\"scattergl\"}],\"scattermapbox\":[{\"marker\":{\"colorbar\":{\"outlinewidth\":0,\"ticks\":\"\"}},\"type\":\"scattermapbox\"}],\"scatterpolargl\":[{\"marker\":{\"colorbar\":{\"outlinewidth\":0,\"ticks\":\"\"}},\"type\":\"scatterpolargl\"}],\"scatterpolar\":[{\"marker\":{\"colorbar\":{\"outlinewidth\":0,\"ticks\":\"\"}},\"type\":\"scatterpolar\"}],\"scatter\":[{\"fillpattern\":{\"fillmode\":\"overlay\",\"size\":10,\"solidity\":0.2},\"type\":\"scatter\"}],\"scatterternary\":[{\"marker\":{\"colorbar\":{\"outlinewidth\":0,\"ticks\":\"\"}},\"type\":\"scatterternary\"}],\"surface\":[{\"colorbar\":{\"outlinewidth\":0,\"ticks\":\"\"},\"colorscale\":[[0.0,\"#0d0887\"],[0.1111111111111111,\"#46039f\"],[0.2222222222222222,\"#7201a8\"],[0.3333333333333333,\"#9c179e\"],[0.4444444444444444,\"#bd3786\"],[0.5555555555555556,\"#d8576b\"],[0.6666666666666666,\"#ed7953\"],[0.7777777777777778,\"#fb9f3a\"],[0.8888888888888888,\"#fdca26\"],[1.0,\"#f0f921\"]],\"type\":\"surface\"}],\"table\":[{\"cells\":{\"fill\":{\"color\":\"#EBF0F8\"},\"line\":{\"color\":\"white\"}},\"header\":{\"fill\":{\"color\":\"#C8D4E3\"},\"line\":{\"color\":\"white\"}},\"type\":\"table\"}]},\"layout\":{\"annotationdefaults\":{\"arrowcolor\":\"#2a3f5f\",\"arrowhead\":0,\"arrowwidth\":1},\"autotypenumbers\":\"strict\",\"coloraxis\":{\"colorbar\":{\"outlinewidth\":0,\"ticks\":\"\"}},\"colorscale\":{\"diverging\":[[0,\"#8e0152\"],[0.1,\"#c51b7d\"],[0.2,\"#de77ae\"],[0.3,\"#f1b6da\"],[0.4,\"#fde0ef\"],[0.5,\"#f7f7f7\"],[0.6,\"#e6f5d0\"],[0.7,\"#b8e186\"],[0.8,\"#7fbc41\"],[0.9,\"#4d9221\"],[1,\"#276419\"]],\"sequential\":[[0.0,\"#0d0887\"],[0.1111111111111111,\"#46039f\"],[0.2222222222222222,\"#7201a8\"],[0.3333333333333333,\"#9c179e\"],[0.4444444444444444,\"#bd3786\"],[0.5555555555555556,\"#d8576b\"],[0.6666666666666666,\"#ed7953\"],[0.7777777777777778,\"#fb9f3a\"],[0.8888888888888888,\"#fdca26\"],[1.0,\"#f0f921\"]],\"sequentialminus\":[[0.0,\"#0d0887\"],[0.1111111111111111,\"#46039f\"],[0.2222222222222222,\"#7201a8\"],[0.3333333333333333,\"#9c179e\"],[0.4444444444444444,\"#bd3786\"],[0.5555555555555556,\"#d8576b\"],[0.6666666666666666,\"#ed7953\"],[0.7777777777777778,\"#fb9f3a\"],[0.8888888888888888,\"#fdca26\"],[1.0,\"#f0f921\"]]},\"colorway\":[\"#636efa\",\"#EF553B\",\"#00cc96\",\"#ab63fa\",\"#FFA15A\",\"#19d3f3\",\"#FF6692\",\"#B6E880\",\"#FF97FF\",\"#FECB52\"],\"font\":{\"color\":\"#2a3f5f\"},\"geo\":{\"bgcolor\":\"white\",\"lakecolor\":\"white\",\"landcolor\":\"white\",\"showlakes\":true,\"showland\":true,\"subunitcolor\":\"#C8D4E3\"},\"hoverlabel\":{\"align\":\"left\"},\"hovermode\":\"closest\",\"mapbox\":{\"style\":\"light\"},\"paper_bgcolor\":\"white\",\"plot_bgcolor\":\"white\",\"polar\":{\"angularaxis\":{\"gridcolor\":\"#EBF0F8\",\"linecolor\":\"#EBF0F8\",\"ticks\":\"\"},\"bgcolor\":\"white\",\"radialaxis\":{\"gridcolor\":\"#EBF0F8\",\"linecolor\":\"#EBF0F8\",\"ticks\":\"\"}},\"scene\":{\"xaxis\":{\"backgroundcolor\":\"white\",\"gridcolor\":\"#DFE8F3\",\"gridwidth\":2,\"linecolor\":\"#EBF0F8\",\"showbackground\":true,\"ticks\":\"\",\"zerolinecolor\":\"#EBF0F8\"},\"yaxis\":{\"backgroundcolor\":\"white\",\"gridcolor\":\"#DFE8F3\",\"gridwidth\":2,\"linecolor\":\"#EBF0F8\",\"showbackground\":true,\"ticks\":\"\",\"zerolinecolor\":\"#EBF0F8\"},\"zaxis\":{\"backgroundcolor\":\"white\",\"gridcolor\":\"#DFE8F3\",\"gridwidth\":2,\"linecolor\":\"#EBF0F8\",\"showbackground\":true,\"ticks\":\"\",\"zerolinecolor\":\"#EBF0F8\"}},\"shapedefaults\":{\"line\":{\"color\":\"#2a3f5f\"}},\"ternary\":{\"aaxis\":{\"gridcolor\":\"#DFE8F3\",\"linecolor\":\"#A2B1C6\",\"ticks\":\"\"},\"baxis\":{\"gridcolor\":\"#DFE8F3\",\"linecolor\":\"#A2B1C6\",\"ticks\":\"\"},\"bgcolor\":\"white\",\"caxis\":{\"gridcolor\":\"#DFE8F3\",\"linecolor\":\"#A2B1C6\",\"ticks\":\"\"}},\"title\":{\"x\":0.05},\"xaxis\":{\"automargin\":true,\"gridcolor\":\"#EBF0F8\",\"linecolor\":\"#EBF0F8\",\"ticks\":\"\",\"title\":{\"standoff\":15},\"zerolinecolor\":\"#EBF0F8\",\"zerolinewidth\":2},\"yaxis\":{\"automargin\":true,\"gridcolor\":\"#EBF0F8\",\"linecolor\":\"#EBF0F8\",\"ticks\":\"\",\"title\":{\"standoff\":15},\"zerolinecolor\":\"#EBF0F8\",\"zerolinewidth\":2}}},\"xaxis\":{\"anchor\":\"y\",\"domain\":[0.0,1.0],\"title\":{\"text\":\"Year\"}},\"yaxis\":{\"anchor\":\"x\",\"domain\":[0.0,1.0],\"title\":{\"text\":\"Number of Countries\"}},\"legend\":{\"tracegroupgap\":0},\"title\":{\"text\":\"Countries with Disbursements \\u003e= Commitments (2012 vs 2022)\"},\"barmode\":\"relative\",\"bargap\":0.6,\"width\":600,\"height\":700},                        {\"responsive\": true}                    ).then(function(){\n",
       "                            \n",
       "var gd = document.getElementById('5729839e-843e-4f68-966d-f14ea94a9bd5');\n",
       "var x = new MutationObserver(function (mutations, observer) {{\n",
       "        var display = window.getComputedStyle(gd).display;\n",
       "        if (!display || display === 'none') {{\n",
       "            console.log([gd, 'removed!']);\n",
       "            Plotly.purge(gd);\n",
       "            observer.disconnect();\n",
       "        }}\n",
       "}});\n",
       "\n",
       "// Listen for the removal of the full notebook cells\n",
       "var notebookContainer = gd.closest('#notebook-container');\n",
       "if (notebookContainer) {{\n",
       "    x.observe(notebookContainer, {childList: true});\n",
       "}}\n",
       "\n",
       "// Listen for the clearing of the current output cell\n",
       "var outputEl = gd.closest('.output');\n",
       "if (outputEl) {{\n",
       "    x.observe(outputEl, {childList: true});\n",
       "}}\n",
       "\n",
       "                        })                };                });            </script>        </div>"
      ]
     },
     "metadata": {},
     "output_type": "display_data"
    }
   ],
   "source": [
    "fig = px.bar(\n",
    "    plot_data,\n",
    "    x='Year',\n",
    "    y='Countries Meeting Criteria',\n",
    "    text='Countries Meeting Criteria',\n",
    "    labels={'Countries Meeting Criteria': 'Number of Countries'},\n",
    "    title='Countries with Disbursements >= Commitments (2012 vs 2022)',\n",
    "    hover_data={'Total Countries' : True} \n",
    ")\n",
    "\n",
    "fig.update_traces(\n",
    "     textposition='outside',\n",
    "    marker_color=['purple', 'pink']  # Different colors for bars\n",
    ")\n",
    "\n",
    "fig.update_layout(\n",
    "    xaxis_title='Year',\n",
    "    yaxis_title='Number of Countries',\n",
    "    template='plotly_white',\n",
    "    bargap=0.6,  \n",
    "    width=600,   \n",
    "    height=700 \n",
    ")\n",
    "\n",
    "fig.show()"
   ]
  },
  {
   "cell_type": "code",
   "execution_count": 78,
   "metadata": {},
   "outputs": [
    {
     "name": "stdout",
     "output_type": "stream",
     "text": [
      "Fewer or an equal number of countries met the criteria (Disbursements >= Commitments) in 2022 compared to 2012.\n"
     ]
    }
   ],
   "source": [
    "if count_2022 > count_2012:\n",
    "    print(\"More countries met the criteria (Disbursements >= Commitments) in 2022 than in 2012.\")\n",
    "else:\n",
    "    print(\"Fewer or an equal number of countries met the criteria (Disbursements >= Commitments) in 2022 compared to 2012.\")"
   ]
  },
  {
   "cell_type": "code",
   "execution_count": 79,
   "metadata": {},
   "outputs": [
    {
     "name": "stdout",
     "output_type": "stream",
     "text": [
      "Number of countries where disbursements < commitments in 2012: 89 out of 140\n",
      "Number of countries where disbursements < commitments in 2022: 106 out of 140\n"
     ]
    }
   ],
   "source": [
    "print(f\"Number of countries where disbursements < commitments in 2012: {more_committment_2012} out of {total_countries_2012}\")\n",
    "print(f\"Number of countries where disbursements < commitments in 2022: {more_committment_2022} out of {total_countries_2022}\")"
   ]
  },
  {
   "cell_type": "code",
   "execution_count": 80,
   "metadata": {},
   "outputs": [],
   "source": [
    "plot_data = pd.DataFrame({\n",
    "    'Year': ['2012', '2022'],\n",
    "    'Countries Not Meeting Criteria': [more_committment_2012, more_committment_2022],\n",
    "    'Total Countries': [total_countries_2012, total_countries_2022]\n",
    "})"
   ]
  },
  {
   "cell_type": "code",
   "execution_count": 81,
   "metadata": {},
   "outputs": [
    {
     "data": {
      "application/vnd.plotly.v1+json": {
       "config": {
        "plotlyServerURL": "https://plot.ly"
       },
       "data": [
        {
         "alignmentgroup": "True",
         "customdata": [
          [
           140
          ],
          [
           140
          ]
         ],
         "hovertemplate": "Year=%{x}<br>Countries Not Meeting Criteria=%{text}<br>Total Countries=%{customdata[0]}<extra></extra>",
         "legendgroup": "",
         "marker": {
          "color": [
           "purple",
           "pink"
          ],
          "pattern": {
           "shape": ""
          }
         },
         "name": "",
         "offsetgroup": "",
         "orientation": "v",
         "showlegend": false,
         "text": [
          89,
          106
         ],
         "textposition": "outside",
         "type": "bar",
         "x": [
          "2012",
          "2022"
         ],
         "xaxis": "x",
         "y": [
          89,
          106
         ],
         "yaxis": "y"
        }
       ],
       "layout": {
        "bargap": 0.6,
        "barmode": "relative",
        "height": 700,
        "legend": {
         "tracegroupgap": 0
        },
        "template": {
         "data": {
          "bar": [
           {
            "error_x": {
             "color": "#2a3f5f"
            },
            "error_y": {
             "color": "#2a3f5f"
            },
            "marker": {
             "line": {
              "color": "white",
              "width": 0.5
             },
             "pattern": {
              "fillmode": "overlay",
              "size": 10,
              "solidity": 0.2
             }
            },
            "type": "bar"
           }
          ],
          "barpolar": [
           {
            "marker": {
             "line": {
              "color": "white",
              "width": 0.5
             },
             "pattern": {
              "fillmode": "overlay",
              "size": 10,
              "solidity": 0.2
             }
            },
            "type": "barpolar"
           }
          ],
          "carpet": [
           {
            "aaxis": {
             "endlinecolor": "#2a3f5f",
             "gridcolor": "#C8D4E3",
             "linecolor": "#C8D4E3",
             "minorgridcolor": "#C8D4E3",
             "startlinecolor": "#2a3f5f"
            },
            "baxis": {
             "endlinecolor": "#2a3f5f",
             "gridcolor": "#C8D4E3",
             "linecolor": "#C8D4E3",
             "minorgridcolor": "#C8D4E3",
             "startlinecolor": "#2a3f5f"
            },
            "type": "carpet"
           }
          ],
          "choropleth": [
           {
            "colorbar": {
             "outlinewidth": 0,
             "ticks": ""
            },
            "type": "choropleth"
           }
          ],
          "contour": [
           {
            "colorbar": {
             "outlinewidth": 0,
             "ticks": ""
            },
            "colorscale": [
             [
              0,
              "#0d0887"
             ],
             [
              0.1111111111111111,
              "#46039f"
             ],
             [
              0.2222222222222222,
              "#7201a8"
             ],
             [
              0.3333333333333333,
              "#9c179e"
             ],
             [
              0.4444444444444444,
              "#bd3786"
             ],
             [
              0.5555555555555556,
              "#d8576b"
             ],
             [
              0.6666666666666666,
              "#ed7953"
             ],
             [
              0.7777777777777778,
              "#fb9f3a"
             ],
             [
              0.8888888888888888,
              "#fdca26"
             ],
             [
              1,
              "#f0f921"
             ]
            ],
            "type": "contour"
           }
          ],
          "contourcarpet": [
           {
            "colorbar": {
             "outlinewidth": 0,
             "ticks": ""
            },
            "type": "contourcarpet"
           }
          ],
          "heatmap": [
           {
            "colorbar": {
             "outlinewidth": 0,
             "ticks": ""
            },
            "colorscale": [
             [
              0,
              "#0d0887"
             ],
             [
              0.1111111111111111,
              "#46039f"
             ],
             [
              0.2222222222222222,
              "#7201a8"
             ],
             [
              0.3333333333333333,
              "#9c179e"
             ],
             [
              0.4444444444444444,
              "#bd3786"
             ],
             [
              0.5555555555555556,
              "#d8576b"
             ],
             [
              0.6666666666666666,
              "#ed7953"
             ],
             [
              0.7777777777777778,
              "#fb9f3a"
             ],
             [
              0.8888888888888888,
              "#fdca26"
             ],
             [
              1,
              "#f0f921"
             ]
            ],
            "type": "heatmap"
           }
          ],
          "heatmapgl": [
           {
            "colorbar": {
             "outlinewidth": 0,
             "ticks": ""
            },
            "colorscale": [
             [
              0,
              "#0d0887"
             ],
             [
              0.1111111111111111,
              "#46039f"
             ],
             [
              0.2222222222222222,
              "#7201a8"
             ],
             [
              0.3333333333333333,
              "#9c179e"
             ],
             [
              0.4444444444444444,
              "#bd3786"
             ],
             [
              0.5555555555555556,
              "#d8576b"
             ],
             [
              0.6666666666666666,
              "#ed7953"
             ],
             [
              0.7777777777777778,
              "#fb9f3a"
             ],
             [
              0.8888888888888888,
              "#fdca26"
             ],
             [
              1,
              "#f0f921"
             ]
            ],
            "type": "heatmapgl"
           }
          ],
          "histogram": [
           {
            "marker": {
             "pattern": {
              "fillmode": "overlay",
              "size": 10,
              "solidity": 0.2
             }
            },
            "type": "histogram"
           }
          ],
          "histogram2d": [
           {
            "colorbar": {
             "outlinewidth": 0,
             "ticks": ""
            },
            "colorscale": [
             [
              0,
              "#0d0887"
             ],
             [
              0.1111111111111111,
              "#46039f"
             ],
             [
              0.2222222222222222,
              "#7201a8"
             ],
             [
              0.3333333333333333,
              "#9c179e"
             ],
             [
              0.4444444444444444,
              "#bd3786"
             ],
             [
              0.5555555555555556,
              "#d8576b"
             ],
             [
              0.6666666666666666,
              "#ed7953"
             ],
             [
              0.7777777777777778,
              "#fb9f3a"
             ],
             [
              0.8888888888888888,
              "#fdca26"
             ],
             [
              1,
              "#f0f921"
             ]
            ],
            "type": "histogram2d"
           }
          ],
          "histogram2dcontour": [
           {
            "colorbar": {
             "outlinewidth": 0,
             "ticks": ""
            },
            "colorscale": [
             [
              0,
              "#0d0887"
             ],
             [
              0.1111111111111111,
              "#46039f"
             ],
             [
              0.2222222222222222,
              "#7201a8"
             ],
             [
              0.3333333333333333,
              "#9c179e"
             ],
             [
              0.4444444444444444,
              "#bd3786"
             ],
             [
              0.5555555555555556,
              "#d8576b"
             ],
             [
              0.6666666666666666,
              "#ed7953"
             ],
             [
              0.7777777777777778,
              "#fb9f3a"
             ],
             [
              0.8888888888888888,
              "#fdca26"
             ],
             [
              1,
              "#f0f921"
             ]
            ],
            "type": "histogram2dcontour"
           }
          ],
          "mesh3d": [
           {
            "colorbar": {
             "outlinewidth": 0,
             "ticks": ""
            },
            "type": "mesh3d"
           }
          ],
          "parcoords": [
           {
            "line": {
             "colorbar": {
              "outlinewidth": 0,
              "ticks": ""
             }
            },
            "type": "parcoords"
           }
          ],
          "pie": [
           {
            "automargin": true,
            "type": "pie"
           }
          ],
          "scatter": [
           {
            "fillpattern": {
             "fillmode": "overlay",
             "size": 10,
             "solidity": 0.2
            },
            "type": "scatter"
           }
          ],
          "scatter3d": [
           {
            "line": {
             "colorbar": {
              "outlinewidth": 0,
              "ticks": ""
             }
            },
            "marker": {
             "colorbar": {
              "outlinewidth": 0,
              "ticks": ""
             }
            },
            "type": "scatter3d"
           }
          ],
          "scattercarpet": [
           {
            "marker": {
             "colorbar": {
              "outlinewidth": 0,
              "ticks": ""
             }
            },
            "type": "scattercarpet"
           }
          ],
          "scattergeo": [
           {
            "marker": {
             "colorbar": {
              "outlinewidth": 0,
              "ticks": ""
             }
            },
            "type": "scattergeo"
           }
          ],
          "scattergl": [
           {
            "marker": {
             "colorbar": {
              "outlinewidth": 0,
              "ticks": ""
             }
            },
            "type": "scattergl"
           }
          ],
          "scattermapbox": [
           {
            "marker": {
             "colorbar": {
              "outlinewidth": 0,
              "ticks": ""
             }
            },
            "type": "scattermapbox"
           }
          ],
          "scatterpolar": [
           {
            "marker": {
             "colorbar": {
              "outlinewidth": 0,
              "ticks": ""
             }
            },
            "type": "scatterpolar"
           }
          ],
          "scatterpolargl": [
           {
            "marker": {
             "colorbar": {
              "outlinewidth": 0,
              "ticks": ""
             }
            },
            "type": "scatterpolargl"
           }
          ],
          "scatterternary": [
           {
            "marker": {
             "colorbar": {
              "outlinewidth": 0,
              "ticks": ""
             }
            },
            "type": "scatterternary"
           }
          ],
          "surface": [
           {
            "colorbar": {
             "outlinewidth": 0,
             "ticks": ""
            },
            "colorscale": [
             [
              0,
              "#0d0887"
             ],
             [
              0.1111111111111111,
              "#46039f"
             ],
             [
              0.2222222222222222,
              "#7201a8"
             ],
             [
              0.3333333333333333,
              "#9c179e"
             ],
             [
              0.4444444444444444,
              "#bd3786"
             ],
             [
              0.5555555555555556,
              "#d8576b"
             ],
             [
              0.6666666666666666,
              "#ed7953"
             ],
             [
              0.7777777777777778,
              "#fb9f3a"
             ],
             [
              0.8888888888888888,
              "#fdca26"
             ],
             [
              1,
              "#f0f921"
             ]
            ],
            "type": "surface"
           }
          ],
          "table": [
           {
            "cells": {
             "fill": {
              "color": "#EBF0F8"
             },
             "line": {
              "color": "white"
             }
            },
            "header": {
             "fill": {
              "color": "#C8D4E3"
             },
             "line": {
              "color": "white"
             }
            },
            "type": "table"
           }
          ]
         },
         "layout": {
          "annotationdefaults": {
           "arrowcolor": "#2a3f5f",
           "arrowhead": 0,
           "arrowwidth": 1
          },
          "autotypenumbers": "strict",
          "coloraxis": {
           "colorbar": {
            "outlinewidth": 0,
            "ticks": ""
           }
          },
          "colorscale": {
           "diverging": [
            [
             0,
             "#8e0152"
            ],
            [
             0.1,
             "#c51b7d"
            ],
            [
             0.2,
             "#de77ae"
            ],
            [
             0.3,
             "#f1b6da"
            ],
            [
             0.4,
             "#fde0ef"
            ],
            [
             0.5,
             "#f7f7f7"
            ],
            [
             0.6,
             "#e6f5d0"
            ],
            [
             0.7,
             "#b8e186"
            ],
            [
             0.8,
             "#7fbc41"
            ],
            [
             0.9,
             "#4d9221"
            ],
            [
             1,
             "#276419"
            ]
           ],
           "sequential": [
            [
             0,
             "#0d0887"
            ],
            [
             0.1111111111111111,
             "#46039f"
            ],
            [
             0.2222222222222222,
             "#7201a8"
            ],
            [
             0.3333333333333333,
             "#9c179e"
            ],
            [
             0.4444444444444444,
             "#bd3786"
            ],
            [
             0.5555555555555556,
             "#d8576b"
            ],
            [
             0.6666666666666666,
             "#ed7953"
            ],
            [
             0.7777777777777778,
             "#fb9f3a"
            ],
            [
             0.8888888888888888,
             "#fdca26"
            ],
            [
             1,
             "#f0f921"
            ]
           ],
           "sequentialminus": [
            [
             0,
             "#0d0887"
            ],
            [
             0.1111111111111111,
             "#46039f"
            ],
            [
             0.2222222222222222,
             "#7201a8"
            ],
            [
             0.3333333333333333,
             "#9c179e"
            ],
            [
             0.4444444444444444,
             "#bd3786"
            ],
            [
             0.5555555555555556,
             "#d8576b"
            ],
            [
             0.6666666666666666,
             "#ed7953"
            ],
            [
             0.7777777777777778,
             "#fb9f3a"
            ],
            [
             0.8888888888888888,
             "#fdca26"
            ],
            [
             1,
             "#f0f921"
            ]
           ]
          },
          "colorway": [
           "#636efa",
           "#EF553B",
           "#00cc96",
           "#ab63fa",
           "#FFA15A",
           "#19d3f3",
           "#FF6692",
           "#B6E880",
           "#FF97FF",
           "#FECB52"
          ],
          "font": {
           "color": "#2a3f5f"
          },
          "geo": {
           "bgcolor": "white",
           "lakecolor": "white",
           "landcolor": "white",
           "showlakes": true,
           "showland": true,
           "subunitcolor": "#C8D4E3"
          },
          "hoverlabel": {
           "align": "left"
          },
          "hovermode": "closest",
          "mapbox": {
           "style": "light"
          },
          "paper_bgcolor": "white",
          "plot_bgcolor": "white",
          "polar": {
           "angularaxis": {
            "gridcolor": "#EBF0F8",
            "linecolor": "#EBF0F8",
            "ticks": ""
           },
           "bgcolor": "white",
           "radialaxis": {
            "gridcolor": "#EBF0F8",
            "linecolor": "#EBF0F8",
            "ticks": ""
           }
          },
          "scene": {
           "xaxis": {
            "backgroundcolor": "white",
            "gridcolor": "#DFE8F3",
            "gridwidth": 2,
            "linecolor": "#EBF0F8",
            "showbackground": true,
            "ticks": "",
            "zerolinecolor": "#EBF0F8"
           },
           "yaxis": {
            "backgroundcolor": "white",
            "gridcolor": "#DFE8F3",
            "gridwidth": 2,
            "linecolor": "#EBF0F8",
            "showbackground": true,
            "ticks": "",
            "zerolinecolor": "#EBF0F8"
           },
           "zaxis": {
            "backgroundcolor": "white",
            "gridcolor": "#DFE8F3",
            "gridwidth": 2,
            "linecolor": "#EBF0F8",
            "showbackground": true,
            "ticks": "",
            "zerolinecolor": "#EBF0F8"
           }
          },
          "shapedefaults": {
           "line": {
            "color": "#2a3f5f"
           }
          },
          "ternary": {
           "aaxis": {
            "gridcolor": "#DFE8F3",
            "linecolor": "#A2B1C6",
            "ticks": ""
           },
           "baxis": {
            "gridcolor": "#DFE8F3",
            "linecolor": "#A2B1C6",
            "ticks": ""
           },
           "bgcolor": "white",
           "caxis": {
            "gridcolor": "#DFE8F3",
            "linecolor": "#A2B1C6",
            "ticks": ""
           }
          },
          "title": {
           "x": 0.05
          },
          "xaxis": {
           "automargin": true,
           "gridcolor": "#EBF0F8",
           "linecolor": "#EBF0F8",
           "ticks": "",
           "title": {
            "standoff": 15
           },
           "zerolinecolor": "#EBF0F8",
           "zerolinewidth": 2
          },
          "yaxis": {
           "automargin": true,
           "gridcolor": "#EBF0F8",
           "linecolor": "#EBF0F8",
           "ticks": "",
           "title": {
            "standoff": 15
           },
           "zerolinecolor": "#EBF0F8",
           "zerolinewidth": 2
          }
         }
        },
        "title": {
         "text": "Countries with Disbursements < Commitments (2012 vs 2022)"
        },
        "width": 600,
        "xaxis": {
         "anchor": "y",
         "domain": [
          0,
          1
         ],
         "title": {
          "text": "Year"
         }
        },
        "yaxis": {
         "anchor": "x",
         "domain": [
          0,
          1
         ],
         "title": {
          "text": "Number of Countries"
         }
        }
       }
      },
      "text/html": [
       "<div>                            <div id=\"d25f91ba-9631-4a6d-9b03-0d684faf152e\" class=\"plotly-graph-div\" style=\"height:700px; width:600px;\"></div>            <script type=\"text/javascript\">                require([\"plotly\"], function(Plotly) {                    window.PLOTLYENV=window.PLOTLYENV || {};                                    if (document.getElementById(\"d25f91ba-9631-4a6d-9b03-0d684faf152e\")) {                    Plotly.newPlot(                        \"d25f91ba-9631-4a6d-9b03-0d684faf152e\",                        [{\"alignmentgroup\":\"True\",\"customdata\":[[140],[140]],\"hovertemplate\":\"Year=%{x}\\u003cbr\\u003eCountries Not Meeting Criteria=%{text}\\u003cbr\\u003eTotal Countries=%{customdata[0]}\\u003cextra\\u003e\\u003c\\u002fextra\\u003e\",\"legendgroup\":\"\",\"marker\":{\"color\":[\"purple\",\"pink\"],\"pattern\":{\"shape\":\"\"}},\"name\":\"\",\"offsetgroup\":\"\",\"orientation\":\"v\",\"showlegend\":false,\"text\":[89.0,106.0],\"textposition\":\"outside\",\"x\":[\"2012\",\"2022\"],\"xaxis\":\"x\",\"y\":[89,106],\"yaxis\":\"y\",\"type\":\"bar\"}],                        {\"template\":{\"data\":{\"barpolar\":[{\"marker\":{\"line\":{\"color\":\"white\",\"width\":0.5},\"pattern\":{\"fillmode\":\"overlay\",\"size\":10,\"solidity\":0.2}},\"type\":\"barpolar\"}],\"bar\":[{\"error_x\":{\"color\":\"#2a3f5f\"},\"error_y\":{\"color\":\"#2a3f5f\"},\"marker\":{\"line\":{\"color\":\"white\",\"width\":0.5},\"pattern\":{\"fillmode\":\"overlay\",\"size\":10,\"solidity\":0.2}},\"type\":\"bar\"}],\"carpet\":[{\"aaxis\":{\"endlinecolor\":\"#2a3f5f\",\"gridcolor\":\"#C8D4E3\",\"linecolor\":\"#C8D4E3\",\"minorgridcolor\":\"#C8D4E3\",\"startlinecolor\":\"#2a3f5f\"},\"baxis\":{\"endlinecolor\":\"#2a3f5f\",\"gridcolor\":\"#C8D4E3\",\"linecolor\":\"#C8D4E3\",\"minorgridcolor\":\"#C8D4E3\",\"startlinecolor\":\"#2a3f5f\"},\"type\":\"carpet\"}],\"choropleth\":[{\"colorbar\":{\"outlinewidth\":0,\"ticks\":\"\"},\"type\":\"choropleth\"}],\"contourcarpet\":[{\"colorbar\":{\"outlinewidth\":0,\"ticks\":\"\"},\"type\":\"contourcarpet\"}],\"contour\":[{\"colorbar\":{\"outlinewidth\":0,\"ticks\":\"\"},\"colorscale\":[[0.0,\"#0d0887\"],[0.1111111111111111,\"#46039f\"],[0.2222222222222222,\"#7201a8\"],[0.3333333333333333,\"#9c179e\"],[0.4444444444444444,\"#bd3786\"],[0.5555555555555556,\"#d8576b\"],[0.6666666666666666,\"#ed7953\"],[0.7777777777777778,\"#fb9f3a\"],[0.8888888888888888,\"#fdca26\"],[1.0,\"#f0f921\"]],\"type\":\"contour\"}],\"heatmapgl\":[{\"colorbar\":{\"outlinewidth\":0,\"ticks\":\"\"},\"colorscale\":[[0.0,\"#0d0887\"],[0.1111111111111111,\"#46039f\"],[0.2222222222222222,\"#7201a8\"],[0.3333333333333333,\"#9c179e\"],[0.4444444444444444,\"#bd3786\"],[0.5555555555555556,\"#d8576b\"],[0.6666666666666666,\"#ed7953\"],[0.7777777777777778,\"#fb9f3a\"],[0.8888888888888888,\"#fdca26\"],[1.0,\"#f0f921\"]],\"type\":\"heatmapgl\"}],\"heatmap\":[{\"colorbar\":{\"outlinewidth\":0,\"ticks\":\"\"},\"colorscale\":[[0.0,\"#0d0887\"],[0.1111111111111111,\"#46039f\"],[0.2222222222222222,\"#7201a8\"],[0.3333333333333333,\"#9c179e\"],[0.4444444444444444,\"#bd3786\"],[0.5555555555555556,\"#d8576b\"],[0.6666666666666666,\"#ed7953\"],[0.7777777777777778,\"#fb9f3a\"],[0.8888888888888888,\"#fdca26\"],[1.0,\"#f0f921\"]],\"type\":\"heatmap\"}],\"histogram2dcontour\":[{\"colorbar\":{\"outlinewidth\":0,\"ticks\":\"\"},\"colorscale\":[[0.0,\"#0d0887\"],[0.1111111111111111,\"#46039f\"],[0.2222222222222222,\"#7201a8\"],[0.3333333333333333,\"#9c179e\"],[0.4444444444444444,\"#bd3786\"],[0.5555555555555556,\"#d8576b\"],[0.6666666666666666,\"#ed7953\"],[0.7777777777777778,\"#fb9f3a\"],[0.8888888888888888,\"#fdca26\"],[1.0,\"#f0f921\"]],\"type\":\"histogram2dcontour\"}],\"histogram2d\":[{\"colorbar\":{\"outlinewidth\":0,\"ticks\":\"\"},\"colorscale\":[[0.0,\"#0d0887\"],[0.1111111111111111,\"#46039f\"],[0.2222222222222222,\"#7201a8\"],[0.3333333333333333,\"#9c179e\"],[0.4444444444444444,\"#bd3786\"],[0.5555555555555556,\"#d8576b\"],[0.6666666666666666,\"#ed7953\"],[0.7777777777777778,\"#fb9f3a\"],[0.8888888888888888,\"#fdca26\"],[1.0,\"#f0f921\"]],\"type\":\"histogram2d\"}],\"histogram\":[{\"marker\":{\"pattern\":{\"fillmode\":\"overlay\",\"size\":10,\"solidity\":0.2}},\"type\":\"histogram\"}],\"mesh3d\":[{\"colorbar\":{\"outlinewidth\":0,\"ticks\":\"\"},\"type\":\"mesh3d\"}],\"parcoords\":[{\"line\":{\"colorbar\":{\"outlinewidth\":0,\"ticks\":\"\"}},\"type\":\"parcoords\"}],\"pie\":[{\"automargin\":true,\"type\":\"pie\"}],\"scatter3d\":[{\"line\":{\"colorbar\":{\"outlinewidth\":0,\"ticks\":\"\"}},\"marker\":{\"colorbar\":{\"outlinewidth\":0,\"ticks\":\"\"}},\"type\":\"scatter3d\"}],\"scattercarpet\":[{\"marker\":{\"colorbar\":{\"outlinewidth\":0,\"ticks\":\"\"}},\"type\":\"scattercarpet\"}],\"scattergeo\":[{\"marker\":{\"colorbar\":{\"outlinewidth\":0,\"ticks\":\"\"}},\"type\":\"scattergeo\"}],\"scattergl\":[{\"marker\":{\"colorbar\":{\"outlinewidth\":0,\"ticks\":\"\"}},\"type\":\"scattergl\"}],\"scattermapbox\":[{\"marker\":{\"colorbar\":{\"outlinewidth\":0,\"ticks\":\"\"}},\"type\":\"scattermapbox\"}],\"scatterpolargl\":[{\"marker\":{\"colorbar\":{\"outlinewidth\":0,\"ticks\":\"\"}},\"type\":\"scatterpolargl\"}],\"scatterpolar\":[{\"marker\":{\"colorbar\":{\"outlinewidth\":0,\"ticks\":\"\"}},\"type\":\"scatterpolar\"}],\"scatter\":[{\"fillpattern\":{\"fillmode\":\"overlay\",\"size\":10,\"solidity\":0.2},\"type\":\"scatter\"}],\"scatterternary\":[{\"marker\":{\"colorbar\":{\"outlinewidth\":0,\"ticks\":\"\"}},\"type\":\"scatterternary\"}],\"surface\":[{\"colorbar\":{\"outlinewidth\":0,\"ticks\":\"\"},\"colorscale\":[[0.0,\"#0d0887\"],[0.1111111111111111,\"#46039f\"],[0.2222222222222222,\"#7201a8\"],[0.3333333333333333,\"#9c179e\"],[0.4444444444444444,\"#bd3786\"],[0.5555555555555556,\"#d8576b\"],[0.6666666666666666,\"#ed7953\"],[0.7777777777777778,\"#fb9f3a\"],[0.8888888888888888,\"#fdca26\"],[1.0,\"#f0f921\"]],\"type\":\"surface\"}],\"table\":[{\"cells\":{\"fill\":{\"color\":\"#EBF0F8\"},\"line\":{\"color\":\"white\"}},\"header\":{\"fill\":{\"color\":\"#C8D4E3\"},\"line\":{\"color\":\"white\"}},\"type\":\"table\"}]},\"layout\":{\"annotationdefaults\":{\"arrowcolor\":\"#2a3f5f\",\"arrowhead\":0,\"arrowwidth\":1},\"autotypenumbers\":\"strict\",\"coloraxis\":{\"colorbar\":{\"outlinewidth\":0,\"ticks\":\"\"}},\"colorscale\":{\"diverging\":[[0,\"#8e0152\"],[0.1,\"#c51b7d\"],[0.2,\"#de77ae\"],[0.3,\"#f1b6da\"],[0.4,\"#fde0ef\"],[0.5,\"#f7f7f7\"],[0.6,\"#e6f5d0\"],[0.7,\"#b8e186\"],[0.8,\"#7fbc41\"],[0.9,\"#4d9221\"],[1,\"#276419\"]],\"sequential\":[[0.0,\"#0d0887\"],[0.1111111111111111,\"#46039f\"],[0.2222222222222222,\"#7201a8\"],[0.3333333333333333,\"#9c179e\"],[0.4444444444444444,\"#bd3786\"],[0.5555555555555556,\"#d8576b\"],[0.6666666666666666,\"#ed7953\"],[0.7777777777777778,\"#fb9f3a\"],[0.8888888888888888,\"#fdca26\"],[1.0,\"#f0f921\"]],\"sequentialminus\":[[0.0,\"#0d0887\"],[0.1111111111111111,\"#46039f\"],[0.2222222222222222,\"#7201a8\"],[0.3333333333333333,\"#9c179e\"],[0.4444444444444444,\"#bd3786\"],[0.5555555555555556,\"#d8576b\"],[0.6666666666666666,\"#ed7953\"],[0.7777777777777778,\"#fb9f3a\"],[0.8888888888888888,\"#fdca26\"],[1.0,\"#f0f921\"]]},\"colorway\":[\"#636efa\",\"#EF553B\",\"#00cc96\",\"#ab63fa\",\"#FFA15A\",\"#19d3f3\",\"#FF6692\",\"#B6E880\",\"#FF97FF\",\"#FECB52\"],\"font\":{\"color\":\"#2a3f5f\"},\"geo\":{\"bgcolor\":\"white\",\"lakecolor\":\"white\",\"landcolor\":\"white\",\"showlakes\":true,\"showland\":true,\"subunitcolor\":\"#C8D4E3\"},\"hoverlabel\":{\"align\":\"left\"},\"hovermode\":\"closest\",\"mapbox\":{\"style\":\"light\"},\"paper_bgcolor\":\"white\",\"plot_bgcolor\":\"white\",\"polar\":{\"angularaxis\":{\"gridcolor\":\"#EBF0F8\",\"linecolor\":\"#EBF0F8\",\"ticks\":\"\"},\"bgcolor\":\"white\",\"radialaxis\":{\"gridcolor\":\"#EBF0F8\",\"linecolor\":\"#EBF0F8\",\"ticks\":\"\"}},\"scene\":{\"xaxis\":{\"backgroundcolor\":\"white\",\"gridcolor\":\"#DFE8F3\",\"gridwidth\":2,\"linecolor\":\"#EBF0F8\",\"showbackground\":true,\"ticks\":\"\",\"zerolinecolor\":\"#EBF0F8\"},\"yaxis\":{\"backgroundcolor\":\"white\",\"gridcolor\":\"#DFE8F3\",\"gridwidth\":2,\"linecolor\":\"#EBF0F8\",\"showbackground\":true,\"ticks\":\"\",\"zerolinecolor\":\"#EBF0F8\"},\"zaxis\":{\"backgroundcolor\":\"white\",\"gridcolor\":\"#DFE8F3\",\"gridwidth\":2,\"linecolor\":\"#EBF0F8\",\"showbackground\":true,\"ticks\":\"\",\"zerolinecolor\":\"#EBF0F8\"}},\"shapedefaults\":{\"line\":{\"color\":\"#2a3f5f\"}},\"ternary\":{\"aaxis\":{\"gridcolor\":\"#DFE8F3\",\"linecolor\":\"#A2B1C6\",\"ticks\":\"\"},\"baxis\":{\"gridcolor\":\"#DFE8F3\",\"linecolor\":\"#A2B1C6\",\"ticks\":\"\"},\"bgcolor\":\"white\",\"caxis\":{\"gridcolor\":\"#DFE8F3\",\"linecolor\":\"#A2B1C6\",\"ticks\":\"\"}},\"title\":{\"x\":0.05},\"xaxis\":{\"automargin\":true,\"gridcolor\":\"#EBF0F8\",\"linecolor\":\"#EBF0F8\",\"ticks\":\"\",\"title\":{\"standoff\":15},\"zerolinecolor\":\"#EBF0F8\",\"zerolinewidth\":2},\"yaxis\":{\"automargin\":true,\"gridcolor\":\"#EBF0F8\",\"linecolor\":\"#EBF0F8\",\"ticks\":\"\",\"title\":{\"standoff\":15},\"zerolinecolor\":\"#EBF0F8\",\"zerolinewidth\":2}}},\"xaxis\":{\"anchor\":\"y\",\"domain\":[0.0,1.0],\"title\":{\"text\":\"Year\"}},\"yaxis\":{\"anchor\":\"x\",\"domain\":[0.0,1.0],\"title\":{\"text\":\"Number of Countries\"}},\"legend\":{\"tracegroupgap\":0},\"title\":{\"text\":\"Countries with Disbursements \\u003c Commitments (2012 vs 2022)\"},\"barmode\":\"relative\",\"bargap\":0.6,\"width\":600,\"height\":700},                        {\"responsive\": true}                    ).then(function(){\n",
       "                            \n",
       "var gd = document.getElementById('d25f91ba-9631-4a6d-9b03-0d684faf152e');\n",
       "var x = new MutationObserver(function (mutations, observer) {{\n",
       "        var display = window.getComputedStyle(gd).display;\n",
       "        if (!display || display === 'none') {{\n",
       "            console.log([gd, 'removed!']);\n",
       "            Plotly.purge(gd);\n",
       "            observer.disconnect();\n",
       "        }}\n",
       "}});\n",
       "\n",
       "// Listen for the removal of the full notebook cells\n",
       "var notebookContainer = gd.closest('#notebook-container');\n",
       "if (notebookContainer) {{\n",
       "    x.observe(notebookContainer, {childList: true});\n",
       "}}\n",
       "\n",
       "// Listen for the clearing of the current output cell\n",
       "var outputEl = gd.closest('.output');\n",
       "if (outputEl) {{\n",
       "    x.observe(outputEl, {childList: true});\n",
       "}}\n",
       "\n",
       "                        })                };                });            </script>        </div>"
      ]
     },
     "metadata": {},
     "output_type": "display_data"
    }
   ],
   "source": [
    "fig = px.bar(\n",
    "    plot_data,\n",
    "    x='Year',\n",
    "    y='Countries Not Meeting Criteria',\n",
    "    text='Countries Not Meeting Criteria',\n",
    "    labels={'Countries Meeting Criteria': 'Number of Countries'},\n",
    "    title='Countries with Disbursements < Commitments (2012 vs 2022)',\n",
    "    hover_data={'Total Countries' : True} \n",
    ")\n",
    "\n",
    "fig.update_traces(\n",
    "     textposition='outside',\n",
    "    marker_color=['purple', 'pink']  # Different colors for bars\n",
    ")\n",
    "\n",
    "fig.update_layout(\n",
    "    xaxis_title='Year',\n",
    "    yaxis_title='Number of Countries',\n",
    "    template='plotly_white',\n",
    "    bargap=0.6,  \n",
    "    width=600,   \n",
    "    height=700 \n",
    ")\n",
    "\n",
    "fig.show()"
   ]
  },
  {
   "cell_type": "code",
   "execution_count": null,
   "metadata": {},
   "outputs": [],
   "source": []
  }
 ],
 "metadata": {
  "kernelspec": {
   "display_name": "base",
   "language": "python",
   "name": "python3"
  },
  "language_info": {
   "codemirror_mode": {
    "name": "ipython",
    "version": 3
   },
   "file_extension": ".py",
   "mimetype": "text/x-python",
   "name": "python",
   "nbconvert_exporter": "python",
   "pygments_lexer": "ipython3",
   "version": "3.12.2"
  }
 },
 "nbformat": 4,
 "nbformat_minor": 2
}
