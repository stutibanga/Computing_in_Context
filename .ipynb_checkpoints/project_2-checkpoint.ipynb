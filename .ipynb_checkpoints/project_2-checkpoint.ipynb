{
 "cells": [
  {
   "cell_type": "markdown",
   "id": "70bac9a7-7ea4-4722-ad53-68d9cb43ca41",
   "metadata": {},
   "source": [
    "### Finding the relationship between GDP and obesity levels (across 180 countries) in the year 2022 "
   ]
  },
  {
   "cell_type": "code",
   "execution_count": 74,
   "id": "d2fb1b49",
   "metadata": {},
   "outputs": [],
   "source": [
    "import plotly.io as pio\n",
    "\n",
    "pio.renderers.default = \"vscode+jupyterlab+notebook_connected\""
   ]
  },
  {
   "cell_type": "code",
   "execution_count": 75,
   "id": "a4f11e87-fe20-46fc-ba9e-ba62c245483d",
   "metadata": {},
   "outputs": [],
   "source": [
    "import pandas as pd\n",
    "\n",
    "import plotly.express as px\n"
   ]
  },
  {
   "cell_type": "markdown",
   "id": "9cb40b12-5451-4aa0-9a48-1e1ad9c6b153",
   "metadata": {},
   "source": [
    "## Step 1 : Loading the datasets\n",
    "- Loading the datasets for GDP (Gross Domestic Product per capita) and Obesity levels (Prevelance of Obesity in the adult population- 18 and older). \n",
    "-  Downloaded from FAO's website for the year 2022, setting 'Element' as 'Value'. \n",
    "- Links used:  https://www.fao.org/faostat/en/#data/FS and https://www.fao.org/faostat/en/#data/FS "
   ]
  },
  {
   "cell_type": "code",
   "execution_count": 76,
   "id": "89d00d1f-c6db-4aa6-806e-8d8bfe35b27f",
   "metadata": {},
   "outputs": [
    {
     "data": {
      "text/html": [
       "<div>\n",
       "<style scoped>\n",
       "    .dataframe tbody tr th:only-of-type {\n",
       "        vertical-align: middle;\n",
       "    }\n",
       "\n",
       "    .dataframe tbody tr th {\n",
       "        vertical-align: top;\n",
       "    }\n",
       "\n",
       "    .dataframe thead th {\n",
       "        text-align: right;\n",
       "    }\n",
       "</style>\n",
       "<table border=\"1\" class=\"dataframe\">\n",
       "  <thead>\n",
       "    <tr style=\"text-align: right;\">\n",
       "      <th></th>\n",
       "      <th>Domain Code</th>\n",
       "      <th>Domain</th>\n",
       "      <th>Area Code (M49)</th>\n",
       "      <th>Area</th>\n",
       "      <th>Element Code</th>\n",
       "      <th>Element</th>\n",
       "      <th>Item Code</th>\n",
       "      <th>Item</th>\n",
       "      <th>Year Code</th>\n",
       "      <th>Year</th>\n",
       "      <th>Unit</th>\n",
       "      <th>Value</th>\n",
       "      <th>Flag</th>\n",
       "      <th>Flag Description</th>\n",
       "      <th>Note</th>\n",
       "    </tr>\n",
       "  </thead>\n",
       "  <tbody>\n",
       "    <tr>\n",
       "      <th>0</th>\n",
       "      <td>FS</td>\n",
       "      <td>Suite of Food Security Indicators</td>\n",
       "      <td>8</td>\n",
       "      <td>Albania</td>\n",
       "      <td>6126</td>\n",
       "      <td>Value</td>\n",
       "      <td>22013</td>\n",
       "      <td>Gross domestic product per capita, PPP, (const...</td>\n",
       "      <td>2022</td>\n",
       "      <td>2022</td>\n",
       "      <td>Int$/cap</td>\n",
       "      <td>17261.0</td>\n",
       "      <td>X</td>\n",
       "      <td>Figure from international organizations</td>\n",
       "      <td>NaN</td>\n",
       "    </tr>\n",
       "    <tr>\n",
       "      <th>1</th>\n",
       "      <td>FS</td>\n",
       "      <td>Suite of Food Security Indicators</td>\n",
       "      <td>12</td>\n",
       "      <td>Algeria</td>\n",
       "      <td>6126</td>\n",
       "      <td>Value</td>\n",
       "      <td>22013</td>\n",
       "      <td>Gross domestic product per capita, PPP, (const...</td>\n",
       "      <td>2022</td>\n",
       "      <td>2022</td>\n",
       "      <td>Int$/cap</td>\n",
       "      <td>13090.9</td>\n",
       "      <td>X</td>\n",
       "      <td>Figure from international organizations</td>\n",
       "      <td>NaN</td>\n",
       "    </tr>\n",
       "    <tr>\n",
       "      <th>2</th>\n",
       "      <td>FS</td>\n",
       "      <td>Suite of Food Security Indicators</td>\n",
       "      <td>20</td>\n",
       "      <td>Andorra</td>\n",
       "      <td>6126</td>\n",
       "      <td>Value</td>\n",
       "      <td>22013</td>\n",
       "      <td>Gross domestic product per capita, PPP, (const...</td>\n",
       "      <td>2022</td>\n",
       "      <td>2022</td>\n",
       "      <td>Int$/cap</td>\n",
       "      <td>63379.0</td>\n",
       "      <td>X</td>\n",
       "      <td>Figure from international organizations</td>\n",
       "      <td>NaN</td>\n",
       "    </tr>\n",
       "    <tr>\n",
       "      <th>3</th>\n",
       "      <td>FS</td>\n",
       "      <td>Suite of Food Security Indicators</td>\n",
       "      <td>24</td>\n",
       "      <td>Angola</td>\n",
       "      <td>6126</td>\n",
       "      <td>Value</td>\n",
       "      <td>22013</td>\n",
       "      <td>Gross domestic product per capita, PPP, (const...</td>\n",
       "      <td>2022</td>\n",
       "      <td>2022</td>\n",
       "      <td>Int$/cap</td>\n",
       "      <td>7407.1</td>\n",
       "      <td>X</td>\n",
       "      <td>Figure from international organizations</td>\n",
       "      <td>NaN</td>\n",
       "    </tr>\n",
       "    <tr>\n",
       "      <th>4</th>\n",
       "      <td>FS</td>\n",
       "      <td>Suite of Food Security Indicators</td>\n",
       "      <td>28</td>\n",
       "      <td>Antigua and Barbuda</td>\n",
       "      <td>6126</td>\n",
       "      <td>Value</td>\n",
       "      <td>22013</td>\n",
       "      <td>Gross domestic product per capita, PPP, (const...</td>\n",
       "      <td>2022</td>\n",
       "      <td>2022</td>\n",
       "      <td>Int$/cap</td>\n",
       "      <td>27757.2</td>\n",
       "      <td>X</td>\n",
       "      <td>Figure from international organizations</td>\n",
       "      <td>NaN</td>\n",
       "    </tr>\n",
       "    <tr>\n",
       "      <th>...</th>\n",
       "      <td>...</td>\n",
       "      <td>...</td>\n",
       "      <td>...</td>\n",
       "      <td>...</td>\n",
       "      <td>...</td>\n",
       "      <td>...</td>\n",
       "      <td>...</td>\n",
       "      <td>...</td>\n",
       "      <td>...</td>\n",
       "      <td>...</td>\n",
       "      <td>...</td>\n",
       "      <td>...</td>\n",
       "      <td>...</td>\n",
       "      <td>...</td>\n",
       "      <td>...</td>\n",
       "    </tr>\n",
       "    <tr>\n",
       "      <th>178</th>\n",
       "      <td>FS</td>\n",
       "      <td>Suite of Food Security Indicators</td>\n",
       "      <td>860</td>\n",
       "      <td>Uzbekistan</td>\n",
       "      <td>6126</td>\n",
       "      <td>Value</td>\n",
       "      <td>22013</td>\n",
       "      <td>Gross domestic product per capita, PPP, (const...</td>\n",
       "      <td>2022</td>\n",
       "      <td>2022</td>\n",
       "      <td>Int$/cap</td>\n",
       "      <td>8447.5</td>\n",
       "      <td>X</td>\n",
       "      <td>Figure from international organizations</td>\n",
       "      <td>NaN</td>\n",
       "    </tr>\n",
       "    <tr>\n",
       "      <th>179</th>\n",
       "      <td>FS</td>\n",
       "      <td>Suite of Food Security Indicators</td>\n",
       "      <td>548</td>\n",
       "      <td>Vanuatu</td>\n",
       "      <td>6126</td>\n",
       "      <td>Value</td>\n",
       "      <td>22013</td>\n",
       "      <td>Gross domestic product per capita, PPP, (const...</td>\n",
       "      <td>2022</td>\n",
       "      <td>2022</td>\n",
       "      <td>Int$/cap</td>\n",
       "      <td>3074.1</td>\n",
       "      <td>X</td>\n",
       "      <td>Figure from international organizations</td>\n",
       "      <td>NaN</td>\n",
       "    </tr>\n",
       "    <tr>\n",
       "      <th>180</th>\n",
       "      <td>FS</td>\n",
       "      <td>Suite of Food Security Indicators</td>\n",
       "      <td>704</td>\n",
       "      <td>Viet Nam</td>\n",
       "      <td>6126</td>\n",
       "      <td>Value</td>\n",
       "      <td>22013</td>\n",
       "      <td>Gross domestic product per capita, PPP, (const...</td>\n",
       "      <td>2022</td>\n",
       "      <td>2022</td>\n",
       "      <td>Int$/cap</td>\n",
       "      <td>13102.3</td>\n",
       "      <td>X</td>\n",
       "      <td>Figure from international organizations</td>\n",
       "      <td>NaN</td>\n",
       "    </tr>\n",
       "    <tr>\n",
       "      <th>181</th>\n",
       "      <td>FS</td>\n",
       "      <td>Suite of Food Security Indicators</td>\n",
       "      <td>894</td>\n",
       "      <td>Zambia</td>\n",
       "      <td>6126</td>\n",
       "      <td>Value</td>\n",
       "      <td>22013</td>\n",
       "      <td>Gross domestic product per capita, PPP, (const...</td>\n",
       "      <td>2022</td>\n",
       "      <td>2022</td>\n",
       "      <td>Int$/cap</td>\n",
       "      <td>3610.7</td>\n",
       "      <td>X</td>\n",
       "      <td>Figure from international organizations</td>\n",
       "      <td>NaN</td>\n",
       "    </tr>\n",
       "    <tr>\n",
       "      <th>182</th>\n",
       "      <td>FS</td>\n",
       "      <td>Suite of Food Security Indicators</td>\n",
       "      <td>716</td>\n",
       "      <td>Zimbabwe</td>\n",
       "      <td>6126</td>\n",
       "      <td>Value</td>\n",
       "      <td>22013</td>\n",
       "      <td>Gross domestic product per capita, PPP, (const...</td>\n",
       "      <td>2022</td>\n",
       "      <td>2022</td>\n",
       "      <td>Int$/cap</td>\n",
       "      <td>3420.0</td>\n",
       "      <td>X</td>\n",
       "      <td>Figure from international organizations</td>\n",
       "      <td>NaN</td>\n",
       "    </tr>\n",
       "  </tbody>\n",
       "</table>\n",
       "<p>183 rows × 15 columns</p>\n",
       "</div>"
      ],
      "text/plain": [
       "    Domain Code                             Domain  Area Code (M49)  \\\n",
       "0            FS  Suite of Food Security Indicators                8   \n",
       "1            FS  Suite of Food Security Indicators               12   \n",
       "2            FS  Suite of Food Security Indicators               20   \n",
       "3            FS  Suite of Food Security Indicators               24   \n",
       "4            FS  Suite of Food Security Indicators               28   \n",
       "..          ...                                ...              ...   \n",
       "178          FS  Suite of Food Security Indicators              860   \n",
       "179          FS  Suite of Food Security Indicators              548   \n",
       "180          FS  Suite of Food Security Indicators              704   \n",
       "181          FS  Suite of Food Security Indicators              894   \n",
       "182          FS  Suite of Food Security Indicators              716   \n",
       "\n",
       "                    Area  Element Code Element  Item Code  \\\n",
       "0                Albania          6126   Value      22013   \n",
       "1                Algeria          6126   Value      22013   \n",
       "2                Andorra          6126   Value      22013   \n",
       "3                 Angola          6126   Value      22013   \n",
       "4    Antigua and Barbuda          6126   Value      22013   \n",
       "..                   ...           ...     ...        ...   \n",
       "178           Uzbekistan          6126   Value      22013   \n",
       "179              Vanuatu          6126   Value      22013   \n",
       "180             Viet Nam          6126   Value      22013   \n",
       "181               Zambia          6126   Value      22013   \n",
       "182             Zimbabwe          6126   Value      22013   \n",
       "\n",
       "                                                  Item  Year Code  Year  \\\n",
       "0    Gross domestic product per capita, PPP, (const...       2022  2022   \n",
       "1    Gross domestic product per capita, PPP, (const...       2022  2022   \n",
       "2    Gross domestic product per capita, PPP, (const...       2022  2022   \n",
       "3    Gross domestic product per capita, PPP, (const...       2022  2022   \n",
       "4    Gross domestic product per capita, PPP, (const...       2022  2022   \n",
       "..                                                 ...        ...   ...   \n",
       "178  Gross domestic product per capita, PPP, (const...       2022  2022   \n",
       "179  Gross domestic product per capita, PPP, (const...       2022  2022   \n",
       "180  Gross domestic product per capita, PPP, (const...       2022  2022   \n",
       "181  Gross domestic product per capita, PPP, (const...       2022  2022   \n",
       "182  Gross domestic product per capita, PPP, (const...       2022  2022   \n",
       "\n",
       "         Unit    Value Flag                         Flag Description  Note  \n",
       "0    Int$/cap  17261.0    X  Figure from international organizations   NaN  \n",
       "1    Int$/cap  13090.9    X  Figure from international organizations   NaN  \n",
       "2    Int$/cap  63379.0    X  Figure from international organizations   NaN  \n",
       "3    Int$/cap   7407.1    X  Figure from international organizations   NaN  \n",
       "4    Int$/cap  27757.2    X  Figure from international organizations   NaN  \n",
       "..        ...      ...  ...                                      ...   ...  \n",
       "178  Int$/cap   8447.5    X  Figure from international organizations   NaN  \n",
       "179  Int$/cap   3074.1    X  Figure from international organizations   NaN  \n",
       "180  Int$/cap  13102.3    X  Figure from international organizations   NaN  \n",
       "181  Int$/cap   3610.7    X  Figure from international organizations   NaN  \n",
       "182  Int$/cap   3420.0    X  Figure from international organizations   NaN  \n",
       "\n",
       "[183 rows x 15 columns]"
      ]
     },
     "execution_count": 76,
     "metadata": {},
     "output_type": "execute_result"
    }
   ],
   "source": [
    "df_gdp = pd.read_csv (\"gdp.csv\")\n",
    "df_gdp"
   ]
  },
  {
   "cell_type": "code",
   "execution_count": 77,
   "id": "5bd6ce0b-bed7-4659-87a5-3ed26da526c9",
   "metadata": {},
   "outputs": [
    {
     "data": {
      "text/html": [
       "<div>\n",
       "<style scoped>\n",
       "    .dataframe tbody tr th:only-of-type {\n",
       "        vertical-align: middle;\n",
       "    }\n",
       "\n",
       "    .dataframe tbody tr th {\n",
       "        vertical-align: top;\n",
       "    }\n",
       "\n",
       "    .dataframe thead th {\n",
       "        text-align: right;\n",
       "    }\n",
       "</style>\n",
       "<table border=\"1\" class=\"dataframe\">\n",
       "  <thead>\n",
       "    <tr style=\"text-align: right;\">\n",
       "      <th></th>\n",
       "      <th>Domain Code</th>\n",
       "      <th>Domain</th>\n",
       "      <th>Area Code (M49)</th>\n",
       "      <th>Area</th>\n",
       "      <th>Element Code</th>\n",
       "      <th>Element</th>\n",
       "      <th>Item Code</th>\n",
       "      <th>Item</th>\n",
       "      <th>Year Code</th>\n",
       "      <th>Year</th>\n",
       "      <th>Unit</th>\n",
       "      <th>Value</th>\n",
       "      <th>Flag</th>\n",
       "      <th>Flag Description</th>\n",
       "      <th>Note</th>\n",
       "    </tr>\n",
       "  </thead>\n",
       "  <tbody>\n",
       "    <tr>\n",
       "      <th>0</th>\n",
       "      <td>FS</td>\n",
       "      <td>Suite of Food Security Indicators</td>\n",
       "      <td>4</td>\n",
       "      <td>Afghanistan</td>\n",
       "      <td>6121</td>\n",
       "      <td>Value</td>\n",
       "      <td>21042</td>\n",
       "      <td>Prevalence of obesity in the adult population ...</td>\n",
       "      <td>2022</td>\n",
       "      <td>2022</td>\n",
       "      <td>%</td>\n",
       "      <td>19.2</td>\n",
       "      <td>X</td>\n",
       "      <td>Figure from international organizations</td>\n",
       "      <td>NaN</td>\n",
       "    </tr>\n",
       "    <tr>\n",
       "      <th>1</th>\n",
       "      <td>FS</td>\n",
       "      <td>Suite of Food Security Indicators</td>\n",
       "      <td>8</td>\n",
       "      <td>Albania</td>\n",
       "      <td>6121</td>\n",
       "      <td>Value</td>\n",
       "      <td>21042</td>\n",
       "      <td>Prevalence of obesity in the adult population ...</td>\n",
       "      <td>2022</td>\n",
       "      <td>2022</td>\n",
       "      <td>%</td>\n",
       "      <td>23.4</td>\n",
       "      <td>X</td>\n",
       "      <td>Figure from international organizations</td>\n",
       "      <td>NaN</td>\n",
       "    </tr>\n",
       "    <tr>\n",
       "      <th>2</th>\n",
       "      <td>FS</td>\n",
       "      <td>Suite of Food Security Indicators</td>\n",
       "      <td>12</td>\n",
       "      <td>Algeria</td>\n",
       "      <td>6121</td>\n",
       "      <td>Value</td>\n",
       "      <td>21042</td>\n",
       "      <td>Prevalence of obesity in the adult population ...</td>\n",
       "      <td>2022</td>\n",
       "      <td>2022</td>\n",
       "      <td>%</td>\n",
       "      <td>23.8</td>\n",
       "      <td>X</td>\n",
       "      <td>Figure from international organizations</td>\n",
       "      <td>NaN</td>\n",
       "    </tr>\n",
       "    <tr>\n",
       "      <th>3</th>\n",
       "      <td>FS</td>\n",
       "      <td>Suite of Food Security Indicators</td>\n",
       "      <td>16</td>\n",
       "      <td>American Samoa</td>\n",
       "      <td>6121</td>\n",
       "      <td>Value</td>\n",
       "      <td>21042</td>\n",
       "      <td>Prevalence of obesity in the adult population ...</td>\n",
       "      <td>2022</td>\n",
       "      <td>2022</td>\n",
       "      <td>%</td>\n",
       "      <td>75.2</td>\n",
       "      <td>X</td>\n",
       "      <td>Figure from international organizations</td>\n",
       "      <td>NaN</td>\n",
       "    </tr>\n",
       "    <tr>\n",
       "      <th>4</th>\n",
       "      <td>FS</td>\n",
       "      <td>Suite of Food Security Indicators</td>\n",
       "      <td>20</td>\n",
       "      <td>Andorra</td>\n",
       "      <td>6121</td>\n",
       "      <td>Value</td>\n",
       "      <td>21042</td>\n",
       "      <td>Prevalence of obesity in the adult population ...</td>\n",
       "      <td>2022</td>\n",
       "      <td>2022</td>\n",
       "      <td>%</td>\n",
       "      <td>18.1</td>\n",
       "      <td>X</td>\n",
       "      <td>Figure from international organizations</td>\n",
       "      <td>NaN</td>\n",
       "    </tr>\n",
       "    <tr>\n",
       "      <th>...</th>\n",
       "      <td>...</td>\n",
       "      <td>...</td>\n",
       "      <td>...</td>\n",
       "      <td>...</td>\n",
       "      <td>...</td>\n",
       "      <td>...</td>\n",
       "      <td>...</td>\n",
       "      <td>...</td>\n",
       "      <td>...</td>\n",
       "      <td>...</td>\n",
       "      <td>...</td>\n",
       "      <td>...</td>\n",
       "      <td>...</td>\n",
       "      <td>...</td>\n",
       "      <td>...</td>\n",
       "    </tr>\n",
       "    <tr>\n",
       "      <th>194</th>\n",
       "      <td>FS</td>\n",
       "      <td>Suite of Food Security Indicators</td>\n",
       "      <td>862</td>\n",
       "      <td>Venezuela (Bolivarian Republic of)</td>\n",
       "      <td>6121</td>\n",
       "      <td>Value</td>\n",
       "      <td>21042</td>\n",
       "      <td>Prevalence of obesity in the adult population ...</td>\n",
       "      <td>2022</td>\n",
       "      <td>2022</td>\n",
       "      <td>%</td>\n",
       "      <td>22.7</td>\n",
       "      <td>X</td>\n",
       "      <td>Figure from international organizations</td>\n",
       "      <td>NaN</td>\n",
       "    </tr>\n",
       "    <tr>\n",
       "      <th>195</th>\n",
       "      <td>FS</td>\n",
       "      <td>Suite of Food Security Indicators</td>\n",
       "      <td>704</td>\n",
       "      <td>Viet Nam</td>\n",
       "      <td>6121</td>\n",
       "      <td>Value</td>\n",
       "      <td>21042</td>\n",
       "      <td>Prevalence of obesity in the adult population ...</td>\n",
       "      <td>2022</td>\n",
       "      <td>2022</td>\n",
       "      <td>%</td>\n",
       "      <td>2.0</td>\n",
       "      <td>X</td>\n",
       "      <td>Figure from international organizations</td>\n",
       "      <td>NaN</td>\n",
       "    </tr>\n",
       "    <tr>\n",
       "      <th>196</th>\n",
       "      <td>FS</td>\n",
       "      <td>Suite of Food Security Indicators</td>\n",
       "      <td>887</td>\n",
       "      <td>Yemen</td>\n",
       "      <td>6121</td>\n",
       "      <td>Value</td>\n",
       "      <td>21042</td>\n",
       "      <td>Prevalence of obesity in the adult population ...</td>\n",
       "      <td>2022</td>\n",
       "      <td>2022</td>\n",
       "      <td>%</td>\n",
       "      <td>13.7</td>\n",
       "      <td>X</td>\n",
       "      <td>Figure from international organizations</td>\n",
       "      <td>NaN</td>\n",
       "    </tr>\n",
       "    <tr>\n",
       "      <th>197</th>\n",
       "      <td>FS</td>\n",
       "      <td>Suite of Food Security Indicators</td>\n",
       "      <td>894</td>\n",
       "      <td>Zambia</td>\n",
       "      <td>6121</td>\n",
       "      <td>Value</td>\n",
       "      <td>21042</td>\n",
       "      <td>Prevalence of obesity in the adult population ...</td>\n",
       "      <td>2022</td>\n",
       "      <td>2022</td>\n",
       "      <td>%</td>\n",
       "      <td>11.1</td>\n",
       "      <td>X</td>\n",
       "      <td>Figure from international organizations</td>\n",
       "      <td>NaN</td>\n",
       "    </tr>\n",
       "    <tr>\n",
       "      <th>198</th>\n",
       "      <td>FS</td>\n",
       "      <td>Suite of Food Security Indicators</td>\n",
       "      <td>716</td>\n",
       "      <td>Zimbabwe</td>\n",
       "      <td>6121</td>\n",
       "      <td>Value</td>\n",
       "      <td>21042</td>\n",
       "      <td>Prevalence of obesity in the adult population ...</td>\n",
       "      <td>2022</td>\n",
       "      <td>2022</td>\n",
       "      <td>%</td>\n",
       "      <td>14.2</td>\n",
       "      <td>X</td>\n",
       "      <td>Figure from international organizations</td>\n",
       "      <td>NaN</td>\n",
       "    </tr>\n",
       "  </tbody>\n",
       "</table>\n",
       "<p>199 rows × 15 columns</p>\n",
       "</div>"
      ],
      "text/plain": [
       "    Domain Code                             Domain  Area Code (M49)  \\\n",
       "0            FS  Suite of Food Security Indicators                4   \n",
       "1            FS  Suite of Food Security Indicators                8   \n",
       "2            FS  Suite of Food Security Indicators               12   \n",
       "3            FS  Suite of Food Security Indicators               16   \n",
       "4            FS  Suite of Food Security Indicators               20   \n",
       "..          ...                                ...              ...   \n",
       "194          FS  Suite of Food Security Indicators              862   \n",
       "195          FS  Suite of Food Security Indicators              704   \n",
       "196          FS  Suite of Food Security Indicators              887   \n",
       "197          FS  Suite of Food Security Indicators              894   \n",
       "198          FS  Suite of Food Security Indicators              716   \n",
       "\n",
       "                                   Area  Element Code Element  Item Code  \\\n",
       "0                           Afghanistan          6121   Value      21042   \n",
       "1                               Albania          6121   Value      21042   \n",
       "2                               Algeria          6121   Value      21042   \n",
       "3                        American Samoa          6121   Value      21042   \n",
       "4                               Andorra          6121   Value      21042   \n",
       "..                                  ...           ...     ...        ...   \n",
       "194  Venezuela (Bolivarian Republic of)          6121   Value      21042   \n",
       "195                            Viet Nam          6121   Value      21042   \n",
       "196                               Yemen          6121   Value      21042   \n",
       "197                              Zambia          6121   Value      21042   \n",
       "198                            Zimbabwe          6121   Value      21042   \n",
       "\n",
       "                                                  Item  Year Code  Year Unit  \\\n",
       "0    Prevalence of obesity in the adult population ...       2022  2022    %   \n",
       "1    Prevalence of obesity in the adult population ...       2022  2022    %   \n",
       "2    Prevalence of obesity in the adult population ...       2022  2022    %   \n",
       "3    Prevalence of obesity in the adult population ...       2022  2022    %   \n",
       "4    Prevalence of obesity in the adult population ...       2022  2022    %   \n",
       "..                                                 ...        ...   ...  ...   \n",
       "194  Prevalence of obesity in the adult population ...       2022  2022    %   \n",
       "195  Prevalence of obesity in the adult population ...       2022  2022    %   \n",
       "196  Prevalence of obesity in the adult population ...       2022  2022    %   \n",
       "197  Prevalence of obesity in the adult population ...       2022  2022    %   \n",
       "198  Prevalence of obesity in the adult population ...       2022  2022    %   \n",
       "\n",
       "     Value Flag                         Flag Description  Note  \n",
       "0     19.2    X  Figure from international organizations   NaN  \n",
       "1     23.4    X  Figure from international organizations   NaN  \n",
       "2     23.8    X  Figure from international organizations   NaN  \n",
       "3     75.2    X  Figure from international organizations   NaN  \n",
       "4     18.1    X  Figure from international organizations   NaN  \n",
       "..     ...  ...                                      ...   ...  \n",
       "194   22.7    X  Figure from international organizations   NaN  \n",
       "195    2.0    X  Figure from international organizations   NaN  \n",
       "196   13.7    X  Figure from international organizations   NaN  \n",
       "197   11.1    X  Figure from international organizations   NaN  \n",
       "198   14.2    X  Figure from international organizations   NaN  \n",
       "\n",
       "[199 rows x 15 columns]"
      ]
     },
     "execution_count": 77,
     "metadata": {},
     "output_type": "execute_result"
    }
   ],
   "source": [
    "df_obesity = pd.read_csv (\"obesity.csv\")\n",
    "df_obesity"
   ]
  },
  {
   "cell_type": "markdown",
   "id": "68b13b68-bf36-4357-b060-4a7236705704",
   "metadata": {},
   "source": [
    "## Step 2 : Cleaning and Filtering the Data Sets\n",
    "- Based on the steps above, we can identify that both datasets have different number of countries included (183 vs 199 rows. \n",
    "- This is a given since all other rows such as 'year' 'description' 'domain' etc are constant, i.e. have consistent values. \n",
    "- Therefore, in order to merge the data sets, we need to first filter the data in order to ensure that the countries in both data sets match.\n",
    "- This can be done in the following way- "
   ]
  },
  {
   "cell_type": "code",
   "execution_count": 78,
   "id": "706abb75-45f1-4cd5-9d3a-a74726456544",
   "metadata": {},
   "outputs": [
    {
     "data": {
      "text/plain": [
       "{'Albania',\n",
       " 'Algeria',\n",
       " 'Andorra',\n",
       " 'Angola',\n",
       " 'Antigua and Barbuda',\n",
       " 'Argentina',\n",
       " 'Armenia',\n",
       " 'Australia',\n",
       " 'Austria',\n",
       " 'Azerbaijan',\n",
       " 'Bahamas',\n",
       " 'Bahrain',\n",
       " 'Bangladesh',\n",
       " 'Barbados',\n",
       " 'Belarus',\n",
       " 'Belgium',\n",
       " 'Belize',\n",
       " 'Benin',\n",
       " 'Bermuda',\n",
       " 'Bolivia (Plurinational State of)',\n",
       " 'Bosnia and Herzegovina',\n",
       " 'Botswana',\n",
       " 'Brazil',\n",
       " 'Brunei Darussalam',\n",
       " 'Bulgaria',\n",
       " 'Burkina Faso',\n",
       " 'Burundi',\n",
       " 'Cabo Verde',\n",
       " 'Cambodia',\n",
       " 'Cameroon',\n",
       " 'Canada',\n",
       " 'Central African Republic',\n",
       " 'Chad',\n",
       " 'Chile',\n",
       " 'China',\n",
       " 'China, Hong Kong SAR',\n",
       " 'China, Macao SAR',\n",
       " 'China, mainland',\n",
       " 'Colombia',\n",
       " 'Comoros',\n",
       " 'Congo',\n",
       " 'Costa Rica',\n",
       " 'Croatia',\n",
       " 'Cyprus',\n",
       " 'Czechia',\n",
       " \"Côte d'Ivoire\",\n",
       " 'Democratic Republic of the Congo',\n",
       " 'Denmark',\n",
       " 'Djibouti',\n",
       " 'Dominica',\n",
       " 'Dominican Republic',\n",
       " 'Ecuador',\n",
       " 'Egypt',\n",
       " 'El Salvador',\n",
       " 'Equatorial Guinea',\n",
       " 'Estonia',\n",
       " 'Eswatini',\n",
       " 'Ethiopia',\n",
       " 'Fiji',\n",
       " 'Finland',\n",
       " 'France',\n",
       " 'Gabon',\n",
       " 'Gambia',\n",
       " 'Georgia',\n",
       " 'Germany',\n",
       " 'Ghana',\n",
       " 'Greece',\n",
       " 'Grenada',\n",
       " 'Guatemala',\n",
       " 'Guinea',\n",
       " 'Guinea-Bissau',\n",
       " 'Guyana',\n",
       " 'Haiti',\n",
       " 'Honduras',\n",
       " 'Hungary',\n",
       " 'Iceland',\n",
       " 'India',\n",
       " 'Indonesia',\n",
       " 'Iran (Islamic Republic of)',\n",
       " 'Iraq',\n",
       " 'Ireland',\n",
       " 'Israel',\n",
       " 'Italy',\n",
       " 'Jamaica',\n",
       " 'Japan',\n",
       " 'Jordan',\n",
       " 'Kazakhstan',\n",
       " 'Kenya',\n",
       " 'Kiribati',\n",
       " 'Kuwait',\n",
       " 'Kyrgyzstan',\n",
       " \"Lao People's Democratic Republic\",\n",
       " 'Latvia',\n",
       " 'Lesotho',\n",
       " 'Liberia',\n",
       " 'Libya',\n",
       " 'Lithuania',\n",
       " 'Luxembourg',\n",
       " 'Madagascar',\n",
       " 'Malawi',\n",
       " 'Malaysia',\n",
       " 'Maldives',\n",
       " 'Mali',\n",
       " 'Malta',\n",
       " 'Marshall Islands',\n",
       " 'Mauritania',\n",
       " 'Mauritius',\n",
       " 'Mexico',\n",
       " 'Micronesia (Federated States of)',\n",
       " 'Mongolia',\n",
       " 'Montenegro',\n",
       " 'Morocco',\n",
       " 'Mozambique',\n",
       " 'Myanmar',\n",
       " 'Namibia',\n",
       " 'Nauru',\n",
       " 'Nepal',\n",
       " 'Netherlands (Kingdom of the)',\n",
       " 'New Zealand',\n",
       " 'Nicaragua',\n",
       " 'Niger',\n",
       " 'Nigeria',\n",
       " 'North Macedonia',\n",
       " 'Norway',\n",
       " 'Oman',\n",
       " 'Pakistan',\n",
       " 'Palestine',\n",
       " 'Panama',\n",
       " 'Papua New Guinea',\n",
       " 'Paraguay',\n",
       " 'Peru',\n",
       " 'Philippines',\n",
       " 'Poland',\n",
       " 'Portugal',\n",
       " 'Puerto Rico',\n",
       " 'Qatar',\n",
       " 'Republic of Korea',\n",
       " 'Republic of Moldova',\n",
       " 'Romania',\n",
       " 'Russian Federation',\n",
       " 'Rwanda',\n",
       " 'Saint Kitts and Nevis',\n",
       " 'Saint Lucia',\n",
       " 'Saint Vincent and the Grenadines',\n",
       " 'Samoa',\n",
       " 'Sao Tome and Principe',\n",
       " 'Saudi Arabia',\n",
       " 'Senegal',\n",
       " 'Serbia',\n",
       " 'Seychelles',\n",
       " 'Sierra Leone',\n",
       " 'Singapore',\n",
       " 'Slovakia',\n",
       " 'Slovenia',\n",
       " 'Solomon Islands',\n",
       " 'Somalia',\n",
       " 'South Africa',\n",
       " 'Spain',\n",
       " 'Sri Lanka',\n",
       " 'Sudan',\n",
       " 'Suriname',\n",
       " 'Sweden',\n",
       " 'Switzerland',\n",
       " 'Tajikistan',\n",
       " 'Thailand',\n",
       " 'Timor-Leste',\n",
       " 'Togo',\n",
       " 'Trinidad and Tobago',\n",
       " 'Tunisia',\n",
       " 'Tuvalu',\n",
       " 'Türkiye',\n",
       " 'Uganda',\n",
       " 'Ukraine',\n",
       " 'United Arab Emirates',\n",
       " 'United Kingdom of Great Britain and Northern Ireland',\n",
       " 'United Republic of Tanzania',\n",
       " 'United States of America',\n",
       " 'Uruguay',\n",
       " 'Uzbekistan',\n",
       " 'Vanuatu',\n",
       " 'Viet Nam',\n",
       " 'Zambia',\n",
       " 'Zimbabwe'}"
      ]
     },
     "execution_count": 78,
     "metadata": {},
     "output_type": "execute_result"
    }
   ],
   "source": [
    "gdp_areas = set(df_gdp['Area'].unique())\n",
    "gdp_areas"
   ]
  },
  {
   "cell_type": "code",
   "execution_count": 79,
   "id": "21b87558-f03b-449e-9f36-ddcf19aee552",
   "metadata": {},
   "outputs": [
    {
     "data": {
      "text/plain": [
       "{'Afghanistan',\n",
       " 'Albania',\n",
       " 'Algeria',\n",
       " 'American Samoa',\n",
       " 'Andorra',\n",
       " 'Angola',\n",
       " 'Antigua and Barbuda',\n",
       " 'Argentina',\n",
       " 'Armenia',\n",
       " 'Australia',\n",
       " 'Austria',\n",
       " 'Azerbaijan',\n",
       " 'Bahamas',\n",
       " 'Bahrain',\n",
       " 'Bangladesh',\n",
       " 'Barbados',\n",
       " 'Belarus',\n",
       " 'Belgium',\n",
       " 'Belize',\n",
       " 'Benin',\n",
       " 'Bermuda',\n",
       " 'Bhutan',\n",
       " 'Bolivia (Plurinational State of)',\n",
       " 'Bosnia and Herzegovina',\n",
       " 'Botswana',\n",
       " 'Brazil',\n",
       " 'Brunei Darussalam',\n",
       " 'Bulgaria',\n",
       " 'Burkina Faso',\n",
       " 'Burundi',\n",
       " 'Cabo Verde',\n",
       " 'Cambodia',\n",
       " 'Cameroon',\n",
       " 'Canada',\n",
       " 'Central African Republic',\n",
       " 'Chad',\n",
       " 'Chile',\n",
       " 'China',\n",
       " 'Colombia',\n",
       " 'Comoros',\n",
       " 'Congo',\n",
       " 'Cook Islands',\n",
       " 'Costa Rica',\n",
       " 'Croatia',\n",
       " 'Cuba',\n",
       " 'Cyprus',\n",
       " 'Czechia',\n",
       " \"Côte d'Ivoire\",\n",
       " \"Democratic People's Republic of Korea\",\n",
       " 'Democratic Republic of the Congo',\n",
       " 'Denmark',\n",
       " 'Djibouti',\n",
       " 'Dominica',\n",
       " 'Dominican Republic',\n",
       " 'Ecuador',\n",
       " 'Egypt',\n",
       " 'El Salvador',\n",
       " 'Equatorial Guinea',\n",
       " 'Eritrea',\n",
       " 'Estonia',\n",
       " 'Eswatini',\n",
       " 'Ethiopia',\n",
       " 'Fiji',\n",
       " 'Finland',\n",
       " 'France',\n",
       " 'French Polynesia',\n",
       " 'Gabon',\n",
       " 'Gambia',\n",
       " 'Georgia',\n",
       " 'Germany',\n",
       " 'Ghana',\n",
       " 'Greece',\n",
       " 'Greenland',\n",
       " 'Grenada',\n",
       " 'Guatemala',\n",
       " 'Guinea',\n",
       " 'Guinea-Bissau',\n",
       " 'Guyana',\n",
       " 'Haiti',\n",
       " 'Honduras',\n",
       " 'Hungary',\n",
       " 'Iceland',\n",
       " 'India',\n",
       " 'Indonesia',\n",
       " 'Iran (Islamic Republic of)',\n",
       " 'Iraq',\n",
       " 'Ireland',\n",
       " 'Israel',\n",
       " 'Italy',\n",
       " 'Jamaica',\n",
       " 'Japan',\n",
       " 'Jordan',\n",
       " 'Kazakhstan',\n",
       " 'Kenya',\n",
       " 'Kiribati',\n",
       " 'Kuwait',\n",
       " 'Kyrgyzstan',\n",
       " \"Lao People's Democratic Republic\",\n",
       " 'Latvia',\n",
       " 'Lebanon',\n",
       " 'Lesotho',\n",
       " 'Liberia',\n",
       " 'Libya',\n",
       " 'Lithuania',\n",
       " 'Luxembourg',\n",
       " 'Madagascar',\n",
       " 'Malawi',\n",
       " 'Malaysia',\n",
       " 'Maldives',\n",
       " 'Mali',\n",
       " 'Malta',\n",
       " 'Marshall Islands',\n",
       " 'Mauritania',\n",
       " 'Mauritius',\n",
       " 'Mexico',\n",
       " 'Micronesia (Federated States of)',\n",
       " 'Mongolia',\n",
       " 'Montenegro',\n",
       " 'Morocco',\n",
       " 'Mozambique',\n",
       " 'Myanmar',\n",
       " 'Namibia',\n",
       " 'Nauru',\n",
       " 'Nepal',\n",
       " 'Netherlands (Kingdom of the)',\n",
       " 'New Zealand',\n",
       " 'Nicaragua',\n",
       " 'Niger',\n",
       " 'Nigeria',\n",
       " 'Niue',\n",
       " 'North Macedonia',\n",
       " 'Norway',\n",
       " 'Oman',\n",
       " 'Pakistan',\n",
       " 'Palau',\n",
       " 'Palestine',\n",
       " 'Panama',\n",
       " 'Papua New Guinea',\n",
       " 'Paraguay',\n",
       " 'Peru',\n",
       " 'Philippines',\n",
       " 'Poland',\n",
       " 'Portugal',\n",
       " 'Puerto Rico',\n",
       " 'Qatar',\n",
       " 'Republic of Korea',\n",
       " 'Republic of Moldova',\n",
       " 'Romania',\n",
       " 'Russian Federation',\n",
       " 'Rwanda',\n",
       " 'Saint Kitts and Nevis',\n",
       " 'Saint Lucia',\n",
       " 'Saint Vincent and the Grenadines',\n",
       " 'Samoa',\n",
       " 'Sao Tome and Principe',\n",
       " 'Saudi Arabia',\n",
       " 'Senegal',\n",
       " 'Serbia',\n",
       " 'Seychelles',\n",
       " 'Sierra Leone',\n",
       " 'Singapore',\n",
       " 'Slovakia',\n",
       " 'Slovenia',\n",
       " 'Solomon Islands',\n",
       " 'Somalia',\n",
       " 'South Africa',\n",
       " 'South Sudan',\n",
       " 'Spain',\n",
       " 'Sri Lanka',\n",
       " 'Sudan',\n",
       " 'Suriname',\n",
       " 'Sweden',\n",
       " 'Switzerland',\n",
       " 'Syrian Arab Republic',\n",
       " 'Tajikistan',\n",
       " 'Thailand',\n",
       " 'Timor-Leste',\n",
       " 'Togo',\n",
       " 'Tokelau',\n",
       " 'Tonga',\n",
       " 'Trinidad and Tobago',\n",
       " 'Tunisia',\n",
       " 'Turkmenistan',\n",
       " 'Tuvalu',\n",
       " 'Türkiye',\n",
       " 'Uganda',\n",
       " 'Ukraine',\n",
       " 'United Arab Emirates',\n",
       " 'United Kingdom of Great Britain and Northern Ireland',\n",
       " 'United Republic of Tanzania',\n",
       " 'United States of America',\n",
       " 'Uruguay',\n",
       " 'Uzbekistan',\n",
       " 'Vanuatu',\n",
       " 'Venezuela (Bolivarian Republic of)',\n",
       " 'Viet Nam',\n",
       " 'Yemen',\n",
       " 'Zambia',\n",
       " 'Zimbabwe'}"
      ]
     },
     "execution_count": 79,
     "metadata": {},
     "output_type": "execute_result"
    }
   ],
   "source": [
    "obesity_areas = set(df_obesity['Area'].unique())\n",
    "obesity_areas"
   ]
  },
  {
   "cell_type": "code",
   "execution_count": 80,
   "id": "2240d0bb-f1da-4858-a019-3181ba75a2c7",
   "metadata": {},
   "outputs": [],
   "source": [
    "missing_in_gdp = obesity_areas - gdp_areas\n",
    "missing_in_obesity = gdp_areas - obesity_areas"
   ]
  },
  {
   "cell_type": "code",
   "execution_count": 81,
   "id": "cd9ea2e6-f314-49dc-a436-178a6100cd73",
   "metadata": {},
   "outputs": [
    {
     "name": "stdout",
     "output_type": "stream",
     "text": [
      "Areas in Obesity but not GDP: {'French Polynesia', 'Lebanon', \"Democratic People's Republic of Korea\", 'Yemen', 'South Sudan', 'Tonga', 'Niue', 'Cook Islands', 'Syrian Arab Republic', 'Palau', 'Turkmenistan', 'Greenland', 'Venezuela (Bolivarian Republic of)', 'Eritrea', 'Tokelau', 'Afghanistan', 'American Samoa', 'Cuba', 'Bhutan'}\n",
      "Areas in GDP but not Obesity: {'China, Macao SAR', 'China, Hong Kong SAR', 'China, mainland'}\n"
     ]
    }
   ],
   "source": [
    "print(\"Areas in Obesity but not GDP:\", missing_in_gdp)\n",
    "print(\"Areas in GDP but not Obesity:\", missing_in_obesity)"
   ]
  },
  {
   "cell_type": "code",
   "execution_count": 82,
   "id": "4602e360-ede1-42fa-bda9-eeda7a2266d6",
   "metadata": {},
   "outputs": [],
   "source": [
    "common_areas = gdp_areas & obesity_areas\n",
    "df_gdp_aligned = df_gdp[df_gdp['Area'].isin(common_areas)]\n",
    "df_obesity_aligned = df_obesity[df_obesity['Area'].isin(common_areas)]"
   ]
  },
  {
   "cell_type": "code",
   "execution_count": 83,
   "id": "42602497-4c84-4ddc-abbf-589849bf10a2",
   "metadata": {},
   "outputs": [
    {
     "name": "stdout",
     "output_type": "stream",
     "text": [
      "Aligned GDP dataset rows: 180\n",
      "Aligned Obesity dataset rows: 180\n"
     ]
    }
   ],
   "source": [
    "print(\"Aligned GDP dataset rows:\", len(df_gdp_aligned))\n",
    "print(\"Aligned Obesity dataset rows:\", len(df_obesity_aligned))"
   ]
  },
  {
   "cell_type": "markdown",
   "id": "196f2887-6e7a-404c-80df-f0b1f56e163e",
   "metadata": {},
   "source": [
    "## Step 3: Increasing data readability \n",
    "- In order to make the datasets easier to grasp, we will rename the 'value' column to 'GDP' since it is more indicative and descriptive.\n",
    "- The same will be done for the obesity dataset. "
   ]
  },
  {
   "cell_type": "code",
   "execution_count": 84,
   "id": "926b2209-efed-42b1-a843-bb67a5b35163",
   "metadata": {},
   "outputs": [
    {
     "data": {
      "text/html": [
       "<div>\n",
       "<style scoped>\n",
       "    .dataframe tbody tr th:only-of-type {\n",
       "        vertical-align: middle;\n",
       "    }\n",
       "\n",
       "    .dataframe tbody tr th {\n",
       "        vertical-align: top;\n",
       "    }\n",
       "\n",
       "    .dataframe thead th {\n",
       "        text-align: right;\n",
       "    }\n",
       "</style>\n",
       "<table border=\"1\" class=\"dataframe\">\n",
       "  <thead>\n",
       "    <tr style=\"text-align: right;\">\n",
       "      <th></th>\n",
       "      <th>Area</th>\n",
       "      <th>Year</th>\n",
       "      <th>GDP</th>\n",
       "    </tr>\n",
       "  </thead>\n",
       "  <tbody>\n",
       "    <tr>\n",
       "      <th>0</th>\n",
       "      <td>Albania</td>\n",
       "      <td>2022</td>\n",
       "      <td>17261.0</td>\n",
       "    </tr>\n",
       "    <tr>\n",
       "      <th>1</th>\n",
       "      <td>Algeria</td>\n",
       "      <td>2022</td>\n",
       "      <td>13090.9</td>\n",
       "    </tr>\n",
       "    <tr>\n",
       "      <th>2</th>\n",
       "      <td>Andorra</td>\n",
       "      <td>2022</td>\n",
       "      <td>63379.0</td>\n",
       "    </tr>\n",
       "    <tr>\n",
       "      <th>3</th>\n",
       "      <td>Angola</td>\n",
       "      <td>2022</td>\n",
       "      <td>7407.1</td>\n",
       "    </tr>\n",
       "    <tr>\n",
       "      <th>4</th>\n",
       "      <td>Antigua and Barbuda</td>\n",
       "      <td>2022</td>\n",
       "      <td>27757.2</td>\n",
       "    </tr>\n",
       "    <tr>\n",
       "      <th>...</th>\n",
       "      <td>...</td>\n",
       "      <td>...</td>\n",
       "      <td>...</td>\n",
       "    </tr>\n",
       "    <tr>\n",
       "      <th>178</th>\n",
       "      <td>Uzbekistan</td>\n",
       "      <td>2022</td>\n",
       "      <td>8447.5</td>\n",
       "    </tr>\n",
       "    <tr>\n",
       "      <th>179</th>\n",
       "      <td>Vanuatu</td>\n",
       "      <td>2022</td>\n",
       "      <td>3074.1</td>\n",
       "    </tr>\n",
       "    <tr>\n",
       "      <th>180</th>\n",
       "      <td>Viet Nam</td>\n",
       "      <td>2022</td>\n",
       "      <td>13102.3</td>\n",
       "    </tr>\n",
       "    <tr>\n",
       "      <th>181</th>\n",
       "      <td>Zambia</td>\n",
       "      <td>2022</td>\n",
       "      <td>3610.7</td>\n",
       "    </tr>\n",
       "    <tr>\n",
       "      <th>182</th>\n",
       "      <td>Zimbabwe</td>\n",
       "      <td>2022</td>\n",
       "      <td>3420.0</td>\n",
       "    </tr>\n",
       "  </tbody>\n",
       "</table>\n",
       "<p>180 rows × 3 columns</p>\n",
       "</div>"
      ],
      "text/plain": [
       "                    Area  Year      GDP\n",
       "0                Albania  2022  17261.0\n",
       "1                Algeria  2022  13090.9\n",
       "2                Andorra  2022  63379.0\n",
       "3                 Angola  2022   7407.1\n",
       "4    Antigua and Barbuda  2022  27757.2\n",
       "..                   ...   ...      ...\n",
       "178           Uzbekistan  2022   8447.5\n",
       "179              Vanuatu  2022   3074.1\n",
       "180             Viet Nam  2022  13102.3\n",
       "181               Zambia  2022   3610.7\n",
       "182             Zimbabwe  2022   3420.0\n",
       "\n",
       "[180 rows x 3 columns]"
      ]
     },
     "execution_count": 84,
     "metadata": {},
     "output_type": "execute_result"
    }
   ],
   "source": [
    "df_gdp_aligned = df_gdp_aligned[['Area', 'Year', 'Value']].rename(columns={'Value': 'GDP'})\n",
    "df_gdp_aligned"
   ]
  },
  {
   "cell_type": "code",
   "execution_count": 85,
   "id": "0b16a682-273d-4141-8d84-7ddd26dc4a33",
   "metadata": {},
   "outputs": [
    {
     "data": {
      "text/html": [
       "<div>\n",
       "<style scoped>\n",
       "    .dataframe tbody tr th:only-of-type {\n",
       "        vertical-align: middle;\n",
       "    }\n",
       "\n",
       "    .dataframe tbody tr th {\n",
       "        vertical-align: top;\n",
       "    }\n",
       "\n",
       "    .dataframe thead th {\n",
       "        text-align: right;\n",
       "    }\n",
       "</style>\n",
       "<table border=\"1\" class=\"dataframe\">\n",
       "  <thead>\n",
       "    <tr style=\"text-align: right;\">\n",
       "      <th></th>\n",
       "      <th>Area</th>\n",
       "      <th>Year</th>\n",
       "      <th>Obesity</th>\n",
       "    </tr>\n",
       "  </thead>\n",
       "  <tbody>\n",
       "    <tr>\n",
       "      <th>1</th>\n",
       "      <td>Albania</td>\n",
       "      <td>2022</td>\n",
       "      <td>23.4</td>\n",
       "    </tr>\n",
       "    <tr>\n",
       "      <th>2</th>\n",
       "      <td>Algeria</td>\n",
       "      <td>2022</td>\n",
       "      <td>23.8</td>\n",
       "    </tr>\n",
       "    <tr>\n",
       "      <th>4</th>\n",
       "      <td>Andorra</td>\n",
       "      <td>2022</td>\n",
       "      <td>18.1</td>\n",
       "    </tr>\n",
       "    <tr>\n",
       "      <th>5</th>\n",
       "      <td>Angola</td>\n",
       "      <td>2022</td>\n",
       "      <td>11.5</td>\n",
       "    </tr>\n",
       "    <tr>\n",
       "      <th>6</th>\n",
       "      <td>Antigua and Barbuda</td>\n",
       "      <td>2022</td>\n",
       "      <td>33.3</td>\n",
       "    </tr>\n",
       "    <tr>\n",
       "      <th>...</th>\n",
       "      <td>...</td>\n",
       "      <td>...</td>\n",
       "      <td>...</td>\n",
       "    </tr>\n",
       "    <tr>\n",
       "      <th>192</th>\n",
       "      <td>Uzbekistan</td>\n",
       "      <td>2022</td>\n",
       "      <td>30.0</td>\n",
       "    </tr>\n",
       "    <tr>\n",
       "      <th>193</th>\n",
       "      <td>Vanuatu</td>\n",
       "      <td>2022</td>\n",
       "      <td>21.3</td>\n",
       "    </tr>\n",
       "    <tr>\n",
       "      <th>195</th>\n",
       "      <td>Viet Nam</td>\n",
       "      <td>2022</td>\n",
       "      <td>2.0</td>\n",
       "    </tr>\n",
       "    <tr>\n",
       "      <th>197</th>\n",
       "      <td>Zambia</td>\n",
       "      <td>2022</td>\n",
       "      <td>11.1</td>\n",
       "    </tr>\n",
       "    <tr>\n",
       "      <th>198</th>\n",
       "      <td>Zimbabwe</td>\n",
       "      <td>2022</td>\n",
       "      <td>14.2</td>\n",
       "    </tr>\n",
       "  </tbody>\n",
       "</table>\n",
       "<p>180 rows × 3 columns</p>\n",
       "</div>"
      ],
      "text/plain": [
       "                    Area  Year  Obesity\n",
       "1                Albania  2022     23.4\n",
       "2                Algeria  2022     23.8\n",
       "4                Andorra  2022     18.1\n",
       "5                 Angola  2022     11.5\n",
       "6    Antigua and Barbuda  2022     33.3\n",
       "..                   ...   ...      ...\n",
       "192           Uzbekistan  2022     30.0\n",
       "193              Vanuatu  2022     21.3\n",
       "195             Viet Nam  2022      2.0\n",
       "197               Zambia  2022     11.1\n",
       "198             Zimbabwe  2022     14.2\n",
       "\n",
       "[180 rows x 3 columns]"
      ]
     },
     "execution_count": 85,
     "metadata": {},
     "output_type": "execute_result"
    }
   ],
   "source": [
    "df_obesity_aligned = df_obesity_aligned[['Area', 'Year', 'Value']].rename(columns={'Value': 'Obesity'})\n",
    "df_obesity_aligned"
   ]
  },
  {
   "cell_type": "markdown",
   "id": "6e13010b-5a6d-4a69-8bd3-0c236de9dfc7",
   "metadata": {},
   "source": [
    "## Step 4 : Merging the Datasets \n",
    "- After aligning the columns based on 'Area' and increasing readability through column renaming, we will now merge the datasets\n",
    "- This merging will be done on the 'Area' and 'Year'\n",
    "- Merging the two datasets will give us a combined table that will display the GDP and Obseity values for 180 countries. "
   ]
  },
  {
   "cell_type": "code",
   "execution_count": 86,
   "id": "e622e156-9c52-4df9-b8c7-532597174b1a",
   "metadata": {},
   "outputs": [
    {
     "data": {
      "text/html": [
       "<div>\n",
       "<style scoped>\n",
       "    .dataframe tbody tr th:only-of-type {\n",
       "        vertical-align: middle;\n",
       "    }\n",
       "\n",
       "    .dataframe tbody tr th {\n",
       "        vertical-align: top;\n",
       "    }\n",
       "\n",
       "    .dataframe thead th {\n",
       "        text-align: right;\n",
       "    }\n",
       "</style>\n",
       "<table border=\"1\" class=\"dataframe\">\n",
       "  <thead>\n",
       "    <tr style=\"text-align: right;\">\n",
       "      <th></th>\n",
       "      <th>Area</th>\n",
       "      <th>Year</th>\n",
       "      <th>GDP</th>\n",
       "      <th>Obesity</th>\n",
       "    </tr>\n",
       "  </thead>\n",
       "  <tbody>\n",
       "    <tr>\n",
       "      <th>0</th>\n",
       "      <td>Albania</td>\n",
       "      <td>2022</td>\n",
       "      <td>17261.0</td>\n",
       "      <td>23.4</td>\n",
       "    </tr>\n",
       "    <tr>\n",
       "      <th>1</th>\n",
       "      <td>Algeria</td>\n",
       "      <td>2022</td>\n",
       "      <td>13090.9</td>\n",
       "      <td>23.8</td>\n",
       "    </tr>\n",
       "    <tr>\n",
       "      <th>2</th>\n",
       "      <td>Andorra</td>\n",
       "      <td>2022</td>\n",
       "      <td>63379.0</td>\n",
       "      <td>18.1</td>\n",
       "    </tr>\n",
       "    <tr>\n",
       "      <th>3</th>\n",
       "      <td>Angola</td>\n",
       "      <td>2022</td>\n",
       "      <td>7407.1</td>\n",
       "      <td>11.5</td>\n",
       "    </tr>\n",
       "    <tr>\n",
       "      <th>4</th>\n",
       "      <td>Antigua and Barbuda</td>\n",
       "      <td>2022</td>\n",
       "      <td>27757.2</td>\n",
       "      <td>33.3</td>\n",
       "    </tr>\n",
       "    <tr>\n",
       "      <th>...</th>\n",
       "      <td>...</td>\n",
       "      <td>...</td>\n",
       "      <td>...</td>\n",
       "      <td>...</td>\n",
       "    </tr>\n",
       "    <tr>\n",
       "      <th>175</th>\n",
       "      <td>Uzbekistan</td>\n",
       "      <td>2022</td>\n",
       "      <td>8447.5</td>\n",
       "      <td>30.0</td>\n",
       "    </tr>\n",
       "    <tr>\n",
       "      <th>176</th>\n",
       "      <td>Vanuatu</td>\n",
       "      <td>2022</td>\n",
       "      <td>3074.1</td>\n",
       "      <td>21.3</td>\n",
       "    </tr>\n",
       "    <tr>\n",
       "      <th>177</th>\n",
       "      <td>Viet Nam</td>\n",
       "      <td>2022</td>\n",
       "      <td>13102.3</td>\n",
       "      <td>2.0</td>\n",
       "    </tr>\n",
       "    <tr>\n",
       "      <th>178</th>\n",
       "      <td>Zambia</td>\n",
       "      <td>2022</td>\n",
       "      <td>3610.7</td>\n",
       "      <td>11.1</td>\n",
       "    </tr>\n",
       "    <tr>\n",
       "      <th>179</th>\n",
       "      <td>Zimbabwe</td>\n",
       "      <td>2022</td>\n",
       "      <td>3420.0</td>\n",
       "      <td>14.2</td>\n",
       "    </tr>\n",
       "  </tbody>\n",
       "</table>\n",
       "<p>180 rows × 4 columns</p>\n",
       "</div>"
      ],
      "text/plain": [
       "                    Area  Year      GDP  Obesity\n",
       "0                Albania  2022  17261.0     23.4\n",
       "1                Algeria  2022  13090.9     23.8\n",
       "2                Andorra  2022  63379.0     18.1\n",
       "3                 Angola  2022   7407.1     11.5\n",
       "4    Antigua and Barbuda  2022  27757.2     33.3\n",
       "..                   ...   ...      ...      ...\n",
       "175           Uzbekistan  2022   8447.5     30.0\n",
       "176              Vanuatu  2022   3074.1     21.3\n",
       "177             Viet Nam  2022  13102.3      2.0\n",
       "178               Zambia  2022   3610.7     11.1\n",
       "179             Zimbabwe  2022   3420.0     14.2\n",
       "\n",
       "[180 rows x 4 columns]"
      ]
     },
     "execution_count": 86,
     "metadata": {},
     "output_type": "execute_result"
    }
   ],
   "source": [
    "merged_data = pd.merge(df_gdp_aligned, df_obesity_aligned, on=['Area', 'Year'], how='inner')\n",
    "merged_data"
   ]
  },
  {
   "cell_type": "markdown",
   "id": "f9b71c17-3602-44f2-8819-2fd2ec8ff912",
   "metadata": {},
   "source": [
    "## Step 5 : Plotting the Figure \n",
    "- Based on the merged dataset, we will now choose a figure to best represent the relationship between the two variables\n",
    "- The scatter plot is chosen because- 1. It can effectively show a large number of datapoints (180 countries), 2. It is simple to understand the spread/concentration for drawing inferences about the pattern and trends. 3. It showcases the relationship between the two variables easily. "
   ]
  },
  {
   "cell_type": "code",
   "execution_count": 87,
   "id": "f8963728-e8e8-43eb-a727-0cdce115f53b",
   "metadata": {},
   "outputs": [
    {
     "data": {
      "text/html": [
       "        <script type=\"text/javascript\">\n",
       "        window.PlotlyConfig = {MathJaxConfig: 'local'};\n",
       "        if (window.MathJax && window.MathJax.Hub && window.MathJax.Hub.Config) {window.MathJax.Hub.Config({SVG: {font: \"STIX-Web\"}});}\n",
       "        if (typeof require !== 'undefined') {\n",
       "        require.undef(\"plotly\");\n",
       "        requirejs.config({\n",
       "            paths: {\n",
       "                'plotly': ['https://cdn.plot.ly/plotly-2.32.0.min']\n",
       "            }\n",
       "        });\n",
       "        require(['plotly'], function(Plotly) {\n",
       "            window._Plotly = Plotly;\n",
       "        });\n",
       "        }\n",
       "        </script>\n",
       "        "
      ]
     },
     "metadata": {},
     "output_type": "display_data"
    },
    {
     "data": {
      "application/vnd.plotly.v1+json": {
       "config": {
        "plotlyServerURL": "https://plot.ly"
       },
       "data": [
        {
         "customdata": [
          [
           2022,
           "Albania"
          ]
         ],
         "hovertemplate": "Area=%{customdata[1]}<br>GDP (USD)=%{x}<br>Obesity Rate (%)=%{y}<br>Year=%{customdata[0]}<extra></extra>",
         "legendgroup": "Albania",
         "marker": {
          "color": "#636efa",
          "symbol": "circle"
         },
         "mode": "markers",
         "name": "Albania",
         "orientation": "v",
         "showlegend": true,
         "type": "scatter",
         "x": [
          17261
         ],
         "xaxis": "x",
         "y": [
          23.4
         ],
         "yaxis": "y"
        },
        {
         "customdata": [
          [
           2022,
           "Algeria"
          ]
         ],
         "hovertemplate": "Area=%{customdata[1]}<br>GDP (USD)=%{x}<br>Obesity Rate (%)=%{y}<br>Year=%{customdata[0]}<extra></extra>",
         "legendgroup": "Algeria",
         "marker": {
          "color": "#EF553B",
          "symbol": "circle"
         },
         "mode": "markers",
         "name": "Algeria",
         "orientation": "v",
         "showlegend": true,
         "type": "scatter",
         "x": [
          13090.9
         ],
         "xaxis": "x",
         "y": [
          23.8
         ],
         "yaxis": "y"
        },
        {
         "customdata": [
          [
           2022,
           "Andorra"
          ]
         ],
         "hovertemplate": "Area=%{customdata[1]}<br>GDP (USD)=%{x}<br>Obesity Rate (%)=%{y}<br>Year=%{customdata[0]}<extra></extra>",
         "legendgroup": "Andorra",
         "marker": {
          "color": "#00cc96",
          "symbol": "circle"
         },
         "mode": "markers",
         "name": "Andorra",
         "orientation": "v",
         "showlegend": true,
         "type": "scatter",
         "x": [
          63379
         ],
         "xaxis": "x",
         "y": [
          18.1
         ],
         "yaxis": "y"
        },
        {
         "customdata": [
          [
           2022,
           "Angola"
          ]
         ],
         "hovertemplate": "Area=%{customdata[1]}<br>GDP (USD)=%{x}<br>Obesity Rate (%)=%{y}<br>Year=%{customdata[0]}<extra></extra>",
         "legendgroup": "Angola",
         "marker": {
          "color": "#ab63fa",
          "symbol": "circle"
         },
         "mode": "markers",
         "name": "Angola",
         "orientation": "v",
         "showlegend": true,
         "type": "scatter",
         "x": [
          7407.1
         ],
         "xaxis": "x",
         "y": [
          11.5
         ],
         "yaxis": "y"
        },
        {
         "customdata": [
          [
           2022,
           "Antigua and Barbuda"
          ]
         ],
         "hovertemplate": "Area=%{customdata[1]}<br>GDP (USD)=%{x}<br>Obesity Rate (%)=%{y}<br>Year=%{customdata[0]}<extra></extra>",
         "legendgroup": "Antigua and Barbuda",
         "marker": {
          "color": "#FFA15A",
          "symbol": "circle"
         },
         "mode": "markers",
         "name": "Antigua and Barbuda",
         "orientation": "v",
         "showlegend": true,
         "type": "scatter",
         "x": [
          27757.2
         ],
         "xaxis": "x",
         "y": [
          33.3
         ],
         "yaxis": "y"
        },
        {
         "customdata": [
          [
           2022,
           "Argentina"
          ]
         ],
         "hovertemplate": "Area=%{customdata[1]}<br>GDP (USD)=%{x}<br>Obesity Rate (%)=%{y}<br>Year=%{customdata[0]}<extra></extra>",
         "legendgroup": "Argentina",
         "marker": {
          "color": "#19d3f3",
          "symbol": "circle"
         },
         "mode": "markers",
         "name": "Argentina",
         "orientation": "v",
         "showlegend": true,
         "type": "scatter",
         "x": [
          27127.4
         ],
         "xaxis": "x",
         "y": [
          35.4
         ],
         "yaxis": "y"
        },
        {
         "customdata": [
          [
           2022,
           "Armenia"
          ]
         ],
         "hovertemplate": "Area=%{customdata[1]}<br>GDP (USD)=%{x}<br>Obesity Rate (%)=%{y}<br>Year=%{customdata[0]}<extra></extra>",
         "legendgroup": "Armenia",
         "marker": {
          "color": "#FF6692",
          "symbol": "circle"
         },
         "mode": "markers",
         "name": "Armenia",
         "orientation": "v",
         "showlegend": true,
         "type": "scatter",
         "x": [
          19100.2
         ],
         "xaxis": "x",
         "y": [
          24.5
         ],
         "yaxis": "y"
        },
        {
         "customdata": [
          [
           2022,
           "Australia"
          ]
         ],
         "hovertemplate": "Area=%{customdata[1]}<br>GDP (USD)=%{x}<br>Obesity Rate (%)=%{y}<br>Year=%{customdata[0]}<extra></extra>",
         "legendgroup": "Australia",
         "marker": {
          "color": "#B6E880",
          "symbol": "circle"
         },
         "mode": "markers",
         "name": "Australia",
         "orientation": "v",
         "showlegend": true,
         "type": "scatter",
         "x": [
          59120
         ],
         "xaxis": "x",
         "y": [
          30.2
         ],
         "yaxis": "y"
        },
        {
         "customdata": [
          [
           2022,
           "Austria"
          ]
         ],
         "hovertemplate": "Area=%{customdata[1]}<br>GDP (USD)=%{x}<br>Obesity Rate (%)=%{y}<br>Year=%{customdata[0]}<extra></extra>",
         "legendgroup": "Austria",
         "marker": {
          "color": "#FF97FF",
          "symbol": "circle"
         },
         "mode": "markers",
         "name": "Austria",
         "orientation": "v",
         "showlegend": true,
         "type": "scatter",
         "x": [
          65836.9
         ],
         "xaxis": "x",
         "y": [
          15.4
         ],
         "yaxis": "y"
        },
        {
         "customdata": [
          [
           2022,
           "Azerbaijan"
          ]
         ],
         "hovertemplate": "Area=%{customdata[1]}<br>GDP (USD)=%{x}<br>Obesity Rate (%)=%{y}<br>Year=%{customdata[0]}<extra></extra>",
         "legendgroup": "Azerbaijan",
         "marker": {
          "color": "#FECB52",
          "symbol": "circle"
         },
         "mode": "markers",
         "name": "Azerbaijan",
         "orientation": "v",
         "showlegend": true,
         "type": "scatter",
         "x": [
          21031.5
         ],
         "xaxis": "x",
         "y": [
          26.5
         ],
         "yaxis": "y"
        },
        {
         "customdata": [
          [
           2022,
           "Bahamas"
          ]
         ],
         "hovertemplate": "Area=%{customdata[1]}<br>GDP (USD)=%{x}<br>Obesity Rate (%)=%{y}<br>Year=%{customdata[0]}<extra></extra>",
         "legendgroup": "Bahamas",
         "marker": {
          "color": "#636efa",
          "symbol": "circle"
         },
         "mode": "markers",
         "name": "Bahamas",
         "orientation": "v",
         "showlegend": true,
         "type": "scatter",
         "x": [
          32895
         ],
         "xaxis": "x",
         "y": [
          47.3
         ],
         "yaxis": "y"
        },
        {
         "customdata": [
          [
           2022,
           "Bahrain"
          ]
         ],
         "hovertemplate": "Area=%{customdata[1]}<br>GDP (USD)=%{x}<br>Obesity Rate (%)=%{y}<br>Year=%{customdata[0]}<extra></extra>",
         "legendgroup": "Bahrain",
         "marker": {
          "color": "#EF553B",
          "symbol": "circle"
         },
         "mode": "markers",
         "name": "Bahrain",
         "orientation": "v",
         "showlegend": true,
         "type": "scatter",
         "x": [
          56646.6
         ],
         "xaxis": "x",
         "y": [
          36.1
         ],
         "yaxis": "y"
        },
        {
         "customdata": [
          [
           2022,
           "Bangladesh"
          ]
         ],
         "hovertemplate": "Area=%{customdata[1]}<br>GDP (USD)=%{x}<br>Obesity Rate (%)=%{y}<br>Year=%{customdata[0]}<extra></extra>",
         "legendgroup": "Bangladesh",
         "marker": {
          "color": "#00cc96",
          "symbol": "circle"
         },
         "mode": "markers",
         "name": "Bangladesh",
         "orientation": "v",
         "showlegend": true,
         "type": "scatter",
         "x": [
          7805.2
         ],
         "xaxis": "x",
         "y": [
          5.3
         ],
         "yaxis": "y"
        },
        {
         "customdata": [
          [
           2022,
           "Barbados"
          ]
         ],
         "hovertemplate": "Area=%{customdata[1]}<br>GDP (USD)=%{x}<br>Obesity Rate (%)=%{y}<br>Year=%{customdata[0]}<extra></extra>",
         "legendgroup": "Barbados",
         "marker": {
          "color": "#ab63fa",
          "symbol": "circle"
         },
         "mode": "markers",
         "name": "Barbados",
         "orientation": "v",
         "showlegend": true,
         "type": "scatter",
         "x": [
          16325.5
         ],
         "xaxis": "x",
         "y": [
          38
         ],
         "yaxis": "y"
        },
        {
         "customdata": [
          [
           2022,
           "Belarus"
          ]
         ],
         "hovertemplate": "Area=%{customdata[1]}<br>GDP (USD)=%{x}<br>Obesity Rate (%)=%{y}<br>Year=%{customdata[0]}<extra></extra>",
         "legendgroup": "Belarus",
         "marker": {
          "color": "#FFA15A",
          "symbol": "circle"
         },
         "mode": "markers",
         "name": "Belarus",
         "orientation": "v",
         "showlegend": true,
         "type": "scatter",
         "x": [
          26526.6
         ],
         "xaxis": "x",
         "y": [
          21.4
         ],
         "yaxis": "y"
        },
        {
         "customdata": [
          [
           2022,
           "Belgium"
          ]
         ],
         "hovertemplate": "Area=%{customdata[1]}<br>GDP (USD)=%{x}<br>Obesity Rate (%)=%{y}<br>Year=%{customdata[0]}<extra></extra>",
         "legendgroup": "Belgium",
         "marker": {
          "color": "#19d3f3",
          "symbol": "circle"
         },
         "mode": "markers",
         "name": "Belgium",
         "orientation": "v",
         "showlegend": true,
         "type": "scatter",
         "x": [
          63431
         ],
         "xaxis": "x",
         "y": [
          20
         ],
         "yaxis": "y"
        },
        {
         "customdata": [
          [
           2022,
           "Belize"
          ]
         ],
         "hovertemplate": "Area=%{customdata[1]}<br>GDP (USD)=%{x}<br>Obesity Rate (%)=%{y}<br>Year=%{customdata[0]}<extra></extra>",
         "legendgroup": "Belize",
         "marker": {
          "color": "#FF6692",
          "symbol": "circle"
         },
         "mode": "markers",
         "name": "Belize",
         "orientation": "v",
         "showlegend": true,
         "type": "scatter",
         "x": [
          12407
         ],
         "xaxis": "x",
         "y": [
          42.3
         ],
         "yaxis": "y"
        },
        {
         "customdata": [
          [
           2022,
           "Benin"
          ]
         ],
         "hovertemplate": "Area=%{customdata[1]}<br>GDP (USD)=%{x}<br>Obesity Rate (%)=%{y}<br>Year=%{customdata[0]}<extra></extra>",
         "legendgroup": "Benin",
         "marker": {
          "color": "#B6E880",
          "symbol": "circle"
         },
         "mode": "markers",
         "name": "Benin",
         "orientation": "v",
         "showlegend": true,
         "type": "scatter",
         "x": [
          3697.6
         ],
         "xaxis": "x",
         "y": [
          11.2
         ],
         "yaxis": "y"
        },
        {
         "customdata": [
          [
           2022,
           "Bermuda"
          ]
         ],
         "hovertemplate": "Area=%{customdata[1]}<br>GDP (USD)=%{x}<br>Obesity Rate (%)=%{y}<br>Year=%{customdata[0]}<extra></extra>",
         "legendgroup": "Bermuda",
         "marker": {
          "color": "#FF97FF",
          "symbol": "circle"
         },
         "mode": "markers",
         "name": "Bermuda",
         "orientation": "v",
         "showlegend": true,
         "type": "scatter",
         "x": [
          94531.3
         ],
         "xaxis": "x",
         "y": [
          33
         ],
         "yaxis": "y"
        },
        {
         "customdata": [
          [
           2022,
           "Bolivia (Plurinational State of)"
          ]
         ],
         "hovertemplate": "Area=%{customdata[1]}<br>GDP (USD)=%{x}<br>Obesity Rate (%)=%{y}<br>Year=%{customdata[0]}<extra></extra>",
         "legendgroup": "Bolivia (Plurinational State of)",
         "marker": {
          "color": "#FECB52",
          "symbol": "circle"
         },
         "mode": "markers",
         "name": "Bolivia (Plurinational State of)",
         "orientation": "v",
         "showlegend": true,
         "type": "scatter",
         "x": [
          9565.3
         ],
         "xaxis": "x",
         "y": [
          28.7
         ],
         "yaxis": "y"
        },
        {
         "customdata": [
          [
           2022,
           "Bosnia and Herzegovina"
          ]
         ],
         "hovertemplate": "Area=%{customdata[1]}<br>GDP (USD)=%{x}<br>Obesity Rate (%)=%{y}<br>Year=%{customdata[0]}<extra></extra>",
         "legendgroup": "Bosnia and Herzegovina",
         "marker": {
          "color": "#636efa",
          "symbol": "circle"
         },
         "mode": "markers",
         "name": "Bosnia and Herzegovina",
         "orientation": "v",
         "showlegend": true,
         "type": "scatter",
         "x": [
          19355.7
         ],
         "xaxis": "x",
         "y": [
          21.2
         ],
         "yaxis": "y"
        },
        {
         "customdata": [
          [
           2022,
           "Botswana"
          ]
         ],
         "hovertemplate": "Area=%{customdata[1]}<br>GDP (USD)=%{x}<br>Obesity Rate (%)=%{y}<br>Year=%{customdata[0]}<extra></extra>",
         "legendgroup": "Botswana",
         "marker": {
          "color": "#EF553B",
          "symbol": "circle"
         },
         "mode": "markers",
         "name": "Botswana",
         "orientation": "v",
         "showlegend": true,
         "type": "scatter",
         "x": [
          17334.9
         ],
         "xaxis": "x",
         "y": [
          18.3
         ],
         "yaxis": "y"
        },
        {
         "customdata": [
          [
           2022,
           "Brazil"
          ]
         ],
         "hovertemplate": "Area=%{customdata[1]}<br>GDP (USD)=%{x}<br>Obesity Rate (%)=%{y}<br>Year=%{customdata[0]}<extra></extra>",
         "legendgroup": "Brazil",
         "marker": {
          "color": "#00cc96",
          "symbol": "circle"
         },
         "mode": "markers",
         "name": "Brazil",
         "orientation": "v",
         "showlegend": true,
         "type": "scatter",
         "x": [
          17874.3
         ],
         "xaxis": "x",
         "y": [
          28.1
         ],
         "yaxis": "y"
        },
        {
         "customdata": [
          [
           2022,
           "Brunei Darussalam"
          ]
         ],
         "hovertemplate": "Area=%{customdata[1]}<br>GDP (USD)=%{x}<br>Obesity Rate (%)=%{y}<br>Year=%{customdata[0]}<extra></extra>",
         "legendgroup": "Brunei Darussalam",
         "marker": {
          "color": "#ab63fa",
          "symbol": "circle"
         },
         "mode": "markers",
         "name": "Brunei Darussalam",
         "orientation": "v",
         "showlegend": true,
         "type": "scatter",
         "x": [
          77440.8
         ],
         "xaxis": "x",
         "y": [
          31.7
         ],
         "yaxis": "y"
        },
        {
         "customdata": [
          [
           2022,
           "Bulgaria"
          ]
         ],
         "hovertemplate": "Area=%{customdata[1]}<br>GDP (USD)=%{x}<br>Obesity Rate (%)=%{y}<br>Year=%{customdata[0]}<extra></extra>",
         "legendgroup": "Bulgaria",
         "marker": {
          "color": "#FFA15A",
          "symbol": "circle"
         },
         "mode": "markers",
         "name": "Bulgaria",
         "orientation": "v",
         "showlegend": true,
         "type": "scatter",
         "x": [
          32511.8
         ],
         "xaxis": "x",
         "y": [
          20.6
         ],
         "yaxis": "y"
        },
        {
         "customdata": [
          [
           2022,
           "Burkina Faso"
          ]
         ],
         "hovertemplate": "Area=%{customdata[1]}<br>GDP (USD)=%{x}<br>Obesity Rate (%)=%{y}<br>Year=%{customdata[0]}<extra></extra>",
         "legendgroup": "Burkina Faso",
         "marker": {
          "color": "#19d3f3",
          "symbol": "circle"
         },
         "mode": "markers",
         "name": "Burkina Faso",
         "orientation": "v",
         "showlegend": true,
         "type": "scatter",
         "x": [
          2448.1
         ],
         "xaxis": "x",
         "y": [
          6.7
         ],
         "yaxis": "y"
        },
        {
         "customdata": [
          [
           2022,
           "Burundi"
          ]
         ],
         "hovertemplate": "Area=%{customdata[1]}<br>GDP (USD)=%{x}<br>Obesity Rate (%)=%{y}<br>Year=%{customdata[0]}<extra></extra>",
         "legendgroup": "Burundi",
         "marker": {
          "color": "#FF6692",
          "symbol": "circle"
         },
         "mode": "markers",
         "name": "Burundi",
         "orientation": "v",
         "showlegend": true,
         "type": "scatter",
         "x": [
          857.2
         ],
         "xaxis": "x",
         "y": [
          5
         ],
         "yaxis": "y"
        },
        {
         "customdata": [
          [
           2022,
           "Cabo Verde"
          ]
         ],
         "hovertemplate": "Area=%{customdata[1]}<br>GDP (USD)=%{x}<br>Obesity Rate (%)=%{y}<br>Year=%{customdata[0]}<extra></extra>",
         "legendgroup": "Cabo Verde",
         "marker": {
          "color": "#B6E880",
          "symbol": "circle"
         },
         "mode": "markers",
         "name": "Cabo Verde",
         "orientation": "v",
         "showlegend": true,
         "type": "scatter",
         "x": [
          7633.8
         ],
         "xaxis": "x",
         "y": [
          15.8
         ],
         "yaxis": "y"
        },
        {
         "customdata": [
          [
           2022,
           "Cambodia"
          ]
         ],
         "hovertemplate": "Area=%{customdata[1]}<br>GDP (USD)=%{x}<br>Obesity Rate (%)=%{y}<br>Year=%{customdata[0]}<extra></extra>",
         "legendgroup": "Cambodia",
         "marker": {
          "color": "#FF97FF",
          "symbol": "circle"
         },
         "mode": "markers",
         "name": "Cambodia",
         "orientation": "v",
         "showlegend": true,
         "type": "scatter",
         "x": [
          4860.5
         ],
         "xaxis": "x",
         "y": [
          4.4
         ],
         "yaxis": "y"
        },
        {
         "customdata": [
          [
           2022,
           "Cameroon"
          ]
         ],
         "hovertemplate": "Area=%{customdata[1]}<br>GDP (USD)=%{x}<br>Obesity Rate (%)=%{y}<br>Year=%{customdata[0]}<extra></extra>",
         "legendgroup": "Cameroon",
         "marker": {
          "color": "#FECB52",
          "symbol": "circle"
         },
         "mode": "markers",
         "name": "Cameroon",
         "orientation": "v",
         "showlegend": true,
         "type": "scatter",
         "x": [
          4785.7
         ],
         "xaxis": "x",
         "y": [
          14.9
         ],
         "yaxis": "y"
        },
        {
         "customdata": [
          [
           2022,
           "Canada"
          ]
         ],
         "hovertemplate": "Area=%{customdata[1]}<br>GDP (USD)=%{x}<br>Obesity Rate (%)=%{y}<br>Year=%{customdata[0]}<extra></extra>",
         "legendgroup": "Canada",
         "marker": {
          "color": "#636efa",
          "symbol": "circle"
         },
         "mode": "markers",
         "name": "Canada",
         "orientation": "v",
         "showlegend": true,
         "type": "scatter",
         "x": [
          56716.4
         ],
         "xaxis": "x",
         "y": [
          26.2
         ],
         "yaxis": "y"
        },
        {
         "customdata": [
          [
           2022,
           "Central African Republic"
          ]
         ],
         "hovertemplate": "Area=%{customdata[1]}<br>GDP (USD)=%{x}<br>Obesity Rate (%)=%{y}<br>Year=%{customdata[0]}<extra></extra>",
         "legendgroup": "Central African Republic",
         "marker": {
          "color": "#EF553B",
          "symbol": "circle"
         },
         "mode": "markers",
         "name": "Central African Republic",
         "orientation": "v",
         "showlegend": true,
         "type": "scatter",
         "x": [
          1039.3
         ],
         "xaxis": "x",
         "y": [
          9.3
         ],
         "yaxis": "y"
        },
        {
         "customdata": [
          [
           2022,
           "Chad"
          ]
         ],
         "hovertemplate": "Area=%{customdata[1]}<br>GDP (USD)=%{x}<br>Obesity Rate (%)=%{y}<br>Year=%{customdata[0]}<extra></extra>",
         "legendgroup": "Chad",
         "marker": {
          "color": "#00cc96",
          "symbol": "circle"
         },
         "mode": "markers",
         "name": "Chad",
         "orientation": "v",
         "showlegend": true,
         "type": "scatter",
         "x": [
          1748.5
         ],
         "xaxis": "x",
         "y": [
          6.7
         ],
         "yaxis": "y"
        },
        {
         "customdata": [
          [
           2022,
           "Chile"
          ]
         ],
         "hovertemplate": "Area=%{customdata[1]}<br>GDP (USD)=%{x}<br>Obesity Rate (%)=%{y}<br>Year=%{customdata[0]}<extra></extra>",
         "legendgroup": "Chile",
         "marker": {
          "color": "#ab63fa",
          "symbol": "circle"
         },
         "mode": "markers",
         "name": "Chile",
         "orientation": "v",
         "showlegend": true,
         "type": "scatter",
         "x": [
          29691.2
         ],
         "xaxis": "x",
         "y": [
          38.9
         ],
         "yaxis": "y"
        },
        {
         "customdata": [
          [
           2022,
           "China"
          ]
         ],
         "hovertemplate": "Area=%{customdata[1]}<br>GDP (USD)=%{x}<br>Obesity Rate (%)=%{y}<br>Year=%{customdata[0]}<extra></extra>",
         "legendgroup": "China",
         "marker": {
          "color": "#FFA15A",
          "symbol": "circle"
         },
         "mode": "markers",
         "name": "China",
         "orientation": "v",
         "showlegend": true,
         "type": "scatter",
         "x": [
          21262.3
         ],
         "xaxis": "x",
         "y": [
          8.3
         ],
         "yaxis": "y"
        },
        {
         "customdata": [
          [
           2022,
           "Colombia"
          ]
         ],
         "hovertemplate": "Area=%{customdata[1]}<br>GDP (USD)=%{x}<br>Obesity Rate (%)=%{y}<br>Year=%{customdata[0]}<extra></extra>",
         "legendgroup": "Colombia",
         "marker": {
          "color": "#19d3f3",
          "symbol": "circle"
         },
         "mode": "markers",
         "name": "Colombia",
         "orientation": "v",
         "showlegend": true,
         "type": "scatter",
         "x": [
          18732.7
         ],
         "xaxis": "x",
         "y": [
          23.6
         ],
         "yaxis": "y"
        },
        {
         "customdata": [
          [
           2022,
           "Comoros"
          ]
         ],
         "hovertemplate": "Area=%{customdata[1]}<br>GDP (USD)=%{x}<br>Obesity Rate (%)=%{y}<br>Year=%{customdata[0]}<extra></extra>",
         "legendgroup": "Comoros",
         "marker": {
          "color": "#FF6692",
          "symbol": "circle"
         },
         "mode": "markers",
         "name": "Comoros",
         "orientation": "v",
         "showlegend": true,
         "type": "scatter",
         "x": [
          3445.1
         ],
         "xaxis": "x",
         "y": [
          16.3
         ],
         "yaxis": "y"
        },
        {
         "customdata": [
          [
           2022,
           "Congo"
          ]
         ],
         "hovertemplate": "Area=%{customdata[1]}<br>GDP (USD)=%{x}<br>Obesity Rate (%)=%{y}<br>Year=%{customdata[0]}<extra></extra>",
         "legendgroup": "Congo",
         "marker": {
          "color": "#B6E880",
          "symbol": "circle"
         },
         "mode": "markers",
         "name": "Congo",
         "orientation": "v",
         "showlegend": true,
         "type": "scatter",
         "x": [
          6272.3
         ],
         "xaxis": "x",
         "y": [
          8.5
         ],
         "yaxis": "y"
        },
        {
         "customdata": [
          [
           2022,
           "Costa Rica"
          ]
         ],
         "hovertemplate": "Area=%{customdata[1]}<br>GDP (USD)=%{x}<br>Obesity Rate (%)=%{y}<br>Year=%{customdata[0]}<extra></extra>",
         "legendgroup": "Costa Rica",
         "marker": {
          "color": "#FF97FF",
          "symbol": "circle"
         },
         "mode": "markers",
         "name": "Costa Rica",
         "orientation": "v",
         "showlegend": true,
         "type": "scatter",
         "x": [
          24650.5
         ],
         "xaxis": "x",
         "y": [
          31.4
         ],
         "yaxis": "y"
        },
        {
         "customdata": [
          [
           2022,
           "Côte d'Ivoire"
          ]
         ],
         "hovertemplate": "Area=%{customdata[1]}<br>GDP (USD)=%{x}<br>Obesity Rate (%)=%{y}<br>Year=%{customdata[0]}<extra></extra>",
         "legendgroup": "Côte d'Ivoire",
         "marker": {
          "color": "#FECB52",
          "symbol": "circle"
         },
         "mode": "markers",
         "name": "Côte d'Ivoire",
         "orientation": "v",
         "showlegend": true,
         "type": "scatter",
         "x": [
          6699.9
         ],
         "xaxis": "x",
         "y": [
          11.6
         ],
         "yaxis": "y"
        },
        {
         "customdata": [
          [
           2022,
           "Croatia"
          ]
         ],
         "hovertemplate": "Area=%{customdata[1]}<br>GDP (USD)=%{x}<br>Obesity Rate (%)=%{y}<br>Year=%{customdata[0]}<extra></extra>",
         "legendgroup": "Croatia",
         "marker": {
          "color": "#636efa",
          "symbol": "circle"
         },
         "mode": "markers",
         "name": "Croatia",
         "orientation": "v",
         "showlegend": true,
         "type": "scatter",
         "x": [
          39538.5
         ],
         "xaxis": "x",
         "y": [
          30.6
         ],
         "yaxis": "y"
        },
        {
         "customdata": [
          [
           2022,
           "Cyprus"
          ]
         ],
         "hovertemplate": "Area=%{customdata[1]}<br>GDP (USD)=%{x}<br>Obesity Rate (%)=%{y}<br>Year=%{customdata[0]}<extra></extra>",
         "legendgroup": "Cyprus",
         "marker": {
          "color": "#EF553B",
          "symbol": "circle"
         },
         "mode": "markers",
         "name": "Cyprus",
         "orientation": "v",
         "showlegend": true,
         "type": "scatter",
         "x": [
          50232.2
         ],
         "xaxis": "x",
         "y": [
          22.9
         ],
         "yaxis": "y"
        },
        {
         "customdata": [
          [
           2022,
           "Czechia"
          ]
         ],
         "hovertemplate": "Area=%{customdata[1]}<br>GDP (USD)=%{x}<br>Obesity Rate (%)=%{y}<br>Year=%{customdata[0]}<extra></extra>",
         "legendgroup": "Czechia",
         "marker": {
          "color": "#00cc96",
          "symbol": "circle"
         },
         "mode": "markers",
         "name": "Czechia",
         "orientation": "v",
         "showlegend": true,
         "type": "scatter",
         "x": [
          48784
         ],
         "xaxis": "x",
         "y": [
          26
         ],
         "yaxis": "y"
        },
        {
         "customdata": [
          [
           2022,
           "Democratic Republic of the Congo"
          ]
         ],
         "hovertemplate": "Area=%{customdata[1]}<br>GDP (USD)=%{x}<br>Obesity Rate (%)=%{y}<br>Year=%{customdata[0]}<extra></extra>",
         "legendgroup": "Democratic Republic of the Congo",
         "marker": {
          "color": "#ab63fa",
          "symbol": "circle"
         },
         "mode": "markers",
         "name": "Democratic Republic of the Congo",
         "orientation": "v",
         "showlegend": true,
         "type": "scatter",
         "x": [
          1432.9
         ],
         "xaxis": "x",
         "y": [
          6.6
         ],
         "yaxis": "y"
        },
        {
         "customdata": [
          [
           2022,
           "Denmark"
          ]
         ],
         "hovertemplate": "Area=%{customdata[1]}<br>GDP (USD)=%{x}<br>Obesity Rate (%)=%{y}<br>Year=%{customdata[0]}<extra></extra>",
         "legendgroup": "Denmark",
         "marker": {
          "color": "#FFA15A",
          "symbol": "circle"
         },
         "mode": "markers",
         "name": "Denmark",
         "orientation": "v",
         "showlegend": true,
         "type": "scatter",
         "x": [
          71224.3
         ],
         "xaxis": "x",
         "y": [
          13.3
         ],
         "yaxis": "y"
        },
        {
         "customdata": [
          [
           2022,
           "Djibouti"
          ]
         ],
         "hovertemplate": "Area=%{customdata[1]}<br>GDP (USD)=%{x}<br>Obesity Rate (%)=%{y}<br>Year=%{customdata[0]}<extra></extra>",
         "legendgroup": "Djibouti",
         "marker": {
          "color": "#19d3f3",
          "symbol": "circle"
         },
         "mode": "markers",
         "name": "Djibouti",
         "orientation": "v",
         "showlegend": true,
         "type": "scatter",
         "x": [
          6135.8
         ],
         "xaxis": "x",
         "y": [
          11.3
         ],
         "yaxis": "y"
        },
        {
         "customdata": [
          [
           2022,
           "Dominica"
          ]
         ],
         "hovertemplate": "Area=%{customdata[1]}<br>GDP (USD)=%{x}<br>Obesity Rate (%)=%{y}<br>Year=%{customdata[0]}<extra></extra>",
         "legendgroup": "Dominica",
         "marker": {
          "color": "#FF6692",
          "symbol": "circle"
         },
         "mode": "markers",
         "name": "Dominica",
         "orientation": "v",
         "showlegend": true,
         "type": "scatter",
         "x": [
          15221.4
         ],
         "xaxis": "x",
         "y": [
          31.3
         ],
         "yaxis": "y"
        },
        {
         "customdata": [
          [
           2022,
           "Dominican Republic"
          ]
         ],
         "hovertemplate": "Area=%{customdata[1]}<br>GDP (USD)=%{x}<br>Obesity Rate (%)=%{y}<br>Year=%{customdata[0]}<extra></extra>",
         "legendgroup": "Dominican Republic",
         "marker": {
          "color": "#B6E880",
          "symbol": "circle"
         },
         "mode": "markers",
         "name": "Dominican Republic",
         "orientation": "v",
         "showlegend": true,
         "type": "scatter",
         "x": [
          22761.3
         ],
         "xaxis": "x",
         "y": [
          29.3
         ],
         "yaxis": "y"
        },
        {
         "customdata": [
          [
           2022,
           "Ecuador"
          ]
         ],
         "hovertemplate": "Area=%{customdata[1]}<br>GDP (USD)=%{x}<br>Obesity Rate (%)=%{y}<br>Year=%{customdata[0]}<extra></extra>",
         "legendgroup": "Ecuador",
         "marker": {
          "color": "#FF97FF",
          "symbol": "circle"
         },
         "mode": "markers",
         "name": "Ecuador",
         "orientation": "v",
         "showlegend": true,
         "type": "scatter",
         "x": [
          13530.4
         ],
         "xaxis": "x",
         "y": [
          27.4
         ],
         "yaxis": "y"
        },
        {
         "customdata": [
          [
           2022,
           "Egypt"
          ]
         ],
         "hovertemplate": "Area=%{customdata[1]}<br>GDP (USD)=%{x}<br>Obesity Rate (%)=%{y}<br>Year=%{customdata[0]}<extra></extra>",
         "legendgroup": "Egypt",
         "marker": {
          "color": "#FECB52",
          "symbol": "circle"
         },
         "mode": "markers",
         "name": "Egypt",
         "orientation": "v",
         "showlegend": true,
         "type": "scatter",
         "x": [
          16600.4
         ],
         "xaxis": "x",
         "y": [
          44.3
         ],
         "yaxis": "y"
        },
        {
         "customdata": [
          [
           2022,
           "El Salvador"
          ]
         ],
         "hovertemplate": "Area=%{customdata[1]}<br>GDP (USD)=%{x}<br>Obesity Rate (%)=%{y}<br>Year=%{customdata[0]}<extra></extra>",
         "legendgroup": "El Salvador",
         "marker": {
          "color": "#636efa",
          "symbol": "circle"
         },
         "mode": "markers",
         "name": "El Salvador",
         "orientation": "v",
         "showlegend": true,
         "type": "scatter",
         "x": [
          11103.5
         ],
         "xaxis": "x",
         "y": [
          30.9
         ],
         "yaxis": "y"
        },
        {
         "customdata": [
          [
           2022,
           "Equatorial Guinea"
          ]
         ],
         "hovertemplate": "Area=%{customdata[1]}<br>GDP (USD)=%{x}<br>Obesity Rate (%)=%{y}<br>Year=%{customdata[0]}<extra></extra>",
         "legendgroup": "Equatorial Guinea",
         "marker": {
          "color": "#EF553B",
          "symbol": "circle"
         },
         "mode": "markers",
         "name": "Equatorial Guinea",
         "orientation": "v",
         "showlegend": true,
         "type": "scatter",
         "x": [
          18165.2
         ],
         "xaxis": "x",
         "y": [
          17.7
         ],
         "yaxis": "y"
        },
        {
         "customdata": [
          [
           2022,
           "Estonia"
          ]
         ],
         "hovertemplate": "Area=%{customdata[1]}<br>GDP (USD)=%{x}<br>Obesity Rate (%)=%{y}<br>Year=%{customdata[0]}<extra></extra>",
         "legendgroup": "Estonia",
         "marker": {
          "color": "#00cc96",
          "symbol": "circle"
         },
         "mode": "markers",
         "name": "Estonia",
         "orientation": "v",
         "showlegend": true,
         "type": "scatter",
         "x": [
          43877
         ],
         "xaxis": "x",
         "y": [
          22.2
         ],
         "yaxis": "y"
        },
        {
         "customdata": [
          [
           2022,
           "Eswatini"
          ]
         ],
         "hovertemplate": "Area=%{customdata[1]}<br>GDP (USD)=%{x}<br>Obesity Rate (%)=%{y}<br>Year=%{customdata[0]}<extra></extra>",
         "legendgroup": "Eswatini",
         "marker": {
          "color": "#ab63fa",
          "symbol": "circle"
         },
         "mode": "markers",
         "name": "Eswatini",
         "orientation": "v",
         "showlegend": true,
         "type": "scatter",
         "x": [
          10170.9
         ],
         "xaxis": "x",
         "y": [
          30.1
         ],
         "yaxis": "y"
        },
        {
         "customdata": [
          [
           2022,
           "Ethiopia"
          ]
         ],
         "hovertemplate": "Area=%{customdata[1]}<br>GDP (USD)=%{x}<br>Obesity Rate (%)=%{y}<br>Year=%{customdata[0]}<extra></extra>",
         "legendgroup": "Ethiopia",
         "marker": {
          "color": "#FFA15A",
          "symbol": "circle"
         },
         "mode": "markers",
         "name": "Ethiopia",
         "orientation": "v",
         "showlegend": true,
         "type": "scatter",
         "x": [
          2698.6
         ],
         "xaxis": "x",
         "y": [
          2.8
         ],
         "yaxis": "y"
        },
        {
         "customdata": [
          [
           2022,
           "Fiji"
          ]
         ],
         "hovertemplate": "Area=%{customdata[1]}<br>GDP (USD)=%{x}<br>Obesity Rate (%)=%{y}<br>Year=%{customdata[0]}<extra></extra>",
         "legendgroup": "Fiji",
         "marker": {
          "color": "#19d3f3",
          "symbol": "circle"
         },
         "mode": "markers",
         "name": "Fiji",
         "orientation": "v",
         "showlegend": true,
         "type": "scatter",
         "x": [
          12643.9
         ],
         "xaxis": "x",
         "y": [
          33.8
         ],
         "yaxis": "y"
        },
        {
         "customdata": [
          [
           2022,
           "Finland"
          ]
         ],
         "hovertemplate": "Area=%{customdata[1]}<br>GDP (USD)=%{x}<br>Obesity Rate (%)=%{y}<br>Year=%{customdata[0]}<extra></extra>",
         "legendgroup": "Finland",
         "marker": {
          "color": "#FF6692",
          "symbol": "circle"
         },
         "mode": "markers",
         "name": "Finland",
         "orientation": "v",
         "showlegend": true,
         "type": "scatter",
         "x": [
          58634.4
         ],
         "xaxis": "x",
         "y": [
          21.5
         ],
         "yaxis": "y"
        },
        {
         "customdata": [
          [
           2022,
           "France"
          ]
         ],
         "hovertemplate": "Area=%{customdata[1]}<br>GDP (USD)=%{x}<br>Obesity Rate (%)=%{y}<br>Year=%{customdata[0]}<extra></extra>",
         "legendgroup": "France",
         "marker": {
          "color": "#B6E880",
          "symbol": "circle"
         },
         "mode": "markers",
         "name": "France",
         "orientation": "v",
         "showlegend": true,
         "type": "scatter",
         "x": [
          54988.3
         ],
         "xaxis": "x",
         "y": [
          9.7
         ],
         "yaxis": "y"
        },
        {
         "customdata": [
          [
           2022,
           "Gabon"
          ]
         ],
         "hovertemplate": "Area=%{customdata[1]}<br>GDP (USD)=%{x}<br>Obesity Rate (%)=%{y}<br>Year=%{customdata[0]}<extra></extra>",
         "legendgroup": "Gabon",
         "marker": {
          "color": "#FF97FF",
          "symbol": "circle"
         },
         "mode": "markers",
         "name": "Gabon",
         "orientation": "v",
         "showlegend": true,
         "type": "scatter",
         "x": [
          19718.3
         ],
         "xaxis": "x",
         "y": [
          21
         ],
         "yaxis": "y"
        },
        {
         "customdata": [
          [
           2022,
           "Gambia"
          ]
         ],
         "hovertemplate": "Area=%{customdata[1]}<br>GDP (USD)=%{x}<br>Obesity Rate (%)=%{y}<br>Year=%{customdata[0]}<extra></extra>",
         "legendgroup": "Gambia",
         "marker": {
          "color": "#FECB52",
          "symbol": "circle"
         },
         "mode": "markers",
         "name": "Gambia",
         "orientation": "v",
         "showlegend": true,
         "type": "scatter",
         "x": [
          2744.8
         ],
         "xaxis": "x",
         "y": [
          14.9
         ],
         "yaxis": "y"
        },
        {
         "customdata": [
          [
           2022,
           "Georgia"
          ]
         ],
         "hovertemplate": "Area=%{customdata[1]}<br>GDP (USD)=%{x}<br>Obesity Rate (%)=%{y}<br>Year=%{customdata[0]}<extra></extra>",
         "legendgroup": "Georgia",
         "marker": {
          "color": "#636efa",
          "symbol": "circle"
         },
         "mode": "markers",
         "name": "Georgia",
         "orientation": "v",
         "showlegend": true,
         "type": "scatter",
         "x": [
          20612.2
         ],
         "xaxis": "x",
         "y": [
          34.7
         ],
         "yaxis": "y"
        },
        {
         "customdata": [
          [
           2022,
           "Germany"
          ]
         ],
         "hovertemplate": "Area=%{customdata[1]}<br>GDP (USD)=%{x}<br>Obesity Rate (%)=%{y}<br>Year=%{customdata[0]}<extra></extra>",
         "legendgroup": "Germany",
         "marker": {
          "color": "#EF553B",
          "symbol": "circle"
         },
         "mode": "markers",
         "name": "Germany",
         "orientation": "v",
         "showlegend": true,
         "type": "scatter",
         "x": [
          62605.5
         ],
         "xaxis": "x",
         "y": [
          20.4
         ],
         "yaxis": "y"
        },
        {
         "customdata": [
          [
           2022,
           "Ghana"
          ]
         ],
         "hovertemplate": "Area=%{customdata[1]}<br>GDP (USD)=%{x}<br>Obesity Rate (%)=%{y}<br>Year=%{customdata[0]}<extra></extra>",
         "legendgroup": "Ghana",
         "marker": {
          "color": "#00cc96",
          "symbol": "circle"
         },
         "mode": "markers",
         "name": "Ghana",
         "orientation": "v",
         "showlegend": true,
         "type": "scatter",
         "x": [
          6616.1
         ],
         "xaxis": "x",
         "y": [
          12.9
         ],
         "yaxis": "y"
        },
        {
         "customdata": [
          [
           2022,
           "Greece"
          ]
         ],
         "hovertemplate": "Area=%{customdata[1]}<br>GDP (USD)=%{x}<br>Obesity Rate (%)=%{y}<br>Year=%{customdata[0]}<extra></extra>",
         "legendgroup": "Greece",
         "marker": {
          "color": "#ab63fa",
          "symbol": "circle"
         },
         "mode": "markers",
         "name": "Greece",
         "orientation": "v",
         "showlegend": true,
         "type": "scatter",
         "x": [
          35328.8
         ],
         "xaxis": "x",
         "y": [
          28
         ],
         "yaxis": "y"
        },
        {
         "customdata": [
          [
           2022,
           "Grenada"
          ]
         ],
         "hovertemplate": "Area=%{customdata[1]}<br>GDP (USD)=%{x}<br>Obesity Rate (%)=%{y}<br>Year=%{customdata[0]}<extra></extra>",
         "legendgroup": "Grenada",
         "marker": {
          "color": "#FFA15A",
          "symbol": "circle"
         },
         "mode": "markers",
         "name": "Grenada",
         "orientation": "v",
         "showlegend": true,
         "type": "scatter",
         "x": [
          15136.3
         ],
         "xaxis": "x",
         "y": [
          30.3
         ],
         "yaxis": "y"
        },
        {
         "customdata": [
          [
           2022,
           "Guatemala"
          ]
         ],
         "hovertemplate": "Area=%{customdata[1]}<br>GDP (USD)=%{x}<br>Obesity Rate (%)=%{y}<br>Year=%{customdata[0]}<extra></extra>",
         "legendgroup": "Guatemala",
         "marker": {
          "color": "#19d3f3",
          "symbol": "circle"
         },
         "mode": "markers",
         "name": "Guatemala",
         "orientation": "v",
         "showlegend": true,
         "type": "scatter",
         "x": [
          12424.8
         ],
         "xaxis": "x",
         "y": [
          26.8
         ],
         "yaxis": "y"
        },
        {
         "customdata": [
          [
           2022,
           "Guinea"
          ]
         ],
         "hovertemplate": "Area=%{customdata[1]}<br>GDP (USD)=%{x}<br>Obesity Rate (%)=%{y}<br>Year=%{customdata[0]}<extra></extra>",
         "legendgroup": "Guinea",
         "marker": {
          "color": "#FF6692",
          "symbol": "circle"
         },
         "mode": "markers",
         "name": "Guinea",
         "orientation": "v",
         "showlegend": true,
         "type": "scatter",
         "x": [
          3818.2
         ],
         "xaxis": "x",
         "y": [
          9.5
         ],
         "yaxis": "y"
        },
        {
         "customdata": [
          [
           2022,
           "Guinea-Bissau"
          ]
         ],
         "hovertemplate": "Area=%{customdata[1]}<br>GDP (USD)=%{x}<br>Obesity Rate (%)=%{y}<br>Year=%{customdata[0]}<extra></extra>",
         "legendgroup": "Guinea-Bissau",
         "marker": {
          "color": "#B6E880",
          "symbol": "circle"
         },
         "mode": "markers",
         "name": "Guinea-Bissau",
         "orientation": "v",
         "showlegend": true,
         "type": "scatter",
         "x": [
          2192.4
         ],
         "xaxis": "x",
         "y": [
          11.5
         ],
         "yaxis": "y"
        },
        {
         "customdata": [
          [
           2022,
           "Guyana"
          ]
         ],
         "hovertemplate": "Area=%{customdata[1]}<br>GDP (USD)=%{x}<br>Obesity Rate (%)=%{y}<br>Year=%{customdata[0]}<extra></extra>",
         "legendgroup": "Guyana",
         "marker": {
          "color": "#FF97FF",
          "symbol": "circle"
         },
         "mode": "markers",
         "name": "Guyana",
         "orientation": "v",
         "showlegend": true,
         "type": "scatter",
         "x": [
          37667.8
         ],
         "xaxis": "x",
         "y": [
          28.5
         ],
         "yaxis": "y"
        },
        {
         "customdata": [
          [
           2022,
           "Haiti"
          ]
         ],
         "hovertemplate": "Area=%{customdata[1]}<br>GDP (USD)=%{x}<br>Obesity Rate (%)=%{y}<br>Year=%{customdata[0]}<extra></extra>",
         "legendgroup": "Haiti",
         "marker": {
          "color": "#FECB52",
          "symbol": "circle"
         },
         "mode": "markers",
         "name": "Haiti",
         "orientation": "v",
         "showlegend": true,
         "type": "scatter",
         "x": [
          3026.2
         ],
         "xaxis": "x",
         "y": [
          10.7
         ],
         "yaxis": "y"
        },
        {
         "customdata": [
          [
           2022,
           "Honduras"
          ]
         ],
         "hovertemplate": "Area=%{customdata[1]}<br>GDP (USD)=%{x}<br>Obesity Rate (%)=%{y}<br>Year=%{customdata[0]}<extra></extra>",
         "legendgroup": "Honduras",
         "marker": {
          "color": "#636efa",
          "symbol": "circle"
         },
         "mode": "markers",
         "name": "Honduras",
         "orientation": "v",
         "showlegend": true,
         "type": "scatter",
         "x": [
          6440.4
         ],
         "xaxis": "x",
         "y": [
          29.5
         ],
         "yaxis": "y"
        },
        {
         "customdata": [
          [
           2022,
           "Hungary"
          ]
         ],
         "hovertemplate": "Area=%{customdata[1]}<br>GDP (USD)=%{x}<br>Obesity Rate (%)=%{y}<br>Year=%{customdata[0]}<extra></extra>",
         "legendgroup": "Hungary",
         "marker": {
          "color": "#EF553B",
          "symbol": "circle"
         },
         "mode": "markers",
         "name": "Hungary",
         "orientation": "v",
         "showlegend": true,
         "type": "scatter",
         "x": [
          40683.9
         ],
         "xaxis": "x",
         "y": [
          31.7
         ],
         "yaxis": "y"
        },
        {
         "customdata": [
          [
           2022,
           "Iceland"
          ]
         ],
         "hovertemplate": "Area=%{customdata[1]}<br>GDP (USD)=%{x}<br>Obesity Rate (%)=%{y}<br>Year=%{customdata[0]}<extra></extra>",
         "legendgroup": "Iceland",
         "marker": {
          "color": "#00cc96",
          "symbol": "circle"
         },
         "mode": "markers",
         "name": "Iceland",
         "orientation": "v",
         "showlegend": true,
         "type": "scatter",
         "x": [
          64294.7
         ],
         "xaxis": "x",
         "y": [
          21.2
         ],
         "yaxis": "y"
        },
        {
         "customdata": [
          [
           2022,
           "India"
          ]
         ],
         "hovertemplate": "Area=%{customdata[1]}<br>GDP (USD)=%{x}<br>Obesity Rate (%)=%{y}<br>Year=%{customdata[0]}<extra></extra>",
         "legendgroup": "India",
         "marker": {
          "color": "#ab63fa",
          "symbol": "circle"
         },
         "mode": "markers",
         "name": "India",
         "orientation": "v",
         "showlegend": true,
         "type": "scatter",
         "x": [
          8568.6
         ],
         "xaxis": "x",
         "y": [
          7.3
         ],
         "yaxis": "y"
        },
        {
         "customdata": [
          [
           2022,
           "Indonesia"
          ]
         ],
         "hovertemplate": "Area=%{customdata[1]}<br>GDP (USD)=%{x}<br>Obesity Rate (%)=%{y}<br>Year=%{customdata[0]}<extra></extra>",
         "legendgroup": "Indonesia",
         "marker": {
          "color": "#FFA15A",
          "symbol": "circle"
         },
         "mode": "markers",
         "name": "Indonesia",
         "orientation": "v",
         "showlegend": true,
         "type": "scatter",
         "x": [
          13495.5
         ],
         "xaxis": "x",
         "y": [
          11.2
         ],
         "yaxis": "y"
        },
        {
         "customdata": [
          [
           2022,
           "Iran (Islamic Republic of)"
          ]
         ],
         "hovertemplate": "Area=%{customdata[1]}<br>GDP (USD)=%{x}<br>Obesity Rate (%)=%{y}<br>Year=%{customdata[0]}<extra></extra>",
         "legendgroup": "Iran (Islamic Republic of)",
         "marker": {
          "color": "#19d3f3",
          "symbol": "circle"
         },
         "mode": "markers",
         "name": "Iran (Islamic Republic of)",
         "orientation": "v",
         "showlegend": true,
         "type": "scatter",
         "x": [
          15499.9
         ],
         "xaxis": "x",
         "y": [
          24.3
         ],
         "yaxis": "y"
        },
        {
         "customdata": [
          [
           2022,
           "Iraq"
          ]
         ],
         "hovertemplate": "Area=%{customdata[1]}<br>GDP (USD)=%{x}<br>Obesity Rate (%)=%{y}<br>Year=%{customdata[0]}<extra></extra>",
         "legendgroup": "Iraq",
         "marker": {
          "color": "#FF6692",
          "symbol": "circle"
         },
         "mode": "markers",
         "name": "Iraq",
         "orientation": "v",
         "showlegend": true,
         "type": "scatter",
         "x": [
          13062
         ],
         "xaxis": "x",
         "y": [
          40.5
         ],
         "yaxis": "y"
        },
        {
         "customdata": [
          [
           2022,
           "Ireland"
          ]
         ],
         "hovertemplate": "Area=%{customdata[1]}<br>GDP (USD)=%{x}<br>Obesity Rate (%)=%{y}<br>Year=%{customdata[0]}<extra></extra>",
         "legendgroup": "Ireland",
         "marker": {
          "color": "#B6E880",
          "symbol": "circle"
         },
         "mode": "markers",
         "name": "Ireland",
         "orientation": "v",
         "showlegend": true,
         "type": "scatter",
         "x": [
          122596
         ],
         "xaxis": "x",
         "y": [
          28.3
         ],
         "yaxis": "y"
        },
        {
         "customdata": [
          [
           2022,
           "Israel"
          ]
         ],
         "hovertemplate": "Area=%{customdata[1]}<br>GDP (USD)=%{x}<br>Obesity Rate (%)=%{y}<br>Year=%{customdata[0]}<extra></extra>",
         "legendgroup": "Israel",
         "marker": {
          "color": "#FF97FF",
          "symbol": "circle"
         },
         "mode": "markers",
         "name": "Israel",
         "orientation": "v",
         "showlegend": true,
         "type": "scatter",
         "x": [
          48318.9
         ],
         "xaxis": "x",
         "y": [
          22.5
         ],
         "yaxis": "y"
        },
        {
         "customdata": [
          [
           2022,
           "Italy"
          ]
         ],
         "hovertemplate": "Area=%{customdata[1]}<br>GDP (USD)=%{x}<br>Obesity Rate (%)=%{y}<br>Year=%{customdata[0]}<extra></extra>",
         "legendgroup": "Italy",
         "marker": {
          "color": "#FECB52",
          "symbol": "circle"
         },
         "mode": "markers",
         "name": "Italy",
         "orientation": "v",
         "showlegend": true,
         "type": "scatter",
         "x": [
          51941.2
         ],
         "xaxis": "x",
         "y": [
          17.3
         ],
         "yaxis": "y"
        },
        {
         "customdata": [
          [
           2022,
           "Jamaica"
          ]
         ],
         "hovertemplate": "Area=%{customdata[1]}<br>GDP (USD)=%{x}<br>Obesity Rate (%)=%{y}<br>Year=%{customdata[0]}<extra></extra>",
         "legendgroup": "Jamaica",
         "marker": {
          "color": "#636efa",
          "symbol": "circle"
         },
         "mode": "markers",
         "name": "Jamaica",
         "orientation": "v",
         "showlegend": true,
         "type": "scatter",
         "x": [
          10114
         ],
         "xaxis": "x",
         "y": [
          33.8
         ],
         "yaxis": "y"
        },
        {
         "customdata": [
          [
           2022,
           "Japan"
          ]
         ],
         "hovertemplate": "Area=%{customdata[1]}<br>GDP (USD)=%{x}<br>Obesity Rate (%)=%{y}<br>Year=%{customdata[0]}<extra></extra>",
         "legendgroup": "Japan",
         "marker": {
          "color": "#EF553B",
          "symbol": "circle"
         },
         "mode": "markers",
         "name": "Japan",
         "orientation": "v",
         "showlegend": true,
         "type": "scatter",
         "x": [
          44913.8
         ],
         "xaxis": "x",
         "y": [
          5.5
         ],
         "yaxis": "y"
        },
        {
         "customdata": [
          [
           2022,
           "Jordan"
          ]
         ],
         "hovertemplate": "Area=%{customdata[1]}<br>GDP (USD)=%{x}<br>Obesity Rate (%)=%{y}<br>Year=%{customdata[0]}<extra></extra>",
         "legendgroup": "Jordan",
         "marker": {
          "color": "#00cc96",
          "symbol": "circle"
         },
         "mode": "markers",
         "name": "Jordan",
         "orientation": "v",
         "showlegend": true,
         "type": "scatter",
         "x": [
          9222.5
         ],
         "xaxis": "x",
         "y": [
          38.5
         ],
         "yaxis": "y"
        },
        {
         "customdata": [
          [
           2022,
           "Kazakhstan"
          ]
         ],
         "hovertemplate": "Area=%{customdata[1]}<br>GDP (USD)=%{x}<br>Obesity Rate (%)=%{y}<br>Year=%{customdata[0]}<extra></extra>",
         "legendgroup": "Kazakhstan",
         "marker": {
          "color": "#ab63fa",
          "symbol": "circle"
         },
         "mode": "markers",
         "name": "Kazakhstan",
         "orientation": "v",
         "showlegend": true,
         "type": "scatter",
         "x": [
          34210.9
         ],
         "xaxis": "x",
         "y": [
          18.4
         ],
         "yaxis": "y"
        },
        {
         "customdata": [
          [
           2022,
           "Kenya"
          ]
         ],
         "hovertemplate": "Area=%{customdata[1]}<br>GDP (USD)=%{x}<br>Obesity Rate (%)=%{y}<br>Year=%{customdata[0]}<extra></extra>",
         "legendgroup": "Kenya",
         "marker": {
          "color": "#FFA15A",
          "symbol": "circle"
         },
         "mode": "markers",
         "name": "Kenya",
         "orientation": "v",
         "showlegend": true,
         "type": "scatter",
         "x": [
          5513.9
         ],
         "xaxis": "x",
         "y": [
          12.4
         ],
         "yaxis": "y"
        },
        {
         "customdata": [
          [
           2022,
           "Kiribati"
          ]
         ],
         "hovertemplate": "Area=%{customdata[1]}<br>GDP (USD)=%{x}<br>Obesity Rate (%)=%{y}<br>Year=%{customdata[0]}<extra></extra>",
         "legendgroup": "Kiribati",
         "marker": {
          "color": "#19d3f3",
          "symbol": "circle"
         },
         "mode": "markers",
         "name": "Kiribati",
         "orientation": "v",
         "showlegend": true,
         "type": "scatter",
         "x": [
          2209.9
         ],
         "xaxis": "x",
         "y": [
          46.3
         ],
         "yaxis": "y"
        },
        {
         "customdata": [
          [
           2022,
           "Kuwait"
          ]
         ],
         "hovertemplate": "Area=%{customdata[1]}<br>GDP (USD)=%{x}<br>Obesity Rate (%)=%{y}<br>Year=%{customdata[0]}<extra></extra>",
         "legendgroup": "Kuwait",
         "marker": {
          "color": "#FF6692",
          "symbol": "circle"
         },
         "mode": "markers",
         "name": "Kuwait",
         "orientation": "v",
         "showlegend": true,
         "type": "scatter",
         "x": [
          52164.4
         ],
         "xaxis": "x",
         "y": [
          41.4
         ],
         "yaxis": "y"
        },
        {
         "customdata": [
          [
           2022,
           "Kyrgyzstan"
          ]
         ],
         "hovertemplate": "Area=%{customdata[1]}<br>GDP (USD)=%{x}<br>Obesity Rate (%)=%{y}<br>Year=%{customdata[0]}<extra></extra>",
         "legendgroup": "Kyrgyzstan",
         "marker": {
          "color": "#B6E880",
          "symbol": "circle"
         },
         "mode": "markers",
         "name": "Kyrgyzstan",
         "orientation": "v",
         "showlegend": true,
         "type": "scatter",
         "x": [
          5991.5
         ],
         "xaxis": "x",
         "y": [
          26.6
         ],
         "yaxis": "y"
        },
        {
         "customdata": [
          [
           2022,
           "Lao People's Democratic Republic"
          ]
         ],
         "hovertemplate": "Area=%{customdata[1]}<br>GDP (USD)=%{x}<br>Obesity Rate (%)=%{y}<br>Year=%{customdata[0]}<extra></extra>",
         "legendgroup": "Lao People's Democratic Republic",
         "marker": {
          "color": "#FF97FF",
          "symbol": "circle"
         },
         "mode": "markers",
         "name": "Lao People's Democratic Republic",
         "orientation": "v",
         "showlegend": true,
         "type": "scatter",
         "x": [
          8215.1
         ],
         "xaxis": "x",
         "y": [
          8
         ],
         "yaxis": "y"
        },
        {
         "customdata": [
          [
           2022,
           "Latvia"
          ]
         ],
         "hovertemplate": "Area=%{customdata[1]}<br>GDP (USD)=%{x}<br>Obesity Rate (%)=%{y}<br>Year=%{customdata[0]}<extra></extra>",
         "legendgroup": "Latvia",
         "marker": {
          "color": "#FECB52",
          "symbol": "circle"
         },
         "mode": "markers",
         "name": "Latvia",
         "orientation": "v",
         "showlegend": true,
         "type": "scatter",
         "x": [
          38116.4
         ],
         "xaxis": "x",
         "y": [
          24.3
         ],
         "yaxis": "y"
        },
        {
         "customdata": [
          [
           2022,
           "Lesotho"
          ]
         ],
         "hovertemplate": "Area=%{customdata[1]}<br>GDP (USD)=%{x}<br>Obesity Rate (%)=%{y}<br>Year=%{customdata[0]}<extra></extra>",
         "legendgroup": "Lesotho",
         "marker": {
          "color": "#636efa",
          "symbol": "circle"
         },
         "mode": "markers",
         "name": "Lesotho",
         "orientation": "v",
         "showlegend": true,
         "type": "scatter",
         "x": [
          2457.4
         ],
         "xaxis": "x",
         "y": [
          21
         ],
         "yaxis": "y"
        },
        {
         "customdata": [
          [
           2022,
           "Liberia"
          ]
         ],
         "hovertemplate": "Area=%{customdata[1]}<br>GDP (USD)=%{x}<br>Obesity Rate (%)=%{y}<br>Year=%{customdata[0]}<extra></extra>",
         "legendgroup": "Liberia",
         "marker": {
          "color": "#EF553B",
          "symbol": "circle"
         },
         "mode": "markers",
         "name": "Liberia",
         "orientation": "v",
         "showlegend": true,
         "type": "scatter",
         "x": [
          1598.2
         ],
         "xaxis": "x",
         "y": [
          17
         ],
         "yaxis": "y"
        },
        {
         "customdata": [
          [
           2022,
           "Libya"
          ]
         ],
         "hovertemplate": "Area=%{customdata[1]}<br>GDP (USD)=%{x}<br>Obesity Rate (%)=%{y}<br>Year=%{customdata[0]}<extra></extra>",
         "legendgroup": "Libya",
         "marker": {
          "color": "#00cc96",
          "symbol": "circle"
         },
         "mode": "markers",
         "name": "Libya",
         "orientation": "v",
         "showlegend": true,
         "type": "scatter",
         "x": [
          14777.6
         ],
         "xaxis": "x",
         "y": [
          36.7
         ],
         "yaxis": "y"
        },
        {
         "customdata": [
          [
           2022,
           "Lithuania"
          ]
         ],
         "hovertemplate": "Area=%{customdata[1]}<br>GDP (USD)=%{x}<br>Obesity Rate (%)=%{y}<br>Year=%{customdata[0]}<extra></extra>",
         "legendgroup": "Lithuania",
         "marker": {
          "color": "#ab63fa",
          "symbol": "circle"
         },
         "mode": "markers",
         "name": "Lithuania",
         "orientation": "v",
         "showlegend": true,
         "type": "scatter",
         "x": [
          47025.4
         ],
         "xaxis": "x",
         "y": [
          25.4
         ],
         "yaxis": "y"
        },
        {
         "customdata": [
          [
           2022,
           "Luxembourg"
          ]
         ],
         "hovertemplate": "Area=%{customdata[1]}<br>GDP (USD)=%{x}<br>Obesity Rate (%)=%{y}<br>Year=%{customdata[0]}<extra></extra>",
         "legendgroup": "Luxembourg",
         "marker": {
          "color": "#FFA15A",
          "symbol": "circle"
         },
         "mode": "markers",
         "name": "Luxembourg",
         "orientation": "v",
         "showlegend": true,
         "type": "scatter",
         "x": [
          137059
         ],
         "xaxis": "x",
         "y": [
          18.4
         ],
         "yaxis": "y"
        },
        {
         "customdata": [
          [
           2022,
           "Madagascar"
          ]
         ],
         "hovertemplate": "Area=%{customdata[1]}<br>GDP (USD)=%{x}<br>Obesity Rate (%)=%{y}<br>Year=%{customdata[0]}<extra></extra>",
         "legendgroup": "Madagascar",
         "marker": {
          "color": "#19d3f3",
          "symbol": "circle"
         },
         "mode": "markers",
         "name": "Madagascar",
         "orientation": "v",
         "showlegend": true,
         "type": "scatter",
         "x": [
          1664.6
         ],
         "xaxis": "x",
         "y": [
          4.3
         ],
         "yaxis": "y"
        },
        {
         "customdata": [
          [
           2022,
           "Malawi"
          ]
         ],
         "hovertemplate": "Area=%{customdata[1]}<br>GDP (USD)=%{x}<br>Obesity Rate (%)=%{y}<br>Year=%{customdata[0]}<extra></extra>",
         "legendgroup": "Malawi",
         "marker": {
          "color": "#FF6692",
          "symbol": "circle"
         },
         "mode": "markers",
         "name": "Malawi",
         "orientation": "v",
         "showlegend": true,
         "type": "scatter",
         "x": [
          1703.6
         ],
         "xaxis": "x",
         "y": [
          7.7
         ],
         "yaxis": "y"
        },
        {
         "customdata": [
          [
           2022,
           "Malaysia"
          ]
         ],
         "hovertemplate": "Area=%{customdata[1]}<br>GDP (USD)=%{x}<br>Obesity Rate (%)=%{y}<br>Year=%{customdata[0]}<extra></extra>",
         "legendgroup": "Malaysia",
         "marker": {
          "color": "#B6E880",
          "symbol": "circle"
         },
         "mode": "markers",
         "name": "Malaysia",
         "orientation": "v",
         "showlegend": true,
         "type": "scatter",
         "x": [
          32735.4
         ],
         "xaxis": "x",
         "y": [
          22.1
         ],
         "yaxis": "y"
        },
        {
         "customdata": [
          [
           2022,
           "Maldives"
          ]
         ],
         "hovertemplate": "Area=%{customdata[1]}<br>GDP (USD)=%{x}<br>Obesity Rate (%)=%{y}<br>Year=%{customdata[0]}<extra></extra>",
         "legendgroup": "Maldives",
         "marker": {
          "color": "#FF97FF",
          "symbol": "circle"
         },
         "mode": "markers",
         "name": "Maldives",
         "orientation": "v",
         "showlegend": true,
         "type": "scatter",
         "x": [
          21393.7
         ],
         "xaxis": "x",
         "y": [
          17.3
         ],
         "yaxis": "y"
        },
        {
         "customdata": [
          [
           2022,
           "Mali"
          ]
         ],
         "hovertemplate": "Area=%{customdata[1]}<br>GDP (USD)=%{x}<br>Obesity Rate (%)=%{y}<br>Year=%{customdata[0]}<extra></extra>",
         "legendgroup": "Mali",
         "marker": {
          "color": "#FECB52",
          "symbol": "circle"
         },
         "mode": "markers",
         "name": "Mali",
         "orientation": "v",
         "showlegend": true,
         "type": "scatter",
         "x": [
          2413
         ],
         "xaxis": "x",
         "y": [
          11.4
         ],
         "yaxis": "y"
        },
        {
         "customdata": [
          [
           2022,
           "Malta"
          ]
         ],
         "hovertemplate": "Area=%{customdata[1]}<br>GDP (USD)=%{x}<br>Obesity Rate (%)=%{y}<br>Year=%{customdata[0]}<extra></extra>",
         "legendgroup": "Malta",
         "marker": {
          "color": "#636efa",
          "symbol": "circle"
         },
         "mode": "markers",
         "name": "Malta",
         "orientation": "v",
         "showlegend": true,
         "type": "scatter",
         "x": [
          55727.7
         ],
         "xaxis": "x",
         "y": [
          32.3
         ],
         "yaxis": "y"
        },
        {
         "customdata": [
          [
           2022,
           "Marshall Islands"
          ]
         ],
         "hovertemplate": "Area=%{customdata[1]}<br>GDP (USD)=%{x}<br>Obesity Rate (%)=%{y}<br>Year=%{customdata[0]}<extra></extra>",
         "legendgroup": "Marshall Islands",
         "marker": {
          "color": "#EF553B",
          "symbol": "circle"
         },
         "mode": "markers",
         "name": "Marshall Islands",
         "orientation": "v",
         "showlegend": true,
         "type": "scatter",
         "x": [
          6625.5
         ],
         "xaxis": "x",
         "y": [
          45.9
         ],
         "yaxis": "y"
        },
        {
         "customdata": [
          [
           2022,
           "Mauritania"
          ]
         ],
         "hovertemplate": "Area=%{customdata[1]}<br>GDP (USD)=%{x}<br>Obesity Rate (%)=%{y}<br>Year=%{customdata[0]}<extra></extra>",
         "legendgroup": "Mauritania",
         "marker": {
          "color": "#00cc96",
          "symbol": "circle"
         },
         "mode": "markers",
         "name": "Mauritania",
         "orientation": "v",
         "showlegend": true,
         "type": "scatter",
         "x": [
          6207.1
         ],
         "xaxis": "x",
         "y": [
          22.7
         ],
         "yaxis": "y"
        },
        {
         "customdata": [
          [
           2022,
           "Mauritius"
          ]
         ],
         "hovertemplate": "Area=%{customdata[1]}<br>GDP (USD)=%{x}<br>Obesity Rate (%)=%{y}<br>Year=%{customdata[0]}<extra></extra>",
         "legendgroup": "Mauritius",
         "marker": {
          "color": "#ab63fa",
          "symbol": "circle"
         },
         "mode": "markers",
         "name": "Mauritius",
         "orientation": "v",
         "showlegend": true,
         "type": "scatter",
         "x": [
          24831.5
         ],
         "xaxis": "x",
         "y": [
          19.2
         ],
         "yaxis": "y"
        },
        {
         "customdata": [
          [
           2022,
           "Mexico"
          ]
         ],
         "hovertemplate": "Area=%{customdata[1]}<br>GDP (USD)=%{x}<br>Obesity Rate (%)=%{y}<br>Year=%{customdata[0]}<extra></extra>",
         "legendgroup": "Mexico",
         "marker": {
          "color": "#FFA15A",
          "symbol": "circle"
         },
         "mode": "markers",
         "name": "Mexico",
         "orientation": "v",
         "showlegend": true,
         "type": "scatter",
         "x": [
          21809.6
         ],
         "xaxis": "x",
         "y": [
          36
         ],
         "yaxis": "y"
        },
        {
         "customdata": [
          [
           2022,
           "Micronesia (Federated States of)"
          ]
         ],
         "hovertemplate": "Area=%{customdata[1]}<br>GDP (USD)=%{x}<br>Obesity Rate (%)=%{y}<br>Year=%{customdata[0]}<extra></extra>",
         "legendgroup": "Micronesia (Federated States of)",
         "marker": {
          "color": "#19d3f3",
          "symbol": "circle"
         },
         "mode": "markers",
         "name": "Micronesia (Federated States of)",
         "orientation": "v",
         "showlegend": true,
         "type": "scatter",
         "x": [
          3601.3
         ],
         "xaxis": "x",
         "y": [
          47.1
         ],
         "yaxis": "y"
        },
        {
         "customdata": [
          [
           2022,
           "Mongolia"
          ]
         ],
         "hovertemplate": "Area=%{customdata[1]}<br>GDP (USD)=%{x}<br>Obesity Rate (%)=%{y}<br>Year=%{customdata[0]}<extra></extra>",
         "legendgroup": "Mongolia",
         "marker": {
          "color": "#FF6692",
          "symbol": "circle"
         },
         "mode": "markers",
         "name": "Mongolia",
         "orientation": "v",
         "showlegend": true,
         "type": "scatter",
         "x": [
          15469.8
         ],
         "xaxis": "x",
         "y": [
          24.1
         ],
         "yaxis": "y"
        },
        {
         "customdata": [
          [
           2022,
           "Montenegro"
          ]
         ],
         "hovertemplate": "Area=%{customdata[1]}<br>GDP (USD)=%{x}<br>Obesity Rate (%)=%{y}<br>Year=%{customdata[0]}<extra></extra>",
         "legendgroup": "Montenegro",
         "marker": {
          "color": "#B6E880",
          "symbol": "circle"
         },
         "mode": "markers",
         "name": "Montenegro",
         "orientation": "v",
         "showlegend": true,
         "type": "scatter",
         "x": [
          26166
         ],
         "xaxis": "x",
         "y": [
          18
         ],
         "yaxis": "y"
        },
        {
         "customdata": [
          [
           2022,
           "Morocco"
          ]
         ],
         "hovertemplate": "Area=%{customdata[1]}<br>GDP (USD)=%{x}<br>Obesity Rate (%)=%{y}<br>Year=%{customdata[0]}<extra></extra>",
         "legendgroup": "Morocco",
         "marker": {
          "color": "#FF97FF",
          "symbol": "circle"
         },
         "mode": "markers",
         "name": "Morocco",
         "orientation": "v",
         "showlegend": true,
         "type": "scatter",
         "x": [
          8599.8
         ],
         "xaxis": "x",
         "y": [
          21.8
         ],
         "yaxis": "y"
        },
        {
         "customdata": [
          [
           2022,
           "Mozambique"
          ]
         ],
         "hovertemplate": "Area=%{customdata[1]}<br>GDP (USD)=%{x}<br>Obesity Rate (%)=%{y}<br>Year=%{customdata[0]}<extra></extra>",
         "legendgroup": "Mozambique",
         "marker": {
          "color": "#FECB52",
          "symbol": "circle"
         },
         "mode": "markers",
         "name": "Mozambique",
         "orientation": "v",
         "showlegend": true,
         "type": "scatter",
         "x": [
          1462.6
         ],
         "xaxis": "x",
         "y": [
          10.3
         ],
         "yaxis": "y"
        },
        {
         "customdata": [
          [
           2022,
           "Myanmar"
          ]
         ],
         "hovertemplate": "Area=%{customdata[1]}<br>GDP (USD)=%{x}<br>Obesity Rate (%)=%{y}<br>Year=%{customdata[0]}<extra></extra>",
         "legendgroup": "Myanmar",
         "marker": {
          "color": "#636efa",
          "symbol": "circle"
         },
         "mode": "markers",
         "name": "Myanmar",
         "orientation": "v",
         "showlegend": true,
         "type": "scatter",
         "x": [
          5308.8
         ],
         "xaxis": "x",
         "y": [
          7.4
         ],
         "yaxis": "y"
        },
        {
         "customdata": [
          [
           2022,
           "Namibia"
          ]
         ],
         "hovertemplate": "Area=%{customdata[1]}<br>GDP (USD)=%{x}<br>Obesity Rate (%)=%{y}<br>Year=%{customdata[0]}<extra></extra>",
         "legendgroup": "Namibia",
         "marker": {
          "color": "#EF553B",
          "symbol": "circle"
         },
         "mode": "markers",
         "name": "Namibia",
         "orientation": "v",
         "showlegend": true,
         "type": "scatter",
         "x": [
          11474.5
         ],
         "xaxis": "x",
         "y": [
          17
         ],
         "yaxis": "y"
        },
        {
         "customdata": [
          [
           2022,
           "Nauru"
          ]
         ],
         "hovertemplate": "Area=%{customdata[1]}<br>GDP (USD)=%{x}<br>Obesity Rate (%)=%{y}<br>Year=%{customdata[0]}<extra></extra>",
         "legendgroup": "Nauru",
         "marker": {
          "color": "#00cc96",
          "symbol": "circle"
         },
         "mode": "markers",
         "name": "Nauru",
         "orientation": "v",
         "showlegend": true,
         "type": "scatter",
         "x": [
          12164.9
         ],
         "xaxis": "x",
         "y": [
          69.9
         ],
         "yaxis": "y"
        },
        {
         "customdata": [
          [
           2022,
           "Nepal"
          ]
         ],
         "hovertemplate": "Area=%{customdata[1]}<br>GDP (USD)=%{x}<br>Obesity Rate (%)=%{y}<br>Year=%{customdata[0]}<extra></extra>",
         "legendgroup": "Nepal",
         "marker": {
          "color": "#ab63fa",
          "symbol": "circle"
         },
         "mode": "markers",
         "name": "Nepal",
         "orientation": "v",
         "showlegend": true,
         "type": "scatter",
         "x": [
          4632.8
         ],
         "xaxis": "x",
         "y": [
          7
         ],
         "yaxis": "y"
        },
        {
         "customdata": [
          [
           2022,
           "Netherlands (Kingdom of the)"
          ]
         ],
         "hovertemplate": "Area=%{customdata[1]}<br>GDP (USD)=%{x}<br>Obesity Rate (%)=%{y}<br>Year=%{customdata[0]}<extra></extra>",
         "legendgroup": "Netherlands (Kingdom of the)",
         "marker": {
          "color": "#FFA15A",
          "symbol": "circle"
         },
         "mode": "markers",
         "name": "Netherlands (Kingdom of the)",
         "orientation": "v",
         "showlegend": true,
         "type": "scatter",
         "x": [
          69953.7
         ],
         "xaxis": "x",
         "y": [
          14.5
         ],
         "yaxis": "y"
        },
        {
         "customdata": [
          [
           2022,
           "New Zealand"
          ]
         ],
         "hovertemplate": "Area=%{customdata[1]}<br>GDP (USD)=%{x}<br>Obesity Rate (%)=%{y}<br>Year=%{customdata[0]}<extra></extra>",
         "legendgroup": "New Zealand",
         "marker": {
          "color": "#19d3f3",
          "symbol": "circle"
         },
         "mode": "markers",
         "name": "New Zealand",
         "orientation": "v",
         "showlegend": true,
         "type": "scatter",
         "x": [
          49816.1
         ],
         "xaxis": "x",
         "y": [
          33.6
         ],
         "yaxis": "y"
        },
        {
         "customdata": [
          [
           2022,
           "Nicaragua"
          ]
         ],
         "hovertemplate": "Area=%{customdata[1]}<br>GDP (USD)=%{x}<br>Obesity Rate (%)=%{y}<br>Year=%{customdata[0]}<extra></extra>",
         "legendgroup": "Nicaragua",
         "marker": {
          "color": "#FF6692",
          "symbol": "circle"
         },
         "mode": "markers",
         "name": "Nicaragua",
         "orientation": "v",
         "showlegend": true,
         "type": "scatter",
         "x": [
          7032
         ],
         "xaxis": "x",
         "y": [
          33.6
         ],
         "yaxis": "y"
        },
        {
         "customdata": [
          [
           2022,
           "Niger"
          ]
         ],
         "hovertemplate": "Area=%{customdata[1]}<br>GDP (USD)=%{x}<br>Obesity Rate (%)=%{y}<br>Year=%{customdata[0]}<extra></extra>",
         "legendgroup": "Niger",
         "marker": {
          "color": "#B6E880",
          "symbol": "circle"
         },
         "mode": "markers",
         "name": "Niger",
         "orientation": "v",
         "showlegend": true,
         "type": "scatter",
         "x": [
          1652.7
         ],
         "xaxis": "x",
         "y": [
          6
         ],
         "yaxis": "y"
        },
        {
         "customdata": [
          [
           2022,
           "Nigeria"
          ]
         ],
         "hovertemplate": "Area=%{customdata[1]}<br>GDP (USD)=%{x}<br>Obesity Rate (%)=%{y}<br>Year=%{customdata[0]}<extra></extra>",
         "legendgroup": "Nigeria",
         "marker": {
          "color": "#FF97FF",
          "symbol": "circle"
         },
         "mode": "markers",
         "name": "Nigeria",
         "orientation": "v",
         "showlegend": true,
         "type": "scatter",
         "x": [
          5670
         ],
         "xaxis": "x",
         "y": [
          12.4
         ],
         "yaxis": "y"
        },
        {
         "customdata": [
          [
           2022,
           "North Macedonia"
          ]
         ],
         "hovertemplate": "Area=%{customdata[1]}<br>GDP (USD)=%{x}<br>Obesity Rate (%)=%{y}<br>Year=%{customdata[0]}<extra></extra>",
         "legendgroup": "North Macedonia",
         "marker": {
          "color": "#FECB52",
          "symbol": "circle"
         },
         "mode": "markers",
         "name": "North Macedonia",
         "orientation": "v",
         "showlegend": true,
         "type": "scatter",
         "x": [
          20403.3
         ],
         "xaxis": "x",
         "y": [
          27.5
         ],
         "yaxis": "y"
        },
        {
         "customdata": [
          [
           2022,
           "Norway"
          ]
         ],
         "hovertemplate": "Area=%{customdata[1]}<br>GDP (USD)=%{x}<br>Obesity Rate (%)=%{y}<br>Year=%{customdata[0]}<extra></extra>",
         "legendgroup": "Norway",
         "marker": {
          "color": "#636efa",
          "symbol": "circle"
         },
         "mode": "markers",
         "name": "Norway",
         "orientation": "v",
         "showlegend": true,
         "type": "scatter",
         "x": [
          88712
         ],
         "xaxis": "x",
         "y": [
          19.1
         ],
         "yaxis": "y"
        },
        {
         "customdata": [
          [
           2022,
           "Oman"
          ]
         ],
         "hovertemplate": "Area=%{customdata[1]}<br>GDP (USD)=%{x}<br>Obesity Rate (%)=%{y}<br>Year=%{customdata[0]}<extra></extra>",
         "legendgroup": "Oman",
         "marker": {
          "color": "#EF553B",
          "symbol": "circle"
         },
         "mode": "markers",
         "name": "Oman",
         "orientation": "v",
         "showlegend": true,
         "type": "scatter",
         "x": [
          40114
         ],
         "xaxis": "x",
         "y": [
          31.1
         ],
         "yaxis": "y"
        },
        {
         "customdata": [
          [
           2022,
           "Pakistan"
          ]
         ],
         "hovertemplate": "Area=%{customdata[1]}<br>GDP (USD)=%{x}<br>Obesity Rate (%)=%{y}<br>Year=%{customdata[0]}<extra></extra>",
         "legendgroup": "Pakistan",
         "marker": {
          "color": "#00cc96",
          "symbol": "circle"
         },
         "mode": "markers",
         "name": "Pakistan",
         "orientation": "v",
         "showlegend": true,
         "type": "scatter",
         "x": [
          5706.9
         ],
         "xaxis": "x",
         "y": [
          23
         ],
         "yaxis": "y"
        },
        {
         "customdata": [
          [
           2022,
           "Palestine"
          ]
         ],
         "hovertemplate": "Area=%{customdata[1]}<br>GDP (USD)=%{x}<br>Obesity Rate (%)=%{y}<br>Year=%{customdata[0]}<extra></extra>",
         "legendgroup": "Palestine",
         "marker": {
          "color": "#ab63fa",
          "symbol": "circle"
         },
         "mode": "markers",
         "name": "Palestine",
         "orientation": "v",
         "showlegend": true,
         "type": "scatter",
         "x": [
          5744.8
         ],
         "xaxis": "x",
         "y": [
          37.6
         ],
         "yaxis": "y"
        },
        {
         "customdata": [
          [
           2022,
           "Panama"
          ]
         ],
         "hovertemplate": "Area=%{customdata[1]}<br>GDP (USD)=%{x}<br>Obesity Rate (%)=%{y}<br>Year=%{customdata[0]}<extra></extra>",
         "legendgroup": "Panama",
         "marker": {
          "color": "#FFA15A",
          "symbol": "circle"
         },
         "mode": "markers",
         "name": "Panama",
         "orientation": "v",
         "showlegend": true,
         "type": "scatter",
         "x": [
          33790.4
         ],
         "xaxis": "x",
         "y": [
          36.1
         ],
         "yaxis": "y"
        },
        {
         "customdata": [
          [
           2022,
           "Papua New Guinea"
          ]
         ],
         "hovertemplate": "Area=%{customdata[1]}<br>GDP (USD)=%{x}<br>Obesity Rate (%)=%{y}<br>Year=%{customdata[0]}<extra></extra>",
         "legendgroup": "Papua New Guinea",
         "marker": {
          "color": "#19d3f3",
          "symbol": "circle"
         },
         "mode": "markers",
         "name": "Papua New Guinea",
         "orientation": "v",
         "showlegend": true,
         "type": "scatter",
         "x": [
          4141.2
         ],
         "xaxis": "x",
         "y": [
          20.5
         ],
         "yaxis": "y"
        },
        {
         "customdata": [
          [
           2022,
           "Paraguay"
          ]
         ],
         "hovertemplate": "Area=%{customdata[1]}<br>GDP (USD)=%{x}<br>Obesity Rate (%)=%{y}<br>Year=%{customdata[0]}<extra></extra>",
         "legendgroup": "Paraguay",
         "marker": {
          "color": "#FF6692",
          "symbol": "circle"
         },
         "mode": "markers",
         "name": "Paraguay",
         "orientation": "v",
         "showlegend": true,
         "type": "scatter",
         "x": [
          15198.2
         ],
         "xaxis": "x",
         "y": [
          33
         ],
         "yaxis": "y"
        },
        {
         "customdata": [
          [
           2022,
           "Peru"
          ]
         ],
         "hovertemplate": "Area=%{customdata[1]}<br>GDP (USD)=%{x}<br>Obesity Rate (%)=%{y}<br>Year=%{customdata[0]}<extra></extra>",
         "legendgroup": "Peru",
         "marker": {
          "color": "#B6E880",
          "symbol": "circle"
         },
         "mode": "markers",
         "name": "Peru",
         "orientation": "v",
         "showlegend": true,
         "type": "scatter",
         "x": [
          15102.6
         ],
         "xaxis": "x",
         "y": [
          27.3
         ],
         "yaxis": "y"
        },
        {
         "customdata": [
          [
           2022,
           "Philippines"
          ]
         ],
         "hovertemplate": "Area=%{customdata[1]}<br>GDP (USD)=%{x}<br>Obesity Rate (%)=%{y}<br>Year=%{customdata[0]}<extra></extra>",
         "legendgroup": "Philippines",
         "marker": {
          "color": "#FF97FF",
          "symbol": "circle"
         },
         "mode": "markers",
         "name": "Philippines",
         "orientation": "v",
         "showlegend": true,
         "type": "scatter",
         "x": [
          9325.7
         ],
         "xaxis": "x",
         "y": [
          8.7
         ],
         "yaxis": "y"
        },
        {
         "customdata": [
          [
           2022,
           "Poland"
          ]
         ],
         "hovertemplate": "Area=%{customdata[1]}<br>GDP (USD)=%{x}<br>Obesity Rate (%)=%{y}<br>Year=%{customdata[0]}<extra></extra>",
         "legendgroup": "Poland",
         "marker": {
          "color": "#FECB52",
          "symbol": "circle"
         },
         "mode": "markers",
         "name": "Poland",
         "orientation": "v",
         "showlegend": true,
         "type": "scatter",
         "x": [
          43661.5
         ],
         "xaxis": "x",
         "y": [
          27.5
         ],
         "yaxis": "y"
        },
        {
         "customdata": [
          [
           2022,
           "Portugal"
          ]
         ],
         "hovertemplate": "Area=%{customdata[1]}<br>GDP (USD)=%{x}<br>Obesity Rate (%)=%{y}<br>Year=%{customdata[0]}<extra></extra>",
         "legendgroup": "Portugal",
         "marker": {
          "color": "#636efa",
          "symbol": "circle"
         },
         "mode": "markers",
         "name": "Portugal",
         "orientation": "v",
         "showlegend": true,
         "type": "scatter",
         "x": [
          41240.4
         ],
         "xaxis": "x",
         "y": [
          21.8
         ],
         "yaxis": "y"
        },
        {
         "customdata": [
          [
           2022,
           "Puerto Rico"
          ]
         ],
         "hovertemplate": "Area=%{customdata[1]}<br>GDP (USD)=%{x}<br>Obesity Rate (%)=%{y}<br>Year=%{customdata[0]}<extra></extra>",
         "legendgroup": "Puerto Rico",
         "marker": {
          "color": "#EF553B",
          "symbol": "circle"
         },
         "mode": "markers",
         "name": "Puerto Rico",
         "orientation": "v",
         "showlegend": true,
         "type": "scatter",
         "x": [
          42432.1
         ],
         "xaxis": "x",
         "y": [
          41.1
         ],
         "yaxis": "y"
        },
        {
         "customdata": [
          [
           2022,
           "Qatar"
          ]
         ],
         "hovertemplate": "Area=%{customdata[1]}<br>GDP (USD)=%{x}<br>Obesity Rate (%)=%{y}<br>Year=%{customdata[0]}<extra></extra>",
         "legendgroup": "Qatar",
         "marker": {
          "color": "#00cc96",
          "symbol": "circle"
         },
         "mode": "markers",
         "name": "Qatar",
         "orientation": "v",
         "showlegend": true,
         "type": "scatter",
         "x": [
          113157
         ],
         "xaxis": "x",
         "y": [
          43.1
         ],
         "yaxis": "y"
        },
        {
         "customdata": [
          [
           2022,
           "Republic of Korea"
          ]
         ],
         "hovertemplate": "Area=%{customdata[1]}<br>GDP (USD)=%{x}<br>Obesity Rate (%)=%{y}<br>Year=%{customdata[0]}<extra></extra>",
         "legendgroup": "Republic of Korea",
         "marker": {
          "color": "#ab63fa",
          "symbol": "circle"
         },
         "mode": "markers",
         "name": "Republic of Korea",
         "orientation": "v",
         "showlegend": true,
         "type": "scatter",
         "x": [
          49977
         ],
         "xaxis": "x",
         "y": [
          7.3
         ],
         "yaxis": "y"
        },
        {
         "customdata": [
          [
           2022,
           "Republic of Moldova"
          ]
         ],
         "hovertemplate": "Area=%{customdata[1]}<br>GDP (USD)=%{x}<br>Obesity Rate (%)=%{y}<br>Year=%{customdata[0]}<extra></extra>",
         "legendgroup": "Republic of Moldova",
         "marker": {
          "color": "#FFA15A",
          "symbol": "circle"
         },
         "mode": "markers",
         "name": "Republic of Moldova",
         "orientation": "v",
         "showlegend": true,
         "type": "scatter",
         "x": [
          15229.5
         ],
         "xaxis": "x",
         "y": [
          23
         ],
         "yaxis": "y"
        },
        {
         "customdata": [
          [
           2022,
           "Romania"
          ]
         ],
         "hovertemplate": "Area=%{customdata[1]}<br>GDP (USD)=%{x}<br>Obesity Rate (%)=%{y}<br>Year=%{customdata[0]}<extra></extra>",
         "legendgroup": "Romania",
         "marker": {
          "color": "#19d3f3",
          "symbol": "circle"
         },
         "mode": "markers",
         "name": "Romania",
         "orientation": "v",
         "showlegend": true,
         "type": "scatter",
         "x": [
          39872.5
         ],
         "xaxis": "x",
         "y": [
          34
         ],
         "yaxis": "y"
        },
        {
         "customdata": [
          [
           2022,
           "Russian Federation"
          ]
         ],
         "hovertemplate": "Area=%{customdata[1]}<br>GDP (USD)=%{x}<br>Obesity Rate (%)=%{y}<br>Year=%{customdata[0]}<extra></extra>",
         "legendgroup": "Russian Federation",
         "marker": {
          "color": "#FF6692",
          "symbol": "circle"
         },
         "mode": "markers",
         "name": "Russian Federation",
         "orientation": "v",
         "showlegend": true,
         "type": "scatter",
         "x": [
          38128.7
         ],
         "xaxis": "x",
         "y": [
          24.2
         ],
         "yaxis": "y"
        },
        {
         "customdata": [
          [
           2022,
           "Rwanda"
          ]
         ],
         "hovertemplate": "Area=%{customdata[1]}<br>GDP (USD)=%{x}<br>Obesity Rate (%)=%{y}<br>Year=%{customdata[0]}<extra></extra>",
         "legendgroup": "Rwanda",
         "marker": {
          "color": "#B6E880",
          "symbol": "circle"
         },
         "mode": "markers",
         "name": "Rwanda",
         "orientation": "v",
         "showlegend": true,
         "type": "scatter",
         "x": [
          2859.8
         ],
         "xaxis": "x",
         "y": [
          4.9
         ],
         "yaxis": "y"
        },
        {
         "customdata": [
          [
           2022,
           "Saint Kitts and Nevis"
          ]
         ],
         "hovertemplate": "Area=%{customdata[1]}<br>GDP (USD)=%{x}<br>Obesity Rate (%)=%{y}<br>Year=%{customdata[0]}<extra></extra>",
         "legendgroup": "Saint Kitts and Nevis",
         "marker": {
          "color": "#FF97FF",
          "symbol": "circle"
         },
         "mode": "markers",
         "name": "Saint Kitts and Nevis",
         "orientation": "v",
         "showlegend": true,
         "type": "scatter",
         "x": [
          28725.5
         ],
         "xaxis": "x",
         "y": [
          45.6
         ],
         "yaxis": "y"
        },
        {
         "customdata": [
          [
           2022,
           "Saint Lucia"
          ]
         ],
         "hovertemplate": "Area=%{customdata[1]}<br>GDP (USD)=%{x}<br>Obesity Rate (%)=%{y}<br>Year=%{customdata[0]}<extra></extra>",
         "legendgroup": "Saint Lucia",
         "marker": {
          "color": "#FECB52",
          "symbol": "circle"
         },
         "mode": "markers",
         "name": "Saint Lucia",
         "orientation": "v",
         "showlegend": true,
         "type": "scatter",
         "x": [
          23075.2
         ],
         "xaxis": "x",
         "y": [
          33.5
         ],
         "yaxis": "y"
        },
        {
         "customdata": [
          [
           2022,
           "Saint Vincent and the Grenadines"
          ]
         ],
         "hovertemplate": "Area=%{customdata[1]}<br>GDP (USD)=%{x}<br>Obesity Rate (%)=%{y}<br>Year=%{customdata[0]}<extra></extra>",
         "legendgroup": "Saint Vincent and the Grenadines",
         "marker": {
          "color": "#636efa",
          "symbol": "circle"
         },
         "mode": "markers",
         "name": "Saint Vincent and the Grenadines",
         "orientation": "v",
         "showlegend": true,
         "type": "scatter",
         "x": [
          16504
         ],
         "xaxis": "x",
         "y": [
          33.2
         ],
         "yaxis": "y"
        },
        {
         "customdata": [
          [
           2022,
           "Samoa"
          ]
         ],
         "hovertemplate": "Area=%{customdata[1]}<br>GDP (USD)=%{x}<br>Obesity Rate (%)=%{y}<br>Year=%{customdata[0]}<extra></extra>",
         "legendgroup": "Samoa",
         "marker": {
          "color": "#EF553B",
          "symbol": "circle"
         },
         "mode": "markers",
         "name": "Samoa",
         "orientation": "v",
         "showlegend": true,
         "type": "scatter",
         "x": [
          5689
         ],
         "xaxis": "x",
         "y": [
          62.4
         ],
         "yaxis": "y"
        },
        {
         "customdata": [
          [
           2022,
           "Sao Tome and Principe"
          ]
         ],
         "hovertemplate": "Area=%{customdata[1]}<br>GDP (USD)=%{x}<br>Obesity Rate (%)=%{y}<br>Year=%{customdata[0]}<extra></extra>",
         "legendgroup": "Sao Tome and Principe",
         "marker": {
          "color": "#00cc96",
          "symbol": "circle"
         },
         "mode": "markers",
         "name": "Sao Tome and Principe",
         "orientation": "v",
         "showlegend": true,
         "type": "scatter",
         "x": [
          5599.7
         ],
         "xaxis": "x",
         "y": [
          16.5
         ],
         "yaxis": "y"
        },
        {
         "customdata": [
          [
           2022,
           "Saudi Arabia"
          ]
         ],
         "hovertemplate": "Area=%{customdata[1]}<br>GDP (USD)=%{x}<br>Obesity Rate (%)=%{y}<br>Year=%{customdata[0]}<extra></extra>",
         "legendgroup": "Saudi Arabia",
         "marker": {
          "color": "#ab63fa",
          "symbol": "circle"
         },
         "mode": "markers",
         "name": "Saudi Arabia",
         "orientation": "v",
         "showlegend": true,
         "type": "scatter",
         "x": [
          51246.4
         ],
         "xaxis": "x",
         "y": [
          40.6
         ],
         "yaxis": "y"
        },
        {
         "customdata": [
          [
           2022,
           "Senegal"
          ]
         ],
         "hovertemplate": "Area=%{customdata[1]}<br>GDP (USD)=%{x}<br>Obesity Rate (%)=%{y}<br>Year=%{customdata[0]}<extra></extra>",
         "legendgroup": "Senegal",
         "marker": {
          "color": "#FFA15A",
          "symbol": "circle"
         },
         "mode": "markers",
         "name": "Senegal",
         "orientation": "v",
         "showlegend": true,
         "type": "scatter",
         "x": [
          4330.6
         ],
         "xaxis": "x",
         "y": [
          10.2
         ],
         "yaxis": "y"
        },
        {
         "customdata": [
          [
           2022,
           "Serbia"
          ]
         ],
         "hovertemplate": "Area=%{customdata[1]}<br>GDP (USD)=%{x}<br>Obesity Rate (%)=%{y}<br>Year=%{customdata[0]}<extra></extra>",
         "legendgroup": "Serbia",
         "marker": {
          "color": "#19d3f3",
          "symbol": "circle"
         },
         "mode": "markers",
         "name": "Serbia",
         "orientation": "v",
         "showlegend": true,
         "type": "scatter",
         "x": [
          23741.2
         ],
         "xaxis": "x",
         "y": [
          22.5
         ],
         "yaxis": "y"
        },
        {
         "customdata": [
          [
           2022,
           "Seychelles"
          ]
         ],
         "hovertemplate": "Area=%{customdata[1]}<br>GDP (USD)=%{x}<br>Obesity Rate (%)=%{y}<br>Year=%{customdata[0]}<extra></extra>",
         "legendgroup": "Seychelles",
         "marker": {
          "color": "#FF6692",
          "symbol": "circle"
         },
         "mode": "markers",
         "name": "Seychelles",
         "orientation": "v",
         "showlegend": true,
         "type": "scatter",
         "x": [
          23409.6
         ],
         "xaxis": "x",
         "y": [
          29.4
         ],
         "yaxis": "y"
        },
        {
         "customdata": [
          [
           2022,
           "Sierra Leone"
          ]
         ],
         "hovertemplate": "Area=%{customdata[1]}<br>GDP (USD)=%{x}<br>Obesity Rate (%)=%{y}<br>Year=%{customdata[0]}<extra></extra>",
         "legendgroup": "Sierra Leone",
         "marker": {
          "color": "#B6E880",
          "symbol": "circle"
         },
         "mode": "markers",
         "name": "Sierra Leone",
         "orientation": "v",
         "showlegend": true,
         "type": "scatter",
         "x": [
          1644
         ],
         "xaxis": "x",
         "y": [
          7.1
         ],
         "yaxis": "y"
        },
        {
         "customdata": [
          [
           2022,
           "Singapore"
          ]
         ],
         "hovertemplate": "Area=%{customdata[1]}<br>GDP (USD)=%{x}<br>Obesity Rate (%)=%{y}<br>Year=%{customdata[0]}<extra></extra>",
         "legendgroup": "Singapore",
         "marker": {
          "color": "#FF97FF",
          "symbol": "circle"
         },
         "mode": "markers",
         "name": "Singapore",
         "orientation": "v",
         "showlegend": true,
         "type": "scatter",
         "x": [
          129084
         ],
         "xaxis": "x",
         "y": [
          13.9
         ],
         "yaxis": "y"
        },
        {
         "customdata": [
          [
           2022,
           "Slovakia"
          ]
         ],
         "hovertemplate": "Area=%{customdata[1]}<br>GDP (USD)=%{x}<br>Obesity Rate (%)=%{y}<br>Year=%{customdata[0]}<extra></extra>",
         "legendgroup": "Slovakia",
         "marker": {
          "color": "#FECB52",
          "symbol": "circle"
         },
         "mode": "markers",
         "name": "Slovakia",
         "orientation": "v",
         "showlegend": true,
         "type": "scatter",
         "x": [
          38566.3
         ],
         "xaxis": "x",
         "y": [
          26.8
         ],
         "yaxis": "y"
        },
        {
         "customdata": [
          [
           2022,
           "Slovenia"
          ]
         ],
         "hovertemplate": "Area=%{customdata[1]}<br>GDP (USD)=%{x}<br>Obesity Rate (%)=%{y}<br>Year=%{customdata[0]}<extra></extra>",
         "legendgroup": "Slovenia",
         "marker": {
          "color": "#636efa",
          "symbol": "circle"
         },
         "mode": "markers",
         "name": "Slovenia",
         "orientation": "v",
         "showlegend": true,
         "type": "scatter",
         "x": [
          47558.3
         ],
         "xaxis": "x",
         "y": [
          19.4
         ],
         "yaxis": "y"
        },
        {
         "customdata": [
          [
           2022,
           "Solomon Islands"
          ]
         ],
         "hovertemplate": "Area=%{customdata[1]}<br>GDP (USD)=%{x}<br>Obesity Rate (%)=%{y}<br>Year=%{customdata[0]}<extra></extra>",
         "legendgroup": "Solomon Islands",
         "marker": {
          "color": "#EF553B",
          "symbol": "circle"
         },
         "mode": "markers",
         "name": "Solomon Islands",
         "orientation": "v",
         "showlegend": true,
         "type": "scatter",
         "x": [
          2480.3
         ],
         "xaxis": "x",
         "y": [
          22.6
         ],
         "yaxis": "y"
        },
        {
         "customdata": [
          [
           2022,
           "Somalia"
          ]
         ],
         "hovertemplate": "Area=%{customdata[1]}<br>GDP (USD)=%{x}<br>Obesity Rate (%)=%{y}<br>Year=%{customdata[0]}<extra></extra>",
         "legendgroup": "Somalia",
         "marker": {
          "color": "#00cc96",
          "symbol": "circle"
         },
         "mode": "markers",
         "name": "Somalia",
         "orientation": "v",
         "showlegend": true,
         "type": "scatter",
         "x": [
          1452.3
         ],
         "xaxis": "x",
         "y": [
          14.6
         ],
         "yaxis": "y"
        },
        {
         "customdata": [
          [
           2022,
           "South Africa"
          ]
         ],
         "hovertemplate": "Area=%{customdata[1]}<br>GDP (USD)=%{x}<br>Obesity Rate (%)=%{y}<br>Year=%{customdata[0]}<extra></extra>",
         "legendgroup": "South Africa",
         "marker": {
          "color": "#ab63fa",
          "symbol": "circle"
         },
         "mode": "markers",
         "name": "South Africa",
         "orientation": "v",
         "showlegend": true,
         "type": "scatter",
         "x": [
          14322.3
         ],
         "xaxis": "x",
         "y": [
          30.8
         ],
         "yaxis": "y"
        },
        {
         "customdata": [
          [
           2022,
           "Spain"
          ]
         ],
         "hovertemplate": "Area=%{customdata[1]}<br>GDP (USD)=%{x}<br>Obesity Rate (%)=%{y}<br>Year=%{customdata[0]}<extra></extra>",
         "legendgroup": "Spain",
         "marker": {
          "color": "#FFA15A",
          "symbol": "circle"
         },
         "mode": "markers",
         "name": "Spain",
         "orientation": "v",
         "showlegend": true,
         "type": "scatter",
         "x": [
          45787.7
         ],
         "xaxis": "x",
         "y": [
          15.7
         ],
         "yaxis": "y"
        },
        {
         "customdata": [
          [
           2022,
           "Sri Lanka"
          ]
         ],
         "hovertemplate": "Area=%{customdata[1]}<br>GDP (USD)=%{x}<br>Obesity Rate (%)=%{y}<br>Year=%{customdata[0]}<extra></extra>",
         "legendgroup": "Sri Lanka",
         "marker": {
          "color": "#19d3f3",
          "symbol": "circle"
         },
         "mode": "markers",
         "name": "Sri Lanka",
         "orientation": "v",
         "showlegend": true,
         "type": "scatter",
         "x": [
          13172.1
         ],
         "xaxis": "x",
         "y": [
          10.6
         ],
         "yaxis": "y"
        },
        {
         "customdata": [
          [
           2022,
           "Sudan"
          ]
         ],
         "hovertemplate": "Area=%{customdata[1]}<br>GDP (USD)=%{x}<br>Obesity Rate (%)=%{y}<br>Year=%{customdata[0]}<extra></extra>",
         "legendgroup": "Sudan",
         "marker": {
          "color": "#FF6692",
          "symbol": "circle"
         },
         "mode": "markers",
         "name": "Sudan",
         "orientation": "v",
         "showlegend": true,
         "type": "scatter",
         "x": [
          3299.9
         ],
         "xaxis": "x",
         "y": [
          17
         ],
         "yaxis": "y"
        },
        {
         "customdata": [
          [
           2022,
           "Suriname"
          ]
         ],
         "hovertemplate": "Area=%{customdata[1]}<br>GDP (USD)=%{x}<br>Obesity Rate (%)=%{y}<br>Year=%{customdata[0]}<extra></extra>",
         "legendgroup": "Suriname",
         "marker": {
          "color": "#B6E880",
          "symbol": "circle"
         },
         "mode": "markers",
         "name": "Suriname",
         "orientation": "v",
         "showlegend": true,
         "type": "scatter",
         "x": [
          18741.7
         ],
         "xaxis": "x",
         "y": [
          29
         ],
         "yaxis": "y"
        },
        {
         "customdata": [
          [
           2022,
           "Sweden"
          ]
         ],
         "hovertemplate": "Area=%{customdata[1]}<br>GDP (USD)=%{x}<br>Obesity Rate (%)=%{y}<br>Year=%{customdata[0]}<extra></extra>",
         "legendgroup": "Sweden",
         "marker": {
          "color": "#FF97FF",
          "symbol": "circle"
         },
         "mode": "markers",
         "name": "Sweden",
         "orientation": "v",
         "showlegend": true,
         "type": "scatter",
         "x": [
          64778
         ],
         "xaxis": "x",
         "y": [
          15.3
         ],
         "yaxis": "y"
        },
        {
         "customdata": [
          [
           2022,
           "Switzerland"
          ]
         ],
         "hovertemplate": "Area=%{customdata[1]}<br>GDP (USD)=%{x}<br>Obesity Rate (%)=%{y}<br>Year=%{customdata[0]}<extra></extra>",
         "legendgroup": "Switzerland",
         "marker": {
          "color": "#FECB52",
          "symbol": "circle"
         },
         "mode": "markers",
         "name": "Switzerland",
         "orientation": "v",
         "showlegend": true,
         "type": "scatter",
         "x": [
          83019.8
         ],
         "xaxis": "x",
         "y": [
          12.1
         ],
         "yaxis": "y"
        },
        {
         "customdata": [
          [
           2022,
           "Tajikistan"
          ]
         ],
         "hovertemplate": "Area=%{customdata[1]}<br>GDP (USD)=%{x}<br>Obesity Rate (%)=%{y}<br>Year=%{customdata[0]}<extra></extra>",
         "legendgroup": "Tajikistan",
         "marker": {
          "color": "#636efa",
          "symbol": "circle"
         },
         "mode": "markers",
         "name": "Tajikistan",
         "orientation": "v",
         "showlegend": true,
         "type": "scatter",
         "x": [
          4310.9
         ],
         "xaxis": "x",
         "y": [
          23.8
         ],
         "yaxis": "y"
        },
        {
         "customdata": [
          [
           2022,
           "Thailand"
          ]
         ],
         "hovertemplate": "Area=%{customdata[1]}<br>GDP (USD)=%{x}<br>Obesity Rate (%)=%{y}<br>Year=%{customdata[0]}<extra></extra>",
         "legendgroup": "Thailand",
         "marker": {
          "color": "#EF553B",
          "symbol": "circle"
         },
         "mode": "markers",
         "name": "Thailand",
         "orientation": "v",
         "showlegend": true,
         "type": "scatter",
         "x": [
          20751.7
         ],
         "xaxis": "x",
         "y": [
          15.4
         ],
         "yaxis": "y"
        },
        {
         "customdata": [
          [
           2022,
           "Timor-Leste"
          ]
         ],
         "hovertemplate": "Area=%{customdata[1]}<br>GDP (USD)=%{x}<br>Obesity Rate (%)=%{y}<br>Year=%{customdata[0]}<extra></extra>",
         "legendgroup": "Timor-Leste",
         "marker": {
          "color": "#00cc96",
          "symbol": "circle"
         },
         "mode": "markers",
         "name": "Timor-Leste",
         "orientation": "v",
         "showlegend": true,
         "type": "scatter",
         "x": [
          5454.2
         ],
         "xaxis": "x",
         "y": [
          2.4
         ],
         "yaxis": "y"
        },
        {
         "customdata": [
          [
           2022,
           "Togo"
          ]
         ],
         "hovertemplate": "Area=%{customdata[1]}<br>GDP (USD)=%{x}<br>Obesity Rate (%)=%{y}<br>Year=%{customdata[0]}<extra></extra>",
         "legendgroup": "Togo",
         "marker": {
          "color": "#ab63fa",
          "symbol": "circle"
         },
         "mode": "markers",
         "name": "Togo",
         "orientation": "v",
         "showlegend": true,
         "type": "scatter",
         "x": [
          2769.2
         ],
         "xaxis": "x",
         "y": [
          11.6
         ],
         "yaxis": "y"
        },
        {
         "customdata": [
          [
           2022,
           "Trinidad and Tobago"
          ]
         ],
         "hovertemplate": "Area=%{customdata[1]}<br>GDP (USD)=%{x}<br>Obesity Rate (%)=%{y}<br>Year=%{customdata[0]}<extra></extra>",
         "legendgroup": "Trinidad and Tobago",
         "marker": {
          "color": "#FFA15A",
          "symbol": "circle"
         },
         "mode": "markers",
         "name": "Trinidad and Tobago",
         "orientation": "v",
         "showlegend": true,
         "type": "scatter",
         "x": [
          27942.7
         ],
         "xaxis": "x",
         "y": [
          28.1
         ],
         "yaxis": "y"
        },
        {
         "customdata": [
          [
           2022,
           "Tunisia"
          ]
         ],
         "hovertemplate": "Area=%{customdata[1]}<br>GDP (USD)=%{x}<br>Obesity Rate (%)=%{y}<br>Year=%{customdata[0]}<extra></extra>",
         "legendgroup": "Tunisia",
         "marker": {
          "color": "#19d3f3",
          "symbol": "circle"
         },
         "mode": "markers",
         "name": "Tunisia",
         "orientation": "v",
         "showlegend": true,
         "type": "scatter",
         "x": [
          12328.5
         ],
         "xaxis": "x",
         "y": [
          26.8
         ],
         "yaxis": "y"
        },
        {
         "customdata": [
          [
           2022,
           "Türkiye"
          ]
         ],
         "hovertemplate": "Area=%{customdata[1]}<br>GDP (USD)=%{x}<br>Obesity Rate (%)=%{y}<br>Year=%{customdata[0]}<extra></extra>",
         "legendgroup": "Türkiye",
         "marker": {
          "color": "#FF6692",
          "symbol": "circle"
         },
         "mode": "markers",
         "name": "Türkiye",
         "orientation": "v",
         "showlegend": true,
         "type": "scatter",
         "x": [
          33061.1
         ],
         "xaxis": "x",
         "y": [
          33.3
         ],
         "yaxis": "y"
        },
        {
         "customdata": [
          [
           2022,
           "Tuvalu"
          ]
         ],
         "hovertemplate": "Area=%{customdata[1]}<br>GDP (USD)=%{x}<br>Obesity Rate (%)=%{y}<br>Year=%{customdata[0]}<extra></extra>",
         "legendgroup": "Tuvalu",
         "marker": {
          "color": "#B6E880",
          "symbol": "circle"
         },
         "mode": "markers",
         "name": "Tuvalu",
         "orientation": "v",
         "showlegend": true,
         "type": "scatter",
         "x": [
          5066.3
         ],
         "xaxis": "x",
         "y": [
          64.2
         ],
         "yaxis": "y"
        },
        {
         "customdata": [
          [
           2022,
           "Uganda"
          ]
         ],
         "hovertemplate": "Area=%{customdata[1]}<br>GDP (USD)=%{x}<br>Obesity Rate (%)=%{y}<br>Year=%{customdata[0]}<extra></extra>",
         "legendgroup": "Uganda",
         "marker": {
          "color": "#FF97FF",
          "symbol": "circle"
         },
         "mode": "markers",
         "name": "Uganda",
         "orientation": "v",
         "showlegend": true,
         "type": "scatter",
         "x": [
          2728.5
         ],
         "xaxis": "x",
         "y": [
          7.9
         ],
         "yaxis": "y"
        },
        {
         "customdata": [
          [
           2022,
           "Ukraine"
          ]
         ],
         "hovertemplate": "Area=%{customdata[1]}<br>GDP (USD)=%{x}<br>Obesity Rate (%)=%{y}<br>Year=%{customdata[0]}<extra></extra>",
         "legendgroup": "Ukraine",
         "marker": {
          "color": "#FECB52",
          "symbol": "circle"
         },
         "mode": "markers",
         "name": "Ukraine",
         "orientation": "v",
         "showlegend": true,
         "type": "scatter",
         "x": [
          14950.5
         ],
         "xaxis": "x",
         "y": [
          23.6
         ],
         "yaxis": "y"
        },
        {
         "customdata": [
          [
           2022,
           "United Arab Emirates"
          ]
         ],
         "hovertemplate": "Area=%{customdata[1]}<br>GDP (USD)=%{x}<br>Obesity Rate (%)=%{y}<br>Year=%{customdata[0]}<extra></extra>",
         "legendgroup": "United Arab Emirates",
         "marker": {
          "color": "#636efa",
          "symbol": "circle"
         },
         "mode": "markers",
         "name": "United Arab Emirates",
         "orientation": "v",
         "showlegend": true,
         "type": "scatter",
         "x": [
          73724.3
         ],
         "xaxis": "x",
         "y": [
          32.1
         ],
         "yaxis": "y"
        },
        {
         "customdata": [
          [
           2022,
           "United Kingdom of Great Britain and Northern Ireland"
          ]
         ],
         "hovertemplate": "Area=%{customdata[1]}<br>GDP (USD)=%{x}<br>Obesity Rate (%)=%{y}<br>Year=%{customdata[0]}<extra></extra>",
         "legendgroup": "United Kingdom of Great Britain and Northern Ireland",
         "marker": {
          "color": "#EF553B",
          "symbol": "circle"
         },
         "mode": "markers",
         "name": "United Kingdom of Great Britain and Northern Ireland",
         "orientation": "v",
         "showlegend": true,
         "type": "scatter",
         "x": [
          55183.6
         ],
         "xaxis": "x",
         "y": [
          26.8
         ],
         "yaxis": "y"
        },
        {
         "customdata": [
          [
           2022,
           "United Republic of Tanzania"
          ]
         ],
         "hovertemplate": "Area=%{customdata[1]}<br>GDP (USD)=%{x}<br>Obesity Rate (%)=%{y}<br>Year=%{customdata[0]}<extra></extra>",
         "legendgroup": "United Republic of Tanzania",
         "marker": {
          "color": "#00cc96",
          "symbol": "circle"
         },
         "mode": "markers",
         "name": "United Republic of Tanzania",
         "orientation": "v",
         "showlegend": true,
         "type": "scatter",
         "x": [
          3504.2
         ],
         "xaxis": "x",
         "y": [
          12.6
         ],
         "yaxis": "y"
        },
        {
         "customdata": [
          [
           2022,
           "United States of America"
          ]
         ],
         "hovertemplate": "Area=%{customdata[1]}<br>GDP (USD)=%{x}<br>Obesity Rate (%)=%{y}<br>Year=%{customdata[0]}<extra></extra>",
         "legendgroup": "United States of America",
         "marker": {
          "color": "#ab63fa",
          "symbol": "circle"
         },
         "mode": "markers",
         "name": "United States of America",
         "orientation": "v",
         "showlegend": true,
         "type": "scatter",
         "x": [
          71308.9
         ],
         "xaxis": "x",
         "y": [
          42
         ],
         "yaxis": "y"
        },
        {
         "customdata": [
          [
           2022,
           "Uruguay"
          ]
         ],
         "hovertemplate": "Area=%{customdata[1]}<br>GDP (USD)=%{x}<br>Obesity Rate (%)=%{y}<br>Year=%{customdata[0]}<extra></extra>",
         "legendgroup": "Uruguay",
         "marker": {
          "color": "#FFA15A",
          "symbol": "circle"
         },
         "mode": "markers",
         "name": "Uruguay",
         "orientation": "v",
         "showlegend": true,
         "type": "scatter",
         "x": [
          30983.7
         ],
         "xaxis": "x",
         "y": [
          33.3
         ],
         "yaxis": "y"
        },
        {
         "customdata": [
          [
           2022,
           "Uzbekistan"
          ]
         ],
         "hovertemplate": "Area=%{customdata[1]}<br>GDP (USD)=%{x}<br>Obesity Rate (%)=%{y}<br>Year=%{customdata[0]}<extra></extra>",
         "legendgroup": "Uzbekistan",
         "marker": {
          "color": "#19d3f3",
          "symbol": "circle"
         },
         "mode": "markers",
         "name": "Uzbekistan",
         "orientation": "v",
         "showlegend": true,
         "type": "scatter",
         "x": [
          8447.5
         ],
         "xaxis": "x",
         "y": [
          30
         ],
         "yaxis": "y"
        },
        {
         "customdata": [
          [
           2022,
           "Vanuatu"
          ]
         ],
         "hovertemplate": "Area=%{customdata[1]}<br>GDP (USD)=%{x}<br>Obesity Rate (%)=%{y}<br>Year=%{customdata[0]}<extra></extra>",
         "legendgroup": "Vanuatu",
         "marker": {
          "color": "#FF6692",
          "symbol": "circle"
         },
         "mode": "markers",
         "name": "Vanuatu",
         "orientation": "v",
         "showlegend": true,
         "type": "scatter",
         "x": [
          3074.1
         ],
         "xaxis": "x",
         "y": [
          21.3
         ],
         "yaxis": "y"
        },
        {
         "customdata": [
          [
           2022,
           "Viet Nam"
          ]
         ],
         "hovertemplate": "Area=%{customdata[1]}<br>GDP (USD)=%{x}<br>Obesity Rate (%)=%{y}<br>Year=%{customdata[0]}<extra></extra>",
         "legendgroup": "Viet Nam",
         "marker": {
          "color": "#B6E880",
          "symbol": "circle"
         },
         "mode": "markers",
         "name": "Viet Nam",
         "orientation": "v",
         "showlegend": true,
         "type": "scatter",
         "x": [
          13102.3
         ],
         "xaxis": "x",
         "y": [
          2
         ],
         "yaxis": "y"
        },
        {
         "customdata": [
          [
           2022,
           "Zambia"
          ]
         ],
         "hovertemplate": "Area=%{customdata[1]}<br>GDP (USD)=%{x}<br>Obesity Rate (%)=%{y}<br>Year=%{customdata[0]}<extra></extra>",
         "legendgroup": "Zambia",
         "marker": {
          "color": "#FF97FF",
          "symbol": "circle"
         },
         "mode": "markers",
         "name": "Zambia",
         "orientation": "v",
         "showlegend": true,
         "type": "scatter",
         "x": [
          3610.7
         ],
         "xaxis": "x",
         "y": [
          11.1
         ],
         "yaxis": "y"
        },
        {
         "customdata": [
          [
           2022,
           "Zimbabwe"
          ]
         ],
         "hovertemplate": "Area=%{customdata[1]}<br>GDP (USD)=%{x}<br>Obesity Rate (%)=%{y}<br>Year=%{customdata[0]}<extra></extra>",
         "legendgroup": "Zimbabwe",
         "marker": {
          "color": "#FECB52",
          "symbol": "circle"
         },
         "mode": "markers",
         "name": "Zimbabwe",
         "orientation": "v",
         "showlegend": true,
         "type": "scatter",
         "x": [
          3420
         ],
         "xaxis": "x",
         "y": [
          14.2
         ],
         "yaxis": "y"
        }
       ],
       "layout": {
        "legend": {
         "title": {
          "text": "Area"
         },
         "tracegroupgap": 0
        },
        "template": {
         "data": {
          "bar": [
           {
            "error_x": {
             "color": "#2a3f5f"
            },
            "error_y": {
             "color": "#2a3f5f"
            },
            "marker": {
             "line": {
              "color": "#E5ECF6",
              "width": 0.5
             },
             "pattern": {
              "fillmode": "overlay",
              "size": 10,
              "solidity": 0.2
             }
            },
            "type": "bar"
           }
          ],
          "barpolar": [
           {
            "marker": {
             "line": {
              "color": "#E5ECF6",
              "width": 0.5
             },
             "pattern": {
              "fillmode": "overlay",
              "size": 10,
              "solidity": 0.2
             }
            },
            "type": "barpolar"
           }
          ],
          "carpet": [
           {
            "aaxis": {
             "endlinecolor": "#2a3f5f",
             "gridcolor": "white",
             "linecolor": "white",
             "minorgridcolor": "white",
             "startlinecolor": "#2a3f5f"
            },
            "baxis": {
             "endlinecolor": "#2a3f5f",
             "gridcolor": "white",
             "linecolor": "white",
             "minorgridcolor": "white",
             "startlinecolor": "#2a3f5f"
            },
            "type": "carpet"
           }
          ],
          "choropleth": [
           {
            "colorbar": {
             "outlinewidth": 0,
             "ticks": ""
            },
            "type": "choropleth"
           }
          ],
          "contour": [
           {
            "colorbar": {
             "outlinewidth": 0,
             "ticks": ""
            },
            "colorscale": [
             [
              0,
              "#0d0887"
             ],
             [
              0.1111111111111111,
              "#46039f"
             ],
             [
              0.2222222222222222,
              "#7201a8"
             ],
             [
              0.3333333333333333,
              "#9c179e"
             ],
             [
              0.4444444444444444,
              "#bd3786"
             ],
             [
              0.5555555555555556,
              "#d8576b"
             ],
             [
              0.6666666666666666,
              "#ed7953"
             ],
             [
              0.7777777777777778,
              "#fb9f3a"
             ],
             [
              0.8888888888888888,
              "#fdca26"
             ],
             [
              1,
              "#f0f921"
             ]
            ],
            "type": "contour"
           }
          ],
          "contourcarpet": [
           {
            "colorbar": {
             "outlinewidth": 0,
             "ticks": ""
            },
            "type": "contourcarpet"
           }
          ],
          "heatmap": [
           {
            "colorbar": {
             "outlinewidth": 0,
             "ticks": ""
            },
            "colorscale": [
             [
              0,
              "#0d0887"
             ],
             [
              0.1111111111111111,
              "#46039f"
             ],
             [
              0.2222222222222222,
              "#7201a8"
             ],
             [
              0.3333333333333333,
              "#9c179e"
             ],
             [
              0.4444444444444444,
              "#bd3786"
             ],
             [
              0.5555555555555556,
              "#d8576b"
             ],
             [
              0.6666666666666666,
              "#ed7953"
             ],
             [
              0.7777777777777778,
              "#fb9f3a"
             ],
             [
              0.8888888888888888,
              "#fdca26"
             ],
             [
              1,
              "#f0f921"
             ]
            ],
            "type": "heatmap"
           }
          ],
          "heatmapgl": [
           {
            "colorbar": {
             "outlinewidth": 0,
             "ticks": ""
            },
            "colorscale": [
             [
              0,
              "#0d0887"
             ],
             [
              0.1111111111111111,
              "#46039f"
             ],
             [
              0.2222222222222222,
              "#7201a8"
             ],
             [
              0.3333333333333333,
              "#9c179e"
             ],
             [
              0.4444444444444444,
              "#bd3786"
             ],
             [
              0.5555555555555556,
              "#d8576b"
             ],
             [
              0.6666666666666666,
              "#ed7953"
             ],
             [
              0.7777777777777778,
              "#fb9f3a"
             ],
             [
              0.8888888888888888,
              "#fdca26"
             ],
             [
              1,
              "#f0f921"
             ]
            ],
            "type": "heatmapgl"
           }
          ],
          "histogram": [
           {
            "marker": {
             "pattern": {
              "fillmode": "overlay",
              "size": 10,
              "solidity": 0.2
             }
            },
            "type": "histogram"
           }
          ],
          "histogram2d": [
           {
            "colorbar": {
             "outlinewidth": 0,
             "ticks": ""
            },
            "colorscale": [
             [
              0,
              "#0d0887"
             ],
             [
              0.1111111111111111,
              "#46039f"
             ],
             [
              0.2222222222222222,
              "#7201a8"
             ],
             [
              0.3333333333333333,
              "#9c179e"
             ],
             [
              0.4444444444444444,
              "#bd3786"
             ],
             [
              0.5555555555555556,
              "#d8576b"
             ],
             [
              0.6666666666666666,
              "#ed7953"
             ],
             [
              0.7777777777777778,
              "#fb9f3a"
             ],
             [
              0.8888888888888888,
              "#fdca26"
             ],
             [
              1,
              "#f0f921"
             ]
            ],
            "type": "histogram2d"
           }
          ],
          "histogram2dcontour": [
           {
            "colorbar": {
             "outlinewidth": 0,
             "ticks": ""
            },
            "colorscale": [
             [
              0,
              "#0d0887"
             ],
             [
              0.1111111111111111,
              "#46039f"
             ],
             [
              0.2222222222222222,
              "#7201a8"
             ],
             [
              0.3333333333333333,
              "#9c179e"
             ],
             [
              0.4444444444444444,
              "#bd3786"
             ],
             [
              0.5555555555555556,
              "#d8576b"
             ],
             [
              0.6666666666666666,
              "#ed7953"
             ],
             [
              0.7777777777777778,
              "#fb9f3a"
             ],
             [
              0.8888888888888888,
              "#fdca26"
             ],
             [
              1,
              "#f0f921"
             ]
            ],
            "type": "histogram2dcontour"
           }
          ],
          "mesh3d": [
           {
            "colorbar": {
             "outlinewidth": 0,
             "ticks": ""
            },
            "type": "mesh3d"
           }
          ],
          "parcoords": [
           {
            "line": {
             "colorbar": {
              "outlinewidth": 0,
              "ticks": ""
             }
            },
            "type": "parcoords"
           }
          ],
          "pie": [
           {
            "automargin": true,
            "type": "pie"
           }
          ],
          "scatter": [
           {
            "fillpattern": {
             "fillmode": "overlay",
             "size": 10,
             "solidity": 0.2
            },
            "type": "scatter"
           }
          ],
          "scatter3d": [
           {
            "line": {
             "colorbar": {
              "outlinewidth": 0,
              "ticks": ""
             }
            },
            "marker": {
             "colorbar": {
              "outlinewidth": 0,
              "ticks": ""
             }
            },
            "type": "scatter3d"
           }
          ],
          "scattercarpet": [
           {
            "marker": {
             "colorbar": {
              "outlinewidth": 0,
              "ticks": ""
             }
            },
            "type": "scattercarpet"
           }
          ],
          "scattergeo": [
           {
            "marker": {
             "colorbar": {
              "outlinewidth": 0,
              "ticks": ""
             }
            },
            "type": "scattergeo"
           }
          ],
          "scattergl": [
           {
            "marker": {
             "colorbar": {
              "outlinewidth": 0,
              "ticks": ""
             }
            },
            "type": "scattergl"
           }
          ],
          "scattermapbox": [
           {
            "marker": {
             "colorbar": {
              "outlinewidth": 0,
              "ticks": ""
             }
            },
            "type": "scattermapbox"
           }
          ],
          "scatterpolar": [
           {
            "marker": {
             "colorbar": {
              "outlinewidth": 0,
              "ticks": ""
             }
            },
            "type": "scatterpolar"
           }
          ],
          "scatterpolargl": [
           {
            "marker": {
             "colorbar": {
              "outlinewidth": 0,
              "ticks": ""
             }
            },
            "type": "scatterpolargl"
           }
          ],
          "scatterternary": [
           {
            "marker": {
             "colorbar": {
              "outlinewidth": 0,
              "ticks": ""
             }
            },
            "type": "scatterternary"
           }
          ],
          "surface": [
           {
            "colorbar": {
             "outlinewidth": 0,
             "ticks": ""
            },
            "colorscale": [
             [
              0,
              "#0d0887"
             ],
             [
              0.1111111111111111,
              "#46039f"
             ],
             [
              0.2222222222222222,
              "#7201a8"
             ],
             [
              0.3333333333333333,
              "#9c179e"
             ],
             [
              0.4444444444444444,
              "#bd3786"
             ],
             [
              0.5555555555555556,
              "#d8576b"
             ],
             [
              0.6666666666666666,
              "#ed7953"
             ],
             [
              0.7777777777777778,
              "#fb9f3a"
             ],
             [
              0.8888888888888888,
              "#fdca26"
             ],
             [
              1,
              "#f0f921"
             ]
            ],
            "type": "surface"
           }
          ],
          "table": [
           {
            "cells": {
             "fill": {
              "color": "#EBF0F8"
             },
             "line": {
              "color": "white"
             }
            },
            "header": {
             "fill": {
              "color": "#C8D4E3"
             },
             "line": {
              "color": "white"
             }
            },
            "type": "table"
           }
          ]
         },
         "layout": {
          "annotationdefaults": {
           "arrowcolor": "#2a3f5f",
           "arrowhead": 0,
           "arrowwidth": 1
          },
          "autotypenumbers": "strict",
          "coloraxis": {
           "colorbar": {
            "outlinewidth": 0,
            "ticks": ""
           }
          },
          "colorscale": {
           "diverging": [
            [
             0,
             "#8e0152"
            ],
            [
             0.1,
             "#c51b7d"
            ],
            [
             0.2,
             "#de77ae"
            ],
            [
             0.3,
             "#f1b6da"
            ],
            [
             0.4,
             "#fde0ef"
            ],
            [
             0.5,
             "#f7f7f7"
            ],
            [
             0.6,
             "#e6f5d0"
            ],
            [
             0.7,
             "#b8e186"
            ],
            [
             0.8,
             "#7fbc41"
            ],
            [
             0.9,
             "#4d9221"
            ],
            [
             1,
             "#276419"
            ]
           ],
           "sequential": [
            [
             0,
             "#0d0887"
            ],
            [
             0.1111111111111111,
             "#46039f"
            ],
            [
             0.2222222222222222,
             "#7201a8"
            ],
            [
             0.3333333333333333,
             "#9c179e"
            ],
            [
             0.4444444444444444,
             "#bd3786"
            ],
            [
             0.5555555555555556,
             "#d8576b"
            ],
            [
             0.6666666666666666,
             "#ed7953"
            ],
            [
             0.7777777777777778,
             "#fb9f3a"
            ],
            [
             0.8888888888888888,
             "#fdca26"
            ],
            [
             1,
             "#f0f921"
            ]
           ],
           "sequentialminus": [
            [
             0,
             "#0d0887"
            ],
            [
             0.1111111111111111,
             "#46039f"
            ],
            [
             0.2222222222222222,
             "#7201a8"
            ],
            [
             0.3333333333333333,
             "#9c179e"
            ],
            [
             0.4444444444444444,
             "#bd3786"
            ],
            [
             0.5555555555555556,
             "#d8576b"
            ],
            [
             0.6666666666666666,
             "#ed7953"
            ],
            [
             0.7777777777777778,
             "#fb9f3a"
            ],
            [
             0.8888888888888888,
             "#fdca26"
            ],
            [
             1,
             "#f0f921"
            ]
           ]
          },
          "colorway": [
           "#636efa",
           "#EF553B",
           "#00cc96",
           "#ab63fa",
           "#FFA15A",
           "#19d3f3",
           "#FF6692",
           "#B6E880",
           "#FF97FF",
           "#FECB52"
          ],
          "font": {
           "color": "#2a3f5f"
          },
          "geo": {
           "bgcolor": "white",
           "lakecolor": "white",
           "landcolor": "#E5ECF6",
           "showlakes": true,
           "showland": true,
           "subunitcolor": "white"
          },
          "hoverlabel": {
           "align": "left"
          },
          "hovermode": "closest",
          "mapbox": {
           "style": "light"
          },
          "paper_bgcolor": "white",
          "plot_bgcolor": "#E5ECF6",
          "polar": {
           "angularaxis": {
            "gridcolor": "white",
            "linecolor": "white",
            "ticks": ""
           },
           "bgcolor": "#E5ECF6",
           "radialaxis": {
            "gridcolor": "white",
            "linecolor": "white",
            "ticks": ""
           }
          },
          "scene": {
           "xaxis": {
            "backgroundcolor": "#E5ECF6",
            "gridcolor": "white",
            "gridwidth": 2,
            "linecolor": "white",
            "showbackground": true,
            "ticks": "",
            "zerolinecolor": "white"
           },
           "yaxis": {
            "backgroundcolor": "#E5ECF6",
            "gridcolor": "white",
            "gridwidth": 2,
            "linecolor": "white",
            "showbackground": true,
            "ticks": "",
            "zerolinecolor": "white"
           },
           "zaxis": {
            "backgroundcolor": "#E5ECF6",
            "gridcolor": "white",
            "gridwidth": 2,
            "linecolor": "white",
            "showbackground": true,
            "ticks": "",
            "zerolinecolor": "white"
           }
          },
          "shapedefaults": {
           "line": {
            "color": "#2a3f5f"
           }
          },
          "ternary": {
           "aaxis": {
            "gridcolor": "white",
            "linecolor": "white",
            "ticks": ""
           },
           "baxis": {
            "gridcolor": "white",
            "linecolor": "white",
            "ticks": ""
           },
           "bgcolor": "#E5ECF6",
           "caxis": {
            "gridcolor": "white",
            "linecolor": "white",
            "ticks": ""
           }
          },
          "title": {
           "x": 0.05
          },
          "xaxis": {
           "automargin": true,
           "gridcolor": "white",
           "linecolor": "white",
           "ticks": "",
           "title": {
            "standoff": 15
           },
           "zerolinecolor": "white",
           "zerolinewidth": 2
          },
          "yaxis": {
           "automargin": true,
           "gridcolor": "white",
           "linecolor": "white",
           "ticks": "",
           "title": {
            "standoff": 15
           },
           "zerolinecolor": "white",
           "zerolinewidth": 2
          }
         }
        },
        "title": {
         "text": "Relationship Between GDP and Obesity Levels"
        },
        "xaxis": {
         "anchor": "y",
         "domain": [
          0,
          1
         ],
         "title": {
          "text": "GDP (USD)"
         }
        },
        "yaxis": {
         "anchor": "x",
         "domain": [
          0,
          1
         ],
         "title": {
          "text": "Obesity Rate (%)"
         }
        }
       }
      },
      "text/html": [
       "<div>                            <div id=\"6dcfb344-1fd5-4ca5-9715-0c4f54acbedb\" class=\"plotly-graph-div\" style=\"height:525px; width:100%;\"></div>            <script type=\"text/javascript\">                require([\"plotly\"], function(Plotly) {                    window.PLOTLYENV=window.PLOTLYENV || {};                                    if (document.getElementById(\"6dcfb344-1fd5-4ca5-9715-0c4f54acbedb\")) {                    Plotly.newPlot(                        \"6dcfb344-1fd5-4ca5-9715-0c4f54acbedb\",                        [{\"customdata\":[[2022,\"Albania\"]],\"hovertemplate\":\"Area=%{customdata[1]}\\u003cbr\\u003eGDP (USD)=%{x}\\u003cbr\\u003eObesity Rate (%)=%{y}\\u003cbr\\u003eYear=%{customdata[0]}\\u003cextra\\u003e\\u003c\\u002fextra\\u003e\",\"legendgroup\":\"Albania\",\"marker\":{\"color\":\"#636efa\",\"symbol\":\"circle\"},\"mode\":\"markers\",\"name\":\"Albania\",\"orientation\":\"v\",\"showlegend\":true,\"x\":[17261.0],\"xaxis\":\"x\",\"y\":[23.4],\"yaxis\":\"y\",\"type\":\"scatter\"},{\"customdata\":[[2022,\"Algeria\"]],\"hovertemplate\":\"Area=%{customdata[1]}\\u003cbr\\u003eGDP (USD)=%{x}\\u003cbr\\u003eObesity Rate (%)=%{y}\\u003cbr\\u003eYear=%{customdata[0]}\\u003cextra\\u003e\\u003c\\u002fextra\\u003e\",\"legendgroup\":\"Algeria\",\"marker\":{\"color\":\"#EF553B\",\"symbol\":\"circle\"},\"mode\":\"markers\",\"name\":\"Algeria\",\"orientation\":\"v\",\"showlegend\":true,\"x\":[13090.9],\"xaxis\":\"x\",\"y\":[23.8],\"yaxis\":\"y\",\"type\":\"scatter\"},{\"customdata\":[[2022,\"Andorra\"]],\"hovertemplate\":\"Area=%{customdata[1]}\\u003cbr\\u003eGDP (USD)=%{x}\\u003cbr\\u003eObesity Rate (%)=%{y}\\u003cbr\\u003eYear=%{customdata[0]}\\u003cextra\\u003e\\u003c\\u002fextra\\u003e\",\"legendgroup\":\"Andorra\",\"marker\":{\"color\":\"#00cc96\",\"symbol\":\"circle\"},\"mode\":\"markers\",\"name\":\"Andorra\",\"orientation\":\"v\",\"showlegend\":true,\"x\":[63379.0],\"xaxis\":\"x\",\"y\":[18.1],\"yaxis\":\"y\",\"type\":\"scatter\"},{\"customdata\":[[2022,\"Angola\"]],\"hovertemplate\":\"Area=%{customdata[1]}\\u003cbr\\u003eGDP (USD)=%{x}\\u003cbr\\u003eObesity Rate (%)=%{y}\\u003cbr\\u003eYear=%{customdata[0]}\\u003cextra\\u003e\\u003c\\u002fextra\\u003e\",\"legendgroup\":\"Angola\",\"marker\":{\"color\":\"#ab63fa\",\"symbol\":\"circle\"},\"mode\":\"markers\",\"name\":\"Angola\",\"orientation\":\"v\",\"showlegend\":true,\"x\":[7407.1],\"xaxis\":\"x\",\"y\":[11.5],\"yaxis\":\"y\",\"type\":\"scatter\"},{\"customdata\":[[2022,\"Antigua and Barbuda\"]],\"hovertemplate\":\"Area=%{customdata[1]}\\u003cbr\\u003eGDP (USD)=%{x}\\u003cbr\\u003eObesity Rate (%)=%{y}\\u003cbr\\u003eYear=%{customdata[0]}\\u003cextra\\u003e\\u003c\\u002fextra\\u003e\",\"legendgroup\":\"Antigua and Barbuda\",\"marker\":{\"color\":\"#FFA15A\",\"symbol\":\"circle\"},\"mode\":\"markers\",\"name\":\"Antigua and Barbuda\",\"orientation\":\"v\",\"showlegend\":true,\"x\":[27757.2],\"xaxis\":\"x\",\"y\":[33.3],\"yaxis\":\"y\",\"type\":\"scatter\"},{\"customdata\":[[2022,\"Argentina\"]],\"hovertemplate\":\"Area=%{customdata[1]}\\u003cbr\\u003eGDP (USD)=%{x}\\u003cbr\\u003eObesity Rate (%)=%{y}\\u003cbr\\u003eYear=%{customdata[0]}\\u003cextra\\u003e\\u003c\\u002fextra\\u003e\",\"legendgroup\":\"Argentina\",\"marker\":{\"color\":\"#19d3f3\",\"symbol\":\"circle\"},\"mode\":\"markers\",\"name\":\"Argentina\",\"orientation\":\"v\",\"showlegend\":true,\"x\":[27127.4],\"xaxis\":\"x\",\"y\":[35.4],\"yaxis\":\"y\",\"type\":\"scatter\"},{\"customdata\":[[2022,\"Armenia\"]],\"hovertemplate\":\"Area=%{customdata[1]}\\u003cbr\\u003eGDP (USD)=%{x}\\u003cbr\\u003eObesity Rate (%)=%{y}\\u003cbr\\u003eYear=%{customdata[0]}\\u003cextra\\u003e\\u003c\\u002fextra\\u003e\",\"legendgroup\":\"Armenia\",\"marker\":{\"color\":\"#FF6692\",\"symbol\":\"circle\"},\"mode\":\"markers\",\"name\":\"Armenia\",\"orientation\":\"v\",\"showlegend\":true,\"x\":[19100.2],\"xaxis\":\"x\",\"y\":[24.5],\"yaxis\":\"y\",\"type\":\"scatter\"},{\"customdata\":[[2022,\"Australia\"]],\"hovertemplate\":\"Area=%{customdata[1]}\\u003cbr\\u003eGDP (USD)=%{x}\\u003cbr\\u003eObesity Rate (%)=%{y}\\u003cbr\\u003eYear=%{customdata[0]}\\u003cextra\\u003e\\u003c\\u002fextra\\u003e\",\"legendgroup\":\"Australia\",\"marker\":{\"color\":\"#B6E880\",\"symbol\":\"circle\"},\"mode\":\"markers\",\"name\":\"Australia\",\"orientation\":\"v\",\"showlegend\":true,\"x\":[59120.0],\"xaxis\":\"x\",\"y\":[30.2],\"yaxis\":\"y\",\"type\":\"scatter\"},{\"customdata\":[[2022,\"Austria\"]],\"hovertemplate\":\"Area=%{customdata[1]}\\u003cbr\\u003eGDP (USD)=%{x}\\u003cbr\\u003eObesity Rate (%)=%{y}\\u003cbr\\u003eYear=%{customdata[0]}\\u003cextra\\u003e\\u003c\\u002fextra\\u003e\",\"legendgroup\":\"Austria\",\"marker\":{\"color\":\"#FF97FF\",\"symbol\":\"circle\"},\"mode\":\"markers\",\"name\":\"Austria\",\"orientation\":\"v\",\"showlegend\":true,\"x\":[65836.9],\"xaxis\":\"x\",\"y\":[15.4],\"yaxis\":\"y\",\"type\":\"scatter\"},{\"customdata\":[[2022,\"Azerbaijan\"]],\"hovertemplate\":\"Area=%{customdata[1]}\\u003cbr\\u003eGDP (USD)=%{x}\\u003cbr\\u003eObesity Rate (%)=%{y}\\u003cbr\\u003eYear=%{customdata[0]}\\u003cextra\\u003e\\u003c\\u002fextra\\u003e\",\"legendgroup\":\"Azerbaijan\",\"marker\":{\"color\":\"#FECB52\",\"symbol\":\"circle\"},\"mode\":\"markers\",\"name\":\"Azerbaijan\",\"orientation\":\"v\",\"showlegend\":true,\"x\":[21031.5],\"xaxis\":\"x\",\"y\":[26.5],\"yaxis\":\"y\",\"type\":\"scatter\"},{\"customdata\":[[2022,\"Bahamas\"]],\"hovertemplate\":\"Area=%{customdata[1]}\\u003cbr\\u003eGDP (USD)=%{x}\\u003cbr\\u003eObesity Rate (%)=%{y}\\u003cbr\\u003eYear=%{customdata[0]}\\u003cextra\\u003e\\u003c\\u002fextra\\u003e\",\"legendgroup\":\"Bahamas\",\"marker\":{\"color\":\"#636efa\",\"symbol\":\"circle\"},\"mode\":\"markers\",\"name\":\"Bahamas\",\"orientation\":\"v\",\"showlegend\":true,\"x\":[32895.0],\"xaxis\":\"x\",\"y\":[47.3],\"yaxis\":\"y\",\"type\":\"scatter\"},{\"customdata\":[[2022,\"Bahrain\"]],\"hovertemplate\":\"Area=%{customdata[1]}\\u003cbr\\u003eGDP (USD)=%{x}\\u003cbr\\u003eObesity Rate (%)=%{y}\\u003cbr\\u003eYear=%{customdata[0]}\\u003cextra\\u003e\\u003c\\u002fextra\\u003e\",\"legendgroup\":\"Bahrain\",\"marker\":{\"color\":\"#EF553B\",\"symbol\":\"circle\"},\"mode\":\"markers\",\"name\":\"Bahrain\",\"orientation\":\"v\",\"showlegend\":true,\"x\":[56646.6],\"xaxis\":\"x\",\"y\":[36.1],\"yaxis\":\"y\",\"type\":\"scatter\"},{\"customdata\":[[2022,\"Bangladesh\"]],\"hovertemplate\":\"Area=%{customdata[1]}\\u003cbr\\u003eGDP (USD)=%{x}\\u003cbr\\u003eObesity Rate (%)=%{y}\\u003cbr\\u003eYear=%{customdata[0]}\\u003cextra\\u003e\\u003c\\u002fextra\\u003e\",\"legendgroup\":\"Bangladesh\",\"marker\":{\"color\":\"#00cc96\",\"symbol\":\"circle\"},\"mode\":\"markers\",\"name\":\"Bangladesh\",\"orientation\":\"v\",\"showlegend\":true,\"x\":[7805.2],\"xaxis\":\"x\",\"y\":[5.3],\"yaxis\":\"y\",\"type\":\"scatter\"},{\"customdata\":[[2022,\"Barbados\"]],\"hovertemplate\":\"Area=%{customdata[1]}\\u003cbr\\u003eGDP (USD)=%{x}\\u003cbr\\u003eObesity Rate (%)=%{y}\\u003cbr\\u003eYear=%{customdata[0]}\\u003cextra\\u003e\\u003c\\u002fextra\\u003e\",\"legendgroup\":\"Barbados\",\"marker\":{\"color\":\"#ab63fa\",\"symbol\":\"circle\"},\"mode\":\"markers\",\"name\":\"Barbados\",\"orientation\":\"v\",\"showlegend\":true,\"x\":[16325.5],\"xaxis\":\"x\",\"y\":[38.0],\"yaxis\":\"y\",\"type\":\"scatter\"},{\"customdata\":[[2022,\"Belarus\"]],\"hovertemplate\":\"Area=%{customdata[1]}\\u003cbr\\u003eGDP (USD)=%{x}\\u003cbr\\u003eObesity Rate (%)=%{y}\\u003cbr\\u003eYear=%{customdata[0]}\\u003cextra\\u003e\\u003c\\u002fextra\\u003e\",\"legendgroup\":\"Belarus\",\"marker\":{\"color\":\"#FFA15A\",\"symbol\":\"circle\"},\"mode\":\"markers\",\"name\":\"Belarus\",\"orientation\":\"v\",\"showlegend\":true,\"x\":[26526.6],\"xaxis\":\"x\",\"y\":[21.4],\"yaxis\":\"y\",\"type\":\"scatter\"},{\"customdata\":[[2022,\"Belgium\"]],\"hovertemplate\":\"Area=%{customdata[1]}\\u003cbr\\u003eGDP (USD)=%{x}\\u003cbr\\u003eObesity Rate (%)=%{y}\\u003cbr\\u003eYear=%{customdata[0]}\\u003cextra\\u003e\\u003c\\u002fextra\\u003e\",\"legendgroup\":\"Belgium\",\"marker\":{\"color\":\"#19d3f3\",\"symbol\":\"circle\"},\"mode\":\"markers\",\"name\":\"Belgium\",\"orientation\":\"v\",\"showlegend\":true,\"x\":[63431.0],\"xaxis\":\"x\",\"y\":[20.0],\"yaxis\":\"y\",\"type\":\"scatter\"},{\"customdata\":[[2022,\"Belize\"]],\"hovertemplate\":\"Area=%{customdata[1]}\\u003cbr\\u003eGDP (USD)=%{x}\\u003cbr\\u003eObesity Rate (%)=%{y}\\u003cbr\\u003eYear=%{customdata[0]}\\u003cextra\\u003e\\u003c\\u002fextra\\u003e\",\"legendgroup\":\"Belize\",\"marker\":{\"color\":\"#FF6692\",\"symbol\":\"circle\"},\"mode\":\"markers\",\"name\":\"Belize\",\"orientation\":\"v\",\"showlegend\":true,\"x\":[12407.0],\"xaxis\":\"x\",\"y\":[42.3],\"yaxis\":\"y\",\"type\":\"scatter\"},{\"customdata\":[[2022,\"Benin\"]],\"hovertemplate\":\"Area=%{customdata[1]}\\u003cbr\\u003eGDP (USD)=%{x}\\u003cbr\\u003eObesity Rate (%)=%{y}\\u003cbr\\u003eYear=%{customdata[0]}\\u003cextra\\u003e\\u003c\\u002fextra\\u003e\",\"legendgroup\":\"Benin\",\"marker\":{\"color\":\"#B6E880\",\"symbol\":\"circle\"},\"mode\":\"markers\",\"name\":\"Benin\",\"orientation\":\"v\",\"showlegend\":true,\"x\":[3697.6],\"xaxis\":\"x\",\"y\":[11.2],\"yaxis\":\"y\",\"type\":\"scatter\"},{\"customdata\":[[2022,\"Bermuda\"]],\"hovertemplate\":\"Area=%{customdata[1]}\\u003cbr\\u003eGDP (USD)=%{x}\\u003cbr\\u003eObesity Rate (%)=%{y}\\u003cbr\\u003eYear=%{customdata[0]}\\u003cextra\\u003e\\u003c\\u002fextra\\u003e\",\"legendgroup\":\"Bermuda\",\"marker\":{\"color\":\"#FF97FF\",\"symbol\":\"circle\"},\"mode\":\"markers\",\"name\":\"Bermuda\",\"orientation\":\"v\",\"showlegend\":true,\"x\":[94531.3],\"xaxis\":\"x\",\"y\":[33.0],\"yaxis\":\"y\",\"type\":\"scatter\"},{\"customdata\":[[2022,\"Bolivia (Plurinational State of)\"]],\"hovertemplate\":\"Area=%{customdata[1]}\\u003cbr\\u003eGDP (USD)=%{x}\\u003cbr\\u003eObesity Rate (%)=%{y}\\u003cbr\\u003eYear=%{customdata[0]}\\u003cextra\\u003e\\u003c\\u002fextra\\u003e\",\"legendgroup\":\"Bolivia (Plurinational State of)\",\"marker\":{\"color\":\"#FECB52\",\"symbol\":\"circle\"},\"mode\":\"markers\",\"name\":\"Bolivia (Plurinational State of)\",\"orientation\":\"v\",\"showlegend\":true,\"x\":[9565.3],\"xaxis\":\"x\",\"y\":[28.7],\"yaxis\":\"y\",\"type\":\"scatter\"},{\"customdata\":[[2022,\"Bosnia and Herzegovina\"]],\"hovertemplate\":\"Area=%{customdata[1]}\\u003cbr\\u003eGDP (USD)=%{x}\\u003cbr\\u003eObesity Rate (%)=%{y}\\u003cbr\\u003eYear=%{customdata[0]}\\u003cextra\\u003e\\u003c\\u002fextra\\u003e\",\"legendgroup\":\"Bosnia and Herzegovina\",\"marker\":{\"color\":\"#636efa\",\"symbol\":\"circle\"},\"mode\":\"markers\",\"name\":\"Bosnia and Herzegovina\",\"orientation\":\"v\",\"showlegend\":true,\"x\":[19355.7],\"xaxis\":\"x\",\"y\":[21.2],\"yaxis\":\"y\",\"type\":\"scatter\"},{\"customdata\":[[2022,\"Botswana\"]],\"hovertemplate\":\"Area=%{customdata[1]}\\u003cbr\\u003eGDP (USD)=%{x}\\u003cbr\\u003eObesity Rate (%)=%{y}\\u003cbr\\u003eYear=%{customdata[0]}\\u003cextra\\u003e\\u003c\\u002fextra\\u003e\",\"legendgroup\":\"Botswana\",\"marker\":{\"color\":\"#EF553B\",\"symbol\":\"circle\"},\"mode\":\"markers\",\"name\":\"Botswana\",\"orientation\":\"v\",\"showlegend\":true,\"x\":[17334.9],\"xaxis\":\"x\",\"y\":[18.3],\"yaxis\":\"y\",\"type\":\"scatter\"},{\"customdata\":[[2022,\"Brazil\"]],\"hovertemplate\":\"Area=%{customdata[1]}\\u003cbr\\u003eGDP (USD)=%{x}\\u003cbr\\u003eObesity Rate (%)=%{y}\\u003cbr\\u003eYear=%{customdata[0]}\\u003cextra\\u003e\\u003c\\u002fextra\\u003e\",\"legendgroup\":\"Brazil\",\"marker\":{\"color\":\"#00cc96\",\"symbol\":\"circle\"},\"mode\":\"markers\",\"name\":\"Brazil\",\"orientation\":\"v\",\"showlegend\":true,\"x\":[17874.3],\"xaxis\":\"x\",\"y\":[28.1],\"yaxis\":\"y\",\"type\":\"scatter\"},{\"customdata\":[[2022,\"Brunei Darussalam\"]],\"hovertemplate\":\"Area=%{customdata[1]}\\u003cbr\\u003eGDP (USD)=%{x}\\u003cbr\\u003eObesity Rate (%)=%{y}\\u003cbr\\u003eYear=%{customdata[0]}\\u003cextra\\u003e\\u003c\\u002fextra\\u003e\",\"legendgroup\":\"Brunei Darussalam\",\"marker\":{\"color\":\"#ab63fa\",\"symbol\":\"circle\"},\"mode\":\"markers\",\"name\":\"Brunei Darussalam\",\"orientation\":\"v\",\"showlegend\":true,\"x\":[77440.8],\"xaxis\":\"x\",\"y\":[31.7],\"yaxis\":\"y\",\"type\":\"scatter\"},{\"customdata\":[[2022,\"Bulgaria\"]],\"hovertemplate\":\"Area=%{customdata[1]}\\u003cbr\\u003eGDP (USD)=%{x}\\u003cbr\\u003eObesity Rate (%)=%{y}\\u003cbr\\u003eYear=%{customdata[0]}\\u003cextra\\u003e\\u003c\\u002fextra\\u003e\",\"legendgroup\":\"Bulgaria\",\"marker\":{\"color\":\"#FFA15A\",\"symbol\":\"circle\"},\"mode\":\"markers\",\"name\":\"Bulgaria\",\"orientation\":\"v\",\"showlegend\":true,\"x\":[32511.8],\"xaxis\":\"x\",\"y\":[20.6],\"yaxis\":\"y\",\"type\":\"scatter\"},{\"customdata\":[[2022,\"Burkina Faso\"]],\"hovertemplate\":\"Area=%{customdata[1]}\\u003cbr\\u003eGDP (USD)=%{x}\\u003cbr\\u003eObesity Rate (%)=%{y}\\u003cbr\\u003eYear=%{customdata[0]}\\u003cextra\\u003e\\u003c\\u002fextra\\u003e\",\"legendgroup\":\"Burkina Faso\",\"marker\":{\"color\":\"#19d3f3\",\"symbol\":\"circle\"},\"mode\":\"markers\",\"name\":\"Burkina Faso\",\"orientation\":\"v\",\"showlegend\":true,\"x\":[2448.1],\"xaxis\":\"x\",\"y\":[6.7],\"yaxis\":\"y\",\"type\":\"scatter\"},{\"customdata\":[[2022,\"Burundi\"]],\"hovertemplate\":\"Area=%{customdata[1]}\\u003cbr\\u003eGDP (USD)=%{x}\\u003cbr\\u003eObesity Rate (%)=%{y}\\u003cbr\\u003eYear=%{customdata[0]}\\u003cextra\\u003e\\u003c\\u002fextra\\u003e\",\"legendgroup\":\"Burundi\",\"marker\":{\"color\":\"#FF6692\",\"symbol\":\"circle\"},\"mode\":\"markers\",\"name\":\"Burundi\",\"orientation\":\"v\",\"showlegend\":true,\"x\":[857.2],\"xaxis\":\"x\",\"y\":[5.0],\"yaxis\":\"y\",\"type\":\"scatter\"},{\"customdata\":[[2022,\"Cabo Verde\"]],\"hovertemplate\":\"Area=%{customdata[1]}\\u003cbr\\u003eGDP (USD)=%{x}\\u003cbr\\u003eObesity Rate (%)=%{y}\\u003cbr\\u003eYear=%{customdata[0]}\\u003cextra\\u003e\\u003c\\u002fextra\\u003e\",\"legendgroup\":\"Cabo Verde\",\"marker\":{\"color\":\"#B6E880\",\"symbol\":\"circle\"},\"mode\":\"markers\",\"name\":\"Cabo Verde\",\"orientation\":\"v\",\"showlegend\":true,\"x\":[7633.8],\"xaxis\":\"x\",\"y\":[15.8],\"yaxis\":\"y\",\"type\":\"scatter\"},{\"customdata\":[[2022,\"Cambodia\"]],\"hovertemplate\":\"Area=%{customdata[1]}\\u003cbr\\u003eGDP (USD)=%{x}\\u003cbr\\u003eObesity Rate (%)=%{y}\\u003cbr\\u003eYear=%{customdata[0]}\\u003cextra\\u003e\\u003c\\u002fextra\\u003e\",\"legendgroup\":\"Cambodia\",\"marker\":{\"color\":\"#FF97FF\",\"symbol\":\"circle\"},\"mode\":\"markers\",\"name\":\"Cambodia\",\"orientation\":\"v\",\"showlegend\":true,\"x\":[4860.5],\"xaxis\":\"x\",\"y\":[4.4],\"yaxis\":\"y\",\"type\":\"scatter\"},{\"customdata\":[[2022,\"Cameroon\"]],\"hovertemplate\":\"Area=%{customdata[1]}\\u003cbr\\u003eGDP (USD)=%{x}\\u003cbr\\u003eObesity Rate (%)=%{y}\\u003cbr\\u003eYear=%{customdata[0]}\\u003cextra\\u003e\\u003c\\u002fextra\\u003e\",\"legendgroup\":\"Cameroon\",\"marker\":{\"color\":\"#FECB52\",\"symbol\":\"circle\"},\"mode\":\"markers\",\"name\":\"Cameroon\",\"orientation\":\"v\",\"showlegend\":true,\"x\":[4785.7],\"xaxis\":\"x\",\"y\":[14.9],\"yaxis\":\"y\",\"type\":\"scatter\"},{\"customdata\":[[2022,\"Canada\"]],\"hovertemplate\":\"Area=%{customdata[1]}\\u003cbr\\u003eGDP (USD)=%{x}\\u003cbr\\u003eObesity Rate (%)=%{y}\\u003cbr\\u003eYear=%{customdata[0]}\\u003cextra\\u003e\\u003c\\u002fextra\\u003e\",\"legendgroup\":\"Canada\",\"marker\":{\"color\":\"#636efa\",\"symbol\":\"circle\"},\"mode\":\"markers\",\"name\":\"Canada\",\"orientation\":\"v\",\"showlegend\":true,\"x\":[56716.4],\"xaxis\":\"x\",\"y\":[26.2],\"yaxis\":\"y\",\"type\":\"scatter\"},{\"customdata\":[[2022,\"Central African Republic\"]],\"hovertemplate\":\"Area=%{customdata[1]}\\u003cbr\\u003eGDP (USD)=%{x}\\u003cbr\\u003eObesity Rate (%)=%{y}\\u003cbr\\u003eYear=%{customdata[0]}\\u003cextra\\u003e\\u003c\\u002fextra\\u003e\",\"legendgroup\":\"Central African Republic\",\"marker\":{\"color\":\"#EF553B\",\"symbol\":\"circle\"},\"mode\":\"markers\",\"name\":\"Central African Republic\",\"orientation\":\"v\",\"showlegend\":true,\"x\":[1039.3],\"xaxis\":\"x\",\"y\":[9.3],\"yaxis\":\"y\",\"type\":\"scatter\"},{\"customdata\":[[2022,\"Chad\"]],\"hovertemplate\":\"Area=%{customdata[1]}\\u003cbr\\u003eGDP (USD)=%{x}\\u003cbr\\u003eObesity Rate (%)=%{y}\\u003cbr\\u003eYear=%{customdata[0]}\\u003cextra\\u003e\\u003c\\u002fextra\\u003e\",\"legendgroup\":\"Chad\",\"marker\":{\"color\":\"#00cc96\",\"symbol\":\"circle\"},\"mode\":\"markers\",\"name\":\"Chad\",\"orientation\":\"v\",\"showlegend\":true,\"x\":[1748.5],\"xaxis\":\"x\",\"y\":[6.7],\"yaxis\":\"y\",\"type\":\"scatter\"},{\"customdata\":[[2022,\"Chile\"]],\"hovertemplate\":\"Area=%{customdata[1]}\\u003cbr\\u003eGDP (USD)=%{x}\\u003cbr\\u003eObesity Rate (%)=%{y}\\u003cbr\\u003eYear=%{customdata[0]}\\u003cextra\\u003e\\u003c\\u002fextra\\u003e\",\"legendgroup\":\"Chile\",\"marker\":{\"color\":\"#ab63fa\",\"symbol\":\"circle\"},\"mode\":\"markers\",\"name\":\"Chile\",\"orientation\":\"v\",\"showlegend\":true,\"x\":[29691.2],\"xaxis\":\"x\",\"y\":[38.9],\"yaxis\":\"y\",\"type\":\"scatter\"},{\"customdata\":[[2022,\"China\"]],\"hovertemplate\":\"Area=%{customdata[1]}\\u003cbr\\u003eGDP (USD)=%{x}\\u003cbr\\u003eObesity Rate (%)=%{y}\\u003cbr\\u003eYear=%{customdata[0]}\\u003cextra\\u003e\\u003c\\u002fextra\\u003e\",\"legendgroup\":\"China\",\"marker\":{\"color\":\"#FFA15A\",\"symbol\":\"circle\"},\"mode\":\"markers\",\"name\":\"China\",\"orientation\":\"v\",\"showlegend\":true,\"x\":[21262.3],\"xaxis\":\"x\",\"y\":[8.3],\"yaxis\":\"y\",\"type\":\"scatter\"},{\"customdata\":[[2022,\"Colombia\"]],\"hovertemplate\":\"Area=%{customdata[1]}\\u003cbr\\u003eGDP (USD)=%{x}\\u003cbr\\u003eObesity Rate (%)=%{y}\\u003cbr\\u003eYear=%{customdata[0]}\\u003cextra\\u003e\\u003c\\u002fextra\\u003e\",\"legendgroup\":\"Colombia\",\"marker\":{\"color\":\"#19d3f3\",\"symbol\":\"circle\"},\"mode\":\"markers\",\"name\":\"Colombia\",\"orientation\":\"v\",\"showlegend\":true,\"x\":[18732.7],\"xaxis\":\"x\",\"y\":[23.6],\"yaxis\":\"y\",\"type\":\"scatter\"},{\"customdata\":[[2022,\"Comoros\"]],\"hovertemplate\":\"Area=%{customdata[1]}\\u003cbr\\u003eGDP (USD)=%{x}\\u003cbr\\u003eObesity Rate (%)=%{y}\\u003cbr\\u003eYear=%{customdata[0]}\\u003cextra\\u003e\\u003c\\u002fextra\\u003e\",\"legendgroup\":\"Comoros\",\"marker\":{\"color\":\"#FF6692\",\"symbol\":\"circle\"},\"mode\":\"markers\",\"name\":\"Comoros\",\"orientation\":\"v\",\"showlegend\":true,\"x\":[3445.1],\"xaxis\":\"x\",\"y\":[16.3],\"yaxis\":\"y\",\"type\":\"scatter\"},{\"customdata\":[[2022,\"Congo\"]],\"hovertemplate\":\"Area=%{customdata[1]}\\u003cbr\\u003eGDP (USD)=%{x}\\u003cbr\\u003eObesity Rate (%)=%{y}\\u003cbr\\u003eYear=%{customdata[0]}\\u003cextra\\u003e\\u003c\\u002fextra\\u003e\",\"legendgroup\":\"Congo\",\"marker\":{\"color\":\"#B6E880\",\"symbol\":\"circle\"},\"mode\":\"markers\",\"name\":\"Congo\",\"orientation\":\"v\",\"showlegend\":true,\"x\":[6272.3],\"xaxis\":\"x\",\"y\":[8.5],\"yaxis\":\"y\",\"type\":\"scatter\"},{\"customdata\":[[2022,\"Costa Rica\"]],\"hovertemplate\":\"Area=%{customdata[1]}\\u003cbr\\u003eGDP (USD)=%{x}\\u003cbr\\u003eObesity Rate (%)=%{y}\\u003cbr\\u003eYear=%{customdata[0]}\\u003cextra\\u003e\\u003c\\u002fextra\\u003e\",\"legendgroup\":\"Costa Rica\",\"marker\":{\"color\":\"#FF97FF\",\"symbol\":\"circle\"},\"mode\":\"markers\",\"name\":\"Costa Rica\",\"orientation\":\"v\",\"showlegend\":true,\"x\":[24650.5],\"xaxis\":\"x\",\"y\":[31.4],\"yaxis\":\"y\",\"type\":\"scatter\"},{\"customdata\":[[2022,\"C\\u00f4te d'Ivoire\"]],\"hovertemplate\":\"Area=%{customdata[1]}\\u003cbr\\u003eGDP (USD)=%{x}\\u003cbr\\u003eObesity Rate (%)=%{y}\\u003cbr\\u003eYear=%{customdata[0]}\\u003cextra\\u003e\\u003c\\u002fextra\\u003e\",\"legendgroup\":\"C\\u00f4te d'Ivoire\",\"marker\":{\"color\":\"#FECB52\",\"symbol\":\"circle\"},\"mode\":\"markers\",\"name\":\"C\\u00f4te d'Ivoire\",\"orientation\":\"v\",\"showlegend\":true,\"x\":[6699.9],\"xaxis\":\"x\",\"y\":[11.6],\"yaxis\":\"y\",\"type\":\"scatter\"},{\"customdata\":[[2022,\"Croatia\"]],\"hovertemplate\":\"Area=%{customdata[1]}\\u003cbr\\u003eGDP (USD)=%{x}\\u003cbr\\u003eObesity Rate (%)=%{y}\\u003cbr\\u003eYear=%{customdata[0]}\\u003cextra\\u003e\\u003c\\u002fextra\\u003e\",\"legendgroup\":\"Croatia\",\"marker\":{\"color\":\"#636efa\",\"symbol\":\"circle\"},\"mode\":\"markers\",\"name\":\"Croatia\",\"orientation\":\"v\",\"showlegend\":true,\"x\":[39538.5],\"xaxis\":\"x\",\"y\":[30.6],\"yaxis\":\"y\",\"type\":\"scatter\"},{\"customdata\":[[2022,\"Cyprus\"]],\"hovertemplate\":\"Area=%{customdata[1]}\\u003cbr\\u003eGDP (USD)=%{x}\\u003cbr\\u003eObesity Rate (%)=%{y}\\u003cbr\\u003eYear=%{customdata[0]}\\u003cextra\\u003e\\u003c\\u002fextra\\u003e\",\"legendgroup\":\"Cyprus\",\"marker\":{\"color\":\"#EF553B\",\"symbol\":\"circle\"},\"mode\":\"markers\",\"name\":\"Cyprus\",\"orientation\":\"v\",\"showlegend\":true,\"x\":[50232.2],\"xaxis\":\"x\",\"y\":[22.9],\"yaxis\":\"y\",\"type\":\"scatter\"},{\"customdata\":[[2022,\"Czechia\"]],\"hovertemplate\":\"Area=%{customdata[1]}\\u003cbr\\u003eGDP (USD)=%{x}\\u003cbr\\u003eObesity Rate (%)=%{y}\\u003cbr\\u003eYear=%{customdata[0]}\\u003cextra\\u003e\\u003c\\u002fextra\\u003e\",\"legendgroup\":\"Czechia\",\"marker\":{\"color\":\"#00cc96\",\"symbol\":\"circle\"},\"mode\":\"markers\",\"name\":\"Czechia\",\"orientation\":\"v\",\"showlegend\":true,\"x\":[48784.0],\"xaxis\":\"x\",\"y\":[26.0],\"yaxis\":\"y\",\"type\":\"scatter\"},{\"customdata\":[[2022,\"Democratic Republic of the Congo\"]],\"hovertemplate\":\"Area=%{customdata[1]}\\u003cbr\\u003eGDP (USD)=%{x}\\u003cbr\\u003eObesity Rate (%)=%{y}\\u003cbr\\u003eYear=%{customdata[0]}\\u003cextra\\u003e\\u003c\\u002fextra\\u003e\",\"legendgroup\":\"Democratic Republic of the Congo\",\"marker\":{\"color\":\"#ab63fa\",\"symbol\":\"circle\"},\"mode\":\"markers\",\"name\":\"Democratic Republic of the Congo\",\"orientation\":\"v\",\"showlegend\":true,\"x\":[1432.9],\"xaxis\":\"x\",\"y\":[6.6],\"yaxis\":\"y\",\"type\":\"scatter\"},{\"customdata\":[[2022,\"Denmark\"]],\"hovertemplate\":\"Area=%{customdata[1]}\\u003cbr\\u003eGDP (USD)=%{x}\\u003cbr\\u003eObesity Rate (%)=%{y}\\u003cbr\\u003eYear=%{customdata[0]}\\u003cextra\\u003e\\u003c\\u002fextra\\u003e\",\"legendgroup\":\"Denmark\",\"marker\":{\"color\":\"#FFA15A\",\"symbol\":\"circle\"},\"mode\":\"markers\",\"name\":\"Denmark\",\"orientation\":\"v\",\"showlegend\":true,\"x\":[71224.3],\"xaxis\":\"x\",\"y\":[13.3],\"yaxis\":\"y\",\"type\":\"scatter\"},{\"customdata\":[[2022,\"Djibouti\"]],\"hovertemplate\":\"Area=%{customdata[1]}\\u003cbr\\u003eGDP (USD)=%{x}\\u003cbr\\u003eObesity Rate (%)=%{y}\\u003cbr\\u003eYear=%{customdata[0]}\\u003cextra\\u003e\\u003c\\u002fextra\\u003e\",\"legendgroup\":\"Djibouti\",\"marker\":{\"color\":\"#19d3f3\",\"symbol\":\"circle\"},\"mode\":\"markers\",\"name\":\"Djibouti\",\"orientation\":\"v\",\"showlegend\":true,\"x\":[6135.8],\"xaxis\":\"x\",\"y\":[11.3],\"yaxis\":\"y\",\"type\":\"scatter\"},{\"customdata\":[[2022,\"Dominica\"]],\"hovertemplate\":\"Area=%{customdata[1]}\\u003cbr\\u003eGDP (USD)=%{x}\\u003cbr\\u003eObesity Rate (%)=%{y}\\u003cbr\\u003eYear=%{customdata[0]}\\u003cextra\\u003e\\u003c\\u002fextra\\u003e\",\"legendgroup\":\"Dominica\",\"marker\":{\"color\":\"#FF6692\",\"symbol\":\"circle\"},\"mode\":\"markers\",\"name\":\"Dominica\",\"orientation\":\"v\",\"showlegend\":true,\"x\":[15221.4],\"xaxis\":\"x\",\"y\":[31.3],\"yaxis\":\"y\",\"type\":\"scatter\"},{\"customdata\":[[2022,\"Dominican Republic\"]],\"hovertemplate\":\"Area=%{customdata[1]}\\u003cbr\\u003eGDP (USD)=%{x}\\u003cbr\\u003eObesity Rate (%)=%{y}\\u003cbr\\u003eYear=%{customdata[0]}\\u003cextra\\u003e\\u003c\\u002fextra\\u003e\",\"legendgroup\":\"Dominican Republic\",\"marker\":{\"color\":\"#B6E880\",\"symbol\":\"circle\"},\"mode\":\"markers\",\"name\":\"Dominican Republic\",\"orientation\":\"v\",\"showlegend\":true,\"x\":[22761.3],\"xaxis\":\"x\",\"y\":[29.3],\"yaxis\":\"y\",\"type\":\"scatter\"},{\"customdata\":[[2022,\"Ecuador\"]],\"hovertemplate\":\"Area=%{customdata[1]}\\u003cbr\\u003eGDP (USD)=%{x}\\u003cbr\\u003eObesity Rate (%)=%{y}\\u003cbr\\u003eYear=%{customdata[0]}\\u003cextra\\u003e\\u003c\\u002fextra\\u003e\",\"legendgroup\":\"Ecuador\",\"marker\":{\"color\":\"#FF97FF\",\"symbol\":\"circle\"},\"mode\":\"markers\",\"name\":\"Ecuador\",\"orientation\":\"v\",\"showlegend\":true,\"x\":[13530.4],\"xaxis\":\"x\",\"y\":[27.4],\"yaxis\":\"y\",\"type\":\"scatter\"},{\"customdata\":[[2022,\"Egypt\"]],\"hovertemplate\":\"Area=%{customdata[1]}\\u003cbr\\u003eGDP (USD)=%{x}\\u003cbr\\u003eObesity Rate (%)=%{y}\\u003cbr\\u003eYear=%{customdata[0]}\\u003cextra\\u003e\\u003c\\u002fextra\\u003e\",\"legendgroup\":\"Egypt\",\"marker\":{\"color\":\"#FECB52\",\"symbol\":\"circle\"},\"mode\":\"markers\",\"name\":\"Egypt\",\"orientation\":\"v\",\"showlegend\":true,\"x\":[16600.4],\"xaxis\":\"x\",\"y\":[44.3],\"yaxis\":\"y\",\"type\":\"scatter\"},{\"customdata\":[[2022,\"El Salvador\"]],\"hovertemplate\":\"Area=%{customdata[1]}\\u003cbr\\u003eGDP (USD)=%{x}\\u003cbr\\u003eObesity Rate (%)=%{y}\\u003cbr\\u003eYear=%{customdata[0]}\\u003cextra\\u003e\\u003c\\u002fextra\\u003e\",\"legendgroup\":\"El Salvador\",\"marker\":{\"color\":\"#636efa\",\"symbol\":\"circle\"},\"mode\":\"markers\",\"name\":\"El Salvador\",\"orientation\":\"v\",\"showlegend\":true,\"x\":[11103.5],\"xaxis\":\"x\",\"y\":[30.9],\"yaxis\":\"y\",\"type\":\"scatter\"},{\"customdata\":[[2022,\"Equatorial Guinea\"]],\"hovertemplate\":\"Area=%{customdata[1]}\\u003cbr\\u003eGDP (USD)=%{x}\\u003cbr\\u003eObesity Rate (%)=%{y}\\u003cbr\\u003eYear=%{customdata[0]}\\u003cextra\\u003e\\u003c\\u002fextra\\u003e\",\"legendgroup\":\"Equatorial Guinea\",\"marker\":{\"color\":\"#EF553B\",\"symbol\":\"circle\"},\"mode\":\"markers\",\"name\":\"Equatorial Guinea\",\"orientation\":\"v\",\"showlegend\":true,\"x\":[18165.2],\"xaxis\":\"x\",\"y\":[17.7],\"yaxis\":\"y\",\"type\":\"scatter\"},{\"customdata\":[[2022,\"Estonia\"]],\"hovertemplate\":\"Area=%{customdata[1]}\\u003cbr\\u003eGDP (USD)=%{x}\\u003cbr\\u003eObesity Rate (%)=%{y}\\u003cbr\\u003eYear=%{customdata[0]}\\u003cextra\\u003e\\u003c\\u002fextra\\u003e\",\"legendgroup\":\"Estonia\",\"marker\":{\"color\":\"#00cc96\",\"symbol\":\"circle\"},\"mode\":\"markers\",\"name\":\"Estonia\",\"orientation\":\"v\",\"showlegend\":true,\"x\":[43877.0],\"xaxis\":\"x\",\"y\":[22.2],\"yaxis\":\"y\",\"type\":\"scatter\"},{\"customdata\":[[2022,\"Eswatini\"]],\"hovertemplate\":\"Area=%{customdata[1]}\\u003cbr\\u003eGDP (USD)=%{x}\\u003cbr\\u003eObesity Rate (%)=%{y}\\u003cbr\\u003eYear=%{customdata[0]}\\u003cextra\\u003e\\u003c\\u002fextra\\u003e\",\"legendgroup\":\"Eswatini\",\"marker\":{\"color\":\"#ab63fa\",\"symbol\":\"circle\"},\"mode\":\"markers\",\"name\":\"Eswatini\",\"orientation\":\"v\",\"showlegend\":true,\"x\":[10170.9],\"xaxis\":\"x\",\"y\":[30.1],\"yaxis\":\"y\",\"type\":\"scatter\"},{\"customdata\":[[2022,\"Ethiopia\"]],\"hovertemplate\":\"Area=%{customdata[1]}\\u003cbr\\u003eGDP (USD)=%{x}\\u003cbr\\u003eObesity Rate (%)=%{y}\\u003cbr\\u003eYear=%{customdata[0]}\\u003cextra\\u003e\\u003c\\u002fextra\\u003e\",\"legendgroup\":\"Ethiopia\",\"marker\":{\"color\":\"#FFA15A\",\"symbol\":\"circle\"},\"mode\":\"markers\",\"name\":\"Ethiopia\",\"orientation\":\"v\",\"showlegend\":true,\"x\":[2698.6],\"xaxis\":\"x\",\"y\":[2.8],\"yaxis\":\"y\",\"type\":\"scatter\"},{\"customdata\":[[2022,\"Fiji\"]],\"hovertemplate\":\"Area=%{customdata[1]}\\u003cbr\\u003eGDP (USD)=%{x}\\u003cbr\\u003eObesity Rate (%)=%{y}\\u003cbr\\u003eYear=%{customdata[0]}\\u003cextra\\u003e\\u003c\\u002fextra\\u003e\",\"legendgroup\":\"Fiji\",\"marker\":{\"color\":\"#19d3f3\",\"symbol\":\"circle\"},\"mode\":\"markers\",\"name\":\"Fiji\",\"orientation\":\"v\",\"showlegend\":true,\"x\":[12643.9],\"xaxis\":\"x\",\"y\":[33.8],\"yaxis\":\"y\",\"type\":\"scatter\"},{\"customdata\":[[2022,\"Finland\"]],\"hovertemplate\":\"Area=%{customdata[1]}\\u003cbr\\u003eGDP (USD)=%{x}\\u003cbr\\u003eObesity Rate (%)=%{y}\\u003cbr\\u003eYear=%{customdata[0]}\\u003cextra\\u003e\\u003c\\u002fextra\\u003e\",\"legendgroup\":\"Finland\",\"marker\":{\"color\":\"#FF6692\",\"symbol\":\"circle\"},\"mode\":\"markers\",\"name\":\"Finland\",\"orientation\":\"v\",\"showlegend\":true,\"x\":[58634.4],\"xaxis\":\"x\",\"y\":[21.5],\"yaxis\":\"y\",\"type\":\"scatter\"},{\"customdata\":[[2022,\"France\"]],\"hovertemplate\":\"Area=%{customdata[1]}\\u003cbr\\u003eGDP (USD)=%{x}\\u003cbr\\u003eObesity Rate (%)=%{y}\\u003cbr\\u003eYear=%{customdata[0]}\\u003cextra\\u003e\\u003c\\u002fextra\\u003e\",\"legendgroup\":\"France\",\"marker\":{\"color\":\"#B6E880\",\"symbol\":\"circle\"},\"mode\":\"markers\",\"name\":\"France\",\"orientation\":\"v\",\"showlegend\":true,\"x\":[54988.3],\"xaxis\":\"x\",\"y\":[9.7],\"yaxis\":\"y\",\"type\":\"scatter\"},{\"customdata\":[[2022,\"Gabon\"]],\"hovertemplate\":\"Area=%{customdata[1]}\\u003cbr\\u003eGDP (USD)=%{x}\\u003cbr\\u003eObesity Rate (%)=%{y}\\u003cbr\\u003eYear=%{customdata[0]}\\u003cextra\\u003e\\u003c\\u002fextra\\u003e\",\"legendgroup\":\"Gabon\",\"marker\":{\"color\":\"#FF97FF\",\"symbol\":\"circle\"},\"mode\":\"markers\",\"name\":\"Gabon\",\"orientation\":\"v\",\"showlegend\":true,\"x\":[19718.3],\"xaxis\":\"x\",\"y\":[21.0],\"yaxis\":\"y\",\"type\":\"scatter\"},{\"customdata\":[[2022,\"Gambia\"]],\"hovertemplate\":\"Area=%{customdata[1]}\\u003cbr\\u003eGDP (USD)=%{x}\\u003cbr\\u003eObesity Rate (%)=%{y}\\u003cbr\\u003eYear=%{customdata[0]}\\u003cextra\\u003e\\u003c\\u002fextra\\u003e\",\"legendgroup\":\"Gambia\",\"marker\":{\"color\":\"#FECB52\",\"symbol\":\"circle\"},\"mode\":\"markers\",\"name\":\"Gambia\",\"orientation\":\"v\",\"showlegend\":true,\"x\":[2744.8],\"xaxis\":\"x\",\"y\":[14.9],\"yaxis\":\"y\",\"type\":\"scatter\"},{\"customdata\":[[2022,\"Georgia\"]],\"hovertemplate\":\"Area=%{customdata[1]}\\u003cbr\\u003eGDP (USD)=%{x}\\u003cbr\\u003eObesity Rate (%)=%{y}\\u003cbr\\u003eYear=%{customdata[0]}\\u003cextra\\u003e\\u003c\\u002fextra\\u003e\",\"legendgroup\":\"Georgia\",\"marker\":{\"color\":\"#636efa\",\"symbol\":\"circle\"},\"mode\":\"markers\",\"name\":\"Georgia\",\"orientation\":\"v\",\"showlegend\":true,\"x\":[20612.2],\"xaxis\":\"x\",\"y\":[34.7],\"yaxis\":\"y\",\"type\":\"scatter\"},{\"customdata\":[[2022,\"Germany\"]],\"hovertemplate\":\"Area=%{customdata[1]}\\u003cbr\\u003eGDP (USD)=%{x}\\u003cbr\\u003eObesity Rate (%)=%{y}\\u003cbr\\u003eYear=%{customdata[0]}\\u003cextra\\u003e\\u003c\\u002fextra\\u003e\",\"legendgroup\":\"Germany\",\"marker\":{\"color\":\"#EF553B\",\"symbol\":\"circle\"},\"mode\":\"markers\",\"name\":\"Germany\",\"orientation\":\"v\",\"showlegend\":true,\"x\":[62605.5],\"xaxis\":\"x\",\"y\":[20.4],\"yaxis\":\"y\",\"type\":\"scatter\"},{\"customdata\":[[2022,\"Ghana\"]],\"hovertemplate\":\"Area=%{customdata[1]}\\u003cbr\\u003eGDP (USD)=%{x}\\u003cbr\\u003eObesity Rate (%)=%{y}\\u003cbr\\u003eYear=%{customdata[0]}\\u003cextra\\u003e\\u003c\\u002fextra\\u003e\",\"legendgroup\":\"Ghana\",\"marker\":{\"color\":\"#00cc96\",\"symbol\":\"circle\"},\"mode\":\"markers\",\"name\":\"Ghana\",\"orientation\":\"v\",\"showlegend\":true,\"x\":[6616.1],\"xaxis\":\"x\",\"y\":[12.9],\"yaxis\":\"y\",\"type\":\"scatter\"},{\"customdata\":[[2022,\"Greece\"]],\"hovertemplate\":\"Area=%{customdata[1]}\\u003cbr\\u003eGDP (USD)=%{x}\\u003cbr\\u003eObesity Rate (%)=%{y}\\u003cbr\\u003eYear=%{customdata[0]}\\u003cextra\\u003e\\u003c\\u002fextra\\u003e\",\"legendgroup\":\"Greece\",\"marker\":{\"color\":\"#ab63fa\",\"symbol\":\"circle\"},\"mode\":\"markers\",\"name\":\"Greece\",\"orientation\":\"v\",\"showlegend\":true,\"x\":[35328.8],\"xaxis\":\"x\",\"y\":[28.0],\"yaxis\":\"y\",\"type\":\"scatter\"},{\"customdata\":[[2022,\"Grenada\"]],\"hovertemplate\":\"Area=%{customdata[1]}\\u003cbr\\u003eGDP (USD)=%{x}\\u003cbr\\u003eObesity Rate (%)=%{y}\\u003cbr\\u003eYear=%{customdata[0]}\\u003cextra\\u003e\\u003c\\u002fextra\\u003e\",\"legendgroup\":\"Grenada\",\"marker\":{\"color\":\"#FFA15A\",\"symbol\":\"circle\"},\"mode\":\"markers\",\"name\":\"Grenada\",\"orientation\":\"v\",\"showlegend\":true,\"x\":[15136.3],\"xaxis\":\"x\",\"y\":[30.3],\"yaxis\":\"y\",\"type\":\"scatter\"},{\"customdata\":[[2022,\"Guatemala\"]],\"hovertemplate\":\"Area=%{customdata[1]}\\u003cbr\\u003eGDP (USD)=%{x}\\u003cbr\\u003eObesity Rate (%)=%{y}\\u003cbr\\u003eYear=%{customdata[0]}\\u003cextra\\u003e\\u003c\\u002fextra\\u003e\",\"legendgroup\":\"Guatemala\",\"marker\":{\"color\":\"#19d3f3\",\"symbol\":\"circle\"},\"mode\":\"markers\",\"name\":\"Guatemala\",\"orientation\":\"v\",\"showlegend\":true,\"x\":[12424.8],\"xaxis\":\"x\",\"y\":[26.8],\"yaxis\":\"y\",\"type\":\"scatter\"},{\"customdata\":[[2022,\"Guinea\"]],\"hovertemplate\":\"Area=%{customdata[1]}\\u003cbr\\u003eGDP (USD)=%{x}\\u003cbr\\u003eObesity Rate (%)=%{y}\\u003cbr\\u003eYear=%{customdata[0]}\\u003cextra\\u003e\\u003c\\u002fextra\\u003e\",\"legendgroup\":\"Guinea\",\"marker\":{\"color\":\"#FF6692\",\"symbol\":\"circle\"},\"mode\":\"markers\",\"name\":\"Guinea\",\"orientation\":\"v\",\"showlegend\":true,\"x\":[3818.2],\"xaxis\":\"x\",\"y\":[9.5],\"yaxis\":\"y\",\"type\":\"scatter\"},{\"customdata\":[[2022,\"Guinea-Bissau\"]],\"hovertemplate\":\"Area=%{customdata[1]}\\u003cbr\\u003eGDP (USD)=%{x}\\u003cbr\\u003eObesity Rate (%)=%{y}\\u003cbr\\u003eYear=%{customdata[0]}\\u003cextra\\u003e\\u003c\\u002fextra\\u003e\",\"legendgroup\":\"Guinea-Bissau\",\"marker\":{\"color\":\"#B6E880\",\"symbol\":\"circle\"},\"mode\":\"markers\",\"name\":\"Guinea-Bissau\",\"orientation\":\"v\",\"showlegend\":true,\"x\":[2192.4],\"xaxis\":\"x\",\"y\":[11.5],\"yaxis\":\"y\",\"type\":\"scatter\"},{\"customdata\":[[2022,\"Guyana\"]],\"hovertemplate\":\"Area=%{customdata[1]}\\u003cbr\\u003eGDP (USD)=%{x}\\u003cbr\\u003eObesity Rate (%)=%{y}\\u003cbr\\u003eYear=%{customdata[0]}\\u003cextra\\u003e\\u003c\\u002fextra\\u003e\",\"legendgroup\":\"Guyana\",\"marker\":{\"color\":\"#FF97FF\",\"symbol\":\"circle\"},\"mode\":\"markers\",\"name\":\"Guyana\",\"orientation\":\"v\",\"showlegend\":true,\"x\":[37667.8],\"xaxis\":\"x\",\"y\":[28.5],\"yaxis\":\"y\",\"type\":\"scatter\"},{\"customdata\":[[2022,\"Haiti\"]],\"hovertemplate\":\"Area=%{customdata[1]}\\u003cbr\\u003eGDP (USD)=%{x}\\u003cbr\\u003eObesity Rate (%)=%{y}\\u003cbr\\u003eYear=%{customdata[0]}\\u003cextra\\u003e\\u003c\\u002fextra\\u003e\",\"legendgroup\":\"Haiti\",\"marker\":{\"color\":\"#FECB52\",\"symbol\":\"circle\"},\"mode\":\"markers\",\"name\":\"Haiti\",\"orientation\":\"v\",\"showlegend\":true,\"x\":[3026.2],\"xaxis\":\"x\",\"y\":[10.7],\"yaxis\":\"y\",\"type\":\"scatter\"},{\"customdata\":[[2022,\"Honduras\"]],\"hovertemplate\":\"Area=%{customdata[1]}\\u003cbr\\u003eGDP (USD)=%{x}\\u003cbr\\u003eObesity Rate (%)=%{y}\\u003cbr\\u003eYear=%{customdata[0]}\\u003cextra\\u003e\\u003c\\u002fextra\\u003e\",\"legendgroup\":\"Honduras\",\"marker\":{\"color\":\"#636efa\",\"symbol\":\"circle\"},\"mode\":\"markers\",\"name\":\"Honduras\",\"orientation\":\"v\",\"showlegend\":true,\"x\":[6440.4],\"xaxis\":\"x\",\"y\":[29.5],\"yaxis\":\"y\",\"type\":\"scatter\"},{\"customdata\":[[2022,\"Hungary\"]],\"hovertemplate\":\"Area=%{customdata[1]}\\u003cbr\\u003eGDP (USD)=%{x}\\u003cbr\\u003eObesity Rate (%)=%{y}\\u003cbr\\u003eYear=%{customdata[0]}\\u003cextra\\u003e\\u003c\\u002fextra\\u003e\",\"legendgroup\":\"Hungary\",\"marker\":{\"color\":\"#EF553B\",\"symbol\":\"circle\"},\"mode\":\"markers\",\"name\":\"Hungary\",\"orientation\":\"v\",\"showlegend\":true,\"x\":[40683.9],\"xaxis\":\"x\",\"y\":[31.7],\"yaxis\":\"y\",\"type\":\"scatter\"},{\"customdata\":[[2022,\"Iceland\"]],\"hovertemplate\":\"Area=%{customdata[1]}\\u003cbr\\u003eGDP (USD)=%{x}\\u003cbr\\u003eObesity Rate (%)=%{y}\\u003cbr\\u003eYear=%{customdata[0]}\\u003cextra\\u003e\\u003c\\u002fextra\\u003e\",\"legendgroup\":\"Iceland\",\"marker\":{\"color\":\"#00cc96\",\"symbol\":\"circle\"},\"mode\":\"markers\",\"name\":\"Iceland\",\"orientation\":\"v\",\"showlegend\":true,\"x\":[64294.7],\"xaxis\":\"x\",\"y\":[21.2],\"yaxis\":\"y\",\"type\":\"scatter\"},{\"customdata\":[[2022,\"India\"]],\"hovertemplate\":\"Area=%{customdata[1]}\\u003cbr\\u003eGDP (USD)=%{x}\\u003cbr\\u003eObesity Rate (%)=%{y}\\u003cbr\\u003eYear=%{customdata[0]}\\u003cextra\\u003e\\u003c\\u002fextra\\u003e\",\"legendgroup\":\"India\",\"marker\":{\"color\":\"#ab63fa\",\"symbol\":\"circle\"},\"mode\":\"markers\",\"name\":\"India\",\"orientation\":\"v\",\"showlegend\":true,\"x\":[8568.6],\"xaxis\":\"x\",\"y\":[7.3],\"yaxis\":\"y\",\"type\":\"scatter\"},{\"customdata\":[[2022,\"Indonesia\"]],\"hovertemplate\":\"Area=%{customdata[1]}\\u003cbr\\u003eGDP (USD)=%{x}\\u003cbr\\u003eObesity Rate (%)=%{y}\\u003cbr\\u003eYear=%{customdata[0]}\\u003cextra\\u003e\\u003c\\u002fextra\\u003e\",\"legendgroup\":\"Indonesia\",\"marker\":{\"color\":\"#FFA15A\",\"symbol\":\"circle\"},\"mode\":\"markers\",\"name\":\"Indonesia\",\"orientation\":\"v\",\"showlegend\":true,\"x\":[13495.5],\"xaxis\":\"x\",\"y\":[11.2],\"yaxis\":\"y\",\"type\":\"scatter\"},{\"customdata\":[[2022,\"Iran (Islamic Republic of)\"]],\"hovertemplate\":\"Area=%{customdata[1]}\\u003cbr\\u003eGDP (USD)=%{x}\\u003cbr\\u003eObesity Rate (%)=%{y}\\u003cbr\\u003eYear=%{customdata[0]}\\u003cextra\\u003e\\u003c\\u002fextra\\u003e\",\"legendgroup\":\"Iran (Islamic Republic of)\",\"marker\":{\"color\":\"#19d3f3\",\"symbol\":\"circle\"},\"mode\":\"markers\",\"name\":\"Iran (Islamic Republic of)\",\"orientation\":\"v\",\"showlegend\":true,\"x\":[15499.9],\"xaxis\":\"x\",\"y\":[24.3],\"yaxis\":\"y\",\"type\":\"scatter\"},{\"customdata\":[[2022,\"Iraq\"]],\"hovertemplate\":\"Area=%{customdata[1]}\\u003cbr\\u003eGDP (USD)=%{x}\\u003cbr\\u003eObesity Rate (%)=%{y}\\u003cbr\\u003eYear=%{customdata[0]}\\u003cextra\\u003e\\u003c\\u002fextra\\u003e\",\"legendgroup\":\"Iraq\",\"marker\":{\"color\":\"#FF6692\",\"symbol\":\"circle\"},\"mode\":\"markers\",\"name\":\"Iraq\",\"orientation\":\"v\",\"showlegend\":true,\"x\":[13062.0],\"xaxis\":\"x\",\"y\":[40.5],\"yaxis\":\"y\",\"type\":\"scatter\"},{\"customdata\":[[2022,\"Ireland\"]],\"hovertemplate\":\"Area=%{customdata[1]}\\u003cbr\\u003eGDP (USD)=%{x}\\u003cbr\\u003eObesity Rate (%)=%{y}\\u003cbr\\u003eYear=%{customdata[0]}\\u003cextra\\u003e\\u003c\\u002fextra\\u003e\",\"legendgroup\":\"Ireland\",\"marker\":{\"color\":\"#B6E880\",\"symbol\":\"circle\"},\"mode\":\"markers\",\"name\":\"Ireland\",\"orientation\":\"v\",\"showlegend\":true,\"x\":[122596.0],\"xaxis\":\"x\",\"y\":[28.3],\"yaxis\":\"y\",\"type\":\"scatter\"},{\"customdata\":[[2022,\"Israel\"]],\"hovertemplate\":\"Area=%{customdata[1]}\\u003cbr\\u003eGDP (USD)=%{x}\\u003cbr\\u003eObesity Rate (%)=%{y}\\u003cbr\\u003eYear=%{customdata[0]}\\u003cextra\\u003e\\u003c\\u002fextra\\u003e\",\"legendgroup\":\"Israel\",\"marker\":{\"color\":\"#FF97FF\",\"symbol\":\"circle\"},\"mode\":\"markers\",\"name\":\"Israel\",\"orientation\":\"v\",\"showlegend\":true,\"x\":[48318.9],\"xaxis\":\"x\",\"y\":[22.5],\"yaxis\":\"y\",\"type\":\"scatter\"},{\"customdata\":[[2022,\"Italy\"]],\"hovertemplate\":\"Area=%{customdata[1]}\\u003cbr\\u003eGDP (USD)=%{x}\\u003cbr\\u003eObesity Rate (%)=%{y}\\u003cbr\\u003eYear=%{customdata[0]}\\u003cextra\\u003e\\u003c\\u002fextra\\u003e\",\"legendgroup\":\"Italy\",\"marker\":{\"color\":\"#FECB52\",\"symbol\":\"circle\"},\"mode\":\"markers\",\"name\":\"Italy\",\"orientation\":\"v\",\"showlegend\":true,\"x\":[51941.2],\"xaxis\":\"x\",\"y\":[17.3],\"yaxis\":\"y\",\"type\":\"scatter\"},{\"customdata\":[[2022,\"Jamaica\"]],\"hovertemplate\":\"Area=%{customdata[1]}\\u003cbr\\u003eGDP (USD)=%{x}\\u003cbr\\u003eObesity Rate (%)=%{y}\\u003cbr\\u003eYear=%{customdata[0]}\\u003cextra\\u003e\\u003c\\u002fextra\\u003e\",\"legendgroup\":\"Jamaica\",\"marker\":{\"color\":\"#636efa\",\"symbol\":\"circle\"},\"mode\":\"markers\",\"name\":\"Jamaica\",\"orientation\":\"v\",\"showlegend\":true,\"x\":[10114.0],\"xaxis\":\"x\",\"y\":[33.8],\"yaxis\":\"y\",\"type\":\"scatter\"},{\"customdata\":[[2022,\"Japan\"]],\"hovertemplate\":\"Area=%{customdata[1]}\\u003cbr\\u003eGDP (USD)=%{x}\\u003cbr\\u003eObesity Rate (%)=%{y}\\u003cbr\\u003eYear=%{customdata[0]}\\u003cextra\\u003e\\u003c\\u002fextra\\u003e\",\"legendgroup\":\"Japan\",\"marker\":{\"color\":\"#EF553B\",\"symbol\":\"circle\"},\"mode\":\"markers\",\"name\":\"Japan\",\"orientation\":\"v\",\"showlegend\":true,\"x\":[44913.8],\"xaxis\":\"x\",\"y\":[5.5],\"yaxis\":\"y\",\"type\":\"scatter\"},{\"customdata\":[[2022,\"Jordan\"]],\"hovertemplate\":\"Area=%{customdata[1]}\\u003cbr\\u003eGDP (USD)=%{x}\\u003cbr\\u003eObesity Rate (%)=%{y}\\u003cbr\\u003eYear=%{customdata[0]}\\u003cextra\\u003e\\u003c\\u002fextra\\u003e\",\"legendgroup\":\"Jordan\",\"marker\":{\"color\":\"#00cc96\",\"symbol\":\"circle\"},\"mode\":\"markers\",\"name\":\"Jordan\",\"orientation\":\"v\",\"showlegend\":true,\"x\":[9222.5],\"xaxis\":\"x\",\"y\":[38.5],\"yaxis\":\"y\",\"type\":\"scatter\"},{\"customdata\":[[2022,\"Kazakhstan\"]],\"hovertemplate\":\"Area=%{customdata[1]}\\u003cbr\\u003eGDP (USD)=%{x}\\u003cbr\\u003eObesity Rate (%)=%{y}\\u003cbr\\u003eYear=%{customdata[0]}\\u003cextra\\u003e\\u003c\\u002fextra\\u003e\",\"legendgroup\":\"Kazakhstan\",\"marker\":{\"color\":\"#ab63fa\",\"symbol\":\"circle\"},\"mode\":\"markers\",\"name\":\"Kazakhstan\",\"orientation\":\"v\",\"showlegend\":true,\"x\":[34210.9],\"xaxis\":\"x\",\"y\":[18.4],\"yaxis\":\"y\",\"type\":\"scatter\"},{\"customdata\":[[2022,\"Kenya\"]],\"hovertemplate\":\"Area=%{customdata[1]}\\u003cbr\\u003eGDP (USD)=%{x}\\u003cbr\\u003eObesity Rate (%)=%{y}\\u003cbr\\u003eYear=%{customdata[0]}\\u003cextra\\u003e\\u003c\\u002fextra\\u003e\",\"legendgroup\":\"Kenya\",\"marker\":{\"color\":\"#FFA15A\",\"symbol\":\"circle\"},\"mode\":\"markers\",\"name\":\"Kenya\",\"orientation\":\"v\",\"showlegend\":true,\"x\":[5513.9],\"xaxis\":\"x\",\"y\":[12.4],\"yaxis\":\"y\",\"type\":\"scatter\"},{\"customdata\":[[2022,\"Kiribati\"]],\"hovertemplate\":\"Area=%{customdata[1]}\\u003cbr\\u003eGDP (USD)=%{x}\\u003cbr\\u003eObesity Rate (%)=%{y}\\u003cbr\\u003eYear=%{customdata[0]}\\u003cextra\\u003e\\u003c\\u002fextra\\u003e\",\"legendgroup\":\"Kiribati\",\"marker\":{\"color\":\"#19d3f3\",\"symbol\":\"circle\"},\"mode\":\"markers\",\"name\":\"Kiribati\",\"orientation\":\"v\",\"showlegend\":true,\"x\":[2209.9],\"xaxis\":\"x\",\"y\":[46.3],\"yaxis\":\"y\",\"type\":\"scatter\"},{\"customdata\":[[2022,\"Kuwait\"]],\"hovertemplate\":\"Area=%{customdata[1]}\\u003cbr\\u003eGDP (USD)=%{x}\\u003cbr\\u003eObesity Rate (%)=%{y}\\u003cbr\\u003eYear=%{customdata[0]}\\u003cextra\\u003e\\u003c\\u002fextra\\u003e\",\"legendgroup\":\"Kuwait\",\"marker\":{\"color\":\"#FF6692\",\"symbol\":\"circle\"},\"mode\":\"markers\",\"name\":\"Kuwait\",\"orientation\":\"v\",\"showlegend\":true,\"x\":[52164.4],\"xaxis\":\"x\",\"y\":[41.4],\"yaxis\":\"y\",\"type\":\"scatter\"},{\"customdata\":[[2022,\"Kyrgyzstan\"]],\"hovertemplate\":\"Area=%{customdata[1]}\\u003cbr\\u003eGDP (USD)=%{x}\\u003cbr\\u003eObesity Rate (%)=%{y}\\u003cbr\\u003eYear=%{customdata[0]}\\u003cextra\\u003e\\u003c\\u002fextra\\u003e\",\"legendgroup\":\"Kyrgyzstan\",\"marker\":{\"color\":\"#B6E880\",\"symbol\":\"circle\"},\"mode\":\"markers\",\"name\":\"Kyrgyzstan\",\"orientation\":\"v\",\"showlegend\":true,\"x\":[5991.5],\"xaxis\":\"x\",\"y\":[26.6],\"yaxis\":\"y\",\"type\":\"scatter\"},{\"customdata\":[[2022,\"Lao People's Democratic Republic\"]],\"hovertemplate\":\"Area=%{customdata[1]}\\u003cbr\\u003eGDP (USD)=%{x}\\u003cbr\\u003eObesity Rate (%)=%{y}\\u003cbr\\u003eYear=%{customdata[0]}\\u003cextra\\u003e\\u003c\\u002fextra\\u003e\",\"legendgroup\":\"Lao People's Democratic Republic\",\"marker\":{\"color\":\"#FF97FF\",\"symbol\":\"circle\"},\"mode\":\"markers\",\"name\":\"Lao People's Democratic Republic\",\"orientation\":\"v\",\"showlegend\":true,\"x\":[8215.1],\"xaxis\":\"x\",\"y\":[8.0],\"yaxis\":\"y\",\"type\":\"scatter\"},{\"customdata\":[[2022,\"Latvia\"]],\"hovertemplate\":\"Area=%{customdata[1]}\\u003cbr\\u003eGDP (USD)=%{x}\\u003cbr\\u003eObesity Rate (%)=%{y}\\u003cbr\\u003eYear=%{customdata[0]}\\u003cextra\\u003e\\u003c\\u002fextra\\u003e\",\"legendgroup\":\"Latvia\",\"marker\":{\"color\":\"#FECB52\",\"symbol\":\"circle\"},\"mode\":\"markers\",\"name\":\"Latvia\",\"orientation\":\"v\",\"showlegend\":true,\"x\":[38116.4],\"xaxis\":\"x\",\"y\":[24.3],\"yaxis\":\"y\",\"type\":\"scatter\"},{\"customdata\":[[2022,\"Lesotho\"]],\"hovertemplate\":\"Area=%{customdata[1]}\\u003cbr\\u003eGDP (USD)=%{x}\\u003cbr\\u003eObesity Rate (%)=%{y}\\u003cbr\\u003eYear=%{customdata[0]}\\u003cextra\\u003e\\u003c\\u002fextra\\u003e\",\"legendgroup\":\"Lesotho\",\"marker\":{\"color\":\"#636efa\",\"symbol\":\"circle\"},\"mode\":\"markers\",\"name\":\"Lesotho\",\"orientation\":\"v\",\"showlegend\":true,\"x\":[2457.4],\"xaxis\":\"x\",\"y\":[21.0],\"yaxis\":\"y\",\"type\":\"scatter\"},{\"customdata\":[[2022,\"Liberia\"]],\"hovertemplate\":\"Area=%{customdata[1]}\\u003cbr\\u003eGDP (USD)=%{x}\\u003cbr\\u003eObesity Rate (%)=%{y}\\u003cbr\\u003eYear=%{customdata[0]}\\u003cextra\\u003e\\u003c\\u002fextra\\u003e\",\"legendgroup\":\"Liberia\",\"marker\":{\"color\":\"#EF553B\",\"symbol\":\"circle\"},\"mode\":\"markers\",\"name\":\"Liberia\",\"orientation\":\"v\",\"showlegend\":true,\"x\":[1598.2],\"xaxis\":\"x\",\"y\":[17.0],\"yaxis\":\"y\",\"type\":\"scatter\"},{\"customdata\":[[2022,\"Libya\"]],\"hovertemplate\":\"Area=%{customdata[1]}\\u003cbr\\u003eGDP (USD)=%{x}\\u003cbr\\u003eObesity Rate (%)=%{y}\\u003cbr\\u003eYear=%{customdata[0]}\\u003cextra\\u003e\\u003c\\u002fextra\\u003e\",\"legendgroup\":\"Libya\",\"marker\":{\"color\":\"#00cc96\",\"symbol\":\"circle\"},\"mode\":\"markers\",\"name\":\"Libya\",\"orientation\":\"v\",\"showlegend\":true,\"x\":[14777.6],\"xaxis\":\"x\",\"y\":[36.7],\"yaxis\":\"y\",\"type\":\"scatter\"},{\"customdata\":[[2022,\"Lithuania\"]],\"hovertemplate\":\"Area=%{customdata[1]}\\u003cbr\\u003eGDP (USD)=%{x}\\u003cbr\\u003eObesity Rate (%)=%{y}\\u003cbr\\u003eYear=%{customdata[0]}\\u003cextra\\u003e\\u003c\\u002fextra\\u003e\",\"legendgroup\":\"Lithuania\",\"marker\":{\"color\":\"#ab63fa\",\"symbol\":\"circle\"},\"mode\":\"markers\",\"name\":\"Lithuania\",\"orientation\":\"v\",\"showlegend\":true,\"x\":[47025.4],\"xaxis\":\"x\",\"y\":[25.4],\"yaxis\":\"y\",\"type\":\"scatter\"},{\"customdata\":[[2022,\"Luxembourg\"]],\"hovertemplate\":\"Area=%{customdata[1]}\\u003cbr\\u003eGDP (USD)=%{x}\\u003cbr\\u003eObesity Rate (%)=%{y}\\u003cbr\\u003eYear=%{customdata[0]}\\u003cextra\\u003e\\u003c\\u002fextra\\u003e\",\"legendgroup\":\"Luxembourg\",\"marker\":{\"color\":\"#FFA15A\",\"symbol\":\"circle\"},\"mode\":\"markers\",\"name\":\"Luxembourg\",\"orientation\":\"v\",\"showlegend\":true,\"x\":[137059.0],\"xaxis\":\"x\",\"y\":[18.4],\"yaxis\":\"y\",\"type\":\"scatter\"},{\"customdata\":[[2022,\"Madagascar\"]],\"hovertemplate\":\"Area=%{customdata[1]}\\u003cbr\\u003eGDP (USD)=%{x}\\u003cbr\\u003eObesity Rate (%)=%{y}\\u003cbr\\u003eYear=%{customdata[0]}\\u003cextra\\u003e\\u003c\\u002fextra\\u003e\",\"legendgroup\":\"Madagascar\",\"marker\":{\"color\":\"#19d3f3\",\"symbol\":\"circle\"},\"mode\":\"markers\",\"name\":\"Madagascar\",\"orientation\":\"v\",\"showlegend\":true,\"x\":[1664.6],\"xaxis\":\"x\",\"y\":[4.3],\"yaxis\":\"y\",\"type\":\"scatter\"},{\"customdata\":[[2022,\"Malawi\"]],\"hovertemplate\":\"Area=%{customdata[1]}\\u003cbr\\u003eGDP (USD)=%{x}\\u003cbr\\u003eObesity Rate (%)=%{y}\\u003cbr\\u003eYear=%{customdata[0]}\\u003cextra\\u003e\\u003c\\u002fextra\\u003e\",\"legendgroup\":\"Malawi\",\"marker\":{\"color\":\"#FF6692\",\"symbol\":\"circle\"},\"mode\":\"markers\",\"name\":\"Malawi\",\"orientation\":\"v\",\"showlegend\":true,\"x\":[1703.6],\"xaxis\":\"x\",\"y\":[7.7],\"yaxis\":\"y\",\"type\":\"scatter\"},{\"customdata\":[[2022,\"Malaysia\"]],\"hovertemplate\":\"Area=%{customdata[1]}\\u003cbr\\u003eGDP (USD)=%{x}\\u003cbr\\u003eObesity Rate (%)=%{y}\\u003cbr\\u003eYear=%{customdata[0]}\\u003cextra\\u003e\\u003c\\u002fextra\\u003e\",\"legendgroup\":\"Malaysia\",\"marker\":{\"color\":\"#B6E880\",\"symbol\":\"circle\"},\"mode\":\"markers\",\"name\":\"Malaysia\",\"orientation\":\"v\",\"showlegend\":true,\"x\":[32735.4],\"xaxis\":\"x\",\"y\":[22.1],\"yaxis\":\"y\",\"type\":\"scatter\"},{\"customdata\":[[2022,\"Maldives\"]],\"hovertemplate\":\"Area=%{customdata[1]}\\u003cbr\\u003eGDP (USD)=%{x}\\u003cbr\\u003eObesity Rate (%)=%{y}\\u003cbr\\u003eYear=%{customdata[0]}\\u003cextra\\u003e\\u003c\\u002fextra\\u003e\",\"legendgroup\":\"Maldives\",\"marker\":{\"color\":\"#FF97FF\",\"symbol\":\"circle\"},\"mode\":\"markers\",\"name\":\"Maldives\",\"orientation\":\"v\",\"showlegend\":true,\"x\":[21393.7],\"xaxis\":\"x\",\"y\":[17.3],\"yaxis\":\"y\",\"type\":\"scatter\"},{\"customdata\":[[2022,\"Mali\"]],\"hovertemplate\":\"Area=%{customdata[1]}\\u003cbr\\u003eGDP (USD)=%{x}\\u003cbr\\u003eObesity Rate (%)=%{y}\\u003cbr\\u003eYear=%{customdata[0]}\\u003cextra\\u003e\\u003c\\u002fextra\\u003e\",\"legendgroup\":\"Mali\",\"marker\":{\"color\":\"#FECB52\",\"symbol\":\"circle\"},\"mode\":\"markers\",\"name\":\"Mali\",\"orientation\":\"v\",\"showlegend\":true,\"x\":[2413.0],\"xaxis\":\"x\",\"y\":[11.4],\"yaxis\":\"y\",\"type\":\"scatter\"},{\"customdata\":[[2022,\"Malta\"]],\"hovertemplate\":\"Area=%{customdata[1]}\\u003cbr\\u003eGDP (USD)=%{x}\\u003cbr\\u003eObesity Rate (%)=%{y}\\u003cbr\\u003eYear=%{customdata[0]}\\u003cextra\\u003e\\u003c\\u002fextra\\u003e\",\"legendgroup\":\"Malta\",\"marker\":{\"color\":\"#636efa\",\"symbol\":\"circle\"},\"mode\":\"markers\",\"name\":\"Malta\",\"orientation\":\"v\",\"showlegend\":true,\"x\":[55727.7],\"xaxis\":\"x\",\"y\":[32.3],\"yaxis\":\"y\",\"type\":\"scatter\"},{\"customdata\":[[2022,\"Marshall Islands\"]],\"hovertemplate\":\"Area=%{customdata[1]}\\u003cbr\\u003eGDP (USD)=%{x}\\u003cbr\\u003eObesity Rate (%)=%{y}\\u003cbr\\u003eYear=%{customdata[0]}\\u003cextra\\u003e\\u003c\\u002fextra\\u003e\",\"legendgroup\":\"Marshall Islands\",\"marker\":{\"color\":\"#EF553B\",\"symbol\":\"circle\"},\"mode\":\"markers\",\"name\":\"Marshall Islands\",\"orientation\":\"v\",\"showlegend\":true,\"x\":[6625.5],\"xaxis\":\"x\",\"y\":[45.9],\"yaxis\":\"y\",\"type\":\"scatter\"},{\"customdata\":[[2022,\"Mauritania\"]],\"hovertemplate\":\"Area=%{customdata[1]}\\u003cbr\\u003eGDP (USD)=%{x}\\u003cbr\\u003eObesity Rate (%)=%{y}\\u003cbr\\u003eYear=%{customdata[0]}\\u003cextra\\u003e\\u003c\\u002fextra\\u003e\",\"legendgroup\":\"Mauritania\",\"marker\":{\"color\":\"#00cc96\",\"symbol\":\"circle\"},\"mode\":\"markers\",\"name\":\"Mauritania\",\"orientation\":\"v\",\"showlegend\":true,\"x\":[6207.1],\"xaxis\":\"x\",\"y\":[22.7],\"yaxis\":\"y\",\"type\":\"scatter\"},{\"customdata\":[[2022,\"Mauritius\"]],\"hovertemplate\":\"Area=%{customdata[1]}\\u003cbr\\u003eGDP (USD)=%{x}\\u003cbr\\u003eObesity Rate (%)=%{y}\\u003cbr\\u003eYear=%{customdata[0]}\\u003cextra\\u003e\\u003c\\u002fextra\\u003e\",\"legendgroup\":\"Mauritius\",\"marker\":{\"color\":\"#ab63fa\",\"symbol\":\"circle\"},\"mode\":\"markers\",\"name\":\"Mauritius\",\"orientation\":\"v\",\"showlegend\":true,\"x\":[24831.5],\"xaxis\":\"x\",\"y\":[19.2],\"yaxis\":\"y\",\"type\":\"scatter\"},{\"customdata\":[[2022,\"Mexico\"]],\"hovertemplate\":\"Area=%{customdata[1]}\\u003cbr\\u003eGDP (USD)=%{x}\\u003cbr\\u003eObesity Rate (%)=%{y}\\u003cbr\\u003eYear=%{customdata[0]}\\u003cextra\\u003e\\u003c\\u002fextra\\u003e\",\"legendgroup\":\"Mexico\",\"marker\":{\"color\":\"#FFA15A\",\"symbol\":\"circle\"},\"mode\":\"markers\",\"name\":\"Mexico\",\"orientation\":\"v\",\"showlegend\":true,\"x\":[21809.6],\"xaxis\":\"x\",\"y\":[36.0],\"yaxis\":\"y\",\"type\":\"scatter\"},{\"customdata\":[[2022,\"Micronesia (Federated States of)\"]],\"hovertemplate\":\"Area=%{customdata[1]}\\u003cbr\\u003eGDP (USD)=%{x}\\u003cbr\\u003eObesity Rate (%)=%{y}\\u003cbr\\u003eYear=%{customdata[0]}\\u003cextra\\u003e\\u003c\\u002fextra\\u003e\",\"legendgroup\":\"Micronesia (Federated States of)\",\"marker\":{\"color\":\"#19d3f3\",\"symbol\":\"circle\"},\"mode\":\"markers\",\"name\":\"Micronesia (Federated States of)\",\"orientation\":\"v\",\"showlegend\":true,\"x\":[3601.3],\"xaxis\":\"x\",\"y\":[47.1],\"yaxis\":\"y\",\"type\":\"scatter\"},{\"customdata\":[[2022,\"Mongolia\"]],\"hovertemplate\":\"Area=%{customdata[1]}\\u003cbr\\u003eGDP (USD)=%{x}\\u003cbr\\u003eObesity Rate (%)=%{y}\\u003cbr\\u003eYear=%{customdata[0]}\\u003cextra\\u003e\\u003c\\u002fextra\\u003e\",\"legendgroup\":\"Mongolia\",\"marker\":{\"color\":\"#FF6692\",\"symbol\":\"circle\"},\"mode\":\"markers\",\"name\":\"Mongolia\",\"orientation\":\"v\",\"showlegend\":true,\"x\":[15469.8],\"xaxis\":\"x\",\"y\":[24.1],\"yaxis\":\"y\",\"type\":\"scatter\"},{\"customdata\":[[2022,\"Montenegro\"]],\"hovertemplate\":\"Area=%{customdata[1]}\\u003cbr\\u003eGDP (USD)=%{x}\\u003cbr\\u003eObesity Rate (%)=%{y}\\u003cbr\\u003eYear=%{customdata[0]}\\u003cextra\\u003e\\u003c\\u002fextra\\u003e\",\"legendgroup\":\"Montenegro\",\"marker\":{\"color\":\"#B6E880\",\"symbol\":\"circle\"},\"mode\":\"markers\",\"name\":\"Montenegro\",\"orientation\":\"v\",\"showlegend\":true,\"x\":[26166.0],\"xaxis\":\"x\",\"y\":[18.0],\"yaxis\":\"y\",\"type\":\"scatter\"},{\"customdata\":[[2022,\"Morocco\"]],\"hovertemplate\":\"Area=%{customdata[1]}\\u003cbr\\u003eGDP (USD)=%{x}\\u003cbr\\u003eObesity Rate (%)=%{y}\\u003cbr\\u003eYear=%{customdata[0]}\\u003cextra\\u003e\\u003c\\u002fextra\\u003e\",\"legendgroup\":\"Morocco\",\"marker\":{\"color\":\"#FF97FF\",\"symbol\":\"circle\"},\"mode\":\"markers\",\"name\":\"Morocco\",\"orientation\":\"v\",\"showlegend\":true,\"x\":[8599.8],\"xaxis\":\"x\",\"y\":[21.8],\"yaxis\":\"y\",\"type\":\"scatter\"},{\"customdata\":[[2022,\"Mozambique\"]],\"hovertemplate\":\"Area=%{customdata[1]}\\u003cbr\\u003eGDP (USD)=%{x}\\u003cbr\\u003eObesity Rate (%)=%{y}\\u003cbr\\u003eYear=%{customdata[0]}\\u003cextra\\u003e\\u003c\\u002fextra\\u003e\",\"legendgroup\":\"Mozambique\",\"marker\":{\"color\":\"#FECB52\",\"symbol\":\"circle\"},\"mode\":\"markers\",\"name\":\"Mozambique\",\"orientation\":\"v\",\"showlegend\":true,\"x\":[1462.6],\"xaxis\":\"x\",\"y\":[10.3],\"yaxis\":\"y\",\"type\":\"scatter\"},{\"customdata\":[[2022,\"Myanmar\"]],\"hovertemplate\":\"Area=%{customdata[1]}\\u003cbr\\u003eGDP (USD)=%{x}\\u003cbr\\u003eObesity Rate (%)=%{y}\\u003cbr\\u003eYear=%{customdata[0]}\\u003cextra\\u003e\\u003c\\u002fextra\\u003e\",\"legendgroup\":\"Myanmar\",\"marker\":{\"color\":\"#636efa\",\"symbol\":\"circle\"},\"mode\":\"markers\",\"name\":\"Myanmar\",\"orientation\":\"v\",\"showlegend\":true,\"x\":[5308.8],\"xaxis\":\"x\",\"y\":[7.4],\"yaxis\":\"y\",\"type\":\"scatter\"},{\"customdata\":[[2022,\"Namibia\"]],\"hovertemplate\":\"Area=%{customdata[1]}\\u003cbr\\u003eGDP (USD)=%{x}\\u003cbr\\u003eObesity Rate (%)=%{y}\\u003cbr\\u003eYear=%{customdata[0]}\\u003cextra\\u003e\\u003c\\u002fextra\\u003e\",\"legendgroup\":\"Namibia\",\"marker\":{\"color\":\"#EF553B\",\"symbol\":\"circle\"},\"mode\":\"markers\",\"name\":\"Namibia\",\"orientation\":\"v\",\"showlegend\":true,\"x\":[11474.5],\"xaxis\":\"x\",\"y\":[17.0],\"yaxis\":\"y\",\"type\":\"scatter\"},{\"customdata\":[[2022,\"Nauru\"]],\"hovertemplate\":\"Area=%{customdata[1]}\\u003cbr\\u003eGDP (USD)=%{x}\\u003cbr\\u003eObesity Rate (%)=%{y}\\u003cbr\\u003eYear=%{customdata[0]}\\u003cextra\\u003e\\u003c\\u002fextra\\u003e\",\"legendgroup\":\"Nauru\",\"marker\":{\"color\":\"#00cc96\",\"symbol\":\"circle\"},\"mode\":\"markers\",\"name\":\"Nauru\",\"orientation\":\"v\",\"showlegend\":true,\"x\":[12164.9],\"xaxis\":\"x\",\"y\":[69.9],\"yaxis\":\"y\",\"type\":\"scatter\"},{\"customdata\":[[2022,\"Nepal\"]],\"hovertemplate\":\"Area=%{customdata[1]}\\u003cbr\\u003eGDP (USD)=%{x}\\u003cbr\\u003eObesity Rate (%)=%{y}\\u003cbr\\u003eYear=%{customdata[0]}\\u003cextra\\u003e\\u003c\\u002fextra\\u003e\",\"legendgroup\":\"Nepal\",\"marker\":{\"color\":\"#ab63fa\",\"symbol\":\"circle\"},\"mode\":\"markers\",\"name\":\"Nepal\",\"orientation\":\"v\",\"showlegend\":true,\"x\":[4632.8],\"xaxis\":\"x\",\"y\":[7.0],\"yaxis\":\"y\",\"type\":\"scatter\"},{\"customdata\":[[2022,\"Netherlands (Kingdom of the)\"]],\"hovertemplate\":\"Area=%{customdata[1]}\\u003cbr\\u003eGDP (USD)=%{x}\\u003cbr\\u003eObesity Rate (%)=%{y}\\u003cbr\\u003eYear=%{customdata[0]}\\u003cextra\\u003e\\u003c\\u002fextra\\u003e\",\"legendgroup\":\"Netherlands (Kingdom of the)\",\"marker\":{\"color\":\"#FFA15A\",\"symbol\":\"circle\"},\"mode\":\"markers\",\"name\":\"Netherlands (Kingdom of the)\",\"orientation\":\"v\",\"showlegend\":true,\"x\":[69953.7],\"xaxis\":\"x\",\"y\":[14.5],\"yaxis\":\"y\",\"type\":\"scatter\"},{\"customdata\":[[2022,\"New Zealand\"]],\"hovertemplate\":\"Area=%{customdata[1]}\\u003cbr\\u003eGDP (USD)=%{x}\\u003cbr\\u003eObesity Rate (%)=%{y}\\u003cbr\\u003eYear=%{customdata[0]}\\u003cextra\\u003e\\u003c\\u002fextra\\u003e\",\"legendgroup\":\"New Zealand\",\"marker\":{\"color\":\"#19d3f3\",\"symbol\":\"circle\"},\"mode\":\"markers\",\"name\":\"New Zealand\",\"orientation\":\"v\",\"showlegend\":true,\"x\":[49816.1],\"xaxis\":\"x\",\"y\":[33.6],\"yaxis\":\"y\",\"type\":\"scatter\"},{\"customdata\":[[2022,\"Nicaragua\"]],\"hovertemplate\":\"Area=%{customdata[1]}\\u003cbr\\u003eGDP (USD)=%{x}\\u003cbr\\u003eObesity Rate (%)=%{y}\\u003cbr\\u003eYear=%{customdata[0]}\\u003cextra\\u003e\\u003c\\u002fextra\\u003e\",\"legendgroup\":\"Nicaragua\",\"marker\":{\"color\":\"#FF6692\",\"symbol\":\"circle\"},\"mode\":\"markers\",\"name\":\"Nicaragua\",\"orientation\":\"v\",\"showlegend\":true,\"x\":[7032.0],\"xaxis\":\"x\",\"y\":[33.6],\"yaxis\":\"y\",\"type\":\"scatter\"},{\"customdata\":[[2022,\"Niger\"]],\"hovertemplate\":\"Area=%{customdata[1]}\\u003cbr\\u003eGDP (USD)=%{x}\\u003cbr\\u003eObesity Rate (%)=%{y}\\u003cbr\\u003eYear=%{customdata[0]}\\u003cextra\\u003e\\u003c\\u002fextra\\u003e\",\"legendgroup\":\"Niger\",\"marker\":{\"color\":\"#B6E880\",\"symbol\":\"circle\"},\"mode\":\"markers\",\"name\":\"Niger\",\"orientation\":\"v\",\"showlegend\":true,\"x\":[1652.7],\"xaxis\":\"x\",\"y\":[6.0],\"yaxis\":\"y\",\"type\":\"scatter\"},{\"customdata\":[[2022,\"Nigeria\"]],\"hovertemplate\":\"Area=%{customdata[1]}\\u003cbr\\u003eGDP (USD)=%{x}\\u003cbr\\u003eObesity Rate (%)=%{y}\\u003cbr\\u003eYear=%{customdata[0]}\\u003cextra\\u003e\\u003c\\u002fextra\\u003e\",\"legendgroup\":\"Nigeria\",\"marker\":{\"color\":\"#FF97FF\",\"symbol\":\"circle\"},\"mode\":\"markers\",\"name\":\"Nigeria\",\"orientation\":\"v\",\"showlegend\":true,\"x\":[5670.0],\"xaxis\":\"x\",\"y\":[12.4],\"yaxis\":\"y\",\"type\":\"scatter\"},{\"customdata\":[[2022,\"North Macedonia\"]],\"hovertemplate\":\"Area=%{customdata[1]}\\u003cbr\\u003eGDP (USD)=%{x}\\u003cbr\\u003eObesity Rate (%)=%{y}\\u003cbr\\u003eYear=%{customdata[0]}\\u003cextra\\u003e\\u003c\\u002fextra\\u003e\",\"legendgroup\":\"North Macedonia\",\"marker\":{\"color\":\"#FECB52\",\"symbol\":\"circle\"},\"mode\":\"markers\",\"name\":\"North Macedonia\",\"orientation\":\"v\",\"showlegend\":true,\"x\":[20403.3],\"xaxis\":\"x\",\"y\":[27.5],\"yaxis\":\"y\",\"type\":\"scatter\"},{\"customdata\":[[2022,\"Norway\"]],\"hovertemplate\":\"Area=%{customdata[1]}\\u003cbr\\u003eGDP (USD)=%{x}\\u003cbr\\u003eObesity Rate (%)=%{y}\\u003cbr\\u003eYear=%{customdata[0]}\\u003cextra\\u003e\\u003c\\u002fextra\\u003e\",\"legendgroup\":\"Norway\",\"marker\":{\"color\":\"#636efa\",\"symbol\":\"circle\"},\"mode\":\"markers\",\"name\":\"Norway\",\"orientation\":\"v\",\"showlegend\":true,\"x\":[88712.0],\"xaxis\":\"x\",\"y\":[19.1],\"yaxis\":\"y\",\"type\":\"scatter\"},{\"customdata\":[[2022,\"Oman\"]],\"hovertemplate\":\"Area=%{customdata[1]}\\u003cbr\\u003eGDP (USD)=%{x}\\u003cbr\\u003eObesity Rate (%)=%{y}\\u003cbr\\u003eYear=%{customdata[0]}\\u003cextra\\u003e\\u003c\\u002fextra\\u003e\",\"legendgroup\":\"Oman\",\"marker\":{\"color\":\"#EF553B\",\"symbol\":\"circle\"},\"mode\":\"markers\",\"name\":\"Oman\",\"orientation\":\"v\",\"showlegend\":true,\"x\":[40114.0],\"xaxis\":\"x\",\"y\":[31.1],\"yaxis\":\"y\",\"type\":\"scatter\"},{\"customdata\":[[2022,\"Pakistan\"]],\"hovertemplate\":\"Area=%{customdata[1]}\\u003cbr\\u003eGDP (USD)=%{x}\\u003cbr\\u003eObesity Rate (%)=%{y}\\u003cbr\\u003eYear=%{customdata[0]}\\u003cextra\\u003e\\u003c\\u002fextra\\u003e\",\"legendgroup\":\"Pakistan\",\"marker\":{\"color\":\"#00cc96\",\"symbol\":\"circle\"},\"mode\":\"markers\",\"name\":\"Pakistan\",\"orientation\":\"v\",\"showlegend\":true,\"x\":[5706.9],\"xaxis\":\"x\",\"y\":[23.0],\"yaxis\":\"y\",\"type\":\"scatter\"},{\"customdata\":[[2022,\"Palestine\"]],\"hovertemplate\":\"Area=%{customdata[1]}\\u003cbr\\u003eGDP (USD)=%{x}\\u003cbr\\u003eObesity Rate (%)=%{y}\\u003cbr\\u003eYear=%{customdata[0]}\\u003cextra\\u003e\\u003c\\u002fextra\\u003e\",\"legendgroup\":\"Palestine\",\"marker\":{\"color\":\"#ab63fa\",\"symbol\":\"circle\"},\"mode\":\"markers\",\"name\":\"Palestine\",\"orientation\":\"v\",\"showlegend\":true,\"x\":[5744.8],\"xaxis\":\"x\",\"y\":[37.6],\"yaxis\":\"y\",\"type\":\"scatter\"},{\"customdata\":[[2022,\"Panama\"]],\"hovertemplate\":\"Area=%{customdata[1]}\\u003cbr\\u003eGDP (USD)=%{x}\\u003cbr\\u003eObesity Rate (%)=%{y}\\u003cbr\\u003eYear=%{customdata[0]}\\u003cextra\\u003e\\u003c\\u002fextra\\u003e\",\"legendgroup\":\"Panama\",\"marker\":{\"color\":\"#FFA15A\",\"symbol\":\"circle\"},\"mode\":\"markers\",\"name\":\"Panama\",\"orientation\":\"v\",\"showlegend\":true,\"x\":[33790.4],\"xaxis\":\"x\",\"y\":[36.1],\"yaxis\":\"y\",\"type\":\"scatter\"},{\"customdata\":[[2022,\"Papua New Guinea\"]],\"hovertemplate\":\"Area=%{customdata[1]}\\u003cbr\\u003eGDP (USD)=%{x}\\u003cbr\\u003eObesity Rate (%)=%{y}\\u003cbr\\u003eYear=%{customdata[0]}\\u003cextra\\u003e\\u003c\\u002fextra\\u003e\",\"legendgroup\":\"Papua New Guinea\",\"marker\":{\"color\":\"#19d3f3\",\"symbol\":\"circle\"},\"mode\":\"markers\",\"name\":\"Papua New Guinea\",\"orientation\":\"v\",\"showlegend\":true,\"x\":[4141.2],\"xaxis\":\"x\",\"y\":[20.5],\"yaxis\":\"y\",\"type\":\"scatter\"},{\"customdata\":[[2022,\"Paraguay\"]],\"hovertemplate\":\"Area=%{customdata[1]}\\u003cbr\\u003eGDP (USD)=%{x}\\u003cbr\\u003eObesity Rate (%)=%{y}\\u003cbr\\u003eYear=%{customdata[0]}\\u003cextra\\u003e\\u003c\\u002fextra\\u003e\",\"legendgroup\":\"Paraguay\",\"marker\":{\"color\":\"#FF6692\",\"symbol\":\"circle\"},\"mode\":\"markers\",\"name\":\"Paraguay\",\"orientation\":\"v\",\"showlegend\":true,\"x\":[15198.2],\"xaxis\":\"x\",\"y\":[33.0],\"yaxis\":\"y\",\"type\":\"scatter\"},{\"customdata\":[[2022,\"Peru\"]],\"hovertemplate\":\"Area=%{customdata[1]}\\u003cbr\\u003eGDP (USD)=%{x}\\u003cbr\\u003eObesity Rate (%)=%{y}\\u003cbr\\u003eYear=%{customdata[0]}\\u003cextra\\u003e\\u003c\\u002fextra\\u003e\",\"legendgroup\":\"Peru\",\"marker\":{\"color\":\"#B6E880\",\"symbol\":\"circle\"},\"mode\":\"markers\",\"name\":\"Peru\",\"orientation\":\"v\",\"showlegend\":true,\"x\":[15102.6],\"xaxis\":\"x\",\"y\":[27.3],\"yaxis\":\"y\",\"type\":\"scatter\"},{\"customdata\":[[2022,\"Philippines\"]],\"hovertemplate\":\"Area=%{customdata[1]}\\u003cbr\\u003eGDP (USD)=%{x}\\u003cbr\\u003eObesity Rate (%)=%{y}\\u003cbr\\u003eYear=%{customdata[0]}\\u003cextra\\u003e\\u003c\\u002fextra\\u003e\",\"legendgroup\":\"Philippines\",\"marker\":{\"color\":\"#FF97FF\",\"symbol\":\"circle\"},\"mode\":\"markers\",\"name\":\"Philippines\",\"orientation\":\"v\",\"showlegend\":true,\"x\":[9325.7],\"xaxis\":\"x\",\"y\":[8.7],\"yaxis\":\"y\",\"type\":\"scatter\"},{\"customdata\":[[2022,\"Poland\"]],\"hovertemplate\":\"Area=%{customdata[1]}\\u003cbr\\u003eGDP (USD)=%{x}\\u003cbr\\u003eObesity Rate (%)=%{y}\\u003cbr\\u003eYear=%{customdata[0]}\\u003cextra\\u003e\\u003c\\u002fextra\\u003e\",\"legendgroup\":\"Poland\",\"marker\":{\"color\":\"#FECB52\",\"symbol\":\"circle\"},\"mode\":\"markers\",\"name\":\"Poland\",\"orientation\":\"v\",\"showlegend\":true,\"x\":[43661.5],\"xaxis\":\"x\",\"y\":[27.5],\"yaxis\":\"y\",\"type\":\"scatter\"},{\"customdata\":[[2022,\"Portugal\"]],\"hovertemplate\":\"Area=%{customdata[1]}\\u003cbr\\u003eGDP (USD)=%{x}\\u003cbr\\u003eObesity Rate (%)=%{y}\\u003cbr\\u003eYear=%{customdata[0]}\\u003cextra\\u003e\\u003c\\u002fextra\\u003e\",\"legendgroup\":\"Portugal\",\"marker\":{\"color\":\"#636efa\",\"symbol\":\"circle\"},\"mode\":\"markers\",\"name\":\"Portugal\",\"orientation\":\"v\",\"showlegend\":true,\"x\":[41240.4],\"xaxis\":\"x\",\"y\":[21.8],\"yaxis\":\"y\",\"type\":\"scatter\"},{\"customdata\":[[2022,\"Puerto Rico\"]],\"hovertemplate\":\"Area=%{customdata[1]}\\u003cbr\\u003eGDP (USD)=%{x}\\u003cbr\\u003eObesity Rate (%)=%{y}\\u003cbr\\u003eYear=%{customdata[0]}\\u003cextra\\u003e\\u003c\\u002fextra\\u003e\",\"legendgroup\":\"Puerto Rico\",\"marker\":{\"color\":\"#EF553B\",\"symbol\":\"circle\"},\"mode\":\"markers\",\"name\":\"Puerto Rico\",\"orientation\":\"v\",\"showlegend\":true,\"x\":[42432.1],\"xaxis\":\"x\",\"y\":[41.1],\"yaxis\":\"y\",\"type\":\"scatter\"},{\"customdata\":[[2022,\"Qatar\"]],\"hovertemplate\":\"Area=%{customdata[1]}\\u003cbr\\u003eGDP (USD)=%{x}\\u003cbr\\u003eObesity Rate (%)=%{y}\\u003cbr\\u003eYear=%{customdata[0]}\\u003cextra\\u003e\\u003c\\u002fextra\\u003e\",\"legendgroup\":\"Qatar\",\"marker\":{\"color\":\"#00cc96\",\"symbol\":\"circle\"},\"mode\":\"markers\",\"name\":\"Qatar\",\"orientation\":\"v\",\"showlegend\":true,\"x\":[113157.0],\"xaxis\":\"x\",\"y\":[43.1],\"yaxis\":\"y\",\"type\":\"scatter\"},{\"customdata\":[[2022,\"Republic of Korea\"]],\"hovertemplate\":\"Area=%{customdata[1]}\\u003cbr\\u003eGDP (USD)=%{x}\\u003cbr\\u003eObesity Rate (%)=%{y}\\u003cbr\\u003eYear=%{customdata[0]}\\u003cextra\\u003e\\u003c\\u002fextra\\u003e\",\"legendgroup\":\"Republic of Korea\",\"marker\":{\"color\":\"#ab63fa\",\"symbol\":\"circle\"},\"mode\":\"markers\",\"name\":\"Republic of Korea\",\"orientation\":\"v\",\"showlegend\":true,\"x\":[49977.0],\"xaxis\":\"x\",\"y\":[7.3],\"yaxis\":\"y\",\"type\":\"scatter\"},{\"customdata\":[[2022,\"Republic of Moldova\"]],\"hovertemplate\":\"Area=%{customdata[1]}\\u003cbr\\u003eGDP (USD)=%{x}\\u003cbr\\u003eObesity Rate (%)=%{y}\\u003cbr\\u003eYear=%{customdata[0]}\\u003cextra\\u003e\\u003c\\u002fextra\\u003e\",\"legendgroup\":\"Republic of Moldova\",\"marker\":{\"color\":\"#FFA15A\",\"symbol\":\"circle\"},\"mode\":\"markers\",\"name\":\"Republic of Moldova\",\"orientation\":\"v\",\"showlegend\":true,\"x\":[15229.5],\"xaxis\":\"x\",\"y\":[23.0],\"yaxis\":\"y\",\"type\":\"scatter\"},{\"customdata\":[[2022,\"Romania\"]],\"hovertemplate\":\"Area=%{customdata[1]}\\u003cbr\\u003eGDP (USD)=%{x}\\u003cbr\\u003eObesity Rate (%)=%{y}\\u003cbr\\u003eYear=%{customdata[0]}\\u003cextra\\u003e\\u003c\\u002fextra\\u003e\",\"legendgroup\":\"Romania\",\"marker\":{\"color\":\"#19d3f3\",\"symbol\":\"circle\"},\"mode\":\"markers\",\"name\":\"Romania\",\"orientation\":\"v\",\"showlegend\":true,\"x\":[39872.5],\"xaxis\":\"x\",\"y\":[34.0],\"yaxis\":\"y\",\"type\":\"scatter\"},{\"customdata\":[[2022,\"Russian Federation\"]],\"hovertemplate\":\"Area=%{customdata[1]}\\u003cbr\\u003eGDP (USD)=%{x}\\u003cbr\\u003eObesity Rate (%)=%{y}\\u003cbr\\u003eYear=%{customdata[0]}\\u003cextra\\u003e\\u003c\\u002fextra\\u003e\",\"legendgroup\":\"Russian Federation\",\"marker\":{\"color\":\"#FF6692\",\"symbol\":\"circle\"},\"mode\":\"markers\",\"name\":\"Russian Federation\",\"orientation\":\"v\",\"showlegend\":true,\"x\":[38128.7],\"xaxis\":\"x\",\"y\":[24.2],\"yaxis\":\"y\",\"type\":\"scatter\"},{\"customdata\":[[2022,\"Rwanda\"]],\"hovertemplate\":\"Area=%{customdata[1]}\\u003cbr\\u003eGDP (USD)=%{x}\\u003cbr\\u003eObesity Rate (%)=%{y}\\u003cbr\\u003eYear=%{customdata[0]}\\u003cextra\\u003e\\u003c\\u002fextra\\u003e\",\"legendgroup\":\"Rwanda\",\"marker\":{\"color\":\"#B6E880\",\"symbol\":\"circle\"},\"mode\":\"markers\",\"name\":\"Rwanda\",\"orientation\":\"v\",\"showlegend\":true,\"x\":[2859.8],\"xaxis\":\"x\",\"y\":[4.9],\"yaxis\":\"y\",\"type\":\"scatter\"},{\"customdata\":[[2022,\"Saint Kitts and Nevis\"]],\"hovertemplate\":\"Area=%{customdata[1]}\\u003cbr\\u003eGDP (USD)=%{x}\\u003cbr\\u003eObesity Rate (%)=%{y}\\u003cbr\\u003eYear=%{customdata[0]}\\u003cextra\\u003e\\u003c\\u002fextra\\u003e\",\"legendgroup\":\"Saint Kitts and Nevis\",\"marker\":{\"color\":\"#FF97FF\",\"symbol\":\"circle\"},\"mode\":\"markers\",\"name\":\"Saint Kitts and Nevis\",\"orientation\":\"v\",\"showlegend\":true,\"x\":[28725.5],\"xaxis\":\"x\",\"y\":[45.6],\"yaxis\":\"y\",\"type\":\"scatter\"},{\"customdata\":[[2022,\"Saint Lucia\"]],\"hovertemplate\":\"Area=%{customdata[1]}\\u003cbr\\u003eGDP (USD)=%{x}\\u003cbr\\u003eObesity Rate (%)=%{y}\\u003cbr\\u003eYear=%{customdata[0]}\\u003cextra\\u003e\\u003c\\u002fextra\\u003e\",\"legendgroup\":\"Saint Lucia\",\"marker\":{\"color\":\"#FECB52\",\"symbol\":\"circle\"},\"mode\":\"markers\",\"name\":\"Saint Lucia\",\"orientation\":\"v\",\"showlegend\":true,\"x\":[23075.2],\"xaxis\":\"x\",\"y\":[33.5],\"yaxis\":\"y\",\"type\":\"scatter\"},{\"customdata\":[[2022,\"Saint Vincent and the Grenadines\"]],\"hovertemplate\":\"Area=%{customdata[1]}\\u003cbr\\u003eGDP (USD)=%{x}\\u003cbr\\u003eObesity Rate (%)=%{y}\\u003cbr\\u003eYear=%{customdata[0]}\\u003cextra\\u003e\\u003c\\u002fextra\\u003e\",\"legendgroup\":\"Saint Vincent and the Grenadines\",\"marker\":{\"color\":\"#636efa\",\"symbol\":\"circle\"},\"mode\":\"markers\",\"name\":\"Saint Vincent and the Grenadines\",\"orientation\":\"v\",\"showlegend\":true,\"x\":[16504.0],\"xaxis\":\"x\",\"y\":[33.2],\"yaxis\":\"y\",\"type\":\"scatter\"},{\"customdata\":[[2022,\"Samoa\"]],\"hovertemplate\":\"Area=%{customdata[1]}\\u003cbr\\u003eGDP (USD)=%{x}\\u003cbr\\u003eObesity Rate (%)=%{y}\\u003cbr\\u003eYear=%{customdata[0]}\\u003cextra\\u003e\\u003c\\u002fextra\\u003e\",\"legendgroup\":\"Samoa\",\"marker\":{\"color\":\"#EF553B\",\"symbol\":\"circle\"},\"mode\":\"markers\",\"name\":\"Samoa\",\"orientation\":\"v\",\"showlegend\":true,\"x\":[5689.0],\"xaxis\":\"x\",\"y\":[62.4],\"yaxis\":\"y\",\"type\":\"scatter\"},{\"customdata\":[[2022,\"Sao Tome and Principe\"]],\"hovertemplate\":\"Area=%{customdata[1]}\\u003cbr\\u003eGDP (USD)=%{x}\\u003cbr\\u003eObesity Rate (%)=%{y}\\u003cbr\\u003eYear=%{customdata[0]}\\u003cextra\\u003e\\u003c\\u002fextra\\u003e\",\"legendgroup\":\"Sao Tome and Principe\",\"marker\":{\"color\":\"#00cc96\",\"symbol\":\"circle\"},\"mode\":\"markers\",\"name\":\"Sao Tome and Principe\",\"orientation\":\"v\",\"showlegend\":true,\"x\":[5599.7],\"xaxis\":\"x\",\"y\":[16.5],\"yaxis\":\"y\",\"type\":\"scatter\"},{\"customdata\":[[2022,\"Saudi Arabia\"]],\"hovertemplate\":\"Area=%{customdata[1]}\\u003cbr\\u003eGDP (USD)=%{x}\\u003cbr\\u003eObesity Rate (%)=%{y}\\u003cbr\\u003eYear=%{customdata[0]}\\u003cextra\\u003e\\u003c\\u002fextra\\u003e\",\"legendgroup\":\"Saudi Arabia\",\"marker\":{\"color\":\"#ab63fa\",\"symbol\":\"circle\"},\"mode\":\"markers\",\"name\":\"Saudi Arabia\",\"orientation\":\"v\",\"showlegend\":true,\"x\":[51246.4],\"xaxis\":\"x\",\"y\":[40.6],\"yaxis\":\"y\",\"type\":\"scatter\"},{\"customdata\":[[2022,\"Senegal\"]],\"hovertemplate\":\"Area=%{customdata[1]}\\u003cbr\\u003eGDP (USD)=%{x}\\u003cbr\\u003eObesity Rate (%)=%{y}\\u003cbr\\u003eYear=%{customdata[0]}\\u003cextra\\u003e\\u003c\\u002fextra\\u003e\",\"legendgroup\":\"Senegal\",\"marker\":{\"color\":\"#FFA15A\",\"symbol\":\"circle\"},\"mode\":\"markers\",\"name\":\"Senegal\",\"orientation\":\"v\",\"showlegend\":true,\"x\":[4330.6],\"xaxis\":\"x\",\"y\":[10.2],\"yaxis\":\"y\",\"type\":\"scatter\"},{\"customdata\":[[2022,\"Serbia\"]],\"hovertemplate\":\"Area=%{customdata[1]}\\u003cbr\\u003eGDP (USD)=%{x}\\u003cbr\\u003eObesity Rate (%)=%{y}\\u003cbr\\u003eYear=%{customdata[0]}\\u003cextra\\u003e\\u003c\\u002fextra\\u003e\",\"legendgroup\":\"Serbia\",\"marker\":{\"color\":\"#19d3f3\",\"symbol\":\"circle\"},\"mode\":\"markers\",\"name\":\"Serbia\",\"orientation\":\"v\",\"showlegend\":true,\"x\":[23741.2],\"xaxis\":\"x\",\"y\":[22.5],\"yaxis\":\"y\",\"type\":\"scatter\"},{\"customdata\":[[2022,\"Seychelles\"]],\"hovertemplate\":\"Area=%{customdata[1]}\\u003cbr\\u003eGDP (USD)=%{x}\\u003cbr\\u003eObesity Rate (%)=%{y}\\u003cbr\\u003eYear=%{customdata[0]}\\u003cextra\\u003e\\u003c\\u002fextra\\u003e\",\"legendgroup\":\"Seychelles\",\"marker\":{\"color\":\"#FF6692\",\"symbol\":\"circle\"},\"mode\":\"markers\",\"name\":\"Seychelles\",\"orientation\":\"v\",\"showlegend\":true,\"x\":[23409.6],\"xaxis\":\"x\",\"y\":[29.4],\"yaxis\":\"y\",\"type\":\"scatter\"},{\"customdata\":[[2022,\"Sierra Leone\"]],\"hovertemplate\":\"Area=%{customdata[1]}\\u003cbr\\u003eGDP (USD)=%{x}\\u003cbr\\u003eObesity Rate (%)=%{y}\\u003cbr\\u003eYear=%{customdata[0]}\\u003cextra\\u003e\\u003c\\u002fextra\\u003e\",\"legendgroup\":\"Sierra Leone\",\"marker\":{\"color\":\"#B6E880\",\"symbol\":\"circle\"},\"mode\":\"markers\",\"name\":\"Sierra Leone\",\"orientation\":\"v\",\"showlegend\":true,\"x\":[1644.0],\"xaxis\":\"x\",\"y\":[7.1],\"yaxis\":\"y\",\"type\":\"scatter\"},{\"customdata\":[[2022,\"Singapore\"]],\"hovertemplate\":\"Area=%{customdata[1]}\\u003cbr\\u003eGDP (USD)=%{x}\\u003cbr\\u003eObesity Rate (%)=%{y}\\u003cbr\\u003eYear=%{customdata[0]}\\u003cextra\\u003e\\u003c\\u002fextra\\u003e\",\"legendgroup\":\"Singapore\",\"marker\":{\"color\":\"#FF97FF\",\"symbol\":\"circle\"},\"mode\":\"markers\",\"name\":\"Singapore\",\"orientation\":\"v\",\"showlegend\":true,\"x\":[129084.0],\"xaxis\":\"x\",\"y\":[13.9],\"yaxis\":\"y\",\"type\":\"scatter\"},{\"customdata\":[[2022,\"Slovakia\"]],\"hovertemplate\":\"Area=%{customdata[1]}\\u003cbr\\u003eGDP (USD)=%{x}\\u003cbr\\u003eObesity Rate (%)=%{y}\\u003cbr\\u003eYear=%{customdata[0]}\\u003cextra\\u003e\\u003c\\u002fextra\\u003e\",\"legendgroup\":\"Slovakia\",\"marker\":{\"color\":\"#FECB52\",\"symbol\":\"circle\"},\"mode\":\"markers\",\"name\":\"Slovakia\",\"orientation\":\"v\",\"showlegend\":true,\"x\":[38566.3],\"xaxis\":\"x\",\"y\":[26.8],\"yaxis\":\"y\",\"type\":\"scatter\"},{\"customdata\":[[2022,\"Slovenia\"]],\"hovertemplate\":\"Area=%{customdata[1]}\\u003cbr\\u003eGDP (USD)=%{x}\\u003cbr\\u003eObesity Rate (%)=%{y}\\u003cbr\\u003eYear=%{customdata[0]}\\u003cextra\\u003e\\u003c\\u002fextra\\u003e\",\"legendgroup\":\"Slovenia\",\"marker\":{\"color\":\"#636efa\",\"symbol\":\"circle\"},\"mode\":\"markers\",\"name\":\"Slovenia\",\"orientation\":\"v\",\"showlegend\":true,\"x\":[47558.3],\"xaxis\":\"x\",\"y\":[19.4],\"yaxis\":\"y\",\"type\":\"scatter\"},{\"customdata\":[[2022,\"Solomon Islands\"]],\"hovertemplate\":\"Area=%{customdata[1]}\\u003cbr\\u003eGDP (USD)=%{x}\\u003cbr\\u003eObesity Rate (%)=%{y}\\u003cbr\\u003eYear=%{customdata[0]}\\u003cextra\\u003e\\u003c\\u002fextra\\u003e\",\"legendgroup\":\"Solomon Islands\",\"marker\":{\"color\":\"#EF553B\",\"symbol\":\"circle\"},\"mode\":\"markers\",\"name\":\"Solomon Islands\",\"orientation\":\"v\",\"showlegend\":true,\"x\":[2480.3],\"xaxis\":\"x\",\"y\":[22.6],\"yaxis\":\"y\",\"type\":\"scatter\"},{\"customdata\":[[2022,\"Somalia\"]],\"hovertemplate\":\"Area=%{customdata[1]}\\u003cbr\\u003eGDP (USD)=%{x}\\u003cbr\\u003eObesity Rate (%)=%{y}\\u003cbr\\u003eYear=%{customdata[0]}\\u003cextra\\u003e\\u003c\\u002fextra\\u003e\",\"legendgroup\":\"Somalia\",\"marker\":{\"color\":\"#00cc96\",\"symbol\":\"circle\"},\"mode\":\"markers\",\"name\":\"Somalia\",\"orientation\":\"v\",\"showlegend\":true,\"x\":[1452.3],\"xaxis\":\"x\",\"y\":[14.6],\"yaxis\":\"y\",\"type\":\"scatter\"},{\"customdata\":[[2022,\"South Africa\"]],\"hovertemplate\":\"Area=%{customdata[1]}\\u003cbr\\u003eGDP (USD)=%{x}\\u003cbr\\u003eObesity Rate (%)=%{y}\\u003cbr\\u003eYear=%{customdata[0]}\\u003cextra\\u003e\\u003c\\u002fextra\\u003e\",\"legendgroup\":\"South Africa\",\"marker\":{\"color\":\"#ab63fa\",\"symbol\":\"circle\"},\"mode\":\"markers\",\"name\":\"South Africa\",\"orientation\":\"v\",\"showlegend\":true,\"x\":[14322.3],\"xaxis\":\"x\",\"y\":[30.8],\"yaxis\":\"y\",\"type\":\"scatter\"},{\"customdata\":[[2022,\"Spain\"]],\"hovertemplate\":\"Area=%{customdata[1]}\\u003cbr\\u003eGDP (USD)=%{x}\\u003cbr\\u003eObesity Rate (%)=%{y}\\u003cbr\\u003eYear=%{customdata[0]}\\u003cextra\\u003e\\u003c\\u002fextra\\u003e\",\"legendgroup\":\"Spain\",\"marker\":{\"color\":\"#FFA15A\",\"symbol\":\"circle\"},\"mode\":\"markers\",\"name\":\"Spain\",\"orientation\":\"v\",\"showlegend\":true,\"x\":[45787.7],\"xaxis\":\"x\",\"y\":[15.7],\"yaxis\":\"y\",\"type\":\"scatter\"},{\"customdata\":[[2022,\"Sri Lanka\"]],\"hovertemplate\":\"Area=%{customdata[1]}\\u003cbr\\u003eGDP (USD)=%{x}\\u003cbr\\u003eObesity Rate (%)=%{y}\\u003cbr\\u003eYear=%{customdata[0]}\\u003cextra\\u003e\\u003c\\u002fextra\\u003e\",\"legendgroup\":\"Sri Lanka\",\"marker\":{\"color\":\"#19d3f3\",\"symbol\":\"circle\"},\"mode\":\"markers\",\"name\":\"Sri Lanka\",\"orientation\":\"v\",\"showlegend\":true,\"x\":[13172.1],\"xaxis\":\"x\",\"y\":[10.6],\"yaxis\":\"y\",\"type\":\"scatter\"},{\"customdata\":[[2022,\"Sudan\"]],\"hovertemplate\":\"Area=%{customdata[1]}\\u003cbr\\u003eGDP (USD)=%{x}\\u003cbr\\u003eObesity Rate (%)=%{y}\\u003cbr\\u003eYear=%{customdata[0]}\\u003cextra\\u003e\\u003c\\u002fextra\\u003e\",\"legendgroup\":\"Sudan\",\"marker\":{\"color\":\"#FF6692\",\"symbol\":\"circle\"},\"mode\":\"markers\",\"name\":\"Sudan\",\"orientation\":\"v\",\"showlegend\":true,\"x\":[3299.9],\"xaxis\":\"x\",\"y\":[17.0],\"yaxis\":\"y\",\"type\":\"scatter\"},{\"customdata\":[[2022,\"Suriname\"]],\"hovertemplate\":\"Area=%{customdata[1]}\\u003cbr\\u003eGDP (USD)=%{x}\\u003cbr\\u003eObesity Rate (%)=%{y}\\u003cbr\\u003eYear=%{customdata[0]}\\u003cextra\\u003e\\u003c\\u002fextra\\u003e\",\"legendgroup\":\"Suriname\",\"marker\":{\"color\":\"#B6E880\",\"symbol\":\"circle\"},\"mode\":\"markers\",\"name\":\"Suriname\",\"orientation\":\"v\",\"showlegend\":true,\"x\":[18741.7],\"xaxis\":\"x\",\"y\":[29.0],\"yaxis\":\"y\",\"type\":\"scatter\"},{\"customdata\":[[2022,\"Sweden\"]],\"hovertemplate\":\"Area=%{customdata[1]}\\u003cbr\\u003eGDP (USD)=%{x}\\u003cbr\\u003eObesity Rate (%)=%{y}\\u003cbr\\u003eYear=%{customdata[0]}\\u003cextra\\u003e\\u003c\\u002fextra\\u003e\",\"legendgroup\":\"Sweden\",\"marker\":{\"color\":\"#FF97FF\",\"symbol\":\"circle\"},\"mode\":\"markers\",\"name\":\"Sweden\",\"orientation\":\"v\",\"showlegend\":true,\"x\":[64778.0],\"xaxis\":\"x\",\"y\":[15.3],\"yaxis\":\"y\",\"type\":\"scatter\"},{\"customdata\":[[2022,\"Switzerland\"]],\"hovertemplate\":\"Area=%{customdata[1]}\\u003cbr\\u003eGDP (USD)=%{x}\\u003cbr\\u003eObesity Rate (%)=%{y}\\u003cbr\\u003eYear=%{customdata[0]}\\u003cextra\\u003e\\u003c\\u002fextra\\u003e\",\"legendgroup\":\"Switzerland\",\"marker\":{\"color\":\"#FECB52\",\"symbol\":\"circle\"},\"mode\":\"markers\",\"name\":\"Switzerland\",\"orientation\":\"v\",\"showlegend\":true,\"x\":[83019.8],\"xaxis\":\"x\",\"y\":[12.1],\"yaxis\":\"y\",\"type\":\"scatter\"},{\"customdata\":[[2022,\"Tajikistan\"]],\"hovertemplate\":\"Area=%{customdata[1]}\\u003cbr\\u003eGDP (USD)=%{x}\\u003cbr\\u003eObesity Rate (%)=%{y}\\u003cbr\\u003eYear=%{customdata[0]}\\u003cextra\\u003e\\u003c\\u002fextra\\u003e\",\"legendgroup\":\"Tajikistan\",\"marker\":{\"color\":\"#636efa\",\"symbol\":\"circle\"},\"mode\":\"markers\",\"name\":\"Tajikistan\",\"orientation\":\"v\",\"showlegend\":true,\"x\":[4310.9],\"xaxis\":\"x\",\"y\":[23.8],\"yaxis\":\"y\",\"type\":\"scatter\"},{\"customdata\":[[2022,\"Thailand\"]],\"hovertemplate\":\"Area=%{customdata[1]}\\u003cbr\\u003eGDP (USD)=%{x}\\u003cbr\\u003eObesity Rate (%)=%{y}\\u003cbr\\u003eYear=%{customdata[0]}\\u003cextra\\u003e\\u003c\\u002fextra\\u003e\",\"legendgroup\":\"Thailand\",\"marker\":{\"color\":\"#EF553B\",\"symbol\":\"circle\"},\"mode\":\"markers\",\"name\":\"Thailand\",\"orientation\":\"v\",\"showlegend\":true,\"x\":[20751.7],\"xaxis\":\"x\",\"y\":[15.4],\"yaxis\":\"y\",\"type\":\"scatter\"},{\"customdata\":[[2022,\"Timor-Leste\"]],\"hovertemplate\":\"Area=%{customdata[1]}\\u003cbr\\u003eGDP (USD)=%{x}\\u003cbr\\u003eObesity Rate (%)=%{y}\\u003cbr\\u003eYear=%{customdata[0]}\\u003cextra\\u003e\\u003c\\u002fextra\\u003e\",\"legendgroup\":\"Timor-Leste\",\"marker\":{\"color\":\"#00cc96\",\"symbol\":\"circle\"},\"mode\":\"markers\",\"name\":\"Timor-Leste\",\"orientation\":\"v\",\"showlegend\":true,\"x\":[5454.2],\"xaxis\":\"x\",\"y\":[2.4],\"yaxis\":\"y\",\"type\":\"scatter\"},{\"customdata\":[[2022,\"Togo\"]],\"hovertemplate\":\"Area=%{customdata[1]}\\u003cbr\\u003eGDP (USD)=%{x}\\u003cbr\\u003eObesity Rate (%)=%{y}\\u003cbr\\u003eYear=%{customdata[0]}\\u003cextra\\u003e\\u003c\\u002fextra\\u003e\",\"legendgroup\":\"Togo\",\"marker\":{\"color\":\"#ab63fa\",\"symbol\":\"circle\"},\"mode\":\"markers\",\"name\":\"Togo\",\"orientation\":\"v\",\"showlegend\":true,\"x\":[2769.2],\"xaxis\":\"x\",\"y\":[11.6],\"yaxis\":\"y\",\"type\":\"scatter\"},{\"customdata\":[[2022,\"Trinidad and Tobago\"]],\"hovertemplate\":\"Area=%{customdata[1]}\\u003cbr\\u003eGDP (USD)=%{x}\\u003cbr\\u003eObesity Rate (%)=%{y}\\u003cbr\\u003eYear=%{customdata[0]}\\u003cextra\\u003e\\u003c\\u002fextra\\u003e\",\"legendgroup\":\"Trinidad and Tobago\",\"marker\":{\"color\":\"#FFA15A\",\"symbol\":\"circle\"},\"mode\":\"markers\",\"name\":\"Trinidad and Tobago\",\"orientation\":\"v\",\"showlegend\":true,\"x\":[27942.7],\"xaxis\":\"x\",\"y\":[28.1],\"yaxis\":\"y\",\"type\":\"scatter\"},{\"customdata\":[[2022,\"Tunisia\"]],\"hovertemplate\":\"Area=%{customdata[1]}\\u003cbr\\u003eGDP (USD)=%{x}\\u003cbr\\u003eObesity Rate (%)=%{y}\\u003cbr\\u003eYear=%{customdata[0]}\\u003cextra\\u003e\\u003c\\u002fextra\\u003e\",\"legendgroup\":\"Tunisia\",\"marker\":{\"color\":\"#19d3f3\",\"symbol\":\"circle\"},\"mode\":\"markers\",\"name\":\"Tunisia\",\"orientation\":\"v\",\"showlegend\":true,\"x\":[12328.5],\"xaxis\":\"x\",\"y\":[26.8],\"yaxis\":\"y\",\"type\":\"scatter\"},{\"customdata\":[[2022,\"T\\u00fcrkiye\"]],\"hovertemplate\":\"Area=%{customdata[1]}\\u003cbr\\u003eGDP (USD)=%{x}\\u003cbr\\u003eObesity Rate (%)=%{y}\\u003cbr\\u003eYear=%{customdata[0]}\\u003cextra\\u003e\\u003c\\u002fextra\\u003e\",\"legendgroup\":\"T\\u00fcrkiye\",\"marker\":{\"color\":\"#FF6692\",\"symbol\":\"circle\"},\"mode\":\"markers\",\"name\":\"T\\u00fcrkiye\",\"orientation\":\"v\",\"showlegend\":true,\"x\":[33061.1],\"xaxis\":\"x\",\"y\":[33.3],\"yaxis\":\"y\",\"type\":\"scatter\"},{\"customdata\":[[2022,\"Tuvalu\"]],\"hovertemplate\":\"Area=%{customdata[1]}\\u003cbr\\u003eGDP (USD)=%{x}\\u003cbr\\u003eObesity Rate (%)=%{y}\\u003cbr\\u003eYear=%{customdata[0]}\\u003cextra\\u003e\\u003c\\u002fextra\\u003e\",\"legendgroup\":\"Tuvalu\",\"marker\":{\"color\":\"#B6E880\",\"symbol\":\"circle\"},\"mode\":\"markers\",\"name\":\"Tuvalu\",\"orientation\":\"v\",\"showlegend\":true,\"x\":[5066.3],\"xaxis\":\"x\",\"y\":[64.2],\"yaxis\":\"y\",\"type\":\"scatter\"},{\"customdata\":[[2022,\"Uganda\"]],\"hovertemplate\":\"Area=%{customdata[1]}\\u003cbr\\u003eGDP (USD)=%{x}\\u003cbr\\u003eObesity Rate (%)=%{y}\\u003cbr\\u003eYear=%{customdata[0]}\\u003cextra\\u003e\\u003c\\u002fextra\\u003e\",\"legendgroup\":\"Uganda\",\"marker\":{\"color\":\"#FF97FF\",\"symbol\":\"circle\"},\"mode\":\"markers\",\"name\":\"Uganda\",\"orientation\":\"v\",\"showlegend\":true,\"x\":[2728.5],\"xaxis\":\"x\",\"y\":[7.9],\"yaxis\":\"y\",\"type\":\"scatter\"},{\"customdata\":[[2022,\"Ukraine\"]],\"hovertemplate\":\"Area=%{customdata[1]}\\u003cbr\\u003eGDP (USD)=%{x}\\u003cbr\\u003eObesity Rate (%)=%{y}\\u003cbr\\u003eYear=%{customdata[0]}\\u003cextra\\u003e\\u003c\\u002fextra\\u003e\",\"legendgroup\":\"Ukraine\",\"marker\":{\"color\":\"#FECB52\",\"symbol\":\"circle\"},\"mode\":\"markers\",\"name\":\"Ukraine\",\"orientation\":\"v\",\"showlegend\":true,\"x\":[14950.5],\"xaxis\":\"x\",\"y\":[23.6],\"yaxis\":\"y\",\"type\":\"scatter\"},{\"customdata\":[[2022,\"United Arab Emirates\"]],\"hovertemplate\":\"Area=%{customdata[1]}\\u003cbr\\u003eGDP (USD)=%{x}\\u003cbr\\u003eObesity Rate (%)=%{y}\\u003cbr\\u003eYear=%{customdata[0]}\\u003cextra\\u003e\\u003c\\u002fextra\\u003e\",\"legendgroup\":\"United Arab Emirates\",\"marker\":{\"color\":\"#636efa\",\"symbol\":\"circle\"},\"mode\":\"markers\",\"name\":\"United Arab Emirates\",\"orientation\":\"v\",\"showlegend\":true,\"x\":[73724.3],\"xaxis\":\"x\",\"y\":[32.1],\"yaxis\":\"y\",\"type\":\"scatter\"},{\"customdata\":[[2022,\"United Kingdom of Great Britain and Northern Ireland\"]],\"hovertemplate\":\"Area=%{customdata[1]}\\u003cbr\\u003eGDP (USD)=%{x}\\u003cbr\\u003eObesity Rate (%)=%{y}\\u003cbr\\u003eYear=%{customdata[0]}\\u003cextra\\u003e\\u003c\\u002fextra\\u003e\",\"legendgroup\":\"United Kingdom of Great Britain and Northern Ireland\",\"marker\":{\"color\":\"#EF553B\",\"symbol\":\"circle\"},\"mode\":\"markers\",\"name\":\"United Kingdom of Great Britain and Northern Ireland\",\"orientation\":\"v\",\"showlegend\":true,\"x\":[55183.6],\"xaxis\":\"x\",\"y\":[26.8],\"yaxis\":\"y\",\"type\":\"scatter\"},{\"customdata\":[[2022,\"United Republic of Tanzania\"]],\"hovertemplate\":\"Area=%{customdata[1]}\\u003cbr\\u003eGDP (USD)=%{x}\\u003cbr\\u003eObesity Rate (%)=%{y}\\u003cbr\\u003eYear=%{customdata[0]}\\u003cextra\\u003e\\u003c\\u002fextra\\u003e\",\"legendgroup\":\"United Republic of Tanzania\",\"marker\":{\"color\":\"#00cc96\",\"symbol\":\"circle\"},\"mode\":\"markers\",\"name\":\"United Republic of Tanzania\",\"orientation\":\"v\",\"showlegend\":true,\"x\":[3504.2],\"xaxis\":\"x\",\"y\":[12.6],\"yaxis\":\"y\",\"type\":\"scatter\"},{\"customdata\":[[2022,\"United States of America\"]],\"hovertemplate\":\"Area=%{customdata[1]}\\u003cbr\\u003eGDP (USD)=%{x}\\u003cbr\\u003eObesity Rate (%)=%{y}\\u003cbr\\u003eYear=%{customdata[0]}\\u003cextra\\u003e\\u003c\\u002fextra\\u003e\",\"legendgroup\":\"United States of America\",\"marker\":{\"color\":\"#ab63fa\",\"symbol\":\"circle\"},\"mode\":\"markers\",\"name\":\"United States of America\",\"orientation\":\"v\",\"showlegend\":true,\"x\":[71308.9],\"xaxis\":\"x\",\"y\":[42.0],\"yaxis\":\"y\",\"type\":\"scatter\"},{\"customdata\":[[2022,\"Uruguay\"]],\"hovertemplate\":\"Area=%{customdata[1]}\\u003cbr\\u003eGDP (USD)=%{x}\\u003cbr\\u003eObesity Rate (%)=%{y}\\u003cbr\\u003eYear=%{customdata[0]}\\u003cextra\\u003e\\u003c\\u002fextra\\u003e\",\"legendgroup\":\"Uruguay\",\"marker\":{\"color\":\"#FFA15A\",\"symbol\":\"circle\"},\"mode\":\"markers\",\"name\":\"Uruguay\",\"orientation\":\"v\",\"showlegend\":true,\"x\":[30983.7],\"xaxis\":\"x\",\"y\":[33.3],\"yaxis\":\"y\",\"type\":\"scatter\"},{\"customdata\":[[2022,\"Uzbekistan\"]],\"hovertemplate\":\"Area=%{customdata[1]}\\u003cbr\\u003eGDP (USD)=%{x}\\u003cbr\\u003eObesity Rate (%)=%{y}\\u003cbr\\u003eYear=%{customdata[0]}\\u003cextra\\u003e\\u003c\\u002fextra\\u003e\",\"legendgroup\":\"Uzbekistan\",\"marker\":{\"color\":\"#19d3f3\",\"symbol\":\"circle\"},\"mode\":\"markers\",\"name\":\"Uzbekistan\",\"orientation\":\"v\",\"showlegend\":true,\"x\":[8447.5],\"xaxis\":\"x\",\"y\":[30.0],\"yaxis\":\"y\",\"type\":\"scatter\"},{\"customdata\":[[2022,\"Vanuatu\"]],\"hovertemplate\":\"Area=%{customdata[1]}\\u003cbr\\u003eGDP (USD)=%{x}\\u003cbr\\u003eObesity Rate (%)=%{y}\\u003cbr\\u003eYear=%{customdata[0]}\\u003cextra\\u003e\\u003c\\u002fextra\\u003e\",\"legendgroup\":\"Vanuatu\",\"marker\":{\"color\":\"#FF6692\",\"symbol\":\"circle\"},\"mode\":\"markers\",\"name\":\"Vanuatu\",\"orientation\":\"v\",\"showlegend\":true,\"x\":[3074.1],\"xaxis\":\"x\",\"y\":[21.3],\"yaxis\":\"y\",\"type\":\"scatter\"},{\"customdata\":[[2022,\"Viet Nam\"]],\"hovertemplate\":\"Area=%{customdata[1]}\\u003cbr\\u003eGDP (USD)=%{x}\\u003cbr\\u003eObesity Rate (%)=%{y}\\u003cbr\\u003eYear=%{customdata[0]}\\u003cextra\\u003e\\u003c\\u002fextra\\u003e\",\"legendgroup\":\"Viet Nam\",\"marker\":{\"color\":\"#B6E880\",\"symbol\":\"circle\"},\"mode\":\"markers\",\"name\":\"Viet Nam\",\"orientation\":\"v\",\"showlegend\":true,\"x\":[13102.3],\"xaxis\":\"x\",\"y\":[2.0],\"yaxis\":\"y\",\"type\":\"scatter\"},{\"customdata\":[[2022,\"Zambia\"]],\"hovertemplate\":\"Area=%{customdata[1]}\\u003cbr\\u003eGDP (USD)=%{x}\\u003cbr\\u003eObesity Rate (%)=%{y}\\u003cbr\\u003eYear=%{customdata[0]}\\u003cextra\\u003e\\u003c\\u002fextra\\u003e\",\"legendgroup\":\"Zambia\",\"marker\":{\"color\":\"#FF97FF\",\"symbol\":\"circle\"},\"mode\":\"markers\",\"name\":\"Zambia\",\"orientation\":\"v\",\"showlegend\":true,\"x\":[3610.7],\"xaxis\":\"x\",\"y\":[11.1],\"yaxis\":\"y\",\"type\":\"scatter\"},{\"customdata\":[[2022,\"Zimbabwe\"]],\"hovertemplate\":\"Area=%{customdata[1]}\\u003cbr\\u003eGDP (USD)=%{x}\\u003cbr\\u003eObesity Rate (%)=%{y}\\u003cbr\\u003eYear=%{customdata[0]}\\u003cextra\\u003e\\u003c\\u002fextra\\u003e\",\"legendgroup\":\"Zimbabwe\",\"marker\":{\"color\":\"#FECB52\",\"symbol\":\"circle\"},\"mode\":\"markers\",\"name\":\"Zimbabwe\",\"orientation\":\"v\",\"showlegend\":true,\"x\":[3420.0],\"xaxis\":\"x\",\"y\":[14.2],\"yaxis\":\"y\",\"type\":\"scatter\"}],                        {\"template\":{\"data\":{\"histogram2dcontour\":[{\"type\":\"histogram2dcontour\",\"colorbar\":{\"outlinewidth\":0,\"ticks\":\"\"},\"colorscale\":[[0.0,\"#0d0887\"],[0.1111111111111111,\"#46039f\"],[0.2222222222222222,\"#7201a8\"],[0.3333333333333333,\"#9c179e\"],[0.4444444444444444,\"#bd3786\"],[0.5555555555555556,\"#d8576b\"],[0.6666666666666666,\"#ed7953\"],[0.7777777777777778,\"#fb9f3a\"],[0.8888888888888888,\"#fdca26\"],[1.0,\"#f0f921\"]]}],\"choropleth\":[{\"type\":\"choropleth\",\"colorbar\":{\"outlinewidth\":0,\"ticks\":\"\"}}],\"histogram2d\":[{\"type\":\"histogram2d\",\"colorbar\":{\"outlinewidth\":0,\"ticks\":\"\"},\"colorscale\":[[0.0,\"#0d0887\"],[0.1111111111111111,\"#46039f\"],[0.2222222222222222,\"#7201a8\"],[0.3333333333333333,\"#9c179e\"],[0.4444444444444444,\"#bd3786\"],[0.5555555555555556,\"#d8576b\"],[0.6666666666666666,\"#ed7953\"],[0.7777777777777778,\"#fb9f3a\"],[0.8888888888888888,\"#fdca26\"],[1.0,\"#f0f921\"]]}],\"heatmap\":[{\"type\":\"heatmap\",\"colorbar\":{\"outlinewidth\":0,\"ticks\":\"\"},\"colorscale\":[[0.0,\"#0d0887\"],[0.1111111111111111,\"#46039f\"],[0.2222222222222222,\"#7201a8\"],[0.3333333333333333,\"#9c179e\"],[0.4444444444444444,\"#bd3786\"],[0.5555555555555556,\"#d8576b\"],[0.6666666666666666,\"#ed7953\"],[0.7777777777777778,\"#fb9f3a\"],[0.8888888888888888,\"#fdca26\"],[1.0,\"#f0f921\"]]}],\"heatmapgl\":[{\"type\":\"heatmapgl\",\"colorbar\":{\"outlinewidth\":0,\"ticks\":\"\"},\"colorscale\":[[0.0,\"#0d0887\"],[0.1111111111111111,\"#46039f\"],[0.2222222222222222,\"#7201a8\"],[0.3333333333333333,\"#9c179e\"],[0.4444444444444444,\"#bd3786\"],[0.5555555555555556,\"#d8576b\"],[0.6666666666666666,\"#ed7953\"],[0.7777777777777778,\"#fb9f3a\"],[0.8888888888888888,\"#fdca26\"],[1.0,\"#f0f921\"]]}],\"contourcarpet\":[{\"type\":\"contourcarpet\",\"colorbar\":{\"outlinewidth\":0,\"ticks\":\"\"}}],\"contour\":[{\"type\":\"contour\",\"colorbar\":{\"outlinewidth\":0,\"ticks\":\"\"},\"colorscale\":[[0.0,\"#0d0887\"],[0.1111111111111111,\"#46039f\"],[0.2222222222222222,\"#7201a8\"],[0.3333333333333333,\"#9c179e\"],[0.4444444444444444,\"#bd3786\"],[0.5555555555555556,\"#d8576b\"],[0.6666666666666666,\"#ed7953\"],[0.7777777777777778,\"#fb9f3a\"],[0.8888888888888888,\"#fdca26\"],[1.0,\"#f0f921\"]]}],\"surface\":[{\"type\":\"surface\",\"colorbar\":{\"outlinewidth\":0,\"ticks\":\"\"},\"colorscale\":[[0.0,\"#0d0887\"],[0.1111111111111111,\"#46039f\"],[0.2222222222222222,\"#7201a8\"],[0.3333333333333333,\"#9c179e\"],[0.4444444444444444,\"#bd3786\"],[0.5555555555555556,\"#d8576b\"],[0.6666666666666666,\"#ed7953\"],[0.7777777777777778,\"#fb9f3a\"],[0.8888888888888888,\"#fdca26\"],[1.0,\"#f0f921\"]]}],\"mesh3d\":[{\"type\":\"mesh3d\",\"colorbar\":{\"outlinewidth\":0,\"ticks\":\"\"}}],\"scatter\":[{\"fillpattern\":{\"fillmode\":\"overlay\",\"size\":10,\"solidity\":0.2},\"type\":\"scatter\"}],\"parcoords\":[{\"type\":\"parcoords\",\"line\":{\"colorbar\":{\"outlinewidth\":0,\"ticks\":\"\"}}}],\"scatterpolargl\":[{\"type\":\"scatterpolargl\",\"marker\":{\"colorbar\":{\"outlinewidth\":0,\"ticks\":\"\"}}}],\"bar\":[{\"error_x\":{\"color\":\"#2a3f5f\"},\"error_y\":{\"color\":\"#2a3f5f\"},\"marker\":{\"line\":{\"color\":\"#E5ECF6\",\"width\":0.5},\"pattern\":{\"fillmode\":\"overlay\",\"size\":10,\"solidity\":0.2}},\"type\":\"bar\"}],\"scattergeo\":[{\"type\":\"scattergeo\",\"marker\":{\"colorbar\":{\"outlinewidth\":0,\"ticks\":\"\"}}}],\"scatterpolar\":[{\"type\":\"scatterpolar\",\"marker\":{\"colorbar\":{\"outlinewidth\":0,\"ticks\":\"\"}}}],\"histogram\":[{\"marker\":{\"pattern\":{\"fillmode\":\"overlay\",\"size\":10,\"solidity\":0.2}},\"type\":\"histogram\"}],\"scattergl\":[{\"type\":\"scattergl\",\"marker\":{\"colorbar\":{\"outlinewidth\":0,\"ticks\":\"\"}}}],\"scatter3d\":[{\"type\":\"scatter3d\",\"line\":{\"colorbar\":{\"outlinewidth\":0,\"ticks\":\"\"}},\"marker\":{\"colorbar\":{\"outlinewidth\":0,\"ticks\":\"\"}}}],\"scattermapbox\":[{\"type\":\"scattermapbox\",\"marker\":{\"colorbar\":{\"outlinewidth\":0,\"ticks\":\"\"}}}],\"scatterternary\":[{\"type\":\"scatterternary\",\"marker\":{\"colorbar\":{\"outlinewidth\":0,\"ticks\":\"\"}}}],\"scattercarpet\":[{\"type\":\"scattercarpet\",\"marker\":{\"colorbar\":{\"outlinewidth\":0,\"ticks\":\"\"}}}],\"carpet\":[{\"aaxis\":{\"endlinecolor\":\"#2a3f5f\",\"gridcolor\":\"white\",\"linecolor\":\"white\",\"minorgridcolor\":\"white\",\"startlinecolor\":\"#2a3f5f\"},\"baxis\":{\"endlinecolor\":\"#2a3f5f\",\"gridcolor\":\"white\",\"linecolor\":\"white\",\"minorgridcolor\":\"white\",\"startlinecolor\":\"#2a3f5f\"},\"type\":\"carpet\"}],\"table\":[{\"cells\":{\"fill\":{\"color\":\"#EBF0F8\"},\"line\":{\"color\":\"white\"}},\"header\":{\"fill\":{\"color\":\"#C8D4E3\"},\"line\":{\"color\":\"white\"}},\"type\":\"table\"}],\"barpolar\":[{\"marker\":{\"line\":{\"color\":\"#E5ECF6\",\"width\":0.5},\"pattern\":{\"fillmode\":\"overlay\",\"size\":10,\"solidity\":0.2}},\"type\":\"barpolar\"}],\"pie\":[{\"automargin\":true,\"type\":\"pie\"}]},\"layout\":{\"autotypenumbers\":\"strict\",\"colorway\":[\"#636efa\",\"#EF553B\",\"#00cc96\",\"#ab63fa\",\"#FFA15A\",\"#19d3f3\",\"#FF6692\",\"#B6E880\",\"#FF97FF\",\"#FECB52\"],\"font\":{\"color\":\"#2a3f5f\"},\"hovermode\":\"closest\",\"hoverlabel\":{\"align\":\"left\"},\"paper_bgcolor\":\"white\",\"plot_bgcolor\":\"#E5ECF6\",\"polar\":{\"bgcolor\":\"#E5ECF6\",\"angularaxis\":{\"gridcolor\":\"white\",\"linecolor\":\"white\",\"ticks\":\"\"},\"radialaxis\":{\"gridcolor\":\"white\",\"linecolor\":\"white\",\"ticks\":\"\"}},\"ternary\":{\"bgcolor\":\"#E5ECF6\",\"aaxis\":{\"gridcolor\":\"white\",\"linecolor\":\"white\",\"ticks\":\"\"},\"baxis\":{\"gridcolor\":\"white\",\"linecolor\":\"white\",\"ticks\":\"\"},\"caxis\":{\"gridcolor\":\"white\",\"linecolor\":\"white\",\"ticks\":\"\"}},\"coloraxis\":{\"colorbar\":{\"outlinewidth\":0,\"ticks\":\"\"}},\"colorscale\":{\"sequential\":[[0.0,\"#0d0887\"],[0.1111111111111111,\"#46039f\"],[0.2222222222222222,\"#7201a8\"],[0.3333333333333333,\"#9c179e\"],[0.4444444444444444,\"#bd3786\"],[0.5555555555555556,\"#d8576b\"],[0.6666666666666666,\"#ed7953\"],[0.7777777777777778,\"#fb9f3a\"],[0.8888888888888888,\"#fdca26\"],[1.0,\"#f0f921\"]],\"sequentialminus\":[[0.0,\"#0d0887\"],[0.1111111111111111,\"#46039f\"],[0.2222222222222222,\"#7201a8\"],[0.3333333333333333,\"#9c179e\"],[0.4444444444444444,\"#bd3786\"],[0.5555555555555556,\"#d8576b\"],[0.6666666666666666,\"#ed7953\"],[0.7777777777777778,\"#fb9f3a\"],[0.8888888888888888,\"#fdca26\"],[1.0,\"#f0f921\"]],\"diverging\":[[0,\"#8e0152\"],[0.1,\"#c51b7d\"],[0.2,\"#de77ae\"],[0.3,\"#f1b6da\"],[0.4,\"#fde0ef\"],[0.5,\"#f7f7f7\"],[0.6,\"#e6f5d0\"],[0.7,\"#b8e186\"],[0.8,\"#7fbc41\"],[0.9,\"#4d9221\"],[1,\"#276419\"]]},\"xaxis\":{\"gridcolor\":\"white\",\"linecolor\":\"white\",\"ticks\":\"\",\"title\":{\"standoff\":15},\"zerolinecolor\":\"white\",\"automargin\":true,\"zerolinewidth\":2},\"yaxis\":{\"gridcolor\":\"white\",\"linecolor\":\"white\",\"ticks\":\"\",\"title\":{\"standoff\":15},\"zerolinecolor\":\"white\",\"automargin\":true,\"zerolinewidth\":2},\"scene\":{\"xaxis\":{\"backgroundcolor\":\"#E5ECF6\",\"gridcolor\":\"white\",\"linecolor\":\"white\",\"showbackground\":true,\"ticks\":\"\",\"zerolinecolor\":\"white\",\"gridwidth\":2},\"yaxis\":{\"backgroundcolor\":\"#E5ECF6\",\"gridcolor\":\"white\",\"linecolor\":\"white\",\"showbackground\":true,\"ticks\":\"\",\"zerolinecolor\":\"white\",\"gridwidth\":2},\"zaxis\":{\"backgroundcolor\":\"#E5ECF6\",\"gridcolor\":\"white\",\"linecolor\":\"white\",\"showbackground\":true,\"ticks\":\"\",\"zerolinecolor\":\"white\",\"gridwidth\":2}},\"shapedefaults\":{\"line\":{\"color\":\"#2a3f5f\"}},\"annotationdefaults\":{\"arrowcolor\":\"#2a3f5f\",\"arrowhead\":0,\"arrowwidth\":1},\"geo\":{\"bgcolor\":\"white\",\"landcolor\":\"#E5ECF6\",\"subunitcolor\":\"white\",\"showland\":true,\"showlakes\":true,\"lakecolor\":\"white\"},\"title\":{\"x\":0.05},\"mapbox\":{\"style\":\"light\"}}},\"xaxis\":{\"anchor\":\"y\",\"domain\":[0.0,1.0],\"title\":{\"text\":\"GDP (USD)\"}},\"yaxis\":{\"anchor\":\"x\",\"domain\":[0.0,1.0],\"title\":{\"text\":\"Obesity Rate (%)\"}},\"legend\":{\"title\":{\"text\":\"Area\"},\"tracegroupgap\":0},\"title\":{\"text\":\"Relationship Between GDP and Obesity Levels\"}},                        {\"responsive\": true}                    ).then(function(){\n",
       "                            \n",
       "var gd = document.getElementById('6dcfb344-1fd5-4ca5-9715-0c4f54acbedb');\n",
       "var x = new MutationObserver(function (mutations, observer) {{\n",
       "        var display = window.getComputedStyle(gd).display;\n",
       "        if (!display || display === 'none') {{\n",
       "            console.log([gd, 'removed!']);\n",
       "            Plotly.purge(gd);\n",
       "            observer.disconnect();\n",
       "        }}\n",
       "}});\n",
       "\n",
       "// Listen for the removal of the full notebook cells\n",
       "var notebookContainer = gd.closest('#notebook-container');\n",
       "if (notebookContainer) {{\n",
       "    x.observe(notebookContainer, {childList: true});\n",
       "}}\n",
       "\n",
       "// Listen for the clearing of the current output cell\n",
       "var outputEl = gd.closest('.output');\n",
       "if (outputEl) {{\n",
       "    x.observe(outputEl, {childList: true});\n",
       "}}\n",
       "\n",
       "                        })                };                });            </script>        </div>"
      ]
     },
     "metadata": {},
     "output_type": "display_data"
    }
   ],
   "source": [
    "fig = px.scatter(\n",
    "    merged_data,\n",
    "    x='GDP',\n",
    "    y='Obesity',\n",
    "    color='Area',\n",
    "    hover_data=['Year', 'Area'],\n",
    "    title='Relationship Between GDP and Obesity Levels',\n",
    "    labels={'GDP': 'GDP (USD)', 'Obesity': 'Obesity Rate (%)'}\n",
    ")\n",
    "\n",
    "fig.show()"
   ]
  },
  {
   "cell_type": "markdown",
   "id": "687f27d5-a882-4497-a300-340e6df273a0",
   "metadata": {},
   "source": [
    "### Analysis \n",
    "From the scatterplot provided, we can observe the following about the relationship between GDP per capita (GDP in USD) and obesity rates (%):\n",
    "\n",
    "1. **Positive Correlation**: \n",
    "   - There seems to be a trend where countries with higher GDP per capita tend to have higher obesity rates. This could suggest that as countries grow wealthier, diets and lifestyles change, potentially leading to increased obesity rates.\n",
    "\n",
    "2. **Wide Variation at Lower GDP Levels**:\n",
    "   - At lower GDP values (less than $20k), there is significant variation in obesity rates, ranging from very low to moderately high values. This indicates that other factors beyond GDP might play a role in determining obesity levels in these countries.\n",
    "\n",
    "3. **Limited Data at High GDP Levels**:\n",
    "   - For countries with very high GDP values (above $100k), data points are sparse, but these countries appear to have relatively high obesity rates.\n",
    "\n",
    "4. **Non-Linearity**:\n",
    "   - The relationship may not be strictly linear, as obesity rates do not increase consistently across all GDP levels.\n",
    "\n",
    "### Possible Takeaway:\n",
    "While GDP per capita can be an indicator of obesity prevalence, it's not the sole determinant. Other factors, such as dietary habits, cultural norms, public health policies, and urbanization levels, are likely contributing to the observed variability. A deeper analysis might require incorporating these additional variables."
   ]
  }
 ],
 "metadata": {
  "kernelspec": {
   "display_name": "base",
   "language": "python",
   "name": "python3"
  },
  "language_info": {
   "codemirror_mode": {
    "name": "ipython",
    "version": 3
   },
   "file_extension": ".py",
   "mimetype": "text/x-python",
   "name": "python",
   "nbconvert_exporter": "python",
   "pygments_lexer": "ipython3",
   "version": "3.12.2"
  }
 },
 "nbformat": 4,
 "nbformat_minor": 5
}
